{
 "cells": [
  {
   "cell_type": "code",
   "execution_count": 1,
   "id": "9aadd2d6-787e-404e-b369-a2ef900b0437",
   "metadata": {},
   "outputs": [],
   "source": [
    "import numpy as np\n",
    "import pandas as pd\n",
    "import warnings\n",
    "warnings.filterwarnings('ignore')\n",
    "import pandas as pd\n",
    "import matplotlib.pyplot as plt\n",
    "import seaborn as sns"
   ]
  },
  {
   "cell_type": "code",
   "execution_count": 2,
   "id": "65a29912-b86f-44e8-bde8-eeec37154186",
   "metadata": {},
   "outputs": [],
   "source": [
    "accident = pd.read_csv('datasets\\\\accident_data.csv')"
   ]
  },
  {
   "cell_type": "code",
   "execution_count": 3,
   "id": "669a437f",
   "metadata": {},
   "outputs": [
    {
     "name": "stdout",
     "output_type": "stream",
     "text": [
      "<class 'pandas.core.frame.DataFrame'>\n",
      "RangeIndex: 660679 entries, 0 to 660678\n",
      "Data columns (total 14 columns):\n",
      " #   Column                   Non-Null Count   Dtype  \n",
      "---  ------                   --------------   -----  \n",
      " 0   Index                    660679 non-null  object \n",
      " 1   Accident_Severity        660679 non-null  object \n",
      " 2   Accident Date            660679 non-null  object \n",
      " 3   Latitude                 660654 non-null  float64\n",
      " 4   Light_Conditions         660679 non-null  object \n",
      " 5   District Area            660679 non-null  object \n",
      " 6   Longitude                660653 non-null  float64\n",
      " 7   Number_of_Casualties     660679 non-null  int64  \n",
      " 8   Number_of_Vehicles       660679 non-null  int64  \n",
      " 9   Road_Surface_Conditions  659953 non-null  object \n",
      " 10  Road_Type                656159 non-null  object \n",
      " 11  Urban_or_Rural_Area      660664 non-null  object \n",
      " 12  Weather_Conditions       646551 non-null  object \n",
      " 13  Vehicle_Type             660679 non-null  object \n",
      "dtypes: float64(2), int64(2), object(10)\n",
      "memory usage: 70.6+ MB\n"
     ]
    }
   ],
   "source": [
    "accident.info()"
   ]
  },
  {
   "cell_type": "code",
   "execution_count": 4,
   "id": "0ecc360c",
   "metadata": {},
   "outputs": [
    {
     "data": {
      "text/html": [
       "<div>\n",
       "<style scoped>\n",
       "    .dataframe tbody tr th:only-of-type {\n",
       "        vertical-align: middle;\n",
       "    }\n",
       "\n",
       "    .dataframe tbody tr th {\n",
       "        vertical-align: top;\n",
       "    }\n",
       "\n",
       "    .dataframe thead th {\n",
       "        text-align: right;\n",
       "    }\n",
       "</style>\n",
       "<table border=\"1\" class=\"dataframe\">\n",
       "  <thead>\n",
       "    <tr style=\"text-align: right;\">\n",
       "      <th></th>\n",
       "      <th>Latitude</th>\n",
       "      <th>Longitude</th>\n",
       "      <th>Number_of_Casualties</th>\n",
       "      <th>Number_of_Vehicles</th>\n",
       "    </tr>\n",
       "  </thead>\n",
       "  <tbody>\n",
       "    <tr>\n",
       "      <th>count</th>\n",
       "      <td>660654.000000</td>\n",
       "      <td>660653.000000</td>\n",
       "      <td>660679.000000</td>\n",
       "      <td>660679.000000</td>\n",
       "    </tr>\n",
       "    <tr>\n",
       "      <th>mean</th>\n",
       "      <td>52.553866</td>\n",
       "      <td>-1.431210</td>\n",
       "      <td>1.357040</td>\n",
       "      <td>1.831255</td>\n",
       "    </tr>\n",
       "    <tr>\n",
       "      <th>std</th>\n",
       "      <td>1.406922</td>\n",
       "      <td>1.383330</td>\n",
       "      <td>0.824847</td>\n",
       "      <td>0.715269</td>\n",
       "    </tr>\n",
       "    <tr>\n",
       "      <th>min</th>\n",
       "      <td>49.914430</td>\n",
       "      <td>-7.516225</td>\n",
       "      <td>1.000000</td>\n",
       "      <td>1.000000</td>\n",
       "    </tr>\n",
       "    <tr>\n",
       "      <th>25%</th>\n",
       "      <td>51.490690</td>\n",
       "      <td>-2.332291</td>\n",
       "      <td>1.000000</td>\n",
       "      <td>1.000000</td>\n",
       "    </tr>\n",
       "    <tr>\n",
       "      <th>50%</th>\n",
       "      <td>52.315641</td>\n",
       "      <td>-1.411667</td>\n",
       "      <td>1.000000</td>\n",
       "      <td>2.000000</td>\n",
       "    </tr>\n",
       "    <tr>\n",
       "      <th>75%</th>\n",
       "      <td>53.453452</td>\n",
       "      <td>-0.232869</td>\n",
       "      <td>1.000000</td>\n",
       "      <td>2.000000</td>\n",
       "    </tr>\n",
       "    <tr>\n",
       "      <th>max</th>\n",
       "      <td>60.757544</td>\n",
       "      <td>1.762010</td>\n",
       "      <td>68.000000</td>\n",
       "      <td>32.000000</td>\n",
       "    </tr>\n",
       "  </tbody>\n",
       "</table>\n",
       "</div>"
      ],
      "text/plain": [
       "            Latitude      Longitude  Number_of_Casualties  Number_of_Vehicles\n",
       "count  660654.000000  660653.000000         660679.000000       660679.000000\n",
       "mean       52.553866      -1.431210              1.357040            1.831255\n",
       "std         1.406922       1.383330              0.824847            0.715269\n",
       "min        49.914430      -7.516225              1.000000            1.000000\n",
       "25%        51.490690      -2.332291              1.000000            1.000000\n",
       "50%        52.315641      -1.411667              1.000000            2.000000\n",
       "75%        53.453452      -0.232869              1.000000            2.000000\n",
       "max        60.757544       1.762010             68.000000           32.000000"
      ]
     },
     "execution_count": 4,
     "metadata": {},
     "output_type": "execute_result"
    }
   ],
   "source": [
    "accident.describe()"
   ]
  },
  {
   "cell_type": "code",
   "execution_count": 5,
   "id": "9c5789f2-9b08-4b7f-8074-7292de43dce8",
   "metadata": {},
   "outputs": [
    {
     "data": {
      "text/html": [
       "<div>\n",
       "<style scoped>\n",
       "    .dataframe tbody tr th:only-of-type {\n",
       "        vertical-align: middle;\n",
       "    }\n",
       "\n",
       "    .dataframe tbody tr th {\n",
       "        vertical-align: top;\n",
       "    }\n",
       "\n",
       "    .dataframe thead th {\n",
       "        text-align: right;\n",
       "    }\n",
       "</style>\n",
       "<table border=\"1\" class=\"dataframe\">\n",
       "  <thead>\n",
       "    <tr style=\"text-align: right;\">\n",
       "      <th></th>\n",
       "      <th>Index</th>\n",
       "      <th>Accident_Severity</th>\n",
       "      <th>Accident Date</th>\n",
       "      <th>Latitude</th>\n",
       "      <th>Light_Conditions</th>\n",
       "      <th>District Area</th>\n",
       "      <th>Longitude</th>\n",
       "      <th>Number_of_Casualties</th>\n",
       "      <th>Number_of_Vehicles</th>\n",
       "      <th>Road_Surface_Conditions</th>\n",
       "      <th>Road_Type</th>\n",
       "      <th>Urban_or_Rural_Area</th>\n",
       "      <th>Weather_Conditions</th>\n",
       "      <th>Vehicle_Type</th>\n",
       "    </tr>\n",
       "  </thead>\n",
       "  <tbody>\n",
       "    <tr>\n",
       "      <th>0</th>\n",
       "      <td>200701BS64157</td>\n",
       "      <td>Serious</td>\n",
       "      <td>5/6/2019</td>\n",
       "      <td>51.506187</td>\n",
       "      <td>Darkness - lights lit</td>\n",
       "      <td>Kensington and Chelsea</td>\n",
       "      <td>-0.209082</td>\n",
       "      <td>1</td>\n",
       "      <td>2</td>\n",
       "      <td>Dry</td>\n",
       "      <td>Single carriageway</td>\n",
       "      <td>Urban</td>\n",
       "      <td>Fine no high winds</td>\n",
       "      <td>Car</td>\n",
       "    </tr>\n",
       "    <tr>\n",
       "      <th>1</th>\n",
       "      <td>200701BS65737</td>\n",
       "      <td>Serious</td>\n",
       "      <td>2/7/2019</td>\n",
       "      <td>51.495029</td>\n",
       "      <td>Daylight</td>\n",
       "      <td>Kensington and Chelsea</td>\n",
       "      <td>-0.173647</td>\n",
       "      <td>1</td>\n",
       "      <td>2</td>\n",
       "      <td>Wet or damp</td>\n",
       "      <td>Single carriageway</td>\n",
       "      <td>Urban</td>\n",
       "      <td>Raining no high winds</td>\n",
       "      <td>Car</td>\n",
       "    </tr>\n",
       "    <tr>\n",
       "      <th>2</th>\n",
       "      <td>200701BS66127</td>\n",
       "      <td>Serious</td>\n",
       "      <td>26-08-2019</td>\n",
       "      <td>51.517715</td>\n",
       "      <td>Darkness - lighting unknown</td>\n",
       "      <td>Kensington and Chelsea</td>\n",
       "      <td>-0.210215</td>\n",
       "      <td>1</td>\n",
       "      <td>3</td>\n",
       "      <td>Dry</td>\n",
       "      <td>NaN</td>\n",
       "      <td>Urban</td>\n",
       "      <td>NaN</td>\n",
       "      <td>Taxi/Private hire car</td>\n",
       "    </tr>\n",
       "    <tr>\n",
       "      <th>3</th>\n",
       "      <td>200701BS66128</td>\n",
       "      <td>Serious</td>\n",
       "      <td>16-08-2019</td>\n",
       "      <td>51.495478</td>\n",
       "      <td>Daylight</td>\n",
       "      <td>Kensington and Chelsea</td>\n",
       "      <td>-0.202731</td>\n",
       "      <td>1</td>\n",
       "      <td>4</td>\n",
       "      <td>Dry</td>\n",
       "      <td>Single carriageway</td>\n",
       "      <td>Urban</td>\n",
       "      <td>Fine no high winds</td>\n",
       "      <td>Bus or coach (17 or more pass seats)</td>\n",
       "    </tr>\n",
       "    <tr>\n",
       "      <th>4</th>\n",
       "      <td>200701BS66837</td>\n",
       "      <td>Slight</td>\n",
       "      <td>3/9/2019</td>\n",
       "      <td>51.488576</td>\n",
       "      <td>Darkness - lights lit</td>\n",
       "      <td>Kensington and Chelsea</td>\n",
       "      <td>-0.192487</td>\n",
       "      <td>1</td>\n",
       "      <td>2</td>\n",
       "      <td>Dry</td>\n",
       "      <td>NaN</td>\n",
       "      <td>Urban</td>\n",
       "      <td>NaN</td>\n",
       "      <td>Other vehicle</td>\n",
       "    </tr>\n",
       "    <tr>\n",
       "      <th>...</th>\n",
       "      <td>...</td>\n",
       "      <td>...</td>\n",
       "      <td>...</td>\n",
       "      <td>...</td>\n",
       "      <td>...</td>\n",
       "      <td>...</td>\n",
       "      <td>...</td>\n",
       "      <td>...</td>\n",
       "      <td>...</td>\n",
       "      <td>...</td>\n",
       "      <td>...</td>\n",
       "      <td>...</td>\n",
       "      <td>...</td>\n",
       "      <td>...</td>\n",
       "    </tr>\n",
       "    <tr>\n",
       "      <th>660674</th>\n",
       "      <td>201091NM01760</td>\n",
       "      <td>Slight</td>\n",
       "      <td>18-02-2022</td>\n",
       "      <td>57.374005</td>\n",
       "      <td>Daylight</td>\n",
       "      <td>Highland</td>\n",
       "      <td>-3.467828</td>\n",
       "      <td>2</td>\n",
       "      <td>1</td>\n",
       "      <td>Dry</td>\n",
       "      <td>Single carriageway</td>\n",
       "      <td>Rural</td>\n",
       "      <td>Fine no high winds</td>\n",
       "      <td>Car</td>\n",
       "    </tr>\n",
       "    <tr>\n",
       "      <th>660675</th>\n",
       "      <td>201091NM01881</td>\n",
       "      <td>Slight</td>\n",
       "      <td>21-02-2022</td>\n",
       "      <td>57.232273</td>\n",
       "      <td>Darkness - no lighting</td>\n",
       "      <td>Highland</td>\n",
       "      <td>-3.809281</td>\n",
       "      <td>1</td>\n",
       "      <td>1</td>\n",
       "      <td>Frost or ice</td>\n",
       "      <td>Single carriageway</td>\n",
       "      <td>Rural</td>\n",
       "      <td>Fine no high winds</td>\n",
       "      <td>Car</td>\n",
       "    </tr>\n",
       "    <tr>\n",
       "      <th>660676</th>\n",
       "      <td>201091NM01935</td>\n",
       "      <td>Slight</td>\n",
       "      <td>23-02-2022</td>\n",
       "      <td>57.585044</td>\n",
       "      <td>Daylight</td>\n",
       "      <td>Highland</td>\n",
       "      <td>-3.862727</td>\n",
       "      <td>1</td>\n",
       "      <td>3</td>\n",
       "      <td>Frost or ice</td>\n",
       "      <td>Single carriageway</td>\n",
       "      <td>Rural</td>\n",
       "      <td>Fine no high winds</td>\n",
       "      <td>Car</td>\n",
       "    </tr>\n",
       "    <tr>\n",
       "      <th>660677</th>\n",
       "      <td>201091NM01964</td>\n",
       "      <td>Serious</td>\n",
       "      <td>23-02-2022</td>\n",
       "      <td>57.214898</td>\n",
       "      <td>Darkness - no lighting</td>\n",
       "      <td>Highland</td>\n",
       "      <td>-3.823997</td>\n",
       "      <td>1</td>\n",
       "      <td>2</td>\n",
       "      <td>Wet or damp</td>\n",
       "      <td>Single carriageway</td>\n",
       "      <td>Rural</td>\n",
       "      <td>Fine no high winds</td>\n",
       "      <td>Motorcycle over 500cc</td>\n",
       "    </tr>\n",
       "    <tr>\n",
       "      <th>660678</th>\n",
       "      <td>201091NM02142</td>\n",
       "      <td>Serious</td>\n",
       "      <td>28-02-2022</td>\n",
       "      <td>57.575210</td>\n",
       "      <td>Daylight</td>\n",
       "      <td>Highland</td>\n",
       "      <td>-3.895673</td>\n",
       "      <td>1</td>\n",
       "      <td>1</td>\n",
       "      <td>Wet or damp</td>\n",
       "      <td>Dual carriageway</td>\n",
       "      <td>Rural</td>\n",
       "      <td>Snowing no high winds</td>\n",
       "      <td>Car</td>\n",
       "    </tr>\n",
       "  </tbody>\n",
       "</table>\n",
       "<p>660679 rows × 14 columns</p>\n",
       "</div>"
      ],
      "text/plain": [
       "                Index Accident_Severity Accident Date   Latitude  \\\n",
       "0       200701BS64157           Serious      5/6/2019  51.506187   \n",
       "1       200701BS65737           Serious      2/7/2019  51.495029   \n",
       "2       200701BS66127           Serious    26-08-2019  51.517715   \n",
       "3       200701BS66128           Serious    16-08-2019  51.495478   \n",
       "4       200701BS66837            Slight      3/9/2019  51.488576   \n",
       "...               ...               ...           ...        ...   \n",
       "660674  201091NM01760            Slight    18-02-2022  57.374005   \n",
       "660675  201091NM01881            Slight    21-02-2022  57.232273   \n",
       "660676  201091NM01935            Slight    23-02-2022  57.585044   \n",
       "660677  201091NM01964           Serious    23-02-2022  57.214898   \n",
       "660678  201091NM02142           Serious    28-02-2022  57.575210   \n",
       "\n",
       "                   Light_Conditions           District Area  Longitude  \\\n",
       "0             Darkness - lights lit  Kensington and Chelsea  -0.209082   \n",
       "1                          Daylight  Kensington and Chelsea  -0.173647   \n",
       "2       Darkness - lighting unknown  Kensington and Chelsea  -0.210215   \n",
       "3                          Daylight  Kensington and Chelsea  -0.202731   \n",
       "4             Darkness - lights lit  Kensington and Chelsea  -0.192487   \n",
       "...                             ...                     ...        ...   \n",
       "660674                     Daylight                Highland  -3.467828   \n",
       "660675       Darkness - no lighting                Highland  -3.809281   \n",
       "660676                     Daylight                Highland  -3.862727   \n",
       "660677       Darkness - no lighting                Highland  -3.823997   \n",
       "660678                     Daylight                Highland  -3.895673   \n",
       "\n",
       "        Number_of_Casualties  Number_of_Vehicles Road_Surface_Conditions  \\\n",
       "0                          1                   2                     Dry   \n",
       "1                          1                   2             Wet or damp   \n",
       "2                          1                   3                     Dry   \n",
       "3                          1                   4                     Dry   \n",
       "4                          1                   2                     Dry   \n",
       "...                      ...                 ...                     ...   \n",
       "660674                     2                   1                     Dry   \n",
       "660675                     1                   1            Frost or ice   \n",
       "660676                     1                   3            Frost or ice   \n",
       "660677                     1                   2             Wet or damp   \n",
       "660678                     1                   1             Wet or damp   \n",
       "\n",
       "                 Road_Type Urban_or_Rural_Area     Weather_Conditions  \\\n",
       "0       Single carriageway               Urban     Fine no high winds   \n",
       "1       Single carriageway               Urban  Raining no high winds   \n",
       "2                      NaN               Urban                    NaN   \n",
       "3       Single carriageway               Urban     Fine no high winds   \n",
       "4                      NaN               Urban                    NaN   \n",
       "...                    ...                 ...                    ...   \n",
       "660674  Single carriageway               Rural     Fine no high winds   \n",
       "660675  Single carriageway               Rural     Fine no high winds   \n",
       "660676  Single carriageway               Rural     Fine no high winds   \n",
       "660677  Single carriageway               Rural     Fine no high winds   \n",
       "660678    Dual carriageway               Rural  Snowing no high winds   \n",
       "\n",
       "                                Vehicle_Type  \n",
       "0                                        Car  \n",
       "1                                        Car  \n",
       "2                      Taxi/Private hire car  \n",
       "3       Bus or coach (17 or more pass seats)  \n",
       "4                              Other vehicle  \n",
       "...                                      ...  \n",
       "660674                                   Car  \n",
       "660675                                   Car  \n",
       "660676                                   Car  \n",
       "660677                 Motorcycle over 500cc  \n",
       "660678                                   Car  \n",
       "\n",
       "[660679 rows x 14 columns]"
      ]
     },
     "execution_count": 5,
     "metadata": {},
     "output_type": "execute_result"
    }
   ],
   "source": [
    "accident"
   ]
  },
  {
   "cell_type": "code",
   "execution_count": 6,
   "id": "2bb2d68d-24dd-482b-914d-434f3c0b43f4",
   "metadata": {},
   "outputs": [
    {
     "data": {
      "text/html": [
       "<div>\n",
       "<style scoped>\n",
       "    .dataframe tbody tr th:only-of-type {\n",
       "        vertical-align: middle;\n",
       "    }\n",
       "\n",
       "    .dataframe tbody tr th {\n",
       "        vertical-align: top;\n",
       "    }\n",
       "\n",
       "    .dataframe thead th {\n",
       "        text-align: right;\n",
       "    }\n",
       "</style>\n",
       "<table border=\"1\" class=\"dataframe\">\n",
       "  <thead>\n",
       "    <tr style=\"text-align: right;\">\n",
       "      <th></th>\n",
       "      <th>Latitude</th>\n",
       "      <th>Longitude</th>\n",
       "      <th>Number_of_Casualties</th>\n",
       "      <th>Number_of_Vehicles</th>\n",
       "    </tr>\n",
       "  </thead>\n",
       "  <tbody>\n",
       "    <tr>\n",
       "      <th>count</th>\n",
       "      <td>660654.000000</td>\n",
       "      <td>660653.000000</td>\n",
       "      <td>660679.000000</td>\n",
       "      <td>660679.000000</td>\n",
       "    </tr>\n",
       "    <tr>\n",
       "      <th>mean</th>\n",
       "      <td>52.553866</td>\n",
       "      <td>-1.431210</td>\n",
       "      <td>1.357040</td>\n",
       "      <td>1.831255</td>\n",
       "    </tr>\n",
       "    <tr>\n",
       "      <th>std</th>\n",
       "      <td>1.406922</td>\n",
       "      <td>1.383330</td>\n",
       "      <td>0.824847</td>\n",
       "      <td>0.715269</td>\n",
       "    </tr>\n",
       "    <tr>\n",
       "      <th>min</th>\n",
       "      <td>49.914430</td>\n",
       "      <td>-7.516225</td>\n",
       "      <td>1.000000</td>\n",
       "      <td>1.000000</td>\n",
       "    </tr>\n",
       "    <tr>\n",
       "      <th>25%</th>\n",
       "      <td>51.490690</td>\n",
       "      <td>-2.332291</td>\n",
       "      <td>1.000000</td>\n",
       "      <td>1.000000</td>\n",
       "    </tr>\n",
       "    <tr>\n",
       "      <th>50%</th>\n",
       "      <td>52.315641</td>\n",
       "      <td>-1.411667</td>\n",
       "      <td>1.000000</td>\n",
       "      <td>2.000000</td>\n",
       "    </tr>\n",
       "    <tr>\n",
       "      <th>75%</th>\n",
       "      <td>53.453452</td>\n",
       "      <td>-0.232869</td>\n",
       "      <td>1.000000</td>\n",
       "      <td>2.000000</td>\n",
       "    </tr>\n",
       "    <tr>\n",
       "      <th>max</th>\n",
       "      <td>60.757544</td>\n",
       "      <td>1.762010</td>\n",
       "      <td>68.000000</td>\n",
       "      <td>32.000000</td>\n",
       "    </tr>\n",
       "  </tbody>\n",
       "</table>\n",
       "</div>"
      ],
      "text/plain": [
       "            Latitude      Longitude  Number_of_Casualties  Number_of_Vehicles\n",
       "count  660654.000000  660653.000000         660679.000000       660679.000000\n",
       "mean       52.553866      -1.431210              1.357040            1.831255\n",
       "std         1.406922       1.383330              0.824847            0.715269\n",
       "min        49.914430      -7.516225              1.000000            1.000000\n",
       "25%        51.490690      -2.332291              1.000000            1.000000\n",
       "50%        52.315641      -1.411667              1.000000            2.000000\n",
       "75%        53.453452      -0.232869              1.000000            2.000000\n",
       "max        60.757544       1.762010             68.000000           32.000000"
      ]
     },
     "execution_count": 6,
     "metadata": {},
     "output_type": "execute_result"
    }
   ],
   "source": [
    "accident.describe()"
   ]
  },
  {
   "cell_type": "code",
   "execution_count": 7,
   "id": "72c45b8c-2113-4a52-9381-a919812b047b",
   "metadata": {},
   "outputs": [
    {
     "data": {
      "text/plain": [
       "Index                          0\n",
       "Accident_Severity              0\n",
       "Accident Date                  0\n",
       "Latitude                      25\n",
       "Light_Conditions               0\n",
       "District Area                  0\n",
       "Longitude                     26\n",
       "Number_of_Casualties           0\n",
       "Number_of_Vehicles             0\n",
       "Road_Surface_Conditions      726\n",
       "Road_Type                   4520\n",
       "Urban_or_Rural_Area           15\n",
       "Weather_Conditions         14128\n",
       "Vehicle_Type                   0\n",
       "dtype: int64"
      ]
     },
     "execution_count": 7,
     "metadata": {},
     "output_type": "execute_result"
    }
   ],
   "source": [
    "accident.isnull().sum()"
   ]
  },
  {
   "cell_type": "code",
   "execution_count": 8,
   "id": "976bbb1b-0d95-4cb4-bb59-8ea4baad9c7d",
   "metadata": {},
   "outputs": [
    {
     "data": {
      "text/plain": [
       "0         Serious\n",
       "1         Serious\n",
       "2         Serious\n",
       "3         Serious\n",
       "4          Slight\n",
       "           ...   \n",
       "660674     Slight\n",
       "660675     Slight\n",
       "660676     Slight\n",
       "660677    Serious\n",
       "660678    Serious\n",
       "Name: Accident_Severity, Length: 660679, dtype: object"
      ]
     },
     "execution_count": 8,
     "metadata": {},
     "output_type": "execute_result"
    }
   ],
   "source": [
    "accident['Accident_Severity']"
   ]
  },
  {
   "cell_type": "code",
   "execution_count": 9,
   "id": "3c4f7263-9d5a-4955-8fb3-4cca43e00a62",
   "metadata": {},
   "outputs": [
    {
     "data": {
      "text/plain": [
       "array(['Serious', 'Slight', 'Fatal'], dtype=object)"
      ]
     },
     "execution_count": 9,
     "metadata": {},
     "output_type": "execute_result"
    }
   ],
   "source": [
    "accident['Accident_Severity'].unique()"
   ]
  },
  {
   "cell_type": "code",
   "execution_count": 10,
   "id": "0cc91ca2-0b98-4f3c-9b44-0f4886515341",
   "metadata": {},
   "outputs": [],
   "source": [
    "Serious_df =accident[accident['Accident_Severity'] =='Serious'] "
   ]
  },
  {
   "cell_type": "code",
   "execution_count": 11,
   "id": "3cf904f1-c5f4-48e8-8ea7-f7f126809ec8",
   "metadata": {},
   "outputs": [
    {
     "data": {
      "text/html": [
       "<div>\n",
       "<style scoped>\n",
       "    .dataframe tbody tr th:only-of-type {\n",
       "        vertical-align: middle;\n",
       "    }\n",
       "\n",
       "    .dataframe tbody tr th {\n",
       "        vertical-align: top;\n",
       "    }\n",
       "\n",
       "    .dataframe thead th {\n",
       "        text-align: right;\n",
       "    }\n",
       "</style>\n",
       "<table border=\"1\" class=\"dataframe\">\n",
       "  <thead>\n",
       "    <tr style=\"text-align: right;\">\n",
       "      <th></th>\n",
       "      <th>Index</th>\n",
       "      <th>Accident_Severity</th>\n",
       "      <th>Accident Date</th>\n",
       "      <th>Latitude</th>\n",
       "      <th>Light_Conditions</th>\n",
       "      <th>District Area</th>\n",
       "      <th>Longitude</th>\n",
       "      <th>Number_of_Casualties</th>\n",
       "      <th>Number_of_Vehicles</th>\n",
       "      <th>Road_Surface_Conditions</th>\n",
       "      <th>Road_Type</th>\n",
       "      <th>Urban_or_Rural_Area</th>\n",
       "      <th>Weather_Conditions</th>\n",
       "      <th>Vehicle_Type</th>\n",
       "    </tr>\n",
       "  </thead>\n",
       "  <tbody>\n",
       "    <tr>\n",
       "      <th>0</th>\n",
       "      <td>200701BS64157</td>\n",
       "      <td>Serious</td>\n",
       "      <td>5/6/2019</td>\n",
       "      <td>51.506187</td>\n",
       "      <td>Darkness - lights lit</td>\n",
       "      <td>Kensington and Chelsea</td>\n",
       "      <td>-0.209082</td>\n",
       "      <td>1</td>\n",
       "      <td>2</td>\n",
       "      <td>Dry</td>\n",
       "      <td>Single carriageway</td>\n",
       "      <td>Urban</td>\n",
       "      <td>Fine no high winds</td>\n",
       "      <td>Car</td>\n",
       "    </tr>\n",
       "    <tr>\n",
       "      <th>1</th>\n",
       "      <td>200701BS65737</td>\n",
       "      <td>Serious</td>\n",
       "      <td>2/7/2019</td>\n",
       "      <td>51.495029</td>\n",
       "      <td>Daylight</td>\n",
       "      <td>Kensington and Chelsea</td>\n",
       "      <td>-0.173647</td>\n",
       "      <td>1</td>\n",
       "      <td>2</td>\n",
       "      <td>Wet or damp</td>\n",
       "      <td>Single carriageway</td>\n",
       "      <td>Urban</td>\n",
       "      <td>Raining no high winds</td>\n",
       "      <td>Car</td>\n",
       "    </tr>\n",
       "    <tr>\n",
       "      <th>2</th>\n",
       "      <td>200701BS66127</td>\n",
       "      <td>Serious</td>\n",
       "      <td>26-08-2019</td>\n",
       "      <td>51.517715</td>\n",
       "      <td>Darkness - lighting unknown</td>\n",
       "      <td>Kensington and Chelsea</td>\n",
       "      <td>-0.210215</td>\n",
       "      <td>1</td>\n",
       "      <td>3</td>\n",
       "      <td>Dry</td>\n",
       "      <td>NaN</td>\n",
       "      <td>Urban</td>\n",
       "      <td>NaN</td>\n",
       "      <td>Taxi/Private hire car</td>\n",
       "    </tr>\n",
       "    <tr>\n",
       "      <th>3</th>\n",
       "      <td>200701BS66128</td>\n",
       "      <td>Serious</td>\n",
       "      <td>16-08-2019</td>\n",
       "      <td>51.495478</td>\n",
       "      <td>Daylight</td>\n",
       "      <td>Kensington and Chelsea</td>\n",
       "      <td>-0.202731</td>\n",
       "      <td>1</td>\n",
       "      <td>4</td>\n",
       "      <td>Dry</td>\n",
       "      <td>Single carriageway</td>\n",
       "      <td>Urban</td>\n",
       "      <td>Fine no high winds</td>\n",
       "      <td>Bus or coach (17 or more pass seats)</td>\n",
       "    </tr>\n",
       "    <tr>\n",
       "      <th>5</th>\n",
       "      <td>200701BS67159</td>\n",
       "      <td>Serious</td>\n",
       "      <td>18-09-2019</td>\n",
       "      <td>51.497750</td>\n",
       "      <td>Daylight</td>\n",
       "      <td>Kensington and Chelsea</td>\n",
       "      <td>-0.192556</td>\n",
       "      <td>2</td>\n",
       "      <td>3</td>\n",
       "      <td>Dry</td>\n",
       "      <td>Single carriageway</td>\n",
       "      <td>Urban</td>\n",
       "      <td>Fine no high winds</td>\n",
       "      <td>Car</td>\n",
       "    </tr>\n",
       "    <tr>\n",
       "      <th>...</th>\n",
       "      <td>...</td>\n",
       "      <td>...</td>\n",
       "      <td>...</td>\n",
       "      <td>...</td>\n",
       "      <td>...</td>\n",
       "      <td>...</td>\n",
       "      <td>...</td>\n",
       "      <td>...</td>\n",
       "      <td>...</td>\n",
       "      <td>...</td>\n",
       "      <td>...</td>\n",
       "      <td>...</td>\n",
       "      <td>...</td>\n",
       "      <td>...</td>\n",
       "    </tr>\n",
       "    <tr>\n",
       "      <th>660629</th>\n",
       "      <td>201091NL00686</td>\n",
       "      <td>Serious</td>\n",
       "      <td>11/2/2022</td>\n",
       "      <td>57.687933</td>\n",
       "      <td>Daylight</td>\n",
       "      <td>Shetland Islands</td>\n",
       "      <td>-4.176860</td>\n",
       "      <td>1</td>\n",
       "      <td>2</td>\n",
       "      <td>Dry</td>\n",
       "      <td>Single carriageway</td>\n",
       "      <td>Rural</td>\n",
       "      <td>Fine + high winds</td>\n",
       "      <td>Car</td>\n",
       "    </tr>\n",
       "    <tr>\n",
       "      <th>660645</th>\n",
       "      <td>201091NL05842</td>\n",
       "      <td>Serious</td>\n",
       "      <td>18-10-2022</td>\n",
       "      <td>60.162660</td>\n",
       "      <td>Daylight</td>\n",
       "      <td>Shetland Islands</td>\n",
       "      <td>-1.165232</td>\n",
       "      <td>1</td>\n",
       "      <td>1</td>\n",
       "      <td>Dry</td>\n",
       "      <td>Single carriageway</td>\n",
       "      <td>Rural</td>\n",
       "      <td>Fine + high winds</td>\n",
       "      <td>Car</td>\n",
       "    </tr>\n",
       "    <tr>\n",
       "      <th>660672</th>\n",
       "      <td>201091NM01085</td>\n",
       "      <td>Serious</td>\n",
       "      <td>29-01-2022</td>\n",
       "      <td>57.170725</td>\n",
       "      <td>Daylight</td>\n",
       "      <td>Highland</td>\n",
       "      <td>-3.852421</td>\n",
       "      <td>1</td>\n",
       "      <td>2</td>\n",
       "      <td>Snow</td>\n",
       "      <td>Single carriageway</td>\n",
       "      <td>Rural</td>\n",
       "      <td>Fine no high winds</td>\n",
       "      <td>Car</td>\n",
       "    </tr>\n",
       "    <tr>\n",
       "      <th>660677</th>\n",
       "      <td>201091NM01964</td>\n",
       "      <td>Serious</td>\n",
       "      <td>23-02-2022</td>\n",
       "      <td>57.214898</td>\n",
       "      <td>Darkness - no lighting</td>\n",
       "      <td>Highland</td>\n",
       "      <td>-3.823997</td>\n",
       "      <td>1</td>\n",
       "      <td>2</td>\n",
       "      <td>Wet or damp</td>\n",
       "      <td>Single carriageway</td>\n",
       "      <td>Rural</td>\n",
       "      <td>Fine no high winds</td>\n",
       "      <td>Motorcycle over 500cc</td>\n",
       "    </tr>\n",
       "    <tr>\n",
       "      <th>660678</th>\n",
       "      <td>201091NM02142</td>\n",
       "      <td>Serious</td>\n",
       "      <td>28-02-2022</td>\n",
       "      <td>57.575210</td>\n",
       "      <td>Daylight</td>\n",
       "      <td>Highland</td>\n",
       "      <td>-3.895673</td>\n",
       "      <td>1</td>\n",
       "      <td>1</td>\n",
       "      <td>Wet or damp</td>\n",
       "      <td>Dual carriageway</td>\n",
       "      <td>Rural</td>\n",
       "      <td>Snowing no high winds</td>\n",
       "      <td>Car</td>\n",
       "    </tr>\n",
       "  </tbody>\n",
       "</table>\n",
       "<p>88217 rows × 14 columns</p>\n",
       "</div>"
      ],
      "text/plain": [
       "                Index Accident_Severity Accident Date   Latitude  \\\n",
       "0       200701BS64157           Serious      5/6/2019  51.506187   \n",
       "1       200701BS65737           Serious      2/7/2019  51.495029   \n",
       "2       200701BS66127           Serious    26-08-2019  51.517715   \n",
       "3       200701BS66128           Serious    16-08-2019  51.495478   \n",
       "5       200701BS67159           Serious    18-09-2019  51.497750   \n",
       "...               ...               ...           ...        ...   \n",
       "660629  201091NL00686           Serious     11/2/2022  57.687933   \n",
       "660645  201091NL05842           Serious    18-10-2022  60.162660   \n",
       "660672  201091NM01085           Serious    29-01-2022  57.170725   \n",
       "660677  201091NM01964           Serious    23-02-2022  57.214898   \n",
       "660678  201091NM02142           Serious    28-02-2022  57.575210   \n",
       "\n",
       "                   Light_Conditions           District Area  Longitude  \\\n",
       "0             Darkness - lights lit  Kensington and Chelsea  -0.209082   \n",
       "1                          Daylight  Kensington and Chelsea  -0.173647   \n",
       "2       Darkness - lighting unknown  Kensington and Chelsea  -0.210215   \n",
       "3                          Daylight  Kensington and Chelsea  -0.202731   \n",
       "5                          Daylight  Kensington and Chelsea  -0.192556   \n",
       "...                             ...                     ...        ...   \n",
       "660629                     Daylight        Shetland Islands  -4.176860   \n",
       "660645                     Daylight        Shetland Islands  -1.165232   \n",
       "660672                     Daylight                Highland  -3.852421   \n",
       "660677       Darkness - no lighting                Highland  -3.823997   \n",
       "660678                     Daylight                Highland  -3.895673   \n",
       "\n",
       "        Number_of_Casualties  Number_of_Vehicles Road_Surface_Conditions  \\\n",
       "0                          1                   2                     Dry   \n",
       "1                          1                   2             Wet or damp   \n",
       "2                          1                   3                     Dry   \n",
       "3                          1                   4                     Dry   \n",
       "5                          2                   3                     Dry   \n",
       "...                      ...                 ...                     ...   \n",
       "660629                     1                   2                     Dry   \n",
       "660645                     1                   1                     Dry   \n",
       "660672                     1                   2                    Snow   \n",
       "660677                     1                   2             Wet or damp   \n",
       "660678                     1                   1             Wet or damp   \n",
       "\n",
       "                 Road_Type Urban_or_Rural_Area     Weather_Conditions  \\\n",
       "0       Single carriageway               Urban     Fine no high winds   \n",
       "1       Single carriageway               Urban  Raining no high winds   \n",
       "2                      NaN               Urban                    NaN   \n",
       "3       Single carriageway               Urban     Fine no high winds   \n",
       "5       Single carriageway               Urban     Fine no high winds   \n",
       "...                    ...                 ...                    ...   \n",
       "660629  Single carriageway               Rural      Fine + high winds   \n",
       "660645  Single carriageway               Rural      Fine + high winds   \n",
       "660672  Single carriageway               Rural     Fine no high winds   \n",
       "660677  Single carriageway               Rural     Fine no high winds   \n",
       "660678    Dual carriageway               Rural  Snowing no high winds   \n",
       "\n",
       "                                Vehicle_Type  \n",
       "0                                        Car  \n",
       "1                                        Car  \n",
       "2                      Taxi/Private hire car  \n",
       "3       Bus or coach (17 or more pass seats)  \n",
       "5                                        Car  \n",
       "...                                      ...  \n",
       "660629                                   Car  \n",
       "660645                                   Car  \n",
       "660672                                   Car  \n",
       "660677                 Motorcycle over 500cc  \n",
       "660678                                   Car  \n",
       "\n",
       "[88217 rows x 14 columns]"
      ]
     },
     "execution_count": 11,
     "metadata": {},
     "output_type": "execute_result"
    }
   ],
   "source": [
    "Serious_df"
   ]
  },
  {
   "cell_type": "code",
   "execution_count": 12,
   "id": "369c24ec-8377-4639-8111-e89d4b0067aa",
   "metadata": {},
   "outputs": [],
   "source": [
    "Slight_df = accident[accident['Accident_Severity'] =='Slight'] "
   ]
  },
  {
   "cell_type": "code",
   "execution_count": 13,
   "id": "b8eb3321",
   "metadata": {},
   "outputs": [],
   "source": [
    "accident['Latitude'] = accident['Latitude'].fillna(accident['Latitude'].mean())\n",
    "accident['Longitude'] = accident['Longitude'].fillna(accident['Longitude'].mean())\n",
    "accident['Road_Surface_Conditions'] = accident['Road_Surface_Conditions'].fillna(accident['Road_Surface_Conditions'].mode()[0])\n",
    "accident['Road_Type'] = accident['Road_Type'].fillna(accident['Road_Type'].mode()[0])\n",
    "accident['Urban_or_Rural_Area'] = accident['Urban_or_Rural_Area'].fillna(accident['Urban_or_Rural_Area'].mode()[0])\n",
    "accident['Weather_Conditions'] = accident['Weather_Conditions'].fillna(accident['Weather_Conditions'].mode()[0])"
   ]
  },
  {
   "cell_type": "code",
   "execution_count": 14,
   "id": "bb334e76",
   "metadata": {},
   "outputs": [
    {
     "data": {
      "text/plain": [
       "Index                      0\n",
       "Accident_Severity          0\n",
       "Accident Date              0\n",
       "Latitude                   0\n",
       "Light_Conditions           0\n",
       "District Area              0\n",
       "Longitude                  0\n",
       "Number_of_Casualties       0\n",
       "Number_of_Vehicles         0\n",
       "Road_Surface_Conditions    0\n",
       "Road_Type                  0\n",
       "Urban_or_Rural_Area        0\n",
       "Weather_Conditions         0\n",
       "Vehicle_Type               0\n",
       "dtype: int64"
      ]
     },
     "execution_count": 14,
     "metadata": {},
     "output_type": "execute_result"
    }
   ],
   "source": [
    "accident.isnull().sum()\n"
   ]
  },
  {
   "cell_type": "code",
   "execution_count": 15,
   "id": "5f947017-1780-4677-b007-8a27c92ab613",
   "metadata": {},
   "outputs": [
    {
     "data": {
      "text/html": [
       "<div>\n",
       "<style scoped>\n",
       "    .dataframe tbody tr th:only-of-type {\n",
       "        vertical-align: middle;\n",
       "    }\n",
       "\n",
       "    .dataframe tbody tr th {\n",
       "        vertical-align: top;\n",
       "    }\n",
       "\n",
       "    .dataframe thead th {\n",
       "        text-align: right;\n",
       "    }\n",
       "</style>\n",
       "<table border=\"1\" class=\"dataframe\">\n",
       "  <thead>\n",
       "    <tr style=\"text-align: right;\">\n",
       "      <th></th>\n",
       "      <th>Index</th>\n",
       "      <th>Accident_Severity</th>\n",
       "      <th>Accident Date</th>\n",
       "      <th>Latitude</th>\n",
       "      <th>Light_Conditions</th>\n",
       "      <th>District Area</th>\n",
       "      <th>Longitude</th>\n",
       "      <th>Number_of_Casualties</th>\n",
       "      <th>Number_of_Vehicles</th>\n",
       "      <th>Road_Surface_Conditions</th>\n",
       "      <th>Road_Type</th>\n",
       "      <th>Urban_or_Rural_Area</th>\n",
       "      <th>Weather_Conditions</th>\n",
       "      <th>Vehicle_Type</th>\n",
       "    </tr>\n",
       "  </thead>\n",
       "  <tbody>\n",
       "    <tr>\n",
       "      <th>4</th>\n",
       "      <td>200701BS66837</td>\n",
       "      <td>Slight</td>\n",
       "      <td>3/9/2019</td>\n",
       "      <td>51.488576</td>\n",
       "      <td>Darkness - lights lit</td>\n",
       "      <td>Kensington and Chelsea</td>\n",
       "      <td>-0.192487</td>\n",
       "      <td>1</td>\n",
       "      <td>2</td>\n",
       "      <td>Dry</td>\n",
       "      <td>NaN</td>\n",
       "      <td>Urban</td>\n",
       "      <td>NaN</td>\n",
       "      <td>Other vehicle</td>\n",
       "    </tr>\n",
       "    <tr>\n",
       "      <th>8</th>\n",
       "      <td>200701BS67515</td>\n",
       "      <td>Slight</td>\n",
       "      <td>31-10-2019</td>\n",
       "      <td>51.493319</td>\n",
       "      <td>Darkness - lights lit</td>\n",
       "      <td>Kensington and Chelsea</td>\n",
       "      <td>-0.173572</td>\n",
       "      <td>1</td>\n",
       "      <td>2</td>\n",
       "      <td>Dry</td>\n",
       "      <td>Single carriageway</td>\n",
       "      <td>Urban</td>\n",
       "      <td>Fine no high winds</td>\n",
       "      <td>Car</td>\n",
       "    </tr>\n",
       "    <tr>\n",
       "      <th>9</th>\n",
       "      <td>200701BS67543</td>\n",
       "      <td>Slight</td>\n",
       "      <td>18-10-2019</td>\n",
       "      <td>51.484539</td>\n",
       "      <td>Daylight</td>\n",
       "      <td>Kensington and Chelsea</td>\n",
       "      <td>-0.175651</td>\n",
       "      <td>1</td>\n",
       "      <td>2</td>\n",
       "      <td>Dry</td>\n",
       "      <td>Single carriageway</td>\n",
       "      <td>Urban</td>\n",
       "      <td>Fine no high winds</td>\n",
       "      <td>Motorcycle over 125cc and up to 500cc</td>\n",
       "    </tr>\n",
       "    <tr>\n",
       "      <th>13</th>\n",
       "      <td>200701BS67853</td>\n",
       "      <td>Slight</td>\n",
       "      <td>8/11/2019</td>\n",
       "      <td>51.508999</td>\n",
       "      <td>Darkness - lights lit</td>\n",
       "      <td>Kensington and Chelsea</td>\n",
       "      <td>-0.210701</td>\n",
       "      <td>3</td>\n",
       "      <td>2</td>\n",
       "      <td>Wet or damp</td>\n",
       "      <td>Single carriageway</td>\n",
       "      <td>Urban</td>\n",
       "      <td>Other</td>\n",
       "      <td>Car</td>\n",
       "    </tr>\n",
       "    <tr>\n",
       "      <th>14</th>\n",
       "      <td>200701BS67859</td>\n",
       "      <td>Slight</td>\n",
       "      <td>1/11/2019</td>\n",
       "      <td>51.485125</td>\n",
       "      <td>Darkness - lights lit</td>\n",
       "      <td>Kensington and Chelsea</td>\n",
       "      <td>-0.167129</td>\n",
       "      <td>1</td>\n",
       "      <td>1</td>\n",
       "      <td>Dry</td>\n",
       "      <td>One way street</td>\n",
       "      <td>Urban</td>\n",
       "      <td>Fine no high winds</td>\n",
       "      <td>Car</td>\n",
       "    </tr>\n",
       "    <tr>\n",
       "      <th>...</th>\n",
       "      <td>...</td>\n",
       "      <td>...</td>\n",
       "      <td>...</td>\n",
       "      <td>...</td>\n",
       "      <td>...</td>\n",
       "      <td>...</td>\n",
       "      <td>...</td>\n",
       "      <td>...</td>\n",
       "      <td>...</td>\n",
       "      <td>...</td>\n",
       "      <td>...</td>\n",
       "      <td>...</td>\n",
       "      <td>...</td>\n",
       "      <td>...</td>\n",
       "    </tr>\n",
       "    <tr>\n",
       "      <th>660671</th>\n",
       "      <td>201091NM01053</td>\n",
       "      <td>Slight</td>\n",
       "      <td>29-01-2022</td>\n",
       "      <td>57.572162</td>\n",
       "      <td>Daylight</td>\n",
       "      <td>Highland</td>\n",
       "      <td>-3.930799</td>\n",
       "      <td>1</td>\n",
       "      <td>1</td>\n",
       "      <td>Frost or ice</td>\n",
       "      <td>Single carriageway</td>\n",
       "      <td>Rural</td>\n",
       "      <td>Other</td>\n",
       "      <td>Van / Goods 3.5 tonnes mgw or under</td>\n",
       "    </tr>\n",
       "    <tr>\n",
       "      <th>660673</th>\n",
       "      <td>201091NM01190</td>\n",
       "      <td>Slight</td>\n",
       "      <td>2/2/2022</td>\n",
       "      <td>57.585152</td>\n",
       "      <td>Daylight</td>\n",
       "      <td>Highland</td>\n",
       "      <td>-3.748312</td>\n",
       "      <td>2</td>\n",
       "      <td>2</td>\n",
       "      <td>Wet or damp</td>\n",
       "      <td>Single carriageway</td>\n",
       "      <td>Rural</td>\n",
       "      <td>Fine no high winds</td>\n",
       "      <td>Car</td>\n",
       "    </tr>\n",
       "    <tr>\n",
       "      <th>660674</th>\n",
       "      <td>201091NM01760</td>\n",
       "      <td>Slight</td>\n",
       "      <td>18-02-2022</td>\n",
       "      <td>57.374005</td>\n",
       "      <td>Daylight</td>\n",
       "      <td>Highland</td>\n",
       "      <td>-3.467828</td>\n",
       "      <td>2</td>\n",
       "      <td>1</td>\n",
       "      <td>Dry</td>\n",
       "      <td>Single carriageway</td>\n",
       "      <td>Rural</td>\n",
       "      <td>Fine no high winds</td>\n",
       "      <td>Car</td>\n",
       "    </tr>\n",
       "    <tr>\n",
       "      <th>660675</th>\n",
       "      <td>201091NM01881</td>\n",
       "      <td>Slight</td>\n",
       "      <td>21-02-2022</td>\n",
       "      <td>57.232273</td>\n",
       "      <td>Darkness - no lighting</td>\n",
       "      <td>Highland</td>\n",
       "      <td>-3.809281</td>\n",
       "      <td>1</td>\n",
       "      <td>1</td>\n",
       "      <td>Frost or ice</td>\n",
       "      <td>Single carriageway</td>\n",
       "      <td>Rural</td>\n",
       "      <td>Fine no high winds</td>\n",
       "      <td>Car</td>\n",
       "    </tr>\n",
       "    <tr>\n",
       "      <th>660676</th>\n",
       "      <td>201091NM01935</td>\n",
       "      <td>Slight</td>\n",
       "      <td>23-02-2022</td>\n",
       "      <td>57.585044</td>\n",
       "      <td>Daylight</td>\n",
       "      <td>Highland</td>\n",
       "      <td>-3.862727</td>\n",
       "      <td>1</td>\n",
       "      <td>3</td>\n",
       "      <td>Frost or ice</td>\n",
       "      <td>Single carriageway</td>\n",
       "      <td>Rural</td>\n",
       "      <td>Fine no high winds</td>\n",
       "      <td>Car</td>\n",
       "    </tr>\n",
       "  </tbody>\n",
       "</table>\n",
       "<p>563801 rows × 14 columns</p>\n",
       "</div>"
      ],
      "text/plain": [
       "                Index Accident_Severity Accident Date   Latitude  \\\n",
       "4       200701BS66837            Slight      3/9/2019  51.488576   \n",
       "8       200701BS67515            Slight    31-10-2019  51.493319   \n",
       "9       200701BS67543            Slight    18-10-2019  51.484539   \n",
       "13      200701BS67853            Slight     8/11/2019  51.508999   \n",
       "14      200701BS67859            Slight     1/11/2019  51.485125   \n",
       "...               ...               ...           ...        ...   \n",
       "660671  201091NM01053            Slight    29-01-2022  57.572162   \n",
       "660673  201091NM01190            Slight      2/2/2022  57.585152   \n",
       "660674  201091NM01760            Slight    18-02-2022  57.374005   \n",
       "660675  201091NM01881            Slight    21-02-2022  57.232273   \n",
       "660676  201091NM01935            Slight    23-02-2022  57.585044   \n",
       "\n",
       "              Light_Conditions           District Area  Longitude  \\\n",
       "4        Darkness - lights lit  Kensington and Chelsea  -0.192487   \n",
       "8        Darkness - lights lit  Kensington and Chelsea  -0.173572   \n",
       "9                     Daylight  Kensington and Chelsea  -0.175651   \n",
       "13       Darkness - lights lit  Kensington and Chelsea  -0.210701   \n",
       "14       Darkness - lights lit  Kensington and Chelsea  -0.167129   \n",
       "...                        ...                     ...        ...   \n",
       "660671                Daylight                Highland  -3.930799   \n",
       "660673                Daylight                Highland  -3.748312   \n",
       "660674                Daylight                Highland  -3.467828   \n",
       "660675  Darkness - no lighting                Highland  -3.809281   \n",
       "660676                Daylight                Highland  -3.862727   \n",
       "\n",
       "        Number_of_Casualties  Number_of_Vehicles Road_Surface_Conditions  \\\n",
       "4                          1                   2                     Dry   \n",
       "8                          1                   2                     Dry   \n",
       "9                          1                   2                     Dry   \n",
       "13                         3                   2             Wet or damp   \n",
       "14                         1                   1                     Dry   \n",
       "...                      ...                 ...                     ...   \n",
       "660671                     1                   1            Frost or ice   \n",
       "660673                     2                   2             Wet or damp   \n",
       "660674                     2                   1                     Dry   \n",
       "660675                     1                   1            Frost or ice   \n",
       "660676                     1                   3            Frost or ice   \n",
       "\n",
       "                 Road_Type Urban_or_Rural_Area  Weather_Conditions  \\\n",
       "4                      NaN               Urban                 NaN   \n",
       "8       Single carriageway               Urban  Fine no high winds   \n",
       "9       Single carriageway               Urban  Fine no high winds   \n",
       "13      Single carriageway               Urban               Other   \n",
       "14          One way street               Urban  Fine no high winds   \n",
       "...                    ...                 ...                 ...   \n",
       "660671  Single carriageway               Rural               Other   \n",
       "660673  Single carriageway               Rural  Fine no high winds   \n",
       "660674  Single carriageway               Rural  Fine no high winds   \n",
       "660675  Single carriageway               Rural  Fine no high winds   \n",
       "660676  Single carriageway               Rural  Fine no high winds   \n",
       "\n",
       "                                 Vehicle_Type  \n",
       "4                               Other vehicle  \n",
       "8                                         Car  \n",
       "9       Motorcycle over 125cc and up to 500cc  \n",
       "13                                        Car  \n",
       "14                                        Car  \n",
       "...                                       ...  \n",
       "660671    Van / Goods 3.5 tonnes mgw or under  \n",
       "660673                                    Car  \n",
       "660674                                    Car  \n",
       "660675                                    Car  \n",
       "660676                                    Car  \n",
       "\n",
       "[563801 rows x 14 columns]"
      ]
     },
     "execution_count": 15,
     "metadata": {},
     "output_type": "execute_result"
    }
   ],
   "source": [
    "Slight_df"
   ]
  },
  {
   "cell_type": "code",
   "execution_count": 16,
   "id": "7cb2471c-1158-42f6-bb13-dd1886bd12c8",
   "metadata": {},
   "outputs": [],
   "source": [
    "Fatal_df = accident[accident['Accident_Severity'] =='Fatal'] "
   ]
  },
  {
   "cell_type": "code",
   "execution_count": 17,
   "id": "91eab0b4-8263-4663-83e2-bab8628b5e73",
   "metadata": {},
   "outputs": [
    {
     "data": {
      "text/html": [
       "<div>\n",
       "<style scoped>\n",
       "    .dataframe tbody tr th:only-of-type {\n",
       "        vertical-align: middle;\n",
       "    }\n",
       "\n",
       "    .dataframe tbody tr th {\n",
       "        vertical-align: top;\n",
       "    }\n",
       "\n",
       "    .dataframe thead th {\n",
       "        text-align: right;\n",
       "    }\n",
       "</style>\n",
       "<table border=\"1\" class=\"dataframe\">\n",
       "  <thead>\n",
       "    <tr style=\"text-align: right;\">\n",
       "      <th></th>\n",
       "      <th>Index</th>\n",
       "      <th>Accident_Severity</th>\n",
       "      <th>Accident Date</th>\n",
       "      <th>Latitude</th>\n",
       "      <th>Light_Conditions</th>\n",
       "      <th>District Area</th>\n",
       "      <th>Longitude</th>\n",
       "      <th>Number_of_Casualties</th>\n",
       "      <th>Number_of_Vehicles</th>\n",
       "      <th>Road_Surface_Conditions</th>\n",
       "      <th>Road_Type</th>\n",
       "      <th>Urban_or_Rural_Area</th>\n",
       "      <th>Weather_Conditions</th>\n",
       "      <th>Vehicle_Type</th>\n",
       "    </tr>\n",
       "  </thead>\n",
       "  <tbody>\n",
       "    <tr>\n",
       "      <th>7</th>\n",
       "      <td>200701BS67370</td>\n",
       "      <td>Fatal</td>\n",
       "      <td>3/10/2019</td>\n",
       "      <td>51.482260</td>\n",
       "      <td>Darkness - lights lit</td>\n",
       "      <td>Kensington and Chelsea</td>\n",
       "      <td>-0.179486</td>\n",
       "      <td>3</td>\n",
       "      <td>2</td>\n",
       "      <td>Dry</td>\n",
       "      <td>Single carriageway</td>\n",
       "      <td>Urban</td>\n",
       "      <td>Fine no high winds</td>\n",
       "      <td>Car</td>\n",
       "    </tr>\n",
       "    <tr>\n",
       "      <th>11</th>\n",
       "      <td>200701BS67747</td>\n",
       "      <td>Fatal</td>\n",
       "      <td>2/11/2019</td>\n",
       "      <td>51.499127</td>\n",
       "      <td>Daylight</td>\n",
       "      <td>Kensington and Chelsea</td>\n",
       "      <td>-0.159652</td>\n",
       "      <td>1</td>\n",
       "      <td>2</td>\n",
       "      <td>Dry</td>\n",
       "      <td>Single carriageway</td>\n",
       "      <td>Urban</td>\n",
       "      <td>Fine no high winds</td>\n",
       "      <td>Bus or coach (17 or more pass seats)</td>\n",
       "    </tr>\n",
       "    <tr>\n",
       "      <th>20</th>\n",
       "      <td>200701BS68301</td>\n",
       "      <td>Fatal</td>\n",
       "      <td>24-10-2019</td>\n",
       "      <td>51.505996</td>\n",
       "      <td>Daylight</td>\n",
       "      <td>Kensington and Chelsea</td>\n",
       "      <td>-0.214277</td>\n",
       "      <td>1</td>\n",
       "      <td>1</td>\n",
       "      <td>Dry</td>\n",
       "      <td>Single carriageway</td>\n",
       "      <td>Urban</td>\n",
       "      <td>Fine no high winds</td>\n",
       "      <td>Car</td>\n",
       "    </tr>\n",
       "    <tr>\n",
       "      <th>21</th>\n",
       "      <td>200701BS68302</td>\n",
       "      <td>Fatal</td>\n",
       "      <td>24-11-2019</td>\n",
       "      <td>51.486795</td>\n",
       "      <td>Daylight</td>\n",
       "      <td>Kensington and Chelsea</td>\n",
       "      <td>-0.170375</td>\n",
       "      <td>5</td>\n",
       "      <td>1</td>\n",
       "      <td>Dry</td>\n",
       "      <td>Single carriageway</td>\n",
       "      <td>Urban</td>\n",
       "      <td>Fine no high winds</td>\n",
       "      <td>Car</td>\n",
       "    </tr>\n",
       "    <tr>\n",
       "      <th>717</th>\n",
       "      <td>200701CP00032</td>\n",
       "      <td>Fatal</td>\n",
       "      <td>30-01-2019</td>\n",
       "      <td>51.510978</td>\n",
       "      <td>Daylight</td>\n",
       "      <td>City of London</td>\n",
       "      <td>-0.107581</td>\n",
       "      <td>1</td>\n",
       "      <td>2</td>\n",
       "      <td>Wet or damp</td>\n",
       "      <td>Dual carriageway</td>\n",
       "      <td>Urban</td>\n",
       "      <td>Fine no high winds</td>\n",
       "      <td>Car</td>\n",
       "    </tr>\n",
       "    <tr>\n",
       "      <th>...</th>\n",
       "      <td>...</td>\n",
       "      <td>...</td>\n",
       "      <td>...</td>\n",
       "      <td>...</td>\n",
       "      <td>...</td>\n",
       "      <td>...</td>\n",
       "      <td>...</td>\n",
       "      <td>...</td>\n",
       "      <td>...</td>\n",
       "      <td>...</td>\n",
       "      <td>...</td>\n",
       "      <td>...</td>\n",
       "      <td>...</td>\n",
       "      <td>...</td>\n",
       "    </tr>\n",
       "    <tr>\n",
       "      <th>660470</th>\n",
       "      <td>201091NH00529</td>\n",
       "      <td>Fatal</td>\n",
       "      <td>29-01-2022</td>\n",
       "      <td>58.475726</td>\n",
       "      <td>Daylight</td>\n",
       "      <td>Western Isles</td>\n",
       "      <td>-6.278583</td>\n",
       "      <td>1</td>\n",
       "      <td>1</td>\n",
       "      <td>Wet or damp</td>\n",
       "      <td>Single carriageway</td>\n",
       "      <td>Rural</td>\n",
       "      <td>Fine + high winds</td>\n",
       "      <td>Car</td>\n",
       "    </tr>\n",
       "    <tr>\n",
       "      <th>660519</th>\n",
       "      <td>201091NJ01533</td>\n",
       "      <td>Fatal</td>\n",
       "      <td>2/2/2022</td>\n",
       "      <td>58.495554</td>\n",
       "      <td>Daylight</td>\n",
       "      <td>Highland</td>\n",
       "      <td>-4.451628</td>\n",
       "      <td>1</td>\n",
       "      <td>1</td>\n",
       "      <td>Snow</td>\n",
       "      <td>Single carriageway</td>\n",
       "      <td>Rural</td>\n",
       "      <td>Snowing no high winds</td>\n",
       "      <td>Car</td>\n",
       "    </tr>\n",
       "    <tr>\n",
       "      <th>660565</th>\n",
       "      <td>201091NJ11329</td>\n",
       "      <td>Fatal</td>\n",
       "      <td>15-08-2022</td>\n",
       "      <td>57.871514</td>\n",
       "      <td>Daylight</td>\n",
       "      <td>Highland</td>\n",
       "      <td>-4.243081</td>\n",
       "      <td>1</td>\n",
       "      <td>1</td>\n",
       "      <td>Dry</td>\n",
       "      <td>Single carriageway</td>\n",
       "      <td>Rural</td>\n",
       "      <td>Fine no high winds</td>\n",
       "      <td>Goods 7.5 tonnes mgw and over</td>\n",
       "    </tr>\n",
       "    <tr>\n",
       "      <th>660581</th>\n",
       "      <td>201091NJ14695</td>\n",
       "      <td>Fatal</td>\n",
       "      <td>21-10-2022</td>\n",
       "      <td>58.445475</td>\n",
       "      <td>Darkness - lights lit</td>\n",
       "      <td>Highland</td>\n",
       "      <td>-3.065535</td>\n",
       "      <td>1</td>\n",
       "      <td>1</td>\n",
       "      <td>Wet or damp</td>\n",
       "      <td>Single carriageway</td>\n",
       "      <td>Rural</td>\n",
       "      <td>Fine no high winds</td>\n",
       "      <td>Car</td>\n",
       "    </tr>\n",
       "    <tr>\n",
       "      <th>660627</th>\n",
       "      <td>201091NL00060</td>\n",
       "      <td>Fatal</td>\n",
       "      <td>6/1/2022</td>\n",
       "      <td>60.241195</td>\n",
       "      <td>Daylight</td>\n",
       "      <td>Shetland Islands</td>\n",
       "      <td>-1.409761</td>\n",
       "      <td>3</td>\n",
       "      <td>1</td>\n",
       "      <td>Snow</td>\n",
       "      <td>Single carriageway</td>\n",
       "      <td>Rural</td>\n",
       "      <td>Fine no high winds</td>\n",
       "      <td>Van / Goods 3.5 tonnes mgw or under</td>\n",
       "    </tr>\n",
       "  </tbody>\n",
       "</table>\n",
       "<p>8661 rows × 14 columns</p>\n",
       "</div>"
      ],
      "text/plain": [
       "                Index Accident_Severity Accident Date   Latitude  \\\n",
       "7       200701BS67370             Fatal     3/10/2019  51.482260   \n",
       "11      200701BS67747             Fatal     2/11/2019  51.499127   \n",
       "20      200701BS68301             Fatal    24-10-2019  51.505996   \n",
       "21      200701BS68302             Fatal    24-11-2019  51.486795   \n",
       "717     200701CP00032             Fatal    30-01-2019  51.510978   \n",
       "...               ...               ...           ...        ...   \n",
       "660470  201091NH00529             Fatal    29-01-2022  58.475726   \n",
       "660519  201091NJ01533             Fatal      2/2/2022  58.495554   \n",
       "660565  201091NJ11329             Fatal    15-08-2022  57.871514   \n",
       "660581  201091NJ14695             Fatal    21-10-2022  58.445475   \n",
       "660627  201091NL00060             Fatal      6/1/2022  60.241195   \n",
       "\n",
       "             Light_Conditions           District Area  Longitude  \\\n",
       "7       Darkness - lights lit  Kensington and Chelsea  -0.179486   \n",
       "11                   Daylight  Kensington and Chelsea  -0.159652   \n",
       "20                   Daylight  Kensington and Chelsea  -0.214277   \n",
       "21                   Daylight  Kensington and Chelsea  -0.170375   \n",
       "717                  Daylight          City of London  -0.107581   \n",
       "...                       ...                     ...        ...   \n",
       "660470               Daylight           Western Isles  -6.278583   \n",
       "660519               Daylight                Highland  -4.451628   \n",
       "660565               Daylight                Highland  -4.243081   \n",
       "660581  Darkness - lights lit                Highland  -3.065535   \n",
       "660627               Daylight        Shetland Islands  -1.409761   \n",
       "\n",
       "        Number_of_Casualties  Number_of_Vehicles Road_Surface_Conditions  \\\n",
       "7                          3                   2                     Dry   \n",
       "11                         1                   2                     Dry   \n",
       "20                         1                   1                     Dry   \n",
       "21                         5                   1                     Dry   \n",
       "717                        1                   2             Wet or damp   \n",
       "...                      ...                 ...                     ...   \n",
       "660470                     1                   1             Wet or damp   \n",
       "660519                     1                   1                    Snow   \n",
       "660565                     1                   1                     Dry   \n",
       "660581                     1                   1             Wet or damp   \n",
       "660627                     3                   1                    Snow   \n",
       "\n",
       "                 Road_Type Urban_or_Rural_Area     Weather_Conditions  \\\n",
       "7       Single carriageway               Urban     Fine no high winds   \n",
       "11      Single carriageway               Urban     Fine no high winds   \n",
       "20      Single carriageway               Urban     Fine no high winds   \n",
       "21      Single carriageway               Urban     Fine no high winds   \n",
       "717       Dual carriageway               Urban     Fine no high winds   \n",
       "...                    ...                 ...                    ...   \n",
       "660470  Single carriageway               Rural      Fine + high winds   \n",
       "660519  Single carriageway               Rural  Snowing no high winds   \n",
       "660565  Single carriageway               Rural     Fine no high winds   \n",
       "660581  Single carriageway               Rural     Fine no high winds   \n",
       "660627  Single carriageway               Rural     Fine no high winds   \n",
       "\n",
       "                                Vehicle_Type  \n",
       "7                                        Car  \n",
       "11      Bus or coach (17 or more pass seats)  \n",
       "20                                       Car  \n",
       "21                                       Car  \n",
       "717                                      Car  \n",
       "...                                      ...  \n",
       "660470                                   Car  \n",
       "660519                                   Car  \n",
       "660565         Goods 7.5 tonnes mgw and over  \n",
       "660581                                   Car  \n",
       "660627   Van / Goods 3.5 tonnes mgw or under  \n",
       "\n",
       "[8661 rows x 14 columns]"
      ]
     },
     "execution_count": 17,
     "metadata": {},
     "output_type": "execute_result"
    }
   ],
   "source": [
    "Fatal_df"
   ]
  },
  {
   "cell_type": "code",
   "execution_count": 18,
   "id": "9f03d306-d483-42a0-954b-fa20701eb8f4",
   "metadata": {},
   "outputs": [],
   "source": [
    "accident['Accident Date'] = pd.to_datetime(accident['Accident Date'], dayfirst = True, errors = 'coerce')"
   ]
  },
  {
   "cell_type": "markdown",
   "id": "3fe84b12-05cf-4725-8c80-94087d1a1b4e",
   "metadata": {},
   "source": [
    "<h2>Adjusting Data Types</h2>"
   ]
  },
  {
   "cell_type": "markdown",
   "id": "35ec4c58-5332-4262-866e-fd5cdda2af21",
   "metadata": {},
   "source": []
  },
  {
   "cell_type": "markdown",
   "id": "51d4e721-7dd2-413a-8c1d-344290291244",
   "metadata": {},
   "source": [
    "<h1>QUESTIONS</h1>"
   ]
  },
  {
   "cell_type": "markdown",
   "id": "7b8dc159-ec23-40ea-b15c-77e4d1a6d2fd",
   "metadata": {},
   "source": [
    "<h2>1.How many accidents are there under each severity?</h2>"
   ]
  },
  {
   "cell_type": "code",
   "execution_count": 19,
   "id": "82c16504-0f63-4867-8a03-1500642174d6",
   "metadata": {},
   "outputs": [
    {
     "data": {
      "text/plain": [
       "Accident_Severity\n",
       "Slight     563801\n",
       "Serious     88217\n",
       "Fatal        8661\n",
       "Name: count, dtype: int64"
      ]
     },
     "execution_count": 19,
     "metadata": {},
     "output_type": "execute_result"
    }
   ],
   "source": [
    "accident['Accident_Severity'].value_counts()"
   ]
  },
  {
   "cell_type": "markdown",
   "id": "37837145-a186-416e-a994-ad84cb3795eb",
   "metadata": {},
   "source": [
    "<h2>INSIGHT:</h2>\n",
    "<h3>There are 563,801 accidents under slight severity, serious with 88,217 and fatal with 8,661.</h3>\n"
   ]
  },
  {
   "cell_type": "markdown",
   "id": "6ee277e5",
   "metadata": {},
   "source": []
  },
  {
   "cell_type": "markdown",
   "id": "48280188-3df3-4e6d-86a1-db3bf016c5e9",
   "metadata": {},
   "source": [
    "<h2>2.Which district area had the most accident report?</h2>"
   ]
  },
  {
   "cell_type": "code",
   "execution_count": 20,
   "id": "8cc37321-07bc-46a2-81fa-763fc5575451",
   "metadata": {},
   "outputs": [
    {
     "data": {
      "text/plain": [
       "District Area\n",
       "Birmingham            13491\n",
       "Leeds                  8898\n",
       "Manchester             6720\n",
       "Bradford               6212\n",
       "Sheffield              5710\n",
       "                      ...  \n",
       "Berwick-upon-Tweed      153\n",
       "Teesdale                142\n",
       "Shetland Islands        133\n",
       "Orkney Islands          117\n",
       "Clackmannanshire         91\n",
       "Name: count, Length: 422, dtype: int64"
      ]
     },
     "execution_count": 20,
     "metadata": {},
     "output_type": "execute_result"
    }
   ],
   "source": [
    "accident['District Area'].value_counts()"
   ]
  },
  {
   "cell_type": "markdown",
   "id": "27c9229f-afd8-4b56-924b-f31bd4d3ea12",
   "metadata": {},
   "source": [
    "<h2>INSIGHT:</h2>"
   ]
  },
  {
   "cell_type": "markdown",
   "id": "c40c0bb2-df6b-4bbc-b66c-486a44895d19",
   "metadata": {},
   "source": [
    "<h3>Based on the data ,the district area that has the most accident report is Birmingham with a total of 1349. </h3>"
   ]
  },
  {
   "cell_type": "markdown",
   "id": "dd35ad84-ad69-47c1-a1fa-01dd8cb8b13a",
   "metadata": {},
   "source": [
    "<h2>3.What is the average number of casualties fall under serious accident severity?</h2>"
   ]
  },
  {
   "cell_type": "code",
   "execution_count": 21,
   "id": "b7afc7bf-f1d3-4207-badc-d677c596a290",
   "metadata": {},
   "outputs": [
    {
     "data": {
      "text/plain": [
       "np.float64(1.46727954929322)"
      ]
     },
     "execution_count": 21,
     "metadata": {},
     "output_type": "execute_result"
    }
   ],
   "source": [
    "accident[accident['Accident_Severity'] =='Serious']['Number_of_Casualties'].mean()"
   ]
  },
  {
   "cell_type": "markdown",
   "id": "92d0e095-5d37-46da-89d7-82527f646ecc",
   "metadata": {},
   "source": [
    "<h2>INSIGHT:</h2>"
   ]
  },
  {
   "cell_type": "markdown",
   "id": "ca222c42-1cb9-43f6-9e13-27b4596337ac",
   "metadata": {},
   "source": [
    "<h3>The result shows that serious accidents usually affect one person with the average result of 1.47.</h3>"
   ]
  },
  {
   "cell_type": "markdown",
   "id": "8ddbbf44-fafb-4cfd-8090-88b58910fac7",
   "metadata": {},
   "source": [
    "<h2>4.Where are road accidents higher, in urban or rural areas?</h2>"
   ]
  },
  {
   "cell_type": "code",
   "execution_count": 22,
   "id": "a5a97a91-3f37-45bd-9867-0dd7e1ace188",
   "metadata": {},
   "outputs": [
    {
     "data": {
      "text/plain": [
       "Urban_or_Rural_Area\n",
       "Urban          421678\n",
       "Rural          238990\n",
       "Unallocated        11\n",
       "Name: count, dtype: int64"
      ]
     },
     "execution_count": 22,
     "metadata": {},
     "output_type": "execute_result"
    }
   ],
   "source": [
    "accident['Urban_or_Rural_Area'].value_counts()"
   ]
  },
  {
   "cell_type": "markdown",
   "id": "61ab97bc-cba0-409e-88c4-2ca075c1334e",
   "metadata": {},
   "source": [
    "<h2>Insight:</h2>"
   ]
  },
  {
   "cell_type": "markdown",
   "id": "d84f1164-4566-4b97-b1cd-bdffd72a4fd4",
   "metadata": {},
   "source": [
    "<h3>Based on the result road accidents are much higher in Urban areas with 421663 compared to rural areas with 238990.</h3>"
   ]
  },
  {
   "cell_type": "markdown",
   "id": "4446277c-1113-4acd-a666-3473fd0386da",
   "metadata": {},
   "source": [
    "<h2>5.How many slight accidents occured on frost or ice compared to snow?</h2>"
   ]
  },
  {
   "cell_type": "code",
   "execution_count": 23,
   "id": "b52224b2-aaed-4d6b-96f6-d735febd1671",
   "metadata": {},
   "outputs": [
    {
     "data": {
      "text/plain": [
       "Road_Surface_Conditions  Accident_Severity\n",
       "Dry                      Fatal                  5790\n",
       "                         Serious               61708\n",
       "                         Slight               381049\n",
       "Flood over 3cm. deep     Fatal                    23\n",
       "                         Serious                 152\n",
       "                         Slight                  842\n",
       "Frost or ice             Fatal                   193\n",
       "                         Serious                2007\n",
       "                         Slight                16317\n",
       "Snow                     Fatal                    35\n",
       "                         Serious                 565\n",
       "                         Slight                 5290\n",
       "Wet or damp              Fatal                  2620\n",
       "                         Serious               23785\n",
       "                         Slight               160303\n",
       "dtype: int64"
      ]
     },
     "execution_count": 23,
     "metadata": {},
     "output_type": "execute_result"
    }
   ],
   "source": [
    "accident.groupby(['Road_Surface_Conditions','Accident_Severity']).size()"
   ]
  },
  {
   "cell_type": "markdown",
   "id": "d77722bd-1b0f-4231-aa26-c44e7554cff5",
   "metadata": {},
   "source": [
    "<h2>INSIGHT:</h2>"
   ]
  },
  {
   "cell_type": "markdown",
   "id": "b5782e65-43ba-4b70-9d4e-7cb43ecf33c9",
   "metadata": {},
   "source": [
    "<h3>Slight accident on frost or ice shows a large number of accidents with a total of 16317 compared to snow with 5290 accidents </h3>"
   ]
  },
  {
   "cell_type": "markdown",
   "id": "536947da-f3e8-468f-8f14-b7f477a3908b",
   "metadata": {},
   "source": [
    "<h2>6.What is the specific date recorded the most number of road accidents?</h2>"
   ]
  },
  {
   "cell_type": "code",
   "execution_count": 24,
   "id": "692e9be0-c208-4c9f-a8cc-4893605ee803",
   "metadata": {},
   "outputs": [
    {
     "data": {
      "text/plain": [
       "Accident Date\n",
       "2021-02-11    685\n",
       "2021-10-06    680\n",
       "2019-12-06    678\n",
       "2019-02-01    676\n",
       "2021-12-04    667\n",
       "             ... \n",
       "2022-01-09    236\n",
       "2022-12-02    236\n",
       "2022-04-05    231\n",
       "2022-02-07    213\n",
       "2022-01-10    123\n",
       "Name: count, Length: 576, dtype: int64"
      ]
     },
     "execution_count": 24,
     "metadata": {},
     "output_type": "execute_result"
    }
   ],
   "source": [
    "accident['Accident Date'].value_counts()"
   ]
  },
  {
   "cell_type": "markdown",
   "id": "50863986-4f0e-4274-9ee5-0f21788a5827",
   "metadata": {},
   "source": [
    "<h2>INSIGHT:</h2>"
   ]
  },
  {
   "cell_type": "markdown",
   "id": "09d7f5ce-d423-4e33-9cc2-6374ef6834be",
   "metadata": {},
   "source": [
    "<h3>Based on the result the date that had the most accident record was on November 30, 2019.</h3>"
   ]
  },
  {
   "cell_type": "markdown",
   "id": "2ecb2089-bf53-45b9-8db4-533de4e5184f",
   "metadata": {},
   "source": [
    "<h2>7. What is the most common weather does accident happened ?</h2"
   ]
  },
  {
   "cell_type": "code",
   "execution_count": 25,
   "id": "7db481b6-64c2-422b-9a73-568f0e4bbc57",
   "metadata": {},
   "outputs": [
    {
     "data": {
      "text/plain": [
       "Weather_Conditions\n",
       "Fine no high winds       535013\n",
       "Raining no high winds     79696\n",
       "Other                     17150\n",
       "Raining + high winds       9615\n",
       "Fine + high winds          8554\n",
       "Snowing no high winds      6238\n",
       "Fog or mist                3528\n",
       "Snowing + high winds        885\n",
       "Name: count, dtype: int64"
      ]
     },
     "execution_count": 25,
     "metadata": {},
     "output_type": "execute_result"
    }
   ],
   "source": [
    "accident['Weather_Conditions'].value_counts()"
   ]
  },
  {
   "cell_type": "markdown",
   "id": "6ce3d603-31f3-4201-ad2d-6fb8123c6642",
   "metadata": {},
   "source": [
    "<h2>INSIGHT:</h2>"
   ]
  },
  {
   "cell_type": "markdown",
   "id": "cb52c36d-3ee8-4f1d-b9c8-43dfc6675f9c",
   "metadata": {},
   "source": [
    "<h3>The most common weather that accidents happened the most is with fine no high winds</h3>"
   ]
  },
  {
   "cell_type": "markdown",
   "id": "038059af",
   "metadata": {},
   "source": [
    "<h4>8. What is the most common road surface condition during accidents?\n",
    "</h4>"
   ]
  },
  {
   "cell_type": "code",
   "execution_count": 26,
   "id": "8f4a63e1",
   "metadata": {},
   "outputs": [
    {
     "data": {
      "text/plain": [
       "'Dry'"
      ]
     },
     "execution_count": 26,
     "metadata": {},
     "output_type": "execute_result"
    }
   ],
   "source": [
    "common_surface = accident[\"Road_Surface_Conditions\"].mode()[0]\n",
    "common_surface"
   ]
  },
  {
   "cell_type": "markdown",
   "id": "2d9cb430",
   "metadata": {},
   "source": [
    "<h4>Insights: According the result, it shows that the most common road surface condition during accidents are dry.\n",
    "</h4>"
   ]
  },
  {
   "cell_type": "code",
   "execution_count": 27,
   "id": "c1653a77",
   "metadata": {},
   "outputs": [
    {
     "data": {
      "text/plain": [
       "Light_Conditions\n",
       "Daylight                       484880\n",
       "Darkness - lights lit          129335\n",
       "Darkness - no lighting          37437\n",
       "Darkness - lighting unknown      6484\n",
       "Darkness - lights unlit          2543\n",
       "Name: count, dtype: int64"
      ]
     },
     "execution_count": 27,
     "metadata": {},
     "output_type": "execute_result"
    }
   ],
   "source": [
    "light_condition_accidents = accident[\"Light_Conditions\"].value_counts()\n",
    "light_condition_accidents"
   ]
  },
  {
   "cell_type": "markdown",
   "id": "b3484933",
   "metadata": {},
   "source": [
    "<h4>Insights: Based on the result of the analysis it shows that Daylight have the highest number of recorded accidents.</h4>"
   ]
  },
  {
   "cell_type": "markdown",
   "id": "1ba60b13",
   "metadata": {},
   "source": [
    "<h4>9. What is the average number of casualties in urban and rural areas?</h4>"
   ]
  },
  {
   "cell_type": "code",
   "execution_count": 28,
   "id": "1dccf7a0",
   "metadata": {},
   "outputs": [
    {
     "data": {
      "text/plain": [
       "Urban_or_Rural_Area\n",
       "Rural          1.479204\n",
       "Unallocated    1.181818\n",
       "Urban          1.287807\n",
       "Name: Number_of_Casualties, dtype: float64"
      ]
     },
     "execution_count": 28,
     "metadata": {},
     "output_type": "execute_result"
    }
   ],
   "source": [
    "avg_casualties_area = accident.groupby(\"Urban_or_Rural_Area\")[\"Number_of_Casualties\"].mean()\n",
    "avg_casualties_area"
   ]
  },
  {
   "cell_type": "markdown",
   "id": "26c9f856",
   "metadata": {},
   "source": [
    "<h4>Insights: Based on the data result above we can see that the average number of casualties in the rural area are higher than the urban area.</h4>"
   ]
  },
  {
   "cell_type": "markdown",
   "id": "526b2114",
   "metadata": {},
   "source": [
    "<h4>10.what is the average number of vehicles involved in accidents across different accident severity levels?</h4>"
   ]
  },
  {
   "cell_type": "code",
   "execution_count": 29,
   "id": "329520da",
   "metadata": {},
   "outputs": [
    {
     "data": {
      "text/plain": [
       "Accident_Severity\n",
       "Fatal      1.786976\n",
       "Serious    1.678327\n",
       "Slight     1.855864\n",
       "Name: Number_of_Vehicles, dtype: float64"
      ]
     },
     "execution_count": 29,
     "metadata": {},
     "output_type": "execute_result"
    }
   ],
   "source": [
    "vehicles_acc_severity = accident.groupby(\"Accident_Severity\")[\"Number_of_Vehicles\"].mean()\n",
    "vehicles_acc_severity"
   ]
  },
  {
   "cell_type": "code",
   "execution_count": 30,
   "id": "8c1ed43a",
   "metadata": {},
   "outputs": [
    {
     "data": {
      "image/png": "[encoded data removed]",
      "text/plain": [
       "<Figure size 800x500 with 1 Axes>"
      ]
     },
     "metadata": {},
     "output_type": "display_data"
    }
   ],
   "source": [
    "data = {\n",
    "    'Accident_Severity': ['Fatal', 'Serious', 'Slight'],\n",
    "    'Average_Vehicles': [1.769876, 1.673827, 1.855684]\n",
    "}\n",
    "\n",
    "df = pd.DataFrame(data)\n",
    "sns.set(style=\"whitegrid\")\n",
    "ax = df.plot(kind='bar', x='Accident_Severity', y='Average_Vehicles', legend=False, figsize=(8, 5), color='mediumseagreen')\n",
    "\n",
    "plt.title('Average Number of Vehicles Involved by Accident Severity', fontsize=14)\n",
    "plt.xlabel('Accident Severity')\n",
    "plt.ylabel('Average Number of Vehicles')\n",
    "plt.ylim(1.6, 1.9)\n",
    "\n",
    "positions = range(len(df))\n",
    "labels = df['Average_Vehicles'].round(2)\n",
    "x_coords = [p for p in positions]\n",
    "y_coords = df['Average_Vehicles'] + 0.01\n",
    "\n",
    "[plt.text(x, y, label, ha='center', fontsize=10) for x, y, label in zip(x_coords, y_coords, labels)]\n",
    "\n",
    "plt.tight_layout()\n",
    "plt.show()\n"
   ]
  },
  {
   "cell_type": "markdown",
   "id": "f750a5b7",
   "metadata": {},
   "source": [
    "<h4>Insights: Based on the given results, we can clearly see that Slight level of accident severity had the highest average of vehicles involved and second to it is Serious level severity, while Fatal level of severity had the lowest average.</h4>"
   ]
  },
  {
   "cell_type": "markdown",
   "id": "fbf93e82",
   "metadata": {},
   "source": [
    "<h4>11. Which accident severity level has the highest average number of casualties?</h4>"
   ]
  },
  {
   "cell_type": "code",
   "execution_count": 31,
   "id": "ce0af717",
   "metadata": {},
   "outputs": [
    {
     "data": {
      "text/plain": [
       "Accident_Severity\n",
       "Fatal      1.903129\n",
       "Serious    1.467280\n",
       "Slight     1.331402\n",
       "Name: Number_of_Casualties, dtype: float64"
      ]
     },
     "execution_count": 31,
     "metadata": {},
     "output_type": "execute_result"
    }
   ],
   "source": [
    "casualties_by_severity = accident.groupby(\"Accident_Severity\")[\"Number_of_Casualties\"].mean()\n",
    "casualties_by_severity"
   ]
  },
  {
   "cell_type": "markdown",
   "id": "89da48dc",
   "metadata": {},
   "source": [
    "<h4>Insights: According to the result, it shows that Fatal severity level had the highest average number of casualties.\n",
    "</h4>"
   ]
  },
  {
   "cell_type": "markdown",
   "id": "065605b8",
   "metadata": {},
   "source": [
    "<h4>12. What kind of light conditions has the most serious level of accident severity recorded?</h4>"
   ]
  },
  {
   "cell_type": "code",
   "execution_count": 32,
   "id": "3f442774",
   "metadata": {},
   "outputs": [
    {
     "data": {
      "text/html": [
       "<div>\n",
       "<style scoped>\n",
       "    .dataframe tbody tr th:only-of-type {\n",
       "        vertical-align: middle;\n",
       "    }\n",
       "\n",
       "    .dataframe tbody tr th {\n",
       "        vertical-align: top;\n",
       "    }\n",
       "\n",
       "    .dataframe thead th {\n",
       "        text-align: right;\n",
       "    }\n",
       "</style>\n",
       "<table border=\"1\" class=\"dataframe\">\n",
       "  <thead>\n",
       "    <tr style=\"text-align: right;\">\n",
       "      <th>Accident_Severity</th>\n",
       "      <th>Fatal</th>\n",
       "      <th>Serious</th>\n",
       "      <th>Slight</th>\n",
       "    </tr>\n",
       "    <tr>\n",
       "      <th>Light_Conditions</th>\n",
       "      <th></th>\n",
       "      <th></th>\n",
       "      <th></th>\n",
       "    </tr>\n",
       "  </thead>\n",
       "  <tbody>\n",
       "    <tr>\n",
       "      <th>Darkness - lighting unknown</th>\n",
       "      <td>68</td>\n",
       "      <td>794</td>\n",
       "      <td>5622</td>\n",
       "    </tr>\n",
       "    <tr>\n",
       "      <th>Darkness - lights lit</th>\n",
       "      <td>1860</td>\n",
       "      <td>19130</td>\n",
       "      <td>108345</td>\n",
       "    </tr>\n",
       "    <tr>\n",
       "      <th>Darkness - lights unlit</th>\n",
       "      <td>45</td>\n",
       "      <td>360</td>\n",
       "      <td>2138</td>\n",
       "    </tr>\n",
       "    <tr>\n",
       "      <th>Darkness - no lighting</th>\n",
       "      <td>1612</td>\n",
       "      <td>7174</td>\n",
       "      <td>28651</td>\n",
       "    </tr>\n",
       "    <tr>\n",
       "      <th>Daylight</th>\n",
       "      <td>5076</td>\n",
       "      <td>60759</td>\n",
       "      <td>419045</td>\n",
       "    </tr>\n",
       "  </tbody>\n",
       "</table>\n",
       "</div>"
      ],
      "text/plain": [
       "Accident_Severity            Fatal  Serious  Slight\n",
       "Light_Conditions                                   \n",
       "Darkness - lighting unknown     68      794    5622\n",
       "Darkness - lights lit         1860    19130  108345\n",
       "Darkness - lights unlit         45      360    2138\n",
       "Darkness - no lighting        1612     7174   28651\n",
       "Daylight                      5076    60759  419045"
      ]
     },
     "execution_count": 32,
     "metadata": {},
     "output_type": "execute_result"
    }
   ],
   "source": [
    "severity_light = accident.groupby([\"Light_Conditions\", \"Accident_Severity\"]).size().unstack()\n",
    "severity_light"
   ]
  },
  {
   "cell_type": "code",
   "execution_count": 33,
   "id": "2e01ef1a",
   "metadata": {},
   "outputs": [
    {
     "data": {
      "text/plain": [
       "Accident_Severity\n",
       "Fatal        8661\n",
       "Serious     88217\n",
       "Slight     563801\n",
       "dtype: int64"
      ]
     },
     "execution_count": 33,
     "metadata": {},
     "output_type": "execute_result"
    }
   ],
   "source": [
    "severity_light.sum()"
   ]
  },
  {
   "cell_type": "markdown",
   "id": "ac9271a0",
   "metadata": {},
   "source": [
    "<h4>Insights: According to the results it shows that Daylight had the most serious level of accident severity with a record of 60,759 which is about 10.87% in percentage .\n",
    "</h4>"
   ]
  },
  {
   "cell_type": "markdown",
   "id": "0b96d834",
   "metadata": {},
   "source": [
    "<h4>\n",
    "13. Which type of vehicle has the highest number of casualties?</h4>"
   ]
  },
  {
   "cell_type": "code",
   "execution_count": 34,
   "id": "22035116",
   "metadata": {},
   "outputs": [
    {
     "data": {
      "text/plain": [
       "Vehicle_Type\n",
       "Agricultural vehicle                       1947\n",
       "Bus or coach (17 or more pass seats)      25878\n",
       "Car                                      497992\n",
       "Data missing or out of range                  6\n",
       "Goods 7.5 tonnes mgw and over             17307\n",
       "Goods over 3.5t. and under 7.5t            6096\n",
       "Minibus (8 - 16 passenger seats)           1976\n",
       "Motorcycle 125cc and under                15269\n",
       "Motorcycle 50cc and under                  7603\n",
       "Motorcycle over 125cc and up to 500cc      7656\n",
       "Motorcycle over 500cc                     25657\n",
       "Other vehicle                              5637\n",
       "Pedal cycle                                 197\n",
       "Ridden horse                                  4\n",
       "Taxi/Private hire car                     13294\n",
       "Van / Goods 3.5 tonnes mgw or under       34160\n",
       "Name: Number_of_Casualties, dtype: int64"
      ]
     },
     "execution_count": 34,
     "metadata": {},
     "output_type": "execute_result"
    }
   ],
   "source": [
    "casualties_per_vehicle = accident.groupby(\"Vehicle_Type\")[\"Number_of_Casualties\"].size()\n",
    "casualties_per_vehicle"
   ]
  },
  {
   "cell_type": "markdown",
   "id": "dc0153ab",
   "metadata": {},
   "source": [
    "<h4>Insights: According to the given results we can see that the type of vehicle with the highest number of casualties is Car with a record of 497,992.\n",
    "</h4>\n"
   ]
  },
  {
   "cell_type": "markdown",
   "id": "45b818df",
   "metadata": {},
   "source": [
    "<h4>14. Is there a correlation between the number of vehicles and the number of casualties?</h4>"
   ]
  },
  {
   "cell_type": "code",
   "execution_count": 35,
   "id": "491ed751",
   "metadata": {},
   "outputs": [
    {
     "data": {
      "text/plain": [
       "np.float64(0.22888886126927557)"
      ]
     },
     "execution_count": 35,
     "metadata": {},
     "output_type": "execute_result"
    }
   ],
   "source": [
    "uk_accident_corr1 = accident[\"Number_of_Vehicles\"].corr(accident[\"Number_of_Casualties\"])\n",
    "uk_accident_corr1"
   ]
  },
  {
   "cell_type": "markdown",
   "id": "cf67183f",
   "metadata": {},
   "source": [
    "<h4>\n",
    "Insights: Based on the result it clearly shows that there are no correlation between the no. of vehicles and the no. of casualties.</h4>"
   ]
  },
  {
   "cell_type": "markdown",
   "id": "f174252d",
   "metadata": {},
   "source": [
    "<h4>15: Which district have the highest record of road accidents?\n",
    "</h4>"
   ]
  },
  {
   "cell_type": "code",
   "execution_count": 36,
   "id": "5cdd592f",
   "metadata": {},
   "outputs": [
    {
     "data": {
      "text/plain": [
       "District Area\n",
       "Birmingham            13491\n",
       "Leeds                  8898\n",
       "Manchester             6720\n",
       "Bradford               6212\n",
       "Sheffield              5710\n",
       "                      ...  \n",
       "Berwick-upon-Tweed      153\n",
       "Teesdale                142\n",
       "Shetland Islands        133\n",
       "Orkney Islands          117\n",
       "Clackmannanshire         91\n",
       "Name: count, Length: 422, dtype: int64"
      ]
     },
     "execution_count": 36,
     "metadata": {},
     "output_type": "execute_result"
    }
   ],
   "source": [
    "district_accident = accident['District Area'].value_counts()\n",
    "district_accident"
   ]
  },
  {
   "cell_type": "code",
   "execution_count": 37,
   "id": "e56b743f",
   "metadata": {},
   "outputs": [
    {
     "data": {
      "image/png": "[encoded data removed]",
      "text/plain": [
       "<Figure size 800x500 with 1 Axes>"
      ]
     },
     "metadata": {},
     "output_type": "display_data"
    }
   ],
   "source": [
    "district_accident = pd.Series({\n",
    "    \"Birmingham\": 13491,\n",
    "    \"Leeds\": 8839,\n",
    "    \"Manchester\": 6782,\n",
    "    \"Bradford\": 6212,\n",
    "    \"Sheffield\": 5716\n",
    "})\n",
    "\n",
    "\n",
    "plt.figure(figsize=(8,5))\n",
    "district_accident.plot(kind=\"bar\", color=\"salmon\", edgecolor=\"black\")\n",
    "plt.title(\"Top 5 Districts by Road Accidents\", fontsize=14)\n",
    "plt.ylabel(\"Number of Accidents\", fontsize=12)\n",
    "plt.xlabel(\"District Area\", fontsize=12)\n",
    "plt.xticks(rotation=30, ha=\"right\")\n",
    "plt.tight_layout()\n",
    "plt.show()\n",
    "\n"
   ]
  },
  {
   "cell_type": "markdown",
   "id": "2d5d1414",
   "metadata": {},
   "source": [
    "<h4>Insights: According to the result above the district with the highest record of road accident is the district of Bermingham with a result of 13,491 road accidents.</h4>"
   ]
  },
  {
   "cell_type": "markdown",
   "id": "271495f1",
   "metadata": {},
   "source": [
    "<h4>16. Are accidents more fatal in rural or urban areas?</h4>"
   ]
  },
  {
   "cell_type": "code",
   "execution_count": 38,
   "id": "47953e63",
   "metadata": {},
   "outputs": [
    {
     "data": {
      "text/html": [
       "<div>\n",
       "<style scoped>\n",
       "    .dataframe tbody tr th:only-of-type {\n",
       "        vertical-align: middle;\n",
       "    }\n",
       "\n",
       "    .dataframe tbody tr th {\n",
       "        vertical-align: top;\n",
       "    }\n",
       "\n",
       "    .dataframe thead th {\n",
       "        text-align: right;\n",
       "    }\n",
       "</style>\n",
       "<table border=\"1\" class=\"dataframe\">\n",
       "  <thead>\n",
       "    <tr style=\"text-align: right;\">\n",
       "      <th>Accident_Severity</th>\n",
       "      <th>Fatal</th>\n",
       "      <th>Serious</th>\n",
       "      <th>Slight</th>\n",
       "    </tr>\n",
       "    <tr>\n",
       "      <th>Urban_or_Rural_Area</th>\n",
       "      <th></th>\n",
       "      <th></th>\n",
       "      <th></th>\n",
       "    </tr>\n",
       "  </thead>\n",
       "  <tbody>\n",
       "    <tr>\n",
       "      <th>Rural</th>\n",
       "      <td>5601.0</td>\n",
       "      <td>37312.0</td>\n",
       "      <td>196077.0</td>\n",
       "    </tr>\n",
       "    <tr>\n",
       "      <th>Unallocated</th>\n",
       "      <td>NaN</td>\n",
       "      <td>1.0</td>\n",
       "      <td>10.0</td>\n",
       "    </tr>\n",
       "    <tr>\n",
       "      <th>Urban</th>\n",
       "      <td>3060.0</td>\n",
       "      <td>50904.0</td>\n",
       "      <td>367714.0</td>\n",
       "    </tr>\n",
       "  </tbody>\n",
       "</table>\n",
       "</div>"
      ],
      "text/plain": [
       "Accident_Severity     Fatal  Serious    Slight\n",
       "Urban_or_Rural_Area                           \n",
       "Rural                5601.0  37312.0  196077.0\n",
       "Unallocated             NaN      1.0      10.0\n",
       "Urban                3060.0  50904.0  367714.0"
      ]
     },
     "execution_count": 38,
     "metadata": {},
     "output_type": "execute_result"
    }
   ],
   "source": [
    "severity_area = accident.groupby([\"Urban_or_Rural_Area\", \"Accident_Severity\"]).size().unstack()\n",
    "severity_area"
   ]
  },
  {
   "cell_type": "markdown",
   "id": "a5f8d44b",
   "metadata": {},
   "source": [
    "<h4>Insights: According to the given results we can clearly see that accidents are more fatal in Rural Areas than Urban Areas.</h4>"
   ]
  },
  {
   "cell_type": "markdown",
   "id": "13797ce2",
   "metadata": {},
   "source": [
    "<h3>17. How many accidents are there under each severity?</h3>"
   ]
  },
  {
   "cell_type": "code",
   "execution_count": 39,
   "id": "2dfeec4b",
   "metadata": {},
   "outputs": [
    {
     "data": {
      "text/plain": [
       "Accident_Severity\n",
       "Slight     563801\n",
       "Serious     88217\n",
       "Fatal        8661\n",
       "Name: count, dtype: int64"
      ]
     },
     "execution_count": 39,
     "metadata": {},
     "output_type": "execute_result"
    }
   ],
   "source": [
    "accident['Accident_Severity'].value_counts()"
   ]
  },
  {
   "cell_type": "markdown",
   "id": "704ba2f1",
   "metadata": {},
   "source": [
    "<h4>Insight: This shows the distribution of accident severity (Slight, Serious, Fatal) and helps identify which type is most common.</h4>"
   ]
  },
  {
   "cell_type": "markdown",
   "id": "694bf8eb",
   "metadata": {},
   "source": [
    "<h3>18. Which district area had the most accident reports?</h3>"
   ]
  },
  {
   "cell_type": "code",
   "execution_count": 40,
   "id": "21f8b655",
   "metadata": {},
   "outputs": [
    {
     "data": {
      "text/plain": [
       "District Area\n",
       "Birmingham            13491\n",
       "Leeds                  8898\n",
       "Manchester             6720\n",
       "Bradford               6212\n",
       "Sheffield              5710\n",
       "                      ...  \n",
       "Berwick-upon-Tweed      153\n",
       "Teesdale                142\n",
       "Shetland Islands        133\n",
       "Orkney Islands          117\n",
       "Clackmannanshire         91\n",
       "Name: count, Length: 422, dtype: int64"
      ]
     },
     "execution_count": 40,
     "metadata": {},
     "output_type": "execute_result"
    }
   ],
   "source": [
    "accident['District Area'].value_counts()"
   ]
  },
  {
   "cell_type": "markdown",
   "id": "4aaf316a",
   "metadata": {},
   "source": [
    "<h4>Insight: Reveals the district with the highest accident frequency, highlighting regional risk hotspots.</h4>"
   ]
  },
  {
   "cell_type": "markdown",
   "id": "0173b9a4",
   "metadata": {},
   "source": [
    "<h3>19. What is the average number of casualties for serious accident severity?</h3>"
   ]
  },
  {
   "cell_type": "code",
   "execution_count": 41,
   "id": "c17f9cd1",
   "metadata": {},
   "outputs": [
    {
     "data": {
      "text/plain": [
       "np.float64(1.46727954929322)"
      ]
     },
     "execution_count": 41,
     "metadata": {},
     "output_type": "execute_result"
    }
   ],
   "source": [
    "accident[accident['Accident_Severity'] == 'Serious']['Number_of_Casualties'].mean()"
   ]
  },
  {
   "cell_type": "markdown",
   "id": "92747983",
   "metadata": {},
   "source": [
    "<h4>Insight: Indicates how many people are typically affected in serious accidents, useful for resource planning.</h4>"
   ]
  },
  {
   "cell_type": "markdown",
   "id": "84216435",
   "metadata": {},
   "source": [
    "<h3>20. Where are road accidents higher, in urban or rural areas?</h3>"
   ]
  },
  {
   "cell_type": "code",
   "execution_count": 42,
   "id": "eec651dd",
   "metadata": {},
   "outputs": [
    {
     "data": {
      "text/plain": [
       "Urban_or_Rural_Area\n",
       "Urban          421678\n",
       "Rural          238990\n",
       "Unallocated        11\n",
       "Name: count, dtype: int64"
      ]
     },
     "execution_count": 42,
     "metadata": {},
     "output_type": "execute_result"
    }
   ],
   "source": [
    "accident['Urban_or_Rural_Area'].value_counts()"
   ]
  },
  {
   "cell_type": "markdown",
   "id": "0161d8aa",
   "metadata": {},
   "source": [
    "<h4>Insight: Compares accident counts between urban and rural settings, showing where interventions may be most needed.</h4>"
   ]
  },
  {
   "cell_type": "markdown",
   "id": "896a0f6e",
   "metadata": {},
   "source": [
    "<h3>21How many slight accidents occurred on frost/ice compared to snow?</h3>"
   ]
  },
  {
   "cell_type": "code",
   "execution_count": 43,
   "id": "4a72e8fc",
   "metadata": {},
   "outputs": [
    {
     "data": {
      "text/plain": [
       "Road_Surface_Conditions  Accident_Severity\n",
       "Frost or ice             Slight               16317\n",
       "Snow                     Slight                5290\n",
       "dtype: int64"
      ]
     },
     "execution_count": 43,
     "metadata": {},
     "output_type": "execute_result"
    }
   ],
   "source": [
    "accident.groupby(['Road_Surface_Conditions','Accident_Severity']).size().loc[['Frost or ice','Snow'],'Slight']"
   ]
  },
  {
   "cell_type": "markdown",
   "id": "d9489c44",
   "metadata": {},
   "source": [
    "<h4>Insight: Assesses the impact of different hazardous road conditions on accident frequency.</h4>"
   ]
  },
  {
   "cell_type": "markdown",
   "id": "097d89db",
   "metadata": {},
   "source": [
    "<h3>22 What is the specific date that recorded the most number of road accidents?</h3>"
   ]
  },
  {
   "cell_type": "code",
   "execution_count": 44,
   "id": "a5ba96dc",
   "metadata": {},
   "outputs": [
    {
     "data": {
      "text/plain": [
       "Accident Date\n",
       "2021-02-11    685\n",
       "Name: count, dtype: int64"
      ]
     },
     "execution_count": 44,
     "metadata": {},
     "output_type": "execute_result"
    }
   ],
   "source": [
    "accident['Accident Date'].value_counts().head(1)"
   ]
  },
  {
   "cell_type": "markdown",
   "id": "0c064cfa",
   "metadata": {},
   "source": [
    "<h4>Insight: Identifies peak accident dates, which may correlate with events, weather, or holidays.</h4>"
   ]
  },
  {
   "cell_type": "markdown",
   "id": "5fb39c67",
   "metadata": {},
   "source": [
    "<h3>23 What is the most common weather condition during accidents?</h3>"
   ]
  },
  {
   "cell_type": "code",
   "execution_count": 45,
   "id": "ad5c9667",
   "metadata": {},
   "outputs": [
    {
     "data": {
      "text/plain": [
       "Weather_Conditions\n",
       "Fine no high winds    535013\n",
       "Name: count, dtype: int64"
      ]
     },
     "execution_count": 45,
     "metadata": {},
     "output_type": "execute_result"
    }
   ],
   "source": [
    "accident['Weather_Conditions'].value_counts().head(1)"
   ]
  },
  {
   "cell_type": "code",
   "execution_count": 46,
   "id": "bd557f73",
   "metadata": {},
   "outputs": [
    {
     "data": {
      "image/png": "[encoded data removed]",
      "text/plain": [
       "<Figure size 800x500 with 1 Axes>"
      ]
     },
     "metadata": {},
     "output_type": "display_data"
    }
   ],
   "source": [
    "import pandas as pd\n",
    "import matplotlib.pyplot as plt\n",
    "\n",
    "\n",
    "weather_counts = pd.Series({\n",
    "    \"Fine no high winds\": 535013,\n",
    "    \"Raining no high winds\": 120456,\n",
    "    \"Fine + high winds\": 85432,\n",
    "    \"Snowing no high winds\": 45987,\n",
    "    \"Fog or mist\": 32145\n",
    "})\n",
    "\n",
    "plt.figure(figsize=(8,5))\n",
    "weather_counts.sort_values(ascending=False).plot(kind=\"bar\", color=\"skyblue\", edgecolor=\"black\")\n",
    "plt.title(\"Top 5 Weather Conditions During Accidents\", fontsize=14)\n",
    "plt.ylabel(\"Number of Accidents\", fontsize=12)\n",
    "plt.xlabel(\"Weather Condition\", fontsize=12)\n",
    "plt.xticks(rotation=30, ha=\"right\")\n",
    "plt.tight_layout()\n",
    "plt.show()\n"
   ]
  },
  {
   "cell_type": "markdown",
   "id": "57b7d27c",
   "metadata": {},
   "source": [
    "<h4>Insight: Shows which weather conditions are most associated with accidents, guiding prevention strategies.</h4>"
   ]
  },
  {
   "cell_type": "markdown",
   "id": "c2656839",
   "metadata": {},
   "source": [
    "<h3>24 What is the most common road surface condition during accidents?</h3>"
   ]
  },
  {
   "cell_type": "code",
   "execution_count": 47,
   "id": "2c5dfa33",
   "metadata": {},
   "outputs": [
    {
     "data": {
      "text/plain": [
       "Road_Surface_Conditions\n",
       "Dry    448547\n",
       "Name: count, dtype: int64"
      ]
     },
     "execution_count": 47,
     "metadata": {},
     "output_type": "execute_result"
    }
   ],
   "source": [
    "accident['Road_Surface_Conditions'].value_counts().head(1)"
   ]
  },
  {
   "cell_type": "markdown",
   "id": "b182fba8",
   "metadata": {},
   "source": [
    "<h4>Insight: Highlights the road surface most frequently present during accidents, useful for infrastructure improvements.</h4>"
   ]
  },
  {
   "cell_type": "markdown",
   "id": "3875131b",
   "metadata": {},
   "source": [
    "<h3>25 What kind of light conditions have the most serious level of accident severity recorded?</h3>"
   ]
  },
  {
   "cell_type": "code",
   "execution_count": 48,
   "id": "f4367ff6",
   "metadata": {},
   "outputs": [
    {
     "data": {
      "text/plain": [
       "Light_Conditions\n",
       "Daylight    60759\n",
       "Name: count, dtype: int64"
      ]
     },
     "execution_count": 48,
     "metadata": {},
     "output_type": "execute_result"
    }
   ],
   "source": [
    "accident[accident['Accident_Severity']=='Serious']['Light_Conditions'].value_counts().head(1)"
   ]
  },
  {
   "cell_type": "markdown",
   "id": "2773abd2",
   "metadata": {},
   "source": [
    "<h4>Insight: Reveals if daylight, darkness, or other lighting conditions are linked to more severe accidents.</h4>"
   ]
  },
  {
   "cell_type": "code",
   "execution_count": 49,
   "id": "171d0923",
   "metadata": {},
   "outputs": [
    {
     "data": {
      "text/plain": [
       "array(['Kensington and Chelsea', 'Westminster', 'Richmond upon Thames',\n",
       "       'Hammersmith and Fulham', 'Hounslow', 'Tower Hamlets',\n",
       "       'City of London', 'Southwark', 'Camden', 'Hackney', 'Islington',\n",
       "       'Barnet', 'Brent', 'Haringey', 'Merton', 'Ealing', 'Enfield',\n",
       "       'Greenwich', 'Newham', 'London Airport (Heathrow)', 'Hillingdon',\n",
       "       'Waltham Forest', 'Redbridge', 'Barking and Dagenham', 'Bromley',\n",
       "       'Havering', 'Croydon', 'Lambeth', 'Wandsworth', 'Sutton', 'Bexley',\n",
       "       'Lewisham', 'Harrow', 'Kingston upon Thames', 'Barrow-in-Furness',\n",
       "       'South Lakeland', 'Carlisle', 'Eden', 'Allerdale', 'Copeland',\n",
       "       'Fylde', 'Blackpool', 'Wyre', 'Lancaster', 'Chorley',\n",
       "       'West Lancashire', 'South Ribble', 'Preston',\n",
       "       'Blackburn with Darwen', 'Hyndburn', 'Ribble Valley', 'Burnley',\n",
       "       'Pendle', 'Rossendale', 'Wirral', 'Liverpool', 'Sefton',\n",
       "       'Knowsley', 'St. Helens', 'Manchester', 'Salford', 'Tameside',\n",
       "       'Stockport', 'Bolton', 'Wigan', 'Trafford', 'Bury', 'Rochdale',\n",
       "       'Oldham', 'Chester', 'Vale Royal', 'Halton', 'Warrington',\n",
       "       'Crewe and ntwich', 'Ellesmere Port and Neston', 'Congleton',\n",
       "       'Macclesfield', 'Crewe and Nantwich', 'Blyth Valley', 'Sunderland',\n",
       "       'Gateshead', 'North Tyneside', 'Tynedale', 'Berwick-upon-Tweed',\n",
       "       'Newcastle upon Tyne', 'Castle Morpeth', 'South Tyneside',\n",
       "       'Wansbeck', 'Alnwick', 'Wear Valley', 'Sedgefield', 'Durham',\n",
       "       'Easington', 'Chester-le-Street', 'Derwentside', 'Teesdale',\n",
       "       'Darlington', 'Craven', 'Hambleton', 'Richmondshire', 'York',\n",
       "       'Harrogate', 'Selby', 'Scarborough', 'Ryedale', 'Kirklees',\n",
       "       'Leeds', 'Wakefield', 'Bradford', 'Calderdale', 'Doncaster',\n",
       "       'Barnsley', 'Sheffield', 'Rotherham', 'North East Lincolnshire',\n",
       "       'North Lincolnshire', 'East Riding of Yorkshire',\n",
       "       'Kingston upon Hull, City of', 'Redcar and Cleveland',\n",
       "       'Hartlepool', 'Middlesbrough', 'Stockton-on-Tees', 'Birmingham',\n",
       "       'Wolverhampton', 'Walsall', 'Dudley', 'Sandwell', 'Solihull',\n",
       "       'Coventry', 'Newcastle-under-Lyme', 'Stafford',\n",
       "       'East Staffordshire', 'South Staffordshire', 'Lichfield',\n",
       "       'Stoke-on-Trent', 'Cannock Chase', 'Tamworth',\n",
       "       'Staffordshire Moorlands', 'Malvern Hills', 'Worcester',\n",
       "       'Wychavon', 'Wyre Forest', 'Redditch', 'Bromsgrove',\n",
       "       'Herefordshire, County of', 'Telford and Wrekin',\n",
       "       'South Shropshire', 'Bridgnorth', 'Shrewsbury and Atcham',\n",
       "       'North Shropshire', 'Oswestry', 'Warwick', 'Stratford-upon-Avon',\n",
       "       'Rugby', 'North Warwickshire', 'Nuneaton and Bedworth',\n",
       "       'Amber Valley', 'Erewash', 'Bolsover', 'High Peak',\n",
       "       'Derbyshire Dales', 'North East Derbyshire', 'Chesterfield',\n",
       "       'Derby', 'South Derbyshire', 'Ashfield', 'Mansfield',\n",
       "       'Newark and Sherwood', 'Bassetlaw', 'Gedling', 'Rushcliffe',\n",
       "       'Nottingham', 'Broxtowe', 'South Holland', 'South Kesteven',\n",
       "       'North Kesteven', 'East Lindsey', 'Boston', 'West Lindsey',\n",
       "       'Lincoln', 'Hinckley and Bosworth', 'Harborough', 'Leicester',\n",
       "       'Rutland', 'Charnwood', 'Melton', 'North West Leicestershire',\n",
       "       'Blaby', 'Oadby and Wigston', 'South Northamptonshire',\n",
       "       'Northampton', 'Kettering', 'Corby', 'Daventry',\n",
       "       'East Northamptonshire', 'Wellingborough', 'South Cambridgeshire',\n",
       "       'Fenland', 'Huntingdonshire', 'Peterborough',\n",
       "       'East Cambridgeshire', 'Cambridge', \"King's Lynn and West Norfolk\",\n",
       "       'Norwich', 'Breckland', 'South Norfolk', 'Broadland',\n",
       "       'Great Yarmouth', 'North Norfolk', 'St. Edmundsbury', 'Babergh',\n",
       "       'Mid Suffolk', 'Forest Heath', 'Suffolk Coastal', 'Ipswich',\n",
       "       'Waveney', 'Luton', 'Mid Bedfordshire', 'Bedford',\n",
       "       'South Bedfordshire', 'East Hertfordshire', 'North Hertfordshire',\n",
       "       'Welwyn Hatfield', 'St. Albans', 'Hertsmere', 'Three Rivers',\n",
       "       'Watford', 'Dacorum', 'Broxbourne', 'Stevege', 'Stevenage',\n",
       "       'Epping Forest', 'Brentwood', 'Castle Point', 'Uttlesford',\n",
       "       'Chelmsford', 'Basildon', 'Tendring', 'Colchester', 'Thurrock',\n",
       "       'Braintree', 'Rochford', 'Maldon', 'Southend-on-Sea', 'Harlow',\n",
       "       'Aylesbury Vale', 'Wycombe', 'South Bucks', 'Chiltern', 'Slough',\n",
       "       'Windsor and Maidenhead', 'South Oxfordshire', 'Milton Keynes',\n",
       "       'Cherwell', 'Vale of White Horse', 'West Oxfordshire', 'Oxford',\n",
       "       'Reading', 'West Berkshire', 'Wokingham', 'Bracknell Forest',\n",
       "       'Eastleigh', 'Test Valley', 'Portsmouth', 'Winchester',\n",
       "       'Basingstoke and Deane', 'Southampton', 'Fareham', 'Hart',\n",
       "       'Gosport', 'Havant', 'Isle of Wight', 'East Hampshire', 'Rushmoor',\n",
       "       'New Forest', 'Elmbridge', 'Mole Valley', 'Guildford',\n",
       "       'Spelthorne', 'Epsom and Ewell', 'Runnymede', 'Woking',\n",
       "       'Reigate and Banstead', 'Surrey Heath', 'Waverley', 'Tandridge',\n",
       "       'Medway', 'Thanet', 'Shepway', 'Ashford', 'Maidstone', 'Dover',\n",
       "       'Tunbridge Wells', 'Canterbury', 'Tonbridge and Malling', 'Swale',\n",
       "       'Dartford', 'Sevenoaks', 'Gravesham', 'Brighton and Hove',\n",
       "       'Chichester', 'Rother', 'Lewes', 'Wealden', 'Eastbourne',\n",
       "       'Hastings', 'Crawley', 'Horsham', 'Mid Sussex', 'Arun', 'Adur',\n",
       "       'Worthing', 'Kerrier', 'Restormel', 'Carrick', 'Penwith',\n",
       "       'North Cornwall', 'West Devon', 'Torridge', 'Caradon',\n",
       "       'North Devon', 'Mid Devon', 'Exeter', 'East Devon', 'Teignbridge',\n",
       "       'Plymouth', 'South Hams', 'Torbay', 'Bristol, City of',\n",
       "       'South Somerset', 'Sedgemoor', 'Mendip', 'Taunton Deane',\n",
       "       'South Gloucestershire', 'North Somerset',\n",
       "       'Bath and North East Somerset', 'West Somerset', 'Stroud',\n",
       "       'Tewkesbury', 'Gloucester', 'Cotswold', 'Cheltenham',\n",
       "       'Forest of Dean', 'Salisbury', 'Kennet', 'West Wiltshire',\n",
       "       'North Wiltshire', 'Swindon', 'Bournemouth', 'Poole',\n",
       "       'East Dorset', 'West Dorset', 'Weymouth and Portland',\n",
       "       'Christchurch', 'Purbeck', 'North Dorset', 'Isle of Anglesey',\n",
       "       'Conwy', 'Denbighshire', 'Flintshire', 'Wrexham', 'Gwynedd',\n",
       "       'Monmouthshire', 'Newport', 'Caerphilly', 'Torfaen', 'Blaeu Gwent',\n",
       "       'Blaenau Gwent', 'Merthyr Tydfil', 'The Vale of Glamorgan',\n",
       "       'Cardiff', 'Rhondda, Cynon, Taff', 'Swansea', 'Bridgend',\n",
       "       'Neath Port Talbot', 'Carmarthenshire', 'Ceredigion',\n",
       "       'Pembrokeshire', 'Powys', 'Highland', 'Western Isles',\n",
       "       'Orkney Islands', 'Shetland Islands', 'Aberdeenshire', 'Moray',\n",
       "       'Aberdeen City', 'Dundee City', 'Angus', 'Perth and Kinross',\n",
       "       'Fife', 'East Lothian', 'Midlothian', 'Scottish Borders',\n",
       "       'Edinburgh, City of', 'West Lothian', 'Falkirk',\n",
       "       'Clackmannanshire', 'Stirling', 'Clackmannshire', 'Glasgow City',\n",
       "       'East Dunbartonshire', 'North Larkshire', 'North Lanarkshire',\n",
       "       'Renfrewshire', 'East Renfrewshire', 'East Ayrshire',\n",
       "       'South Larkshire', 'Inverclyde', 'West Dunbartonshire',\n",
       "       'Argyll and Bute', 'South Lanarkshire', 'North Ayrshire',\n",
       "       'South Ayrshire', 'Dumfries and Galloway', 'Cheshire East',\n",
       "       'Cheshire West and Chester', 'Northumberland', 'County Durham',\n",
       "       'Shropshire', 'Central Bedfordshire', 'Cornwall', 'Wiltshire'],\n",
       "      dtype=object)"
      ]
     },
     "execution_count": 49,
     "metadata": {},
     "output_type": "execute_result"
    }
   ],
   "source": [
    "accident['District Area'].unique()"
   ]
  },
  {
   "cell_type": "code",
   "execution_count": 50,
   "id": "9d0c8a6e",
   "metadata": {},
   "outputs": [],
   "source": [
    "redbridge_data = accident[accident['District Area'] == 'Redbridge']\n",
    "\n",
    "Doncaster_data = accident[accident['District Area'] == 'Doncaster']\n",
    "\n",
    "York_data = accident[accident['District Area'] == 'York']\n",
    "\n",
    "Sunderland_data = accident[accident['District Area'] == 'Sunderland']\n",
    "\n",
    "Congleton_data = accident[accident['District Area'] == 'Congleton']\n",
    "\n",
    "Sedgefield_data = accident[accident['District Area'] == 'Sedgefield']"
   ]
  },
  {
   "cell_type": "code",
   "execution_count": 51,
   "id": "01e4fdc5",
   "metadata": {},
   "outputs": [
    {
     "data": {
      "text/html": [
       "<div style=\"width:100%;\"><div style=\"position:relative;width:100%;height:0;padding-bottom:60%;\"><span style=\"color:#565656\">Make this Notebook Trusted to load map: File -> Trust Notebook</span><iframe srcdoc=\"&lt;!DOCTYPE html&gt;\n",
       "&lt;html&gt;\n",
       "&lt;head&gt;\n",
       "    \n",
       "    &lt;meta http-equiv=&quot;content-type&quot; content=&quot;text/html; charset=UTF-8&quot; /&gt;\n",
       "    &lt;script src=&quot;https://cdn.jsdelivr.net/npm/leaflet@1.9.3/dist/leaflet.js&quot;&gt;&lt;/script&gt;\n",
       "    &lt;script src=&quot;https://code.jquery.com/jquery-3.7.1.min.js&quot;&gt;&lt;/script&gt;\n",
       "    &lt;script src=&quot;https://cdn.jsdelivr.net/npm/bootstrap@5.2.2/dist/js/bootstrap.bundle.min.js&quot;&gt;&lt;/script&gt;\n",
       "    &lt;script src=&quot;https://cdnjs.cloudflare.com/ajax/libs/Leaflet.awesome-markers/2.0.2/leaflet.awesome-markers.js&quot;&gt;&lt;/script&gt;\n",
       "    &lt;link rel=&quot;stylesheet&quot; href=&quot;https://cdn.jsdelivr.net/npm/leaflet@1.9.3/dist/leaflet.css&quot;/&gt;\n",
       "    &lt;link rel=&quot;stylesheet&quot; href=&quot;https://cdn.jsdelivr.net/npm/bootstrap@5.2.2/dist/css/bootstrap.min.css&quot;/&gt;\n",
       "    &lt;link rel=&quot;stylesheet&quot; href=&quot;https://netdna.bootstrapcdn.com/bootstrap/3.0.0/css/bootstrap-glyphicons.css&quot;/&gt;\n",
       "    &lt;link rel=&quot;stylesheet&quot; href=&quot;https://cdn.jsdelivr.net/npm/@fortawesome/fontawesome-free@6.2.0/css/all.min.css&quot;/&gt;\n",
       "    &lt;link rel=&quot;stylesheet&quot; href=&quot;https://cdnjs.cloudflare.com/ajax/libs/Leaflet.awesome-markers/2.0.2/leaflet.awesome-markers.css&quot;/&gt;\n",
       "    &lt;link rel=&quot;stylesheet&quot; href=&quot;https://cdn.jsdelivr.net/gh/python-visualization/folium/folium/templates/leaflet.awesome.rotate.min.css&quot;/&gt;\n",
       "    \n",
       "            &lt;meta name=&quot;viewport&quot; content=&quot;width=device-width,\n",
       "                initial-scale=1.0, maximum-scale=1.0, user-scalable=no&quot; /&gt;\n",
       "            &lt;style&gt;\n",
       "                #map_2dfd42e5d587d76ebf5eea6e33b73279 {\n",
       "                    position: relative;\n",
       "                    width: 100.0%;\n",
       "                    height: 100.0%;\n",
       "                    left: 0.0%;\n",
       "                    top: 0.0%;\n",
       "                }\n",
       "                .leaflet-container { font-size: 1rem; }\n",
       "            &lt;/style&gt;\n",
       "\n",
       "            &lt;style&gt;html, body {\n",
       "                width: 100%;\n",
       "                height: 100%;\n",
       "                margin: 0;\n",
       "                padding: 0;\n",
       "            }\n",
       "            &lt;/style&gt;\n",
       "\n",
       "            &lt;style&gt;#map {\n",
       "                position:absolute;\n",
       "                top:0;\n",
       "                bottom:0;\n",
       "                right:0;\n",
       "                left:0;\n",
       "                }\n",
       "            &lt;/style&gt;\n",
       "\n",
       "            &lt;script&gt;\n",
       "                L_NO_TOUCH = false;\n",
       "                L_DISABLE_3D = false;\n",
       "            &lt;/script&gt;\n",
       "\n",
       "        \n",
       "    &lt;script src=&quot;https://cdn.jsdelivr.net/gh/python-visualization/folium@main/folium/templates/leaflet_heat.min.js&quot;&gt;&lt;/script&gt;\n",
       "&lt;/head&gt;\n",
       "&lt;body&gt;\n",
       "    \n",
       "    \n",
       "            &lt;div class=&quot;folium-map&quot; id=&quot;map_2dfd42e5d587d76ebf5eea6e33b73279&quot; &gt;&lt;/div&gt;\n",
       "        \n",
       "&lt;/body&gt;\n",
       "&lt;script&gt;\n",
       "    \n",
       "    \n",
       "            var map_2dfd42e5d587d76ebf5eea6e33b73279 = L.map(\n",
       "                &quot;map_2dfd42e5d587d76ebf5eea6e33b73279&quot;,\n",
       "                {\n",
       "                    center: [51.577014623588944, 0.06854307629427793],\n",
       "                    crs: L.CRS.EPSG3857,\n",
       "                    ...{\n",
       "  &quot;zoom&quot;: 12,\n",
       "  &quot;zoomControl&quot;: true,\n",
       "  &quot;preferCanvas&quot;: false,\n",
       "}\n",
       "\n",
       "                }\n",
       "            );\n",
       "\n",
       "            \n",
       "\n",
       "        \n",
       "    \n",
       "            var tile_layer_49015e37d82f347ef4cf491e2eeac6ca = L.tileLayer(\n",
       "                &quot;https://tile.openstreetmap.org/{z}/{x}/{y}.png&quot;,\n",
       "                {\n",
       "  &quot;minZoom&quot;: 0,\n",
       "  &quot;maxZoom&quot;: 19,\n",
       "  &quot;maxNativeZoom&quot;: 19,\n",
       "  &quot;noWrap&quot;: false,\n",
       "  &quot;attribution&quot;: &quot;\\u0026copy; \\u003ca href=\\&quot;https://www.openstreetmap.org/copyright\\&quot;\\u003eOpenStreetMap\\u003c/a\\u003e contributors&quot;,\n",
       "  &quot;subdomains&quot;: &quot;abc&quot;,\n",
       "  &quot;detectRetina&quot;: false,\n",
       "  &quot;tms&quot;: false,\n",
       "  &quot;opacity&quot;: 1,\n",
       "}\n",
       "\n",
       "            );\n",
       "        \n",
       "    \n",
       "            tile_layer_49015e37d82f347ef4cf491e2eeac6ca.addTo(map_2dfd42e5d587d76ebf5eea6e33b73279);\n",
       "        \n",
       "    \n",
       "            var heat_map_b4031a87f56d62d3f1dd7fa7f00baa4a = L.heatLayer(\n",
       "                [[51.594971, 0.016469, 1.0], [51.618735, 0.025612, 1.0], [51.60732, 0.020049, 1.0], [51.575589, 0.045197, 1.0], [51.56434, 0.024924, 1.0], [51.600502, 0.013826, 1.0], [51.571983, 0.01978, 1.0], [51.57517, 0.017468, 2.0], [51.572597, 0.020673, 1.0], [51.616039, 0.025492, 1.0], [51.595129, 0.017775, 1.0], [51.564068, 0.025057, 1.0], [51.581593, 0.066974, 1.0], [51.567187, 0.113361, 1.0], [51.585627, 0.026448, 2.0], [51.562105, 0.075612, 1.0], [51.566011, 0.083582, 1.0], [51.576872, 0.043811, 1.0], [51.5738, 0.085526, 1.0], [51.557269, 0.064284, 1.0], [51.564052, 0.097633, 1.0], [51.602292, 0.086398, 1.0], [51.551251, 0.074108, 1.0], [51.604151, 0.047202, 2.0], [51.576095, 0.052292, 1.0], [51.564142, 0.097637, 1.0], [51.574768, 0.066375, 1.0], [51.583137, 0.076282, 1.0], [51.555317, 0.108339, 1.0], [51.566106, 0.083298, 1.0], [51.580335, 0.041224, 1.0], [51.559549, 0.092953, 1.0], [51.604611, 0.041446, 1.0], [51.576495, 0.060248, 1.0], [51.577695, 0.114138, 1.0], [51.584863, 0.054852, 1.0], [51.59478, 0.02238, 1.0], [51.618448, 0.02661, 1.0], [51.570635, 0.111645, 1.0], [51.560265, 0.062688, 1.0], [51.558156, 0.070094, 1.0], [51.60221, 0.085961, 2.0], [51.560588, 0.080016, 1.0], [51.591404, 0.045907, 1.0], [51.574891, 0.089905, 1.0], [51.587915, 0.080686, 1.0], [51.54608, 0.076614, 1.0], [51.603624, 0.09238, 1.0], [51.593552, 0.036186, 1.0], [51.584548, 0.04199, 1.0], [51.576092, 0.052436, 1.0], [51.568343, 0.119043, 1.0], [51.60883, 0.021127, 2.0], [51.576488, 0.065732, 1.0], [51.57322, 0.046967, 1.0], [51.626425, 0.02292, 2.0], [51.578199, 0.121089, 1.0], [51.553792, 0.072781, 1.0], [51.607322, 0.019904, 1.0], [51.581309, 0.077931, 1.0], [51.554886, 0.071966, 1.0], [51.598417, 0.10196, 1.0], [51.573692, 0.08148, 1.0], [51.5633, 0.094424, 1.0], [51.593275, 0.036607, 1.0], [51.566579, 0.05648, 1.0], [51.591902, 0.027594, 1.0], [51.60346, 0.091506, 1.0], [51.576211, 0.066152, 1.0], [51.59266, 0.02012, 1.0], [51.555131, 0.083517, 2.0], [51.565448, 0.105056, 1.0], [51.572575, 0.083594, 1.0], [51.5678, 0.094198, 2.0], [51.550255, 0.089641, 1.0], [51.574786, 0.044872, 1.0], [51.574947, 0.061332, 1.0], [51.601848, 0.019228, 2.0], [51.62315, 0.030287, 1.0], [51.563007, 0.100759, 1.0], [51.576077, 0.027467, 1.0], [51.562476, 0.033931, 1.0], [51.562673, 0.079101, 1.0], [51.562783, 0.098152, 1.0], [51.55329, 0.080837, 1.0], [51.582609, 0.039738, 1.0], [51.562782, 0.108251, 1.0], [51.594595, 0.084313, 1.0], [51.575412, 0.045045, 1.0], [51.564068, 0.025057, 1.0], [51.555352, 0.065928, 1.0], [51.582324, 0.035395, 1.0], [51.582324, 0.066285, 1.0], [51.605637, 0.01853, 1.0], [51.590457, 0.03316, 1.0], [51.584868, 0.064813, 1.0], [51.564632, 0.100401, 1.0], [51.604853, 0.048245, 1.0], [51.576714, 0.113659, 1.0], [51.562984, 0.112012, 1.0], [51.565621, 0.110403, 1.0], [51.571665, 0.048484, 1.0], [51.558066, 0.07009, 1.0], [51.575191, 0.052539, 1.0], [51.572124, 0.047928, 1.0], [51.585097, 0.020651, 1.0], [51.605678, 0.031818, 2.0], [51.579749, 0.054188, 2.0], [51.58384, 0.07718, 1.0], [51.565569, 0.09323, 1.0], [51.5667, 0.110453, 1.0], [51.595061, 0.04766, 1.0], [51.576488, 0.065732, 1.0], [51.566964, 0.110754, 1.0], [51.562832, 0.075213, 1.0], [51.588512, 0.117672, 1.0], [51.549705, 0.075048, 1.0], [51.576717, 0.113515, 2.0], [51.555806, 0.086001, 1.0], [51.607629, 0.038549, 2.0], [51.558695, 0.070119, 1.0], [51.575879, 0.044055, 1.0], [51.556268, 0.064959, 1.0], [51.561414, 0.068944, 1.0], [51.554039, 0.084189, 1.0], [51.581867, 0.020219, 1.0], [51.593753, 0.086151, 1.0], [51.600765, 0.019469, 1.0], [51.604239, 0.047351, 2.0], [51.582249, 0.039722, 1.0], [51.5529, 0.067259, 1.0], [51.596954, 0.03706, 2.0], [51.590146, 0.081655, 2.0], [51.562967, 0.067572, 1.0], [51.591687, 0.055449, 1.0], [51.576488, 0.065732, 1.0], [51.604763, 0.048241, 1.0], [51.580757, 0.022046, 1.0], [51.577411, 0.049031, 1.0], [51.597004, 0.039373, 1.0], [51.557646, 0.073534, 1.0], [51.561118, 0.065323, 1.0], [51.550519, 0.074796, 1.0], [51.576663, 0.066028, 1.0], [51.573558, 0.017108, 1.0], [51.556285, 0.074193, 1.0], [51.569343, 0.093403, 1.0], [51.595244, 0.03193, 1.0], [51.60732, 0.020049, 1.0], [51.570535, 0.056515, 1.0], [51.558493, 0.071408, 1.0], [51.573774, 0.046126, 1.0], [51.584955, 0.064961, 1.0], [51.591634, 0.058478, 1.0], [51.567881, 0.059137, 2.0], [51.58648, 0.085529, 1.0], [51.602148, 0.114551, 1.0], [51.588862, 0.08304, 1.0], [51.602657, 0.03486, 2.0], [51.545174, 0.077005, 1.0], [51.556872, 0.066429, 1.0], [51.576293, 0.066589, 1.0], [51.609924, 0.097147, 2.0], [51.553403, 0.084593, 1.0], [51.600765, 0.019469, 1.0], [51.593602, 0.064198, 2.0], [51.54599, 0.076609, 1.0], [51.563076, 0.116922, 1.0], [51.604572, 0.028158, 1.0], [51.559474, 0.081985, 1.0], [51.576085, 0.083466, 1.0], [51.563016, 0.110282, 1.0], [51.599525, 0.033998, 1.0], [51.560392, 0.070773, 1.0], [51.604294, 0.095155, 1.0], [51.602835, 0.116316, 1.0], [51.5633, 0.094424, 1.0], [51.562063, 0.067819, 1.0], [51.591634, 0.058478, 2.0], [51.57687, 0.043955, 1.0], [51.59469, 0.078975, 1.0], [51.581213, 0.118487, 1.0], [51.552115, 0.070974, 1.0], [51.576845, 0.081191, 1.0], [51.557398, 0.067175, 1.0], [51.576188, 0.06745, 1.0], [51.569896, 0.057063, 1.0], [51.573561, 0.083783, 1.0], [51.557308, 0.067171, 1.0], [51.575942, 0.06614, 1.0], [51.580108, 0.023172, 1.0], [51.59895, 0.020399, 1.0], [51.589993, 0.049453, 1.0], [51.570511, 0.103558, 1.0], [51.620499, 0.027568, 1.0], [51.576495, 0.044805, 1.0], [51.558874, 0.08542, 2.0], [51.573551, 0.124481, 1.0], [51.551495, 0.085659, 1.0], [51.556244, 0.07145, 1.0], [51.594333, 0.022216, 1.0], [51.595119, 0.054593, 1.0], [51.607475, 0.037098, 1.0], [51.616118, 0.117801, 1.0], [51.591682, 0.055737, 1.0], [51.56267, 0.079245, 1.0], [51.568798, 0.058168, 1.0], [51.563878, 0.066891, 1.0], [51.561462, 0.066205, 1.0], [51.576655, 0.066461, 1.0], [51.552343, 0.093632, 1.0], [51.559112, 0.082113, 1.0], [51.581653, 0.073761, 1.0], [51.591073, 0.028712, 1.0], [51.57497, 0.044592, 1.0], [51.57678, 0.043951, 1.0], [51.566817, 0.083763, 1.0], [51.593527, 0.037629, 1.0], [51.594787, 0.032343, 1.0], [51.561125, 0.100384, 1.0], [51.607232, 0.0199, 1.0], [51.550653, 0.092545, 1.0], [51.552258, 0.09334, 1.0], [51.576095, 0.052292, 1.0], [51.590582, 0.082396, 1.0], [51.590563, 0.047746, 1.0], [51.556118, 0.073464, 1.0], [51.552237, 0.094493, 1.0], [51.601881, 0.084213, 1.0], [51.577454, 0.0206, 1.0], [51.583201, 0.02634, 1.0], [51.544989, 0.077285, 2.0], [51.556926, 0.068452, 1.0], [51.580299, 0.104299, 1.0], [51.568182, 0.118025, 1.0], [51.587281, 0.085999, 1.0], [51.581596, 0.107246, 2.0], [51.591371, 0.063231, 1.0], [51.572614, 0.086482, 1.0], [51.575765, 0.065988, 1.0], [51.55922, 0.060765, 1.0], [51.568127, 0.111096, 1.0], [51.582207, 0.118244, 1.0], [51.587022, 0.08541, 1.0], [51.575245, 0.044315, 1.0], [51.59631, 0.027501, 1.0], [51.604938, 0.104427, 1.0], [51.583041, 0.025178, 2.0], [51.555619, 0.066084, 1.0], [51.546527, 0.076778, 1.0], [51.582117, 0.11824, 1.0], [51.605768, 0.052474, 1.0], [51.589517, 0.081626, 1.0], [51.562773, 0.098728, 1.0], [51.607854, 0.035959, 1.0], [51.604551, 0.095889, 2.0], [51.575628, 0.09398, 1.0], [51.607694, 0.034797, 1.0], [51.582307, 0.117672, 1.0], [51.598002, 0.084902, 1.0], [51.564537, 0.034312, 2.0], [51.575152, 0.044456, 1.0], [51.585497, 0.085195, 1.0], [51.580198, 0.023176, 1.0], [51.576888, 0.113956, 1.0], [51.607407, 0.020197, 2.0], [51.548096, 0.084638, 1.0], [51.607904, 0.038272, 1.0], [51.603017, 0.034876, 1.0], [51.576733, 0.067186, 1.0], [51.569774, 0.022713, 1.0], [51.545354, 0.077013, 1.0], [51.578452, 0.07679, 2.0], [51.57637, 0.082613, 2.0], [51.575929, 0.046367, 1.0], [51.59174, 0.06267, 1.0], [51.577579, 0.044565, 1.0], [51.570649, 0.050026, 1.0], [51.576898, 0.026782, 1.0], [51.546891, 0.076506, 1.0], [51.581478, 0.058163, 1.0], [51.604337, 0.026126, 1.0], [51.583661, 0.051622, 1.0], [51.552296, 0.076031, 1.0], [51.588218, 0.037824, 1.0], [51.572827, 0.064267, 1.0], [51.594405, 0.084882, 1.0], [51.578416, 0.053262, 1.0], [51.551027, 0.071502, 1.0], [51.576606, 0.064149, 1.0], [51.558604, 0.01861, 1.0], [51.576011, 0.041608, 1.0], [51.564468, 0.099528, 1.0], [51.613633, 0.024229, 1.0], [51.565569, 0.09323, 1.0], [51.574981, 0.08991, 2.0], [51.565055, 0.101863, 1.0], [51.573526, 0.065453, 1.0], [51.59634, 0.02577, 1.0], [51.57571, 0.027883, 2.0], [51.556241, 0.071594, 1.0], [51.574889, 0.09005, 1.0], [51.544542, 0.07712, 1.0], [51.585353, 0.052564, 1.0], [51.574783, 0.045016, 1.0], [51.581106, 0.074169, 1.0], [51.606471, 0.043119, 1.0], [51.576186, 0.067594, 1.0], [51.585951, 0.054324, 1.0], [51.580367, 0.115561, 1.0], [51.562491, 0.063943, 1.0], [51.576693, 0.043803, 1.0], [51.576654, 0.061409, 1.0], [51.595758, 0.084655, 1.0], [51.551977, 0.073709, 2.0], [51.562944, 0.109269, 2.0], [51.560062, 0.08432, 1.0], [51.573805, 0.085237, 1.0], [51.577574, 0.065348, 1.0], [51.569925, 0.060528, 1.0], [51.591822, 0.083464, 2.0], [51.564152, 0.08191, 1.0], [51.562036, 0.104754, 1.0], [51.574755, 0.062045, 1.0], [51.552874, 0.078942, 1.0], [51.56103, 0.100668, 1.0], [51.578583, 0.124715, 1.0], [51.577079, 0.047429, 2.0], [51.584693, 0.08487, 1.0], [51.58689, 0.062306, 1.0], [51.575949, 0.045213, 1.0], [51.574742, 0.123237, 1.0], [51.55644, 0.0654, 1.0], [51.573379, 0.06357, 1.0], [51.592009, 0.036983, 1.0], [51.570653, 0.110636, 1.0], [51.551027, 0.071502, 1.0], [51.608274, 0.032512, 1.0], [51.560782, 0.109457, 2.0], [51.572909, 0.054457, 1.0], [51.567967, 0.06448, 1.0], [51.573921, 0.0838, 1.0], [51.566904, 0.083912, 1.0], [51.607335, 0.03998, 1.0], [51.553524, 0.067576, 1.0], [51.562383, 0.095392, 1.0], [51.564478, 0.098951, 1.0], [51.598282, 0.053725, 1.0], [51.606963, 0.056139, 1.0], [51.589878, 0.030247, 1.0], [51.576424, 0.038595, 3.0], [51.567076, 0.114511, 2.0], [51.595052, 0.0839, 1.0], [51.56851, 0.119772, 2.0], [51.564243, 0.066619, 1.0], [51.574372, 0.027247, 1.0], [51.58008, 0.066039, 1.0], [51.561387, 0.039654, 1.0], [51.566877, 0.110605, 1.0], [51.572943, 0.047387, 3.0], [51.578153, 0.04257, 1.0], [51.587846, 0.028135, 3.0], [51.57166, 0.048773, 1.0], [51.59469, 0.078975, 1.0], [51.591645, 0.037256, 1.0], [51.568814, 0.0827, 1.0], [51.593853, 0.085578, 1.0], [51.57777, 0.069542, 2.0], [51.577866, 0.099568, 1.0], [51.598454, 0.084778, 1.0], [51.611423, 0.113827, 1.0], [51.573346, 0.130821, 1.0], [51.593237, 0.038771, 1.0], [51.606215, 0.083256, 2.0], [51.596616, 0.081951, 1.0], [51.57647, 0.122163, 1.0], [51.575065, 0.044307, 1.0], [51.56771, 0.094194, 1.0], [51.57093, 0.023486, 1.0], [51.575528, 0.02802, 1.0], [51.576441, 0.058225, 1.0], [51.563302, 0.09428, 1.0], [51.575528, 0.02802, 1.0], [51.576258, 0.042918, 1.0], [51.568601, 0.099718, 2.0], [51.600715, 0.043149, 1.0], [51.607294, 0.108436, 1.0], [51.563926, 0.114653, 1.0], [51.575989, 0.042906, 1.0], [51.57834, 0.021361, 1.0], [51.597093, 0.039377, 1.0], [51.55744, 0.074967, 1.0], [51.559677, 0.095844, 1.0], [51.575682, 0.045057, 1.0], [51.57174, 0.049353, 1.0], [51.604433, 0.051692, 1.0], [51.563292, 0.094856, 1.0], [51.562753, 0.033511, 1.0], [51.592837, 0.041063, 2.0], [51.568097, 0.117733, 2.0], [51.575983, 0.04839, 1.0], [51.601035, 0.019481, 1.0], [51.556538, 0.064972, 1.0], [51.569863, 0.129504, 1.0], [51.563086, 0.10134, 1.0], [51.570635, 0.111645, 1.0], [51.563954, 0.077861, 1.0], [51.559936, 0.081285, 1.0], [51.576403, 0.060388, 1.0], [51.5548, 0.066624, 1.0], [51.560866, 0.084645, 1.0], [51.593652, 0.035613, 1.0], [51.574861, 0.066235, 1.0], [51.572522, 0.086622, 1.0], [51.573587, 0.082341, 1.0], [51.576182, 0.05244, 2.0], [51.563422, 0.031232, 1.0], [51.590755, 0.047033, 2.0], [51.564702, 0.066063, 1.0], [51.604848, 0.048533, 1.0], [51.564149, 0.097204, 1.0], [51.554438, 0.066752, 1.0], [51.575437, 0.043602, 1.0], [51.564375, 0.114674, 1.0], [51.616031, 0.117652, 3.0], [51.567189, 0.113217, 1.0], [51.578958, 0.06339, 1.0], [51.579241, 0.042041, 1.0], [51.576992, 0.067775, 1.0], [51.561033, 0.065031, 1.0], [51.592837, 0.041063, 3.0], [51.591634, 0.058478, 1.0], [51.576182, 0.05244, 2.0], [51.613331, 0.11276, 1.0], [51.55858, 0.071556, 1.0], [51.597468, 0.033329, 1.0], [51.555169, 0.086404, 1.0], [51.573977, 0.080627, 1.0], [51.574724, 0.099279, 1.0], [51.597648, 0.033337, 1.0], [51.591634, 0.058478, 1.0], [51.607762, 0.0361, 1.0], [51.590146, 0.081655, 1.0], [51.56824, 0.109803, 1.0], [51.575527, 0.038411, 1.0], [51.575152, 0.044456, 1.0], [51.5592, 0.082261, 1.0], [51.572584, 0.047371, 3.0], [51.606084, 0.054944, 1.0], [51.600717, 0.043005, 1.0], [51.564189, 0.110048, 1.0], [51.582207, 0.118244, 1.0], [51.55161, 0.074125, 1.0], [51.567936, 0.116715, 1.0], [51.577367, 0.020452, 1.0], [51.576004, 0.06773, 1.0], [51.580097, 0.018552, 1.0], [51.60895, 0.106346, 1.0], [51.56416, 0.024916, 1.0], [51.56273, 0.091079, 1.0], [51.581049, 0.117613, 1.0], [51.612739, 0.0239, 2.0], [51.582299, 0.118104, 1.0], [51.577319, 0.043976, 1.0], [51.570499, 0.1291, 1.0], [51.595553, 0.040029, 1.0], [51.577165, 0.026938, 1.0], [51.557914, 0.068497, 1.0], [51.57651, 0.043939, 1.0], [51.581056, 0.041112, 1.0], [51.575849, 0.045786, 1.0], [51.575442, 0.043314, 1.0], [51.575469, 0.092818, 1.0], [51.558925, 0.087586, 1.0], [51.564419, 0.112223, 1.0], [51.56305, 0.118364, 1.0], [51.593129, 0.085834, 1.0], [51.603426, 0.01641, 1.0], [51.592079, 0.027746, 1.0], [51.557103, 0.068604, 2.0], [51.559978, 0.094127, 1.0], [51.556244, 0.07145, 1.0], [51.589959, 0.082079, 2.0], [51.612764, 0.022457, 1.0], [51.594176, 0.036503, 1.0], [51.576543, 0.057508, 1.0], [51.581599, 0.117061, 2.0], [51.578754, 0.044184, 1.0], [51.554883, 0.07211, 1.0], [51.608523, 0.110081, 1.0], [51.559399, 0.076066, 3.0], [51.582423, 0.081013, 1.0], [51.575502, 0.045049, 1.0], [51.577944, 0.028704, 1.0], [51.56898, 0.058032, 2.0], [51.570189, 0.050582, 1.0], [51.575787, 0.044195, 1.0], [51.597543, 0.039397, 1.0], [51.605388, 0.099393, 1.0], [51.583797, 0.084685, 1.0], [51.580547, 0.023769, 1.0], [51.593095, 0.036599, 1.0], [51.557556, 0.07353, 1.0], [51.575273, 0.052976, 1.0], [51.566202, 0.108121, 1.0], [51.575679, 0.045201, 1.0], [51.570116, 0.095459, 1.0], [51.570624, 0.117273, 1.0], [51.587382, 0.070124, 1.0], [51.562523, 0.057019, 1.0], [51.574732, 0.083692, 1.0], [51.572365, 0.095418, 1.0], [51.563141, 0.093262, 1.0], [51.557655, 0.067908, 1.0], [51.563734, 0.110316, 1.0], [51.576354, 0.083478, 1.0], [51.556176, 0.0651, 1.0], [51.596048, 0.09362, 1.0], [51.567323, 0.065316, 1.0], [51.593374, 0.036034, 1.0], [51.580929, 0.08412, 2.0], [51.587489, 0.027975, 1.0], [51.594213, 0.034338, 2.0], [51.56824, 0.109803, 1.0], [51.606101, 0.04368, 1.0], [51.602358, 0.137667, 1.0], [51.556443, 0.065256, 1.0], [51.578102, 0.071145, 1.0], [51.576648, 0.066894, 1.0], [51.572752, 0.078695, 2.0], [51.543982, 0.073201, 1.0], [51.591682, 0.029894, 2.0], [51.585492, 0.039434, 1.0], [51.592753, 0.04077, 1.0], [51.613244, 0.112612, 2.0], [51.605617, 0.121645, 1.0], [51.558907, 0.078496, 1.0], [51.576229, 0.085493, 1.0], [51.591999, 0.027165, 1.0], [51.572251, 0.101762, 1.0], [51.551658, 0.071386, 1.0], [51.57534, 0.044031, 1.0], [51.563105, 0.110286, 2.0], [51.558661, 0.082236, 1.0], [51.58512, 0.040139, 1.0], [51.582788, 0.039746, 1.0], [51.579785, 0.041777, 1.0], [51.57665, 0.122172, 2.0], [51.560988, 0.072676, 1.0], [51.600513, 0.085306, 2.0], [51.591914, 0.037268, 1.0], [51.573651, 0.083787, 1.0], [51.582788, 0.039746, 1.0], [51.565905, 0.079393, 1.0], [51.590096, 0.048736, 1.0], [51.616058, 0.045138, 2.0], [51.562784, 0.067708, 1.0], [51.556266, 0.065104, 1.0], [51.554808, 0.066192, 1.0], [51.573561, 0.083783, 1.0], [51.584788, 0.084586, 1.0], [51.593192, 0.03617, 1.0], [51.56171, 0.102863, 1.0], [51.576164, 0.053449, 1.0], [51.568737, 0.051383, 1.0], [51.563005, 0.110859, 1.0], [51.56992, 0.05057, 1.0], [51.548404, 0.092586, 1.0], [51.557917, 0.068352, 1.0], [51.604859, 0.02716, 1.0], [51.549508, 0.086145, 1.0], [51.588512, 0.117672, 1.0], [51.55183, 0.107168, 2.0], [51.552179, 0.107761, 1.0], [51.546278, 0.075613, 1.0], [51.560873, 0.099362, 1.0], [51.556339, 0.071166, 1.0], [51.575914, 0.042036, 2.0], [51.590249, 0.085991, 3.0], [51.595098, 0.014308, 1.0], [51.579863, 0.103557, 2.0], [51.625062, 0.028928, 3.0], [51.569248, 0.123703, 2.0], [51.590792, 0.050067, 2.0], [51.595116, 0.013298, 2.0], [51.576095, 0.052292, 2.0], [51.559436, 0.079098, 1.0], [51.564096, 0.110188, 1.0], [51.607053, 0.040689, 1.0], [51.580337, 0.122199, 1.0], [51.573471, 0.083779, 1.0], [51.578424, 0.083428, 1.0], [51.557398, 0.067175, 1.0], [51.595151, 0.016477, 1.0], [51.611316, 0.02297, 1.0], [51.604931, 0.017776, 1.0], [51.576117, 0.030355, 1.0], [51.600325, 0.013673, 2.0], [51.560815, 0.082479, 2.0], [51.595341, 0.015907, 1.0], [51.595396, 0.017931, 2.0], [51.607689, 0.019487, 1.0], [51.573543, 0.023169, 2.0], [51.620587, 0.027717, 3.0], [51.607689, 0.019487, 1.0], [51.546078, 0.076758, 1.0], [51.556962, 0.066434, 1.0], [51.56425, 0.02492, 2.0], [51.591814, 0.058486, 2.0], [51.581689, 0.081845, 1.0], [51.568055, 0.054382, 1.0], [51.612739, 0.0239, 2.0], [51.585188, 0.117517, 1.0], [51.584993, 0.031906, 1.0], [51.585823, 0.066733, 1.0], [51.571975, 0.020213, 3.0], [51.584783, 0.084874, 1.0], [51.578671, 0.069439, 1.0], [51.55762, 0.074975, 2.0], [51.591125, 0.046472, 1.0], [51.583869, 0.03965, 1.0], [51.602747, 0.019268, 3.0], [51.605755, 0.053196, 2.0], [51.607322, 0.019904, 1.0], [51.574731, 0.027263, 1.0], [51.609373, 0.127742, 1.0], [51.577251, 0.068364, 2.0], [51.564984, 0.09075, 2.0], [51.607384, 0.10844, 1.0], [51.581049, 0.117613, 1.0], [51.591114, 0.082854, 1.0], [51.576056, 0.044208, 2.0], [51.570878, 0.098091, 1.0], [51.573651, 0.083787, 1.0], [51.565421, 0.066096, 1.0], [51.565146, 0.091767, 1.0], [51.601339, 0.084333, 1.0], [51.576496, 0.085649, 1.0], [51.565778, 0.066256, 1.0], [51.605335, 0.046389, 2.0], [51.578874, 0.042458, 1.0], [51.578366, 0.025115, 1.0], [51.556244, 0.07145, 1.0], [51.577926, 0.121221, 1.0], [51.583932, 0.020455, 2.0], [51.56434, 0.024924, 1.0], [51.549213, 0.092623, 1.0], [51.5591, 0.082833, 1.0], [51.561392, 0.10054, 1.0], [51.575322, 0.045041, 1.0], [51.601868, 0.038868, 1.0], [51.56446, 0.09996, 1.0], [51.563734, 0.110316, 1.0], [51.564502, 0.10761, 1.0], [51.559055, 0.070135, 1.0], [51.576092, 0.052436, 1.0], [51.556872, 0.066429, 1.0], [51.546576, 0.079088, 1.0], [51.572456, 0.120389, 1.0], [51.546168, 0.076762, 2.0], [51.576613, 0.043222, 1.0], [51.556348, 0.06554, 1.0], [51.606375, 0.048602, 1.0], [51.602207, 0.045238, 1.0], [51.602246, 0.053326, 1.0], [51.578131, 0.099869, 1.0], [51.566635, 0.053308, 1.0], [51.592621, 0.084078, 1.0], [51.564104, 0.109755, 1.0], [51.56181, 0.077042, 1.0], [51.595506, 0.021979, 1.0], [51.574411, 0.045721, 1.0], [51.576321, 0.039312, 1.0], [51.560897, 0.082915, 1.0], [51.602546, 0.087276, 2.0], [51.58024, 0.041509, 1.0], [51.562938, 0.114607, 1.0], [51.558785, 0.070123, 1.0], [51.575435, 0.038551, 1.0], [51.572275, 0.095414, 1.0], [51.582413, 0.116811, 1.0], [51.577791, 0.042698, 1.0], [51.559324, 0.070148, 1.0], [51.560815, 0.082479, 2.0], [51.552269, 0.107765, 1.0], [51.604848, 0.048533, 1.0], [51.556812, 0.064696, 1.0], [51.592395, 0.081613, 1.0], [51.575849, 0.045786, 1.0], [51.574858, 0.066379, 1.0], [51.554265, 0.09675, 1.0], [51.608208, 0.020666, 1.0], [51.576648, 0.066894, 2.0], [51.574412, 0.024939, 1.0], [51.563619, 0.025037, 1.0], [51.565172, 0.110382, 1.0], [51.60732, 0.020049, 1.0], [51.57687, 0.043955, 1.0], [51.597191, 0.038948, 1.0], [51.576159, 0.053738, 1.0], [51.584873, 0.064524, 1.0], [51.57591, 0.052572, 1.0], [51.566145, 0.024572, 1.0], [51.576182, 0.05244, 1.0], [51.5827, 0.07554, 1.0], [51.560388, 0.09631, 1.0], [51.605915, 0.054358, 1.0], [51.566872, 0.110894, 1.0], [51.575773, 0.070606, 1.0], [51.556955, 0.076965, 1.0], [51.580875, 0.117316, 1.0], [51.563266, 0.081148, 1.0], [51.572458, 0.064827, 1.0], [51.558162, 0.074856, 1.0], [51.573872, 0.081488, 1.0], [51.566845, 0.087228, 1.0], [51.574896, 0.089617, 1.0], [51.556847, 0.07292, 1.0], [51.594387, 0.080838, 2.0], [51.586508, 0.088995, 1.0], [51.577869, 0.124393, 1.0], [51.562324, 0.098708, 1.0], [51.576079, 0.073651, 1.0], [51.559232, 0.070288, 1.0], [51.587846, 0.028135, 1.0], [51.565543, 0.104772, 1.0], [51.574354, 0.079634, 1.0], [51.557049, 0.025322, 1.0], [51.566808, 0.109448, 2.0], [51.560801, 0.0731, 1.0], [51.556618, 0.070602, 1.0], [51.60371, 0.046749, 1.0], [51.55525, 0.071694, 1.0], [51.573558, 0.017108, 1.0], [51.585721, 0.020967, 1.0], [51.612682, 0.093808, 1.0], [51.591865, 0.029758, 1.0], [51.549662, 0.092643, 1.0], [51.556817, 0.084749, 1.0], [51.57665, 0.122172, 1.0], [51.560717, 0.098056, 1.0], [51.581593, 0.11735, 1.0], [51.607597, 0.106572, 1.0], [51.563059, 0.112881, 1.0], [51.561239, 0.058404, 1.0], [51.57609, 0.05258, 1.0], [51.564383, 0.099235, 1.0], [51.563972, 0.097052, 1.0], [51.588076, 0.061349, 1.0], [51.609452, 0.021588, 1.0], [51.54475, 0.070495, 1.0], [51.558953, 0.075902, 1.0], [51.55644, 0.0654, 1.0], [51.577163, 0.083515, 1.0], [51.563061, 0.082581, 1.0], [51.58025, 0.025343, 1.0], [51.550704, 0.074516, 1.0], [51.58851, 0.117816, 1.0], [51.601121, 0.014431, 1.0], [51.562875, 0.108111, 1.0], [51.573769, 0.046414, 1.0], [51.582043, 0.117371, 1.0], [51.582133, 0.117375, 1.0], [51.565659, 0.093234, 1.0], [51.577282, 0.035747, 1.0], [51.577077, 0.068068, 1.0], [51.56014, 0.069752, 1.0], [51.614519, 0.024991, 1.0], [51.576582, 0.060396, 1.0], [51.566904, 0.083912, 1.0], [51.556433, 0.065833, 1.0], [51.603958, 0.09384, 2.0], [51.566208, 0.082581, 1.0], [51.56084, 0.096186, 1.0], [51.575288, 0.072605, 1.0], [51.563695, 0.082322, 1.0], [51.573854, 0.11266, 1.0], [51.579003, 0.101352, 1.0], [51.585277, 0.117521, 1.0], [51.561112, 0.075856, 1.0], [51.569333, 0.123995, 1.0], [51.576128, 0.045221, 1.0], [51.555586, 0.108351, 2.0], [51.578443, 0.072171, 1.0], [51.566822, 0.088525, 1.0], [51.606966, 0.106687, 1.0], [51.557013, 0.0686, 1.0], [51.577506, 0.069242, 2.0], [51.576795, 0.043086, 1.0], [51.556353, 0.065252, 1.0], [51.612657, 0.12024, 2.0], [51.551444, 0.088542, 1.0], [51.549847, 0.087315, 1.0], [51.55911, 0.082257, 1.0], [51.56713, 0.060978, 1.0], [51.582099, 0.11925, 1.0], [51.575762, 0.066132, 1.0], [51.572098, 0.023537, 1.0], [51.553879, 0.07293, 1.0], [51.562738, 0.110702, 1.0], [51.570506, 0.083643, 1.0], [51.557791, 0.070366, 1.0], [51.606581, 0.057421, 1.0], [51.595142, 0.022252, 1.0], [51.556513, 0.071462, 1.0], [51.610402, 0.110602, 2.0], [51.56039, 0.070917, 1.0], [51.593095, 0.036599, 1.0], [51.557263, 0.069765, 1.0], [51.557976, 0.070086, 1.0], [51.557198, 0.06832, 1.0], [51.597558, 0.033333, 2.0], [51.607652, 0.052704, 1.0], [51.57388, 0.029678, 1.0], [51.574895, 0.017745, 1.0], [51.562501, 0.07866, 1.0], [51.56455, 0.099964, 1.0], [51.59754, 0.039541, 1.0], [51.57659, 0.075262, 1.0], [51.575768, 0.070895, 1.0], [51.609912, 0.11289, 1.0], [51.559885, 0.094267, 1.0], [51.603178, 0.046292, 3.0], [51.605255, 0.121772, 1.0], [51.580097, 0.018552, 1.0], [51.546877, 0.082419, 1.0], [51.6034, 0.074607, 2.0], [51.573982, 0.023766, 1.0], [51.575773, 0.070606, 1.0], [51.569422, 0.119093, 1.0], [51.556443, 0.065256, 1.0], [51.561225, 0.084662, 1.0], [51.565503, 0.091928, 1.0], [51.568619, 0.093658, 1.0], [51.582009, 0.058621, 1.0], [51.55635, 0.065396, 1.0], [51.565045, 0.10244, 1.0], [51.581953, 0.117367, 1.0], [51.577167, 0.068072, 1.0], [51.571346, 0.112111, 2.0], [51.560685, 0.074538, 2.0], [51.56342, 0.097748, 1.0], [51.566376, 0.108418, 1.0], [51.576828, 0.066902, 2.0], [51.550651, 0.092689, 1.0], [51.57086, 0.0636, 2.0], [51.578718, 0.025564, 1.0], [51.577959, 0.099428, 1.0], [51.554643, 0.095757, 1.0], [51.590746, 0.078217, 1.0], [51.570812, 0.111798, 1.0], [51.595543, 0.09172, 1.0], [51.56652, 0.110445, 1.0], [51.557909, 0.10918, 1.0], [51.576495, 0.060248, 1.0], [51.616029, 0.03647, 1.0], [51.560961, 0.09951, 1.0], [51.603995, 0.030299, 1.0], [51.558704, 0.074736, 2.0], [51.60856, 0.021115, 1.0], [51.606439, 0.018999, 1.0], [51.563523, 0.081881, 1.0], [51.552715, 0.087879, 1.0], [51.571808, 0.065952, 1.0], [51.581578, 0.057591, 1.0], [51.57652, 0.043362, 1.0], [51.557388, 0.067751, 1.0], [51.60493, 0.04897, 1.0], [51.546078, 0.076758, 1.0], [51.592621, 0.022428, 1.0], [51.564385, 0.099091, 1.0], [51.576648, 0.066894, 1.0], [51.56612, 0.107684, 1.0], [51.564974, 0.065931, 1.0], [51.558715, 0.084258, 1.0], [51.5824, 0.117532, 1.0], [51.572306, 0.083581, 1.0], [51.605915, 0.054358, 1.0], [51.581509, 0.117057, 1.0], [51.56416, 0.024916, 1.0], [51.566904, 0.083912, 1.0], [51.608121, 0.020518, 2.0], [51.568183, 0.082816, 1.0], [51.57659, 0.075262, 1.0], [51.56208, 0.092204, 1.0], [51.57158, 0.048192, 1.0], [51.577329, 0.043399, 1.0], [51.60494, 0.048393, 1.0], [51.55788, 0.075564, 2.0], [51.605339, 0.0513, 1.0], [51.550429, 0.074792, 1.0], [51.593853, 0.085578, 1.0], [51.576304, 0.066012, 1.0], [51.557909, 0.10918, 1.0], [51.571798, 0.111988, 1.0], [51.61318, 0.121131, 1.0], [51.5566, 0.071611, 1.0], [51.576173, 0.068315, 1.0], [51.593527, 0.037629, 1.0], [51.576777, 0.044096, 1.0], [51.593836, 0.035332, 1.0], [51.606339, 0.055822, 1.0], [51.579784, 0.102976, 1.0], [51.578602, 0.04259, 1.0], [51.567046, 0.024468, 1.0], [51.570737, 0.100971, 1.0], [51.591163, 0.028716, 1.0], [51.562875, 0.108111, 2.0], [51.575237, 0.044748, 1.0], [51.594097, 0.08198, 1.0], [51.576288, 0.066877, 1.0], [51.58168, 0.127458, 1.0], [51.567874, 0.059569, 1.0], [51.612057, 0.103601, 1.0], [51.565971, 0.105946, 1.0], [51.56792, 0.102573, 2.0], [51.57166, 0.048773, 1.0], [51.607854, 0.035959, 1.0], [51.572869, 0.020541, 1.0], [51.577453, 0.077322, 1.0], [51.551909, 0.087698, 1.0], [51.620405, 0.027853, 1.0], [51.557296, 0.067891, 1.0], [51.608473, 0.020966, 1.0], [51.591555, 0.083307, 1.0], [51.580074, 0.061276, 1.0], [51.575294, 0.062069, 1.0], [51.575589, 0.045197, 1.0], [51.565818, 0.079244, 1.0], [51.583482, 0.020435, 1.0], [51.600505, 0.013681, 1.0], [51.591781, 0.044914, 1.0], [51.546683, 0.073035, 1.0], [51.607672, 0.036096, 1.0], [51.566618, 0.110016, 1.0], [51.558845, 0.097105, 1.0], [51.563863, 0.108157, 1.0], [51.58011, 0.023027, 1.0], [51.563624, 0.024748, 1.0], [51.606257, 0.055385, 1.0], [51.591538, 0.06396, 1.0], [51.566475, 0.062392, 1.0], [51.597021, 0.033164, 1.0], [51.59665, 0.069823, 1.0], [51.602443, 0.036872, 2.0], [51.573556, 0.084071, 1.0], [51.575898, 0.093993, 2.0], [51.564134, 0.098069, 2.0], [51.558614, 0.074732, 1.0], [51.605105, 0.049267, 1.0], [51.557671, 0.072092, 2.0], [51.576982, 0.042662, 2.0], [51.578092, 0.051227, 1.0], [51.553524, 0.067576, 1.0], [51.546668, 0.078948, 2.0], [51.573561, 0.083783, 1.0], [51.566964, 0.110754, 1.0], [51.563964, 0.097484, 1.0], [51.545988, 0.076754, 1.0], [51.546329, 0.072731, 1.0], [51.556617, 0.065552, 1.0], [51.561146, 0.084081, 1.0], [51.590975, 0.085591, 1.0], [51.577481, 0.050189, 1.0], [51.576558, 0.066889, 1.0], [51.561317, 0.059128, 1.0], [51.610297, 0.12143, 1.0], [51.591711, 0.059204, 1.0], [51.573967, 0.081204, 1.0], [51.614434, 0.024698, 1.0], [51.580667, 0.073571, 1.0], [51.607502, 0.019912, 1.0], [51.563052, 0.108264, 1.0], [51.59333, 0.084688, 1.0], [51.566727, 0.083759, 1.0], [51.571273, 0.050343, 2.0], [51.604853, 0.048245, 1.0], [51.575437, 0.043602, 1.0], [51.575407, 0.045333, 1.0], [51.607854, 0.035959, 1.0], [51.575923, 0.046655, 1.0], [51.550337, 0.074932, 1.0], [51.556959, 0.066578, 1.0], [51.568799, 0.083565, 1.0], [51.568459, 0.107648, 1.0], [51.57684, 0.066181, 1.0], [51.570838, 0.064898, 2.0], [51.5912, 0.072896, 1.0], [51.569672, 0.02343, 1.0], [51.570142, 0.083915, 1.0], [51.562515, 0.067695, 1.0], [51.562962, 0.10826, 1.0], [51.599563, 0.078042, 1.0], [51.558055, 0.065618, 1.0], [51.558823, 0.04228, 1.0], [51.556004, 0.064659, 1.0], [51.556006, 0.064515, 1.0], [51.587989, 0.081556, 1.0], [51.557096, 0.069036, 1.0], [51.577679, 0.099992, 1.0], [51.583952, 0.040087, 1.0], [51.584082, 0.063478, 1.0], [51.605992, 0.018834, 1.0], [51.5618, 0.077618, 1.0], [51.556344, 0.070878, 2.0], [51.593507, 0.08484, 1.0], [51.581781, 0.051104, 1.0], [51.605992, 0.024034, 1.0], [51.615325, 0.116897, 1.0], [51.569342, 0.128469, 1.0], [51.556503, 0.072039, 1.0], [51.558812, 0.08888, 1.0], [51.56344, 0.106695, 1.0], [51.576511, 0.064434, 1.0], [51.547128, 0.078392, 1.0], [51.557736, 0.063295, 1.0], [51.561045, 0.099803, 2.0], [51.595806, 0.051303, 1.0], [51.595044, 0.084333, 1.0], [51.562986, 0.116918, 1.0], [51.608266, 0.129279, 1.0], [51.59315, 0.08468, 2.0], [51.569952, 0.064137, 1.0], [51.548563, 0.098795, 1.0], [51.574501, 0.066219, 1.0], [51.559883, 0.094411, 1.0], [51.593779, 0.084708, 1.0], [51.575034, 0.06148, 2.0], [51.58969, 0.030672, 1.0], [51.591483, 0.051686, 2.0], [51.575034, 0.06148, 1.0], [51.593939, 0.034615, 1.0], [51.560889, 0.098497, 1.0], [51.572193, 0.064527, 1.0], [51.55792, 0.073258, 1.0], [51.60248, 0.019112, 1.0], [51.5824, 0.117532, 1.0], [51.562967, 0.031501, 1.0], [51.563432, 0.107127, 1.0], [51.575705, 0.028172, 1.0], [51.55525, 0.071694, 1.0], [51.562643, 0.090931, 1.0], [51.575842, 0.066713, 1.0], [51.564301, 0.098799, 2.0], [51.588849, 0.103972, 1.0], [51.564948, 0.062323, 1.0], [51.566964, 0.110754, 1.0], [51.575133, 0.091504, 2.0], [51.568124, 0.11124, 1.0], [51.556196, 0.094386, 1.0], [51.607585, 0.035947, 1.0], [51.559294, 0.071877, 1.0], [51.588315, 0.021804, 1.0], [51.581773, 0.117358, 1.0], [51.563885, 0.091854, 1.0], [51.574794, 0.090334, 1.0], [51.5738, 0.029097, 1.0], [51.566774, 0.065868, 1.0], [51.585182, 0.02614, 1.0], [51.589961, 0.081935, 1.0], [51.574756, 0.02582, 1.0], [51.591453, 0.063668, 1.0], [51.58013, 0.073403, 1.0], [51.574878, 0.075473, 1.0], [51.601968, 0.084362, 1.0], [51.570834, 0.049746, 1.0], [51.567843, 0.116855, 1.0], [51.566702, 0.110309, 1.0], [51.571657, 0.129732, 1.0], [51.55498, 0.071681, 2.0], [51.584958, 0.064817, 1.0], [51.561461, 0.101698, 1.0], [51.576128, 0.045221, 1.0], [51.571489, 0.053383, 1.0], [51.56073, 0.087236, 1.0], [51.605925, 0.053781, 1.0], [51.570073, 0.057215, 1.0], [51.590975, 0.075484, 2.0], [51.595401, 0.038434, 1.0], [51.560464, 0.025474, 2.0], [51.601899, 0.138223, 1.0], [51.608449, 0.109211, 1.0], [51.56443, 0.024928, 1.0], [51.566684, 0.065864, 1.0], [51.603355, 0.046445, 1.0], [51.564345, 0.02983, 1.0], [51.589568, 0.022148, 1.0], [51.613628, 0.024518, 2.0], [51.564974, 0.065931, 1.0], [51.594088, 0.036354, 1.0], [51.571539, 0.055694, 1.0], [51.56513, 0.102733, 2.0], [51.58925, 0.081469, 2.0], [51.558591, 0.076029, 2.0], [51.563008, 0.110715, 1.0], [51.576703, 0.043226, 1.0], [51.574145, 0.066058, 1.0], [51.595209, 0.064849, 2.0], [51.590946, 0.030872, 2.0], [51.591815, 0.053289, 1.0], [51.554442, 0.096902, 1.0], [51.564465, 0.099672, 1.0], [51.560645, 0.081894, 1.0], [51.558206, 0.062162, 2.0], [51.582877, 0.075693, 1.0], [51.603333, 0.01655, 1.0], [51.589783, 0.030531, 1.0], [51.594253, 0.037228, 1.0], [51.565956, 0.106811, 1.0], [51.573292, 0.083771, 1.0], [51.571478, 0.048909, 1.0], [51.609631, 0.021596, 2.0], [51.558785, 0.070123, 1.0], [51.573368, 0.124616, 2.0], [51.581112, 0.083984, 1.0], [51.593856, 0.085434, 1.0], [51.606961, 0.03563, 2.0], [51.613719, 0.121156, 1.0], [51.559119, 0.071581, 1.0], [51.57831, 0.099877, 1.0], [51.58643, 0.068059, 1.0], [51.605601, 0.051745, 1.0], [51.593547, 0.077479, 1.0], [51.5631, 0.110575, 1.0], [51.550794, 0.07452, 1.0], [51.553988, 0.087072, 1.0], [51.562333, 0.067831, 1.0], [51.56434, 0.024924, 1.0], [51.581976, 0.101057, 1.0], [51.588605, 0.117531, 1.0], [51.596979, 0.056265, 1.0], [51.577937, 0.070272, 1.0], [51.591775, 0.029754, 1.0], [51.564048, 0.021016, 1.0], [51.606763, 0.041832, 1.0], [51.610196, 0.025376, 1.0], [51.569405, 0.064545, 1.0], [51.581066, 0.040535, 1.0], [51.605875, 0.025617, 2.0], [51.608175, 0.104433, 1.0], [51.610653, 0.096603, 1.0], [51.566412, 0.024728, 1.0], [51.575145, 0.090783, 2.0], [51.559292, 0.082121, 1.0], [51.604238, 0.05255, 1.0], [51.570514, 0.113371, 1.0], [51.57649, 0.060536, 2.0], [51.582303, 0.052138, 1.0], [51.566784, 0.110745, 1.0], [51.578944, 0.059059, 1.0], [51.553153, 0.073329, 1.0], [51.560645, 0.081894, 1.0], [51.578038, 0.100009, 1.0], [51.566628, 0.109439, 1.0], [51.564434, 0.081201, 1.0], [51.577331, 0.04845, 1.0], [51.568717, 0.09323, 1.0], [51.559028, 0.025266, 2.0], [51.580118, 0.079176, 1.0], [51.600988, 0.088938, 1.0], [51.558785, 0.070123, 1.0], [51.575973, 0.069461, 1.0], [51.598636, 0.084642, 2.0], [51.548009, 0.08449, 1.0], [51.555794, 0.07143, 1.0], [51.598721, 0.054322, 3.0], [51.576505, 0.059671, 1.0], [51.594782, 0.078835, 1.0], [51.557478, 0.067755, 1.0], [51.612049, 0.119056, 1.0], [51.569936, 0.09545, 1.0], [51.577047, 0.100108, 1.0], [51.546078, 0.076758, 1.0], [51.552078, 0.088283, 1.0], [51.607232, 0.0199, 1.0], [51.563297, 0.094568, 2.0], [51.577372, 0.035751, 1.0], [51.558248, 0.069954, 1.0], [51.58195, 0.117511, 1.0], [51.60688, 0.019452, 1.0], [51.593003, 0.036739, 1.0], [51.557997, 0.068933, 1.0], [51.605997, 0.054795, 1.0], [51.562055, 0.088595, 1.0], [51.551914, 0.087409, 1.0], [51.57667, 0.045101, 1.0], [51.561541, 0.077029, 1.0], [51.558002, 0.068645, 1.0], [51.558171, 0.06923, 1.0], [51.587134, 0.02767, 1.0], [51.568918, 0.1221, 1.0], [51.571568, 0.048913, 1.0], [51.57613, 0.06052, 1.0], [51.557438, 0.075111, 1.0], [51.608541, 0.129003, 1.0], [51.576508, 0.059527, 1.0], [51.563039, 0.11894, 1.0], [51.564427, 0.11179, 1.0], [51.577249, 0.042818, 1.0], [51.601429, 0.084337, 2.0], [51.560559, 0.071502, 1.0], [51.552881, 0.073461, 1.0], [51.55676, 0.072772, 1.0], [51.574468, 0.088443, 3.0], [51.564542, 0.100397, 1.0], [51.560812, 0.082623, 1.0], [51.564252, 0.096488, 1.0], [51.595781, 0.078303, 1.0], [51.556268, 0.064959, 1.0], [51.556176, 0.0651, 1.0], [51.555996, 0.065091, 1.0], [51.556086, 0.065095, 1.0], [51.566702, 0.110309, 1.0], [51.591286, 0.083295, 1.0], [51.576081, 0.042765, 1.0], [51.568524, 0.083841, 1.0], [51.562824, 0.1159, 1.0], [51.560134, 0.095433, 1.0], [51.601991, 0.138083, 1.0], [51.566461, 0.128623, 1.0], [51.586979, 0.12785, 1.0], [51.577541, 0.087573, 1.0], [51.595323, 0.016917, 1.0], [51.579721, 0.019546, 2.0], [51.569739, 0.019536, 1.0], [51.589755, 0.078316, 1.0], [51.576806, 0.026922, 1.0], [51.552985, 0.067552, 1.0], [51.595056, 0.016761, 1.0], [51.562673, 0.079101, 1.0], [51.564473, 0.099239, 1.0], [51.565066, 0.065791, 1.0], [51.569347, 0.057615, 1.0], [51.592169, 0.02775, 1.0], [51.591825, 0.052712, 1.0], [51.576618, 0.027346, 1.0], [51.609549, 0.103052, 1.0], [51.571079, 0.086844, 1.0], [51.556244, 0.07145, 1.0], [51.561362, 0.025514, 1.0], [51.565918, 0.063377, 1.0], [51.589578, 0.021571, 1.0], [51.590001, 0.04902, 2.0], [51.574477, 0.072712, 1.0], [51.552345, 0.093488, 1.0], [51.582358, 0.059214, 1.0], [51.596526, 0.081946, 1.0], [51.588605, 0.117531, 1.0], [51.556339, 0.071166, 1.0], [51.570793, 0.077595, 1.0], [51.555982, 0.076055, 1.0], [51.577885, 0.083404, 1.0], [51.550604, 0.075089, 1.0], [51.569827, 0.05071, 1.0], [51.595054, 0.016905, 1.0], [51.595288, 0.090842, 1.0], [51.567915, 0.052067, 1.0], [51.565151, 0.024816, 1.0], [51.573384, 0.083631, 1.0], [51.563872, 0.082474, 1.0], [51.598519, 0.040162, 1.0], [51.570768, 0.099241, 1.0], [51.576503, 0.075114, 1.0], [51.581614, 0.126156, 1.0], [51.555334, 0.066937, 1.0], [51.572679, 0.02111, 2.0], [51.584783, 0.06452, 1.0], [51.590068, 0.075876, 2.0], [51.59519, 0.07611, 1.0], [51.588515, 0.117527, 1.0], [51.569307, 0.080269, 1.0], [51.593889, 0.0375, 1.0], [51.549235, 0.071132, 1.0], [51.576226, 0.09574, 1.0], [51.591473, 0.062513, 1.0], [51.562961, 0.11331, 1.0], [51.595943, 0.084374, 1.0], [51.593739, 0.020168, 1.0], [51.597895, 0.039846, 1.0], [51.562558, 0.090638, 1.0], [51.590035, 0.031553, 1.0], [51.551158, 0.074248, 1.0], [51.615125, 0.041918, 2.0], [51.586749, 0.044688, 1.0], [51.612292, 0.023736, 1.0], [51.588315, 0.021804, 1.0], [51.564547, 0.100109, 1.0], [51.566361, 0.109283, 2.0], [51.59477, 0.022957, 2.0], [51.56661, 0.110449, 1.0], [51.595454, 0.030207, 1.0], [51.600505, 0.013681, 1.0], [51.577607, 0.098979, 1.0], [51.607512, 0.10628, 1.0], [51.560481, 0.081021, 1.0], [51.575902, 0.073499, 1.0], [51.580367, 0.115561, 1.0], [51.552092, 0.107613, 1.0], [51.567921, 0.062024, 2.0], [51.576755, 0.045394, 1.0], [51.563782, 0.08247, 1.0], [51.576401, 0.065583, 1.0], [51.591217, 0.046332, 1.0], [51.557282, 0.078855, 1.0], [51.570639, 0.1014, 1.0], [51.608383, 0.020962, 1.0], [51.607605, 0.034793, 1.0], [51.582043, 0.117371, 1.0], [51.55743, 0.070494, 1.0], [51.59191, 0.083612, 1.0], [51.584693, 0.08487, 1.0], [51.597468, 0.033329, 1.0], [51.583128, 0.02013, 1.0], [51.556249, 0.071162, 1.0], [51.576092, 0.052436, 1.0], [51.572748, 0.048244, 1.0], [51.561061, 0.083789, 1.0], [51.577285, 0.035603, 1.0], [51.589693, 0.030527, 1.0], [51.556244, 0.07145, 1.0], [51.590186, 0.04874, 1.0], [51.562105, 0.060318, 2.0], [51.55808, 0.074419, 1.0], [51.555615, 0.071422, 1.0], [51.592398, 0.014478, 1.0], [51.589163, 0.081321, 1.0], [51.560961, 0.09951, 1.0], [51.576396, 0.065872, 1.0], [51.554648, 0.080322, 1.0], [51.549213, 0.092623, 1.0], [51.562663, 0.094827, 1.0], [51.577631, 0.020752, 1.0], [51.574099, 0.058407, 1.0], [51.559526, 0.079102, 1.0], [51.559282, 0.062355, 1.0], [51.577885, 0.083404, 2.0], [51.589394, 0.083497, 1.0], [51.566697, 0.110597, 1.0], [51.581103, 0.059013, 1.0], [51.608581, 0.101852, 1.0], [51.557178, 0.069473, 1.0], [51.610163, 0.022053, 1.0], [51.570337, 0.088109, 1.0], [51.605625, 0.034849, 1.0], [51.575597, 0.018786, 1.0], [51.563113, 0.109854, 1.0], [51.590972, 0.075629, 1.0], [51.582043, 0.117371, 1.0], [51.56759, 0.110927, 1.0], [51.608887, 0.099844, 1.0], [51.565012, 0.094214, 1.0], [51.606865, 0.041114, 1.0], [51.565415, 0.09178, 1.0], [51.572692, 0.020389, 1.0], [51.564758, 0.083236, 1.0], [51.588317, 0.02166, 1.0], [51.546236, 0.072871, 1.0], [51.548709, 0.075435, 1.0], [51.610152, 0.048628, 1.0], [51.577809, 0.026101, 1.0], [51.582402, 0.117387, 1.0], [51.552916, 0.071443, 1.0], [51.598728, 0.017646, 1.0], [51.602929, 0.019132, 1.0], [51.609452, 0.021588, 2.0], [51.601904, 0.137934, 1.0], [51.576953, 0.034, 1.0], [51.576497, 0.060103, 1.0], [51.55567, 0.083542, 1.0], [51.569953, 0.119551, 1.0], [51.575353, 0.027723, 1.0], [51.566941, 0.112051, 1.0], [51.559596, 0.070016, 1.0], [51.556872, 0.066429, 1.0], [51.562982, 0.112156, 1.0], [51.557102, 0.093995, 1.0], [51.578448, 0.071883, 1.0], [51.61085, 0.125644, 1.0], [51.561859, 0.104602, 1.0], [51.575181, 0.027283, 1.0], [51.575412, 0.045045, 1.0], [51.606215, 0.083256, 2.0], [51.555287, 0.079774, 1.0], [51.546579, 0.078944, 1.0], [51.561798, 0.097962, 1.0], [51.559952, 0.115623, 1.0], [51.575996, 0.042473, 1.0], [51.576988, 0.026786, 1.0], [51.57194, 0.048208, 1.0], [51.577282, 0.035747, 1.0], [51.564456, 0.110205, 2.0], [51.609831, 0.12733, 1.0], [51.581844, 0.108412, 1.0], [51.56657, 0.077403, 1.0], [51.556348, 0.06554, 1.0], [51.575996, 0.042473, 1.0], [51.571859, 0.083417, 1.0], [51.581552, 0.104646, 1.0], [51.613829, 0.095016, 1.0], [51.577872, 0.079073, 1.0], [51.603208, 0.090484, 1.0], [51.598678, 0.020532, 1.0], [51.605521, 0.051163, 1.0], [51.587194, 0.085851, 1.0], [51.568351, 0.108653, 1.0], [51.575528, 0.02802, 1.0], [51.545025, 0.075267, 1.0], [51.592089, 0.08362, 1.0], [51.575978, 0.069172, 1.0], [51.558218, 0.071684, 1.0], [51.600765, 0.019469, 1.0], [51.594091, 0.03621, 1.0], [51.593644, 0.02565, 1.0], [51.57564, 0.05256, 1.0], [51.576092, 0.052436, 1.0], [51.558341, 0.069814, 1.0], [51.58917, 0.050282, 2.0], [51.592531, 0.022424, 1.0], [51.575994, 0.042617, 1.0], [51.571789, 0.061911, 1.0], [51.554014, 0.090679, 1.0], [51.576016, 0.122431, 1.0], [51.578493, 0.124711, 1.0], [51.596168, 0.071678, 1.0], [51.607395, 0.102808, 1.0], [51.568618, 0.05816, 1.0], [51.573204, 0.083622, 1.0], [51.557878, 0.065465, 1.0], [51.5802, 0.023031, 1.0], [51.576004, 0.04204, 1.0], [51.563459, 0.095585, 1.0], [51.595486, 0.079733, 1.0], [51.576488, 0.065732, 1.0], [51.576688, 0.044092, 1.0], [51.62315, 0.030287, 2.0], [51.566071, 0.110424, 1.0], [51.559718, 0.093538, 1.0], [51.58011, 0.023027, 1.0], [51.55718, 0.069329, 1.0], [51.558865, 0.070704, 1.0], [51.571854, 0.123824, 1.0], [51.562494, 0.063799, 1.0], [51.566142, 0.024716, 1.0], [51.576748, 0.066321, 1.0], [51.573531, 0.065165, 1.0], [51.581509, 0.117057, 1.0], [51.576259, 0.053165, 1.0], [51.545446, 0.076873, 1.0], [51.559523, 0.079246, 1.0], [51.607587, 0.035803, 1.0], [51.603951, 0.053548, 1.0], [51.558006, 0.093748, 1.0], [51.550566, 0.092396, 1.0], [51.576895, 0.037317, 1.0], [51.582225, 0.117235, 1.0], [51.569899, 0.025893, 1.0], [51.55329, 0.080837, 1.0], [51.551418, 0.100081, 1.0], [51.595721, 0.030363, 1.0], [51.575056, 0.090779, 1.0], [51.580194, 0.120172, 1.0], [51.561059, 0.083933, 1.0], [51.581596, 0.117206, 2.0], [51.576291, 0.066733, 1.0], [51.576408, 0.044656, 2.0], [51.569196, 0.061072, 2.0], [51.589391, 0.083641, 1.0], [51.57085, 0.0281, 1.0], [51.575155, 0.044311, 1.0], [51.593796, 0.037641, 1.0], [51.564688, 0.077029, 1.0], [51.55534, 0.071698, 1.0], [51.613667, 0.043008, 1.0], [51.576495, 0.060248, 1.0], [51.593948, 0.085294, 1.0], [51.56303, 0.114467, 1.0], [51.582259, 0.075087, 1.0], [51.575983, 0.04839, 1.0], [51.556706, 0.07075, 1.0], [51.593514, 0.027954, 1.0], [51.600346, 0.084576, 1.0], [51.554535, 0.086664, 1.0], [51.591822, 0.052856, 1.0], [51.57084, 0.023482, 1.0], [51.559868, 0.069884, 1.0], [51.563608, 0.097324, 1.0], [51.558254, 0.069666, 1.0], [51.569307, 0.080269, 1.0], [51.597093, 0.039377, 1.0], [51.563533, 0.096455, 1.0], [51.58231, 0.117527, 1.0], [51.582315, 0.117239, 1.0], [51.573466, 0.084067, 1.0], [51.566211, 0.082437, 1.0], [51.620497, 0.027713, 1.0], [51.572764, 0.021402, 1.0], [51.591634, 0.058478, 1.0], [51.570859, 0.109202, 1.0], [51.55673, 0.0846, 1.0], [51.60476, 0.048385, 1.0], [51.559484, 0.076359, 1.0], [51.58011, 0.023027, 1.0], [51.564878, 0.101711, 2.0], [51.56005, 0.09514, 2.0], [51.603948, 0.053692, 1.0], [51.576405, 0.060244, 1.0], [51.554481, 0.09474, 1.0], [51.596262, 0.025045, 1.0], [51.576029, 0.030207, 1.0], [51.581844, 0.108412, 1.0], [51.573289, 0.063566, 1.0], [51.550163, 0.079684, 1.0], [51.581596, 0.117206, 1.0], [51.561112, 0.075856, 1.0], [51.576488, 0.065732, 1.0], [51.563511, 0.067308, 1.0], [51.576011, 0.046803, 1.0], [51.550267, 0.073775, 1.0], [51.574896, 0.089617, 1.0], [51.582312, 0.117383, 2.0], [51.600765, 0.019469, 2.0], [51.590644, 0.02234, 1.0], [51.593529, 0.037484, 1.0], [51.5487, 0.086108, 1.0], [51.603201, 0.018999, 1.0], [51.608084, 0.022682, 1.0], [51.594091, 0.03621, 1.0], [51.556178, 0.064955, 1.0], [51.578043, 0.09972, 1.0], [51.556249, 0.071162, 1.0], [51.5633, 0.094424, 1.0], [51.556301, 0.098574, 1.0], [51.563188, 0.105673, 1.0], [51.605128, 0.098804, 1.0], [51.582312, 0.117383, 1.0], [51.600543, 0.042708, 1.0], [51.590755, 0.047033, 1.0], [51.575949, 0.040017, 1.0], [51.573379, 0.083919, 1.0], [51.589914, 0.048872, 1.0], [51.575952, 0.029482, 1.0], [51.557108, 0.068316, 1.0], [51.557298, 0.067747, 1.0], [51.571859, 0.083417, 1.0], [51.598838, 0.016495, 1.0], [51.575903, 0.047809, 1.0], [51.595806, 0.051303, 1.0], [51.605255, 0.121772, 1.0], [51.558933, 0.082104, 1.0], [51.558912, 0.078208, 1.0], [51.561376, 0.076156, 2.0], [51.591573, 0.05169, 1.0], [51.582701, 0.039598, 1.0], [51.556168, 0.065532, 1.0], [51.576436, 0.04307, 1.0], [51.575916, 0.047088, 1.0], [51.591192, 0.068276, 1.0], [51.574714, 0.089753, 1.0], [51.564845, 0.083384, 1.0], [51.557905, 0.074123, 1.0], [51.573471, 0.083779, 1.0], [51.62182, 0.029217, 1.0], [51.594166, 0.03708, 1.0], [51.575056, 0.090779, 1.0], [51.587191, 0.039944, 1.0], [51.597323, 0.041697, 1.0], [51.594713, 0.031473, 2.0], [51.575011, 0.026698, 1.0], [51.589914, 0.048872, 1.0], [51.56303, 0.114467, 1.0], [51.5948, 0.077825, 1.0], [51.564815, 0.110221, 1.0], [51.571351, 0.111823, 1.0], [51.603928, 0.034195, 1.0], [51.610134, 0.1155, 2.0], [51.577696, 0.042982, 1.0], [51.564149, 0.097204, 1.0], [51.614072, 0.11655, 1.0], [51.593706, 0.037637, 1.0], [51.557455, 0.069053, 1.0], [51.589568, 0.022148, 1.0], [51.576101, 0.067302, 1.0], [51.553262, 0.087471, 1.0], [51.58036, 0.029389, 1.0], [51.581118, 0.058147, 1.0], [51.56076, 0.060113, 1.0], [51.591634, 0.058478, 1.0], [51.583133, 0.019842, 1.0], [51.580152, 0.04136, 1.0], [51.593889, 0.0375, 1.0], [51.601791, 0.084209, 1.0], [51.59097, 0.075773, 1.0], [51.553335, 0.073193, 1.0], [51.564815, 0.110221, 1.0], [51.600502, 0.013826, 1.0], [51.577695, 0.114138, 1.0], [51.59419, 0.086893, 1.0], [51.558874, 0.08542, 1.0], [51.581478, 0.058163, 1.0], [51.582519, 0.039734, 1.0], [51.582209, 0.1181, 1.0], [51.590967, 0.050363, 1.0], [51.576044, 0.039733, 1.0], [51.576092, 0.052436, 1.0], [51.553882, 0.072785, 1.0], [51.582339, 0.039726, 1.0], [51.550296, 0.077238, 1.0], [51.600627, 0.043001, 1.0], [51.581596, 0.117206, 1.0], [51.593978, 0.037504, 1.0], [51.575537, 0.04303, 1.0], [51.594692, 0.022232, 1.0], [51.576405, 0.060244, 1.0], [51.565948, 0.107244, 1.0], [51.576408, 0.044656, 1.0], [51.558897, 0.084122, 1.0], [51.616672, 0.046032, 1.0], [51.564042, 0.083059, 1.0], [51.558193, 0.098373, 1.0], [51.569193, 0.050971, 1.0], [51.595236, 0.021967, 1.0], [51.595419, 0.032227, 1.0], [51.600452, 0.047902, 1.0], [51.574179, 0.017569, 1.0], [51.583862, 0.040083, 1.0], [51.603653, 0.018875, 1.0], [51.563737, 0.110171, 1.0], [51.568707, 0.083705, 1.0], [51.593706, 0.037637, 1.0], [51.590246, 0.081082, 1.0], [51.546491, 0.078796, 2.0], [51.552766, 0.084996, 1.0], [51.593766, 0.08543, 1.0], [51.56824, 0.109803, 1.0], [51.565948, 0.107244, 1.0], [51.585766, 0.085208, 1.0], [51.561056, 0.063734, 1.0], [51.579609, 0.102679, 1.0], [51.59993, 0.077626, 1.0], [51.624009, 0.022235, 1.0], [51.550563, 0.092541, 1.0], [51.600947, 0.014134, 1.0], [51.606215, 0.083256, 1.0], [51.576095, 0.052292, 1.0], [51.562602, 0.067844, 2.0], [51.585561, 0.066288, 1.0], [51.561138, 0.084514, 1.0], [51.576085, 0.083466, 1.0], [51.583861, 0.086131, 1.0], [51.578946, 0.058915, 1.0], [51.588, 0.080979, 1.0], [51.601791, 0.084209, 1.0], [51.574758, 0.066952, 1.0], [51.56314, 0.103362, 1.0], [51.574621, 0.018021, 1.0], [51.554568, 0.079741, 1.0], [51.60139, 0.076393, 1.0], [51.577885, 0.083404, 2.0], [51.60072, 0.04286, 1.0], [51.568051, 0.10027, 1.0], [51.564887, 0.065783, 1.0], [51.5633, 0.094424, 1.0], [51.57553, 0.027875, 1.0], [51.595326, 0.021971, 1.0], [51.564385, 0.099091, 1.0], [51.595434, 0.031361, 1.0], [51.61043, 0.022209, 1.0], [51.577277, 0.020448, 1.0], [51.573115, 0.083618, 1.0], [51.563867, 0.082763, 1.0], [51.575183, 0.027138, 1.0], [51.563421, 0.067304, 1.0], [51.564383, 0.099235, 1.0], [51.579846, 0.022727, 1.0], [51.580277, 0.115557, 1.0], [51.597537, 0.080693, 1.0], [51.579839, 0.054192, 1.0], [51.595034, 0.089964, 1.0], [51.589607, 0.08163, 1.0], [51.600627, 0.043001, 2.0], [51.563619, 0.121709, 1.0], [51.607674, 0.035951, 1.0], [51.553924, 0.080577, 1.0], [51.556574, 0.068003, 1.0], [51.581156, 0.019754, 1.0], [51.555172, 0.08626, 1.0], [51.578046, 0.099576, 1.0], [51.618625, 0.026763, 1.0], [51.548891, 0.075299, 1.0], [51.573464, 0.084212, 1.0], [51.556727, 0.084745, 1.0], [51.562515, 0.067695, 1.0], [51.575715, 0.094129, 1.0], [51.570548, 0.111497, 1.0], [51.554886, 0.071966, 1.0], [51.581842, 0.108556, 1.0], [51.564139, 0.097781, 1.0], [51.599495, 0.020135, 1.0], [51.61175, 0.095643, 1.0], [51.581877, 0.040427, 2.0], [51.575947, 0.040162, 2.0], [51.564878, 0.101711, 1.0], [51.575412, 0.045045, 1.0], [51.57717, 0.026649, 1.0], [51.606872, 0.061334, 1.0], [51.575949, 0.040017, 1.0], [51.583602, 0.039494, 1.0], [51.578066, 0.042421, 1.0], [51.607495, 0.035943, 1.0], [51.56446, 0.064465, 1.0], [51.558812, 0.08888, 1.0], [51.573992, 0.079762, 1.0], [51.561374, 0.101549, 1.0], [51.576608, 0.11452, 1.0], [51.570545, 0.111641, 1.0], [51.601901, 0.138079, 1.0], [51.580135, 0.031978, 1.0], [51.572852, 0.021551, 1.0], [51.590973, 0.034482, 1.0], [51.574973, 0.090342, 1.0], [51.582327, 0.066141, 2.0], [51.549762, 0.087022, 1.0], [51.601296, 0.111912, 1.0], [51.573384, 0.083631, 1.0], [51.578868, 0.063386, 1.0], [51.565122, 0.103165, 1.0], [51.603336, 0.016406, 1.0], [51.570666, 0.12983, 1.0], [51.561372, 0.066201, 1.0], [51.566008, 0.083726, 1.0], [51.608286, 0.103282, 1.0], [51.578228, 0.12441, 1.0], [51.570029, 0.09531, 1.0], [51.555615, 0.071422, 1.0], [51.592828, 0.036442, 1.0], [51.557909, 0.10918, 1.0], [51.562673, 0.079101, 1.0], [51.557045, 0.102215, 1.0], [51.578868, 0.063386, 1.0], [51.575535, 0.043174, 1.0], [51.589256, 0.029786, 1.0], [51.556418, 0.071747, 1.0], [51.576077, 0.027467, 1.0], [51.594093, 0.036066, 1.0], [51.559425, 0.079674, 1.0], [51.573471, 0.083779, 1.0], [51.57113, 0.063613, 1.0], [51.604478, 0.049095, 1.0], [51.567022, 0.092431, 1.0], [51.572692, 0.020389, 1.0], [51.573471, 0.083779, 1.0], [51.591037, 0.046324, 1.0], [51.557391, 0.067607, 1.0], [51.57717, 0.026649, 1.0], [51.560894, 0.08306, 2.0], [51.559234, 0.070143, 1.0], [51.576344, 0.022427, 1.0], [51.61702, 0.025969, 1.0], [51.560388, 0.09631, 1.0], [51.575994, 0.042617, 1.0], [51.561112, 0.075856, 1.0], [51.575994, 0.042617, 1.0], [51.577144, 0.043679, 1.0], [51.574754, 0.025965, 1.0], [51.594695, 0.037681, 1.0], [51.551991, 0.088134, 1.0], [51.591966, 0.080439, 1.0], [51.55471, 0.06662, 1.0], [51.593529, 0.037484, 1.0], [51.555929, 0.06379, 1.0], [51.582017, 0.03235, 1.0], [51.555791, 0.066525, 1.0], [51.568214, 0.111244, 1.0], [51.557732, 0.068633, 1.0], [51.581924, 0.058328, 1.0], [51.582407, 0.117099, 1.0], [51.5767, 0.04337, 1.0], [51.608473, 0.020966, 1.0], [51.560821, 0.071947, 1.0], [51.597556, 0.033477, 1.0], [51.564375, 0.114674, 1.0], [51.558308, 0.071688, 2.0], [51.564535, 0.05509, 1.0], [51.592558, 0.03643, 1.0], [51.607959, 0.05575, 1.0], [51.560502, 0.069624, 1.0], [51.578221, 0.064367, 1.0], [51.581699, 0.126448, 3.0], [51.581311, 0.021204, 1.0], [51.561798, 0.097962, 1.0], [51.591036, 0.117356, 1.0], [51.563086, 0.116345, 3.0], [51.56269, 0.067992, 2.0], [51.553801, 0.067156, 1.0], [51.55471, 0.06662, 1.0], [51.604007, 0.136011, 1.0], [51.573564, 0.083639, 1.0], [51.55465, 0.080178, 1.0], [51.624972, 0.028924, 1.0], [51.603958, 0.053115, 2.0], [51.572971, 0.096745, 2.0], [51.582289, 0.118681, 1.0], [51.571803, 0.111699, 2.0], [51.606699, 0.024787, 2.0], [51.583913, 0.062893, 2.0], [51.575589, 0.045197, 1.0], [51.557108, 0.068316, 1.0], [51.561267, 0.036186, 3.0], [51.593527, 0.037629, 2.0], [51.558732, 0.0782, 2.0], [51.575722, 0.042749, 1.0], [51.59494, 0.033938, 2.0], [51.560692, 0.109453, 1.0], [51.587402, 0.027827, 2.0], [51.585862, 0.05432, 2.0], [51.570074, 0.127782, 2.0], [51.602061, 0.079167, 2.0], [51.563007, 0.115765, 2.0], [51.577072, 0.047861, 3.0], [51.556318, 0.107664, 3.0], [51.565127, 0.102877, 1.0], [51.576615, 0.043078, 1.0], [51.598681, 0.020387, 2.0], [51.57726, 0.098241, 1.0], [51.567366, 0.05262, 2.0], [51.558695, 0.070119, 2.0], [51.561414, 0.068944, 1.0], [51.561374, 0.101549, 2.0], [51.576403, 0.060388, 3.0], [51.575056, 0.090779, 2.0], [51.59469, 0.078975, 1.0], [51.576866, 0.033852, 2.0], [51.607689, 0.019487, 1.0], [51.607599, 0.019483, 1.0], [51.607597, 0.019628, 1.0], [51.550099, 0.088336, 1.0], [51.568237, 0.109947, 1.0], [51.560065, 0.11433, 1.0], [51.561228, 0.084518, 1.0], [51.608436, 0.109933, 1.0], [51.579769, 0.083634, 1.0], [51.573474, 0.083635, 1.0], [51.590096, 0.048736, 1.0], [51.551068, 0.074244, 1.0], [51.56112, 0.065179, 1.0], [51.593529, 0.037484, 1.0], [51.559941, 0.075947, 1.0], [51.606879, 0.060901, 1.0], [51.559708, 0.078966, 1.0], [51.577591, 0.069534, 1.0], [51.553712, 0.072201, 1.0], [51.55516, 0.07169, 1.0], [51.563531, 0.024889, 1.0], [51.596956, 0.036916, 1.0], [51.61354, 0.024369, 1.0], [51.562605, 0.067699, 1.0], [51.55881, 0.089024, 1.0], [51.570244, 0.088249, 1.0], [51.561644, 0.086412, 2.0], [51.608563, 0.02097, 1.0], [51.595337, 0.03179, 1.0], [51.556234, 0.077076, 1.0], [51.571012, 0.095644, 1.0], [51.598931, 0.148047, 1.0], [51.573414, 0.071798, 1.0], [51.562571, 0.094967, 1.0], [51.58494, 0.040131, 1.0], [51.57553, 0.027875, 1.0], [51.577888, 0.042269, 1.0], [51.555244, 0.066933, 1.0], [51.614876, 0.096798, 1.0], [51.561437, 0.021188, 2.0], [51.580372, 0.080053, 1.0], [51.576144, 0.0852, 1.0], [51.574894, 0.089761, 1.0], [51.603917, 0.136007, 1.0], [51.560963, 0.099366, 1.0], [51.574807, 0.089613, 1.0], [51.56661, 0.110449, 1.0], [51.556168, 0.065532, 1.0], [51.580622, 0.055671, 1.0], [51.554978, 0.071825, 2.0], [51.595337, 0.03179, 1.0], [51.61354, 0.024369, 1.0], [51.595391, 0.01822, 1.0], [51.572387, 0.073916, 1.0], [51.556872, 0.066429, 1.0], [51.563416, 0.107992, 2.0], [51.590495, 0.082248, 1.0], [51.582312, 0.117383, 1.0], [51.561374, 0.101549, 1.0], [51.599615, 0.034002, 1.0], [51.5581, 0.103562, 1.0], [51.591825, 0.052712, 1.0], [51.5667, 0.110453, 1.0], [51.576092, 0.052436, 1.0], [51.574768, 0.066375, 1.0], [51.574948, 0.066383, 1.0], [51.576346, 0.043066, 1.0], [51.55873, 0.093493, 2.0], [51.602492, 0.115434, 1.0], [51.590048, 0.082083, 1.0], [51.575147, 0.044744, 1.0], [51.576081, 0.042765, 1.0], [51.578514, 0.083432, 1.0], [51.586957, 0.027518, 1.0], [51.558933, 0.087154, 1.0], [51.592843, 0.040774, 1.0], [51.570576, 0.129826, 1.0], [51.582776, 0.024878, 1.0], [51.559523, 0.079246, 1.0], [51.58149, 0.057442, 1.0], [51.558897, 0.084122, 1.0], [51.564632, 0.100401, 1.0], [51.559142, 0.070283, 1.0], [51.575914, 0.042036, 1.0], [51.575375, 0.057455, 1.0], [51.555904, 0.065231, 1.0], [51.57562, 0.027879, 1.0], [51.562571, 0.033647, 1.0], [51.56452, 0.024932, 1.0], [51.585683, 0.043918, 1.0], [51.575907, 0.042469, 1.0], [51.573921, 0.0838, 1.0], [51.571012, 0.095644, 1.0], [51.556249, 0.071162, 1.0], [51.559775, 0.039293, 2.0], [51.5489, 0.084964, 1.0], [51.599624, 0.038624, 1.0], [51.61856, 0.030516, 1.0], [51.593277, 0.036462, 1.0], [51.575412, 0.045045, 1.0], [51.59222, 0.076263, 1.0], [51.604088, 0.030159, 1.0], [51.625648, 0.021007, 2.0], [51.577809, 0.026101, 1.0], [51.570006, 0.111616, 1.0], [51.604838, 0.017917, 1.0], [51.607625, 0.033638, 1.0], [51.569233, 0.064104, 1.0], [51.548889, 0.075443, 1.0], [51.571859, 0.083417, 1.0], [51.593619, 0.021895, 1.0], [51.571012, 0.095644, 1.0], [51.598721, 0.033674, 1.0], [51.565012, 0.094214, 1.0], [51.568796, 0.083709, 1.0], [51.589778, 0.03082, 2.0], [51.59135, 0.028291, 1.0], [51.566919, 0.077996, 1.0], [51.602288, 0.04062, 1.0], [51.576476, 0.121875, 1.0], [51.593532, 0.03734, 2.0], [51.556789, 0.065993, 2.0], [51.571016, 0.049609, 1.0], [51.573638, 0.084508, 1.0], [51.581845, 0.057747, 1.0], [51.575322, 0.045041, 1.0], [51.61521, 0.042211, 1.0], [51.575412, 0.045045, 1.0], [51.574661, 0.067381, 1.0], [51.590847, 0.046893, 1.0], [51.591125, 0.046472, 1.0], [51.554978, 0.071825, 1.0], [51.570731, 0.10631, 2.0], [51.599857, 0.020006, 1.0], [51.553063, 0.073325, 1.0], [51.574357, 0.022916, 1.0], [51.595236, 0.021967, 1.0], [51.557096, 0.069036, 1.0], [51.556528, 0.065548, 1.0], [51.575155, 0.044311, 1.0], [51.616151, 0.034597, 1.0], [51.593948, 0.085294, 1.0], [51.576095, 0.052292, 1.0], [51.557308, 0.067171, 1.0], [51.576041, 0.045073, 1.0], [51.557674, 0.071948, 1.0], [51.569318, 0.064396, 1.0], [51.582791, 0.039602, 1.0], [51.555615, 0.071422, 1.0], [51.605785, 0.025613, 2.0], [51.602351, 0.083079, 2.0], [51.592366, 0.026748, 1.0], [51.556196, 0.089337, 1.0], [51.57006, 0.123596, 1.0], [51.570395, 0.104996, 1.0], [51.593277, 0.036462, 1.0], [51.575063, 0.044452, 1.0], [51.54626, 0.076622, 1.0], [51.553065, 0.073181, 1.0], [51.566292, 0.072773, 1.0], [51.564401, 0.083076, 1.0], [51.56661, 0.110449, 2.0], [51.560504, 0.084773, 1.0], [51.563788, 0.066887, 1.0], [51.612504, 0.098711, 1.0], [51.578723, 0.025275, 2.0], [51.552429, 0.073585, 1.0], [51.557825, 0.068492, 1.0], [51.56361, 0.082029, 1.0], [51.573561, 0.083783, 1.0], [51.555264, 0.081071, 1.0], [51.564815, 0.110221, 1.0], [51.558899, 0.083978, 1.0], [51.570868, 0.083516, 1.0], [51.578046, 0.099576, 1.0], [51.561686, 0.058568, 1.0], [51.559618, 0.078962, 1.0], [51.605917, 0.054214, 1.0], [51.606167, 0.055381, 1.0], [51.576214, 0.066008, 1.0], [51.577381, 0.061009, 1.0], [51.578313, 0.099733, 2.0], [51.575718, 0.093985, 1.0], [51.576405, 0.060244, 1.0], [51.572578, 0.083449, 1.0], [51.59651, 0.036751, 1.0], [51.557909, 0.10918, 1.0], [51.58011, 0.023027, 1.0], [51.569862, 0.064132, 1.0], [51.556872, 0.066429, 1.0], [51.598696, 0.040315, 1.0], [51.606805, 0.060031, 1.0], [51.594785, 0.022091, 1.0], [51.548162, 0.075843, 1.0], [51.608984, 0.099415, 1.0], [51.608084, 0.022682, 1.0], [51.554481, 0.09474, 1.0], [51.572167, 0.081266, 1.0], [51.579294, 0.125181, 2.0], [51.594093, 0.036066, 1.0], [51.559506, 0.070012, 1.0], [51.558785, 0.070123, 1.0], [51.582312, 0.117383, 2.0], [51.595793, 0.020981, 1.0], [51.572191, 0.064671, 1.0], [51.615968, 0.045134, 1.0], [51.588512, 0.117672, 1.0], [51.604562, 0.135171, 1.0], [51.556268, 0.064959, 1.0], [51.56056, 0.081602, 1.0], [51.601722, 0.13807, 1.0], [51.573241, 0.019836, 1.0], [51.564071, 0.024912, 1.0], [51.599438, 0.03385, 1.0], [51.574416, 0.045433, 1.0], [51.581565, 0.058312, 2.0], [51.558254, 0.069666, 1.0], [51.578286, 0.121237, 1.0], [51.554797, 0.08206, 1.0], [51.600715, 0.043149, 1.0], [51.559248, 0.079522, 1.0], [51.594855, 0.054292, 1.0], [51.55143, 0.074116, 1.0], [51.560645, 0.081894, 1.0], [51.570501, 0.063584, 1.0], [51.57544, 0.043458, 1.0], [51.559699, 0.069299, 1.0], [51.545264, 0.077009, 2.0], [51.60112, 0.056019, 1.0], [51.603913, 0.019464, 2.0], [51.559144, 0.070139, 1.0], [51.594688, 0.084173, 1.0], [51.570147, 0.083627, 1.0], [51.606799, 0.105958, 2.0], [51.590294, 0.021747, 1.0], [51.561636, 0.086845, 1.0], [51.54616, 0.077194, 1.0], [51.59641, 0.026928, 1.0], [51.598858, 0.02054, 1.0], [51.577287, 0.035459, 1.0], [51.573379, 0.083919, 1.0], [51.593552, 0.036186, 1.0], [51.575729, 0.042317, 1.0], [51.556528, 0.065548, 1.0], [51.594692, 0.022232, 1.0], [51.565877, 0.075928, 1.0], [51.566774, 0.065868, 1.0], [51.587964, 0.082999, 2.0], [51.551795, 0.073845, 1.0], [51.571012, 0.095644, 1.0], [51.563737, 0.110171, 1.0], [51.603259, 0.077489, 1.0], [51.598608, 0.040166, 1.0], [51.55663, 0.064832, 1.0], [51.595288, 0.090842, 1.0], [51.557239, 0.066013, 1.0], [51.575996, 0.042473, 1.0], [51.557265, 0.069621, 1.0], [51.554064, 0.072649, 1.0], [51.559112, 0.082113, 1.0], [51.566859, 0.111615, 1.0], [51.576331, 0.043931, 2.0], [51.583992, 0.032583, 1.0], [51.573666, 0.077871, 2.0], [51.556607, 0.066129, 1.0], [51.58791, 0.080975, 1.0], [51.575919, 0.067438, 1.0], [51.575085, 0.068843, 1.0], [51.574768, 0.066375, 1.0], [51.605917, 0.054214, 1.0], [51.569672, 0.02343, 1.0], [51.576288, 0.066877, 2.0], [51.592708, 0.084226, 1.0], [51.577932, 0.07056, 1.0], [51.566697, 0.110597, 1.0], [51.576497, 0.060103, 2.0], [51.558797, 0.089745, 1.0], [51.577406, 0.059567, 1.0], [51.573143, 0.097185, 2.0], [51.609462, 0.097848, 1.0], [51.563081, 0.101628, 2.0], [51.575629, 0.042889, 1.0], [51.563435, 0.106983, 2.0], [51.573382, 0.083775, 1.0], [51.567042, 0.06083, 1.0], [51.569992, 0.127345, 1.0], [51.556907, 0.064411, 1.0], [51.582176, 0.119975, 1.0], [51.593342, 0.022316, 1.0], [51.593784, 0.08442, 1.0], [51.575589, 0.045197, 1.0], [51.562605, 0.067699, 1.0], [51.578041, 0.099865, 1.0], [51.589693, 0.030527, 1.0], [51.57997, 0.041496, 1.0], [51.575404, 0.06092, 1.0], [51.615122, 0.042063, 1.0], [51.595598, 0.021839, 1.0], [51.568674, 0.120646, 1.0], [51.592461, 0.026464, 1.0], [51.557558, 0.073385, 1.0], [51.5628, 0.030772, 2.0], [51.555983, 0.065812, 1.0], [51.577462, 0.035755, 1.0], [51.575255, 0.043739, 1.0], [51.605965, 0.102308, 1.0], [51.578201, 0.120945, 1.0], [51.559795, 0.094263, 1.0], [51.565707, 0.105645, 1.0], [51.576747, 0.045826, 1.0], [51.552719, 0.107786, 1.0], [51.557296, 0.067891, 1.0], [51.558427, 0.064913, 1.0], [51.566398, 0.076962, 2.0], [51.6005, 0.080973, 1.0], [51.559689, 0.069876, 1.0], [51.569907, 0.127052, 1.0], [51.565707, 0.105645, 1.0], [51.5783, 0.125424, 1.0], [51.570402, 0.058962, 1.0], [51.573556, 0.084071, 2.0], [51.564574, 0.057977, 1.0], [51.561714, 0.067226, 1.0], [51.564143, 0.072242, 1.0], [51.581686, 0.11721, 2.0], [51.594602, 0.022228, 1.0], [51.575461, 0.062799, 1.0], [51.611052, 0.02267, 1.0], [51.568712, 0.083417, 1.0], [51.596103, 0.023883, 2.0], [51.554242, 0.103096, 1.0], [51.589436, 0.024597, 2.0], [51.582307, 0.117672, 1.0], [51.594692, 0.022232, 1.0], [51.575412, 0.045045, 1.0], [51.596251, 0.082223, 1.0], [51.581591, 0.127454, 1.0], [51.614247, 0.030323, 1.0], [51.557575, 0.082619, 1.0], [51.562979, 0.092245, 1.0], [51.556607, 0.066129, 1.0], [51.570703, 0.077591, 1.0], [51.575098, 0.073173, 1.0], [51.564815, 0.110221, 2.0], [51.587466, 0.080666, 1.0], [51.600765, 0.019469, 1.0], [51.577134, 0.059699, 1.0], [51.570545, 0.111641, 1.0], [51.573561, 0.083783, 1.0], [51.553694, 0.07321, 2.0], [51.567829, 0.11267, 1.0], [51.572393, 0.088781, 1.0], [51.60901, 0.021135, 1.0], [51.615951, 0.025343, 1.0], [51.602929, 0.019132, 1.0], [51.587907, 0.081119, 1.0], [51.589693, 0.030527, 1.0], [51.562665, 0.033363, 1.0], [51.577167, 0.021598, 2.0], [51.593277, 0.036462, 1.0], [51.592358, 0.042774, 2.0], [51.59842, 0.101816, 1.0], [51.609916, 0.020742, 1.0], [51.576519, 0.033115, 1.0], [51.553063, 0.073325, 1.0], [51.611843, 0.120491, 1.0], [51.563531, 0.096599, 1.0], [51.590341, 0.080797, 1.0], [51.57717, 0.026649, 2.0], [51.581406, 0.117774, 1.0], [51.561423, 0.063317, 1.0], [51.575901, 0.047953, 1.0], [51.560124, 0.039886, 1.0], [51.610111, 0.126765, 1.0], [51.604045, 0.017015, 1.0], [51.550181, 0.088773, 1.0], [51.558152, 0.090581, 1.0], [51.556086, 0.065095, 1.0], [51.551495, 0.085659, 1.0], [51.57508, 0.017464, 1.0], [51.583143, 0.019265, 1.0], [51.605209, 0.053604, 1.0], [51.578603, 0.083436, 1.0], [51.576405, 0.060244, 1.0], [51.58222, 0.117523, 1.0], [51.553622, 0.067148, 1.0], [51.57437, 0.078769, 1.0], [51.588639, 0.039431, 1.0], [51.575537, 0.04303, 1.0], [51.575586, 0.060784, 1.0], [51.606578, 0.042112, 1.0], [51.555444, 0.065788, 1.0], [51.556241, 0.071594, 2.0], [51.559546, 0.093097, 1.0], [51.559423, 0.079818, 1.0], [51.581745, 0.05832, 1.0], [51.586078, 0.021127, 1.0], [51.560414, 0.084769, 1.0], [51.572225, 0.128171, 1.0], [51.575994, 0.042617, 1.0], [51.59617, 0.071534, 1.0], [51.566008, 0.083726, 1.0], [51.576032, 0.066144, 1.0], [51.556199, 0.094242, 1.0], [51.571972, 0.082123, 1.0], [51.578795, 0.041877, 1.0], [51.593222, 0.085694, 1.0], [51.591111, 0.062641, 1.0], [51.594515, 0.037673, 1.0], [51.548072, 0.075839, 1.0], [51.571192, 0.095653, 1.0], [51.573382, 0.083775, 1.0], [51.596228, 0.027065, 1.0], [51.574277, 0.078909, 1.0], [51.62315, 0.030287, 1.0], [51.61043, 0.022209, 1.0], [51.566766, 0.086647, 1.0], [51.568434, 0.083837, 1.0], [51.578852, 0.017776, 1.0], [51.597376, 0.084729, 1.0], [51.563012, 0.100471, 1.0], [51.600855, 0.019473, 1.0], [51.577966, 0.042994, 1.0], [51.563632, 0.070632, 1.0], [51.580285, 0.023324, 1.0], [51.58973, 0.038758, 1.0], [51.581508, 0.107097, 1.0], [51.564979, 0.065643, 1.0], [51.559474, 0.081985, 1.0], [51.566952, 0.060826, 1.0], [51.56627, 0.053581, 1.0], [51.556962, 0.066434, 1.0], [51.56568, 0.09208, 1.0], [51.576492, 0.060392, 1.0], [51.566541, 0.109291, 1.0], [51.575602, 0.044476, 1.0], [51.601229, 0.018623, 1.0], [51.557646, 0.073534, 1.0], [51.559839, 0.081713, 1.0], [51.575058, 0.090635, 2.0], [51.581844, 0.108412, 1.0], [51.573471, 0.083779, 1.0], [51.600625, 0.043145, 1.0], [51.562858, 0.03265, 1.0], [51.562969, 0.067427, 1.0], [51.565014, 0.09912, 1.0], [51.576621, 0.027202, 1.0], [51.558106, 0.062734, 1.0], [51.597468, 0.033329, 1.0], [51.563891, 0.024904, 2.0], [51.575181, 0.027283, 1.0], [51.557224, 0.066878, 2.0], [51.548712, 0.075291, 1.0], [51.575273, 0.027142, 1.0], [51.591125, 0.046472, 1.0], [51.56933, 0.124139, 1.0], [51.602119, 0.075848, 1.0], [51.576894, 0.113667, 1.0], [51.544992, 0.077141, 1.0], [51.571985, 0.019636, 1.0], [51.591625, 0.028015, 1.0], [51.556163, 0.06582, 1.0], [51.603998, 0.030155, 1.0], [51.561599, 0.068664, 1.0], [51.577872, 0.079073, 1.0], [51.559801, 0.093975, 1.0], [51.578205, 0.125708, 1.0], [51.623063, 0.030139, 1.0], [51.57834, 0.021361, 1.0], [51.561878, 0.068099, 1.0], [51.563825, 0.059675, 1.0], [51.576525, 0.043074, 1.0], [51.58011, 0.023027, 1.0], [51.549932, 0.092656, 1.0], [51.580277, 0.115557, 1.0], [51.610213, 0.039965, 1.0], [51.593948, 0.085294, 1.0], [51.578602, 0.04259, 1.0], [51.596018, 0.028788, 1.0], [51.572488, 0.083445, 1.0], [51.571929, 0.05398, 2.0], [51.575535, 0.043174, 1.0], [51.582067, 0.029466, 1.0], [51.562936, 0.109701, 1.0], [51.591217, 0.046332, 1.0], [51.582579, 0.11754, 1.0], [51.569035, 0.100604, 1.0], [51.582521, 0.115805, 1.0], [51.557308, 0.067171, 1.0], [51.555337, 0.066793, 1.0], [51.566697, 0.110597, 1.0], [51.601037, 0.040131, 1.0], [51.558341, 0.069814, 1.0], [51.603998, 0.030155, 1.0], [51.597735, 0.084745, 1.0], [51.558514, 0.095502, 1.0], [51.563706, 0.111901, 1.0], [51.570029, 0.09531, 1.0], [51.57604, 0.050269, 1.0], [51.573466, 0.084067, 1.0], [51.55673, 0.0846, 1.0], [51.575058, 0.090635, 1.0], [51.564385, 0.099091, 2.0], [51.57282, 0.054453, 1.0], [51.560088, 0.113032, 1.0], [51.596726, 0.095962, 1.0], [51.56653, 0.109868, 1.0], [51.598608, 0.040166, 1.0], [51.56661, 0.110449, 1.0], [51.564147, 0.097349, 1.0], [51.618622, 0.026907, 1.0], [51.591825, 0.052712, 1.0], [51.564891, 0.125953, 1.0], [51.566152, 0.024139, 1.0], [51.556331, 0.071598, 1.0], [51.571785, 0.092649, 1.0], [51.591083, 0.028135, 1.0], [51.600765, 0.019469, 1.0], [51.601409, 0.085491, 1.0], [51.58643, 0.068059, 1.0], [51.561223, 0.084806, 1.0], [51.586508, 0.027498, 1.0], [51.568428, 0.119335, 1.0], [51.578514, 0.083432, 1.0], [51.564632, 0.100401, 1.0], [51.556518, 0.071174, 1.0], [51.55319, 0.096556, 1.0], [51.595244, 0.03193, 1.0], [51.591677, 0.03538, 1.0], [51.562949, 0.108981, 1.0], [51.556932, 0.073213, 1.0], [51.579337, 0.062253, 1.0], [51.562834, 0.075068, 1.0], [51.559467, 0.092516, 1.0], [51.587314, 0.027678, 1.0], [51.592446, 0.032527, 1.0], [51.595209, 0.018356, 1.0], [51.577181, 0.09766, 1.0], [51.572488, 0.083445, 1.0], [51.562859, 0.108976, 1.0], [51.593935, 0.116191, 1.0], [51.577994, 0.02582, 1.0], [51.555374, 0.074873, 1.0], [51.560789, 0.09907, 1.0], [51.574072, 0.080343, 1.0], [51.58018, 0.080766, 1.0], [51.559874, 0.074645, 2.0], [51.605125, 0.133898, 1.0], [51.546622, 0.076494, 2.0], [51.594425, 0.037669, 1.0], [51.595522, 0.052157, 1.0], [51.567775, 0.065192, 1.0], [51.562961, 0.11331, 1.0], [51.576327, 0.054467, 1.0], [51.589961, 0.081935, 1.0], [51.555247, 0.066789, 1.0], [51.553425, 0.073197, 1.0], [51.58016, 0.040928, 1.0], [51.553898, 0.087068, 1.0], [51.598858, 0.02054, 1.0], [51.557301, 0.067603, 1.0], [51.57571, 0.027883, 1.0], [51.597111, 0.033168, 1.0], [51.557134, 0.066874, 1.0], [51.549216, 0.092479, 1.0], [51.565081, 0.039242, 1.0], [51.579984, 0.061271, 1.0], [51.61975, 0.024068, 1.0], [51.564375, 0.114674, 1.0], [51.598768, 0.020536, 1.0], [51.570788, 0.098087, 1.0], [51.601799, 0.113958, 1.0], [51.578495, 0.124567, 1.0], [51.560881, 0.09893, 1.0], [51.590051, 0.081939, 1.0], [51.558391, 0.082224, 1.0], [51.595625, 0.092157, 1.0], [51.601609, 0.084345, 1.0], [51.558876, 0.085276, 1.0], [51.577178, 0.097804, 1.0], [51.561527, 0.108049, 2.0], [51.568343, 0.119043, 1.0], [51.623327, 0.03044, 1.0], [51.576563, 0.122023, 1.0], [51.55342, 0.09873, 1.0], [51.595752, 0.059531, 1.0], [51.562962, 0.031789, 1.0], [51.576733, 0.067186, 1.0], [51.578538, 0.071887, 1.0], [51.566205, 0.107977, 1.0], [51.564434, 0.081201, 2.0], [51.578116, 0.085579, 1.0], [51.553323, 0.09411, 2.0], [51.559046, 0.09596, 1.0], [51.570511, 0.103558, 1.0], [51.550978, 0.07424, 1.0], [51.576164, 0.027615, 1.0], [51.578602, 0.04259, 1.0], [51.593095, 0.036599, 1.0], [51.558782, 0.070267, 1.0], [51.559716, 0.093682, 1.0], [51.602935, 0.03444, 1.0], [51.593701, 0.022332, 1.0], [51.577297, 0.065768, 2.0], [51.597537, 0.080693, 2.0], [51.607376, 0.108873, 2.0], [51.564905, 0.110225, 1.0], [51.57684, 0.066181, 1.0], [51.556618, 0.070602, 2.0], [51.546622, 0.076494, 1.0], [51.607355, 0.033626, 1.0], [51.588552, 0.039283, 1.0], [51.590145, 0.051048, 1.0], [51.563152, 0.067291, 1.0], [51.573294, 0.083627, 1.0], [51.610232, 0.115072, 1.0], [51.582405, 0.117243, 1.0], [51.559338, 0.079526, 1.0], [51.571634, 0.034773, 2.0], [51.566211, 0.082437, 1.0], [51.590377, 0.032579, 1.0], [51.592568, 0.041051, 1.0], [51.556163, 0.06582, 1.0], [51.568237, 0.089889, 1.0], [51.582169, 0.075083, 1.0], [51.5761, 0.052003, 1.0], [51.585409, 0.085047, 1.0], [51.56644, 0.109864, 1.0], [51.572771, 0.046946, 1.0], [51.587109, 0.039507, 1.0], [51.582136, 0.08201, 1.0], [51.597814, 0.080273, 1.0], [51.585457, 0.117529, 1.0], [51.570731, 0.10631, 1.0], [51.606878, 0.019596, 1.0], [51.561059, 0.083933, 1.0], [51.581845, 0.057747, 1.0], [51.593694, 0.064058, 1.0], [51.573384, 0.083631, 1.0], [51.576495, 0.060248, 1.0], [51.576408, 0.044656, 1.0], [51.577881, 0.073444, 1.0], [51.60723, 0.020045, 1.0], [51.584107, 0.077337, 1.0], [51.59476, 0.03393, 1.0], [51.555337, 0.066793, 1.0], [51.565124, 0.103021, 1.0], [51.594839, 0.039709, 1.0], [51.617464, 0.026277, 1.0], [51.561064, 0.083644, 1.0], [51.594957, 0.084185, 1.0], [51.558649, 0.041984, 1.0], [51.602544, 0.087421, 1.0], [51.576653, 0.066605, 1.0], [51.591397, 0.066841, 1.0], [51.565537, 0.10506, 1.0], [51.561719, 0.041256, 1.0], [51.574364, 0.017288, 1.0], [51.575186, 0.083424, 1.0], [51.560714, 0.062708, 1.0], [51.57131, 0.063621, 1.0], [51.587539, 0.035484, 2.0], [51.572219, 0.083433, 1.0], [51.562877, 0.067567, 1.0], [51.591544, 0.058474, 1.0], [51.572362, 0.095562, 1.0], [51.604673, 0.048237, 1.0], [51.591685, 0.02975, 1.0], [51.564147, 0.097349, 1.0], [51.610784, 0.022514, 1.0], [51.557051, 0.066438, 1.0], [51.563257, 0.025165, 1.0], [51.55913, 0.096252, 1.0], [51.564378, 0.11453, 1.0], [51.57712, 0.03473, 1.0], [51.564257, 0.096199, 1.0], [51.564674, 0.021188, 1.0], [51.613633, 0.024229, 1.0], [51.590054, 0.081795, 1.0], [51.569305, 0.023846, 1.0], [51.582913, 0.103987, 1.0], [51.590914, 0.053393, 1.0], [51.559102, 0.112842, 2.0], [51.576325, 0.059663, 1.0], [51.55671, 0.085754, 1.0], [51.591587, 0.035376, 1.0], [51.556266, 0.065104, 1.0], [51.556086, 0.065095, 1.0], [51.556001, 0.064803, 1.0], [51.555626, 0.065652, 1.0], [51.564193, 0.124766, 1.0], [51.608388, 0.020674, 1.0], [51.570494, 0.129389, 1.0], [51.56771, 0.094194, 1.0], [51.57033, 0.128515, 1.0], [51.54653, 0.076634, 1.0], [51.587056, 0.128575, 1.0], [51.544627, 0.077413, 1.0], [51.575852, 0.040446, 2.0], [51.563103, 0.110431, 2.0], [51.577277, 0.036036, 1.0], [51.603833, 0.018883, 3.0], [51.550294, 0.092528, 2.0], [51.594505, 0.084309, 1.0], [51.57828, 0.096556, 3.0], [51.564047, 0.082771, 2.0], [51.565704, 0.105789, 1.0], [51.591599, 0.060498, 2.0], [51.616547, 0.016847, 1.0], [51.557618, 0.075119, 2.0], [51.566967, 0.110609, 1.0], [51.563277, 0.0344, 1.0], [51.556266, 0.065104, 1.0], [51.56273, 0.091079, 1.0], [51.562602, 0.113293, 1.0], [51.557707, 0.070074, 1.0], [51.546663, 0.074188, 1.0], [51.568707, 0.083705, 1.0], [51.561803, 0.077474, 1.0], [51.569679, 0.074514, 1.0], [51.608388, 0.102565, 1.0], [51.600627, 0.043001, 1.0], [51.559487, 0.076214, 2.0], [51.603019, 0.019136, 3.0], [51.559423, 0.079818, 1.0], [51.572363, 0.034228, 1.0], [51.60741, 0.020053, 2.0], [51.612933, 0.094831, 2.0], [51.601791, 0.084209, 1.0], [51.567234, 0.110766, 1.0], [51.584955, 0.054712, 2.0], [51.605018, 0.017925, 1.0], [51.57228, 0.064675, 2.0], [51.573857, 0.112516, 2.0], [51.597161, 0.066381, 2.0], [51.551915, 0.10746, 2.0], [51.563034, 0.109273, 1.0]],\n",
       "                {\n",
       "  &quot;minOpacity&quot;: 0.5,\n",
       "  &quot;maxZoom&quot;: 1,\n",
       "  &quot;radius&quot;: 10,\n",
       "  &quot;blur&quot;: 15,\n",
       "}\n",
       "            );\n",
       "        \n",
       "    \n",
       "            heat_map_b4031a87f56d62d3f1dd7fa7f00baa4a.addTo(map_2dfd42e5d587d76ebf5eea6e33b73279);\n",
       "        \n",
       "&lt;/script&gt;\n",
       "&lt;/html&gt;\" style=\"position:absolute;width:100%;height:100%;left:0;top:0;border:none !important;\" allowfullscreen webkitallowfullscreen mozallowfullscreen></iframe></div></div>"
      ],
      "text/plain": [
       "<folium.folium.Map at 0x2499d5c4980>"
      ]
     },
     "execution_count": 51,
     "metadata": {},
     "output_type": "execute_result"
    }
   ],
   "source": [
    "import folium\n",
    "from folium.plugins import HeatMap\n",
    "\n",
    "\n",
    "severity_weights = {'Slight': 1, 'Serious': 2, 'Fatal': 3}\n",
    "redbridge_data['Weight'] = redbridge_data['Accident_Severity'].map(severity_weights)\n",
    "\n",
    "\n",
    "map_center = [redbridge_data['Latitude'].mean(), redbridge_data['Longitude'].mean()]\n",
    "m = folium.Map(location=map_center, zoom_start=12)\n",
    "\n",
    "\n",
    "heat_data = redbridge_data[['Latitude', 'Longitude', 'Weight']].values.tolist()\n",
    "\n",
    "\n",
    "HeatMap(heat_data, radius=10, blur=15, max_zoom=1).add_to(m)\n",
    "\n",
    "\n",
    "m"
   ]
  },
  {
   "cell_type": "code",
   "execution_count": 52,
   "id": "55a99c9f",
   "metadata": {},
   "outputs": [
    {
     "data": {
      "text/html": [
       "<div style=\"width:100%;\"><div style=\"position:relative;width:100%;height:0;padding-bottom:60%;\"><span style=\"color:#565656\">Make this Notebook Trusted to load map: File -> Trust Notebook</span><iframe srcdoc=\"&lt;!DOCTYPE html&gt;\n",
       "&lt;html&gt;\n",
       "&lt;head&gt;\n",
       "    \n",
       "    &lt;meta http-equiv=&quot;content-type&quot; content=&quot;text/html; charset=UTF-8&quot; /&gt;\n",
       "    &lt;script src=&quot;https://cdn.jsdelivr.net/npm/leaflet@1.9.3/dist/leaflet.js&quot;&gt;&lt;/script&gt;\n",
       "    &lt;script src=&quot;https://code.jquery.com/jquery-3.7.1.min.js&quot;&gt;&lt;/script&gt;\n",
       "    &lt;script src=&quot;https://cdn.jsdelivr.net/npm/bootstrap@5.2.2/dist/js/bootstrap.bundle.min.js&quot;&gt;&lt;/script&gt;\n",
       "    &lt;script src=&quot;https://cdnjs.cloudflare.com/ajax/libs/Leaflet.awesome-markers/2.0.2/leaflet.awesome-markers.js&quot;&gt;&lt;/script&gt;\n",
       "    &lt;link rel=&quot;stylesheet&quot; href=&quot;https://cdn.jsdelivr.net/npm/leaflet@1.9.3/dist/leaflet.css&quot;/&gt;\n",
       "    &lt;link rel=&quot;stylesheet&quot; href=&quot;https://cdn.jsdelivr.net/npm/bootstrap@5.2.2/dist/css/bootstrap.min.css&quot;/&gt;\n",
       "    &lt;link rel=&quot;stylesheet&quot; href=&quot;https://netdna.bootstrapcdn.com/bootstrap/3.0.0/css/bootstrap-glyphicons.css&quot;/&gt;\n",
       "    &lt;link rel=&quot;stylesheet&quot; href=&quot;https://cdn.jsdelivr.net/npm/@fortawesome/fontawesome-free@6.2.0/css/all.min.css&quot;/&gt;\n",
       "    &lt;link rel=&quot;stylesheet&quot; href=&quot;https://cdnjs.cloudflare.com/ajax/libs/Leaflet.awesome-markers/2.0.2/leaflet.awesome-markers.css&quot;/&gt;\n",
       "    &lt;link rel=&quot;stylesheet&quot; href=&quot;https://cdn.jsdelivr.net/gh/python-visualization/folium/folium/templates/leaflet.awesome.rotate.min.css&quot;/&gt;\n",
       "    \n",
       "            &lt;meta name=&quot;viewport&quot; content=&quot;width=device-width,\n",
       "                initial-scale=1.0, maximum-scale=1.0, user-scalable=no&quot; /&gt;\n",
       "            &lt;style&gt;\n",
       "                #map_8e27c5815ecf7a18a484b9030b1c7dca {\n",
       "                    position: relative;\n",
       "                    width: 100.0%;\n",
       "                    height: 100.0%;\n",
       "                    left: 0.0%;\n",
       "                    top: 0.0%;\n",
       "                }\n",
       "                .leaflet-container { font-size: 1rem; }\n",
       "            &lt;/style&gt;\n",
       "\n",
       "            &lt;style&gt;html, body {\n",
       "                width: 100%;\n",
       "                height: 100%;\n",
       "                margin: 0;\n",
       "                padding: 0;\n",
       "            }\n",
       "            &lt;/style&gt;\n",
       "\n",
       "            &lt;style&gt;#map {\n",
       "                position:absolute;\n",
       "                top:0;\n",
       "                bottom:0;\n",
       "                right:0;\n",
       "                left:0;\n",
       "                }\n",
       "            &lt;/style&gt;\n",
       "\n",
       "            &lt;script&gt;\n",
       "                L_NO_TOUCH = false;\n",
       "                L_DISABLE_3D = false;\n",
       "            &lt;/script&gt;\n",
       "\n",
       "        \n",
       "    &lt;script src=&quot;https://cdn.jsdelivr.net/gh/python-visualization/folium@main/folium/templates/leaflet_heat.min.js&quot;&gt;&lt;/script&gt;\n",
       "&lt;/head&gt;\n",
       "&lt;body&gt;\n",
       "    \n",
       "    \n",
       "            &lt;div class=&quot;folium-map&quot; id=&quot;map_8e27c5815ecf7a18a484b9030b1c7dca&quot; &gt;&lt;/div&gt;\n",
       "        \n",
       "&lt;/body&gt;\n",
       "&lt;script&gt;\n",
       "    \n",
       "    \n",
       "            var map_8e27c5815ecf7a18a484b9030b1c7dca = L.map(\n",
       "                &quot;map_8e27c5815ecf7a18a484b9030b1c7dca&quot;,\n",
       "                {\n",
       "                    center: [53.52772317631192, -1.123932509073075],\n",
       "                    crs: L.CRS.EPSG3857,\n",
       "                    ...{\n",
       "  &quot;zoom&quot;: 12,\n",
       "  &quot;zoomControl&quot;: true,\n",
       "  &quot;preferCanvas&quot;: false,\n",
       "}\n",
       "\n",
       "                }\n",
       "            );\n",
       "\n",
       "            \n",
       "\n",
       "        \n",
       "    \n",
       "            var tile_layer_25864d9df71bce3b7c4bfaca58bf34be = L.tileLayer(\n",
       "                &quot;https://tile.openstreetmap.org/{z}/{x}/{y}.png&quot;,\n",
       "                {\n",
       "  &quot;minZoom&quot;: 0,\n",
       "  &quot;maxZoom&quot;: 19,\n",
       "  &quot;maxNativeZoom&quot;: 19,\n",
       "  &quot;noWrap&quot;: false,\n",
       "  &quot;attribution&quot;: &quot;\\u0026copy; \\u003ca href=\\&quot;https://www.openstreetmap.org/copyright\\&quot;\\u003eOpenStreetMap\\u003c/a\\u003e contributors&quot;,\n",
       "  &quot;subdomains&quot;: &quot;abc&quot;,\n",
       "  &quot;detectRetina&quot;: false,\n",
       "  &quot;tms&quot;: false,\n",
       "  &quot;opacity&quot;: 1,\n",
       "}\n",
       "\n",
       "            );\n",
       "        \n",
       "    \n",
       "            tile_layer_25864d9df71bce3b7c4bfaca58bf34be.addTo(map_8e27c5815ecf7a18a484b9030b1c7dca);\n",
       "        \n",
       "    \n",
       "            var heat_map_7c40e45e640c190aac85b6054f2c8014 = L.heatLayer(\n",
       "                [[53.478746, -1.229086, 1.0], [53.587508, -1.161846, 1.0], [53.568794, -1.18532, 1.0], [53.610567, -1.155948, 1.0], [53.516411, -1.124791, 1.0], [53.516411, -1.124791, 1.0], [53.521243, -1.134194, 1.0], [53.528159, -1.096942, 1.0], [53.490864, -1.240472, 1.0], [53.524636, -1.106671, 1.0], [53.576499, -0.982486, 1.0], [53.556714, -1.141773, 1.0], [53.614646, -1.22752, 3.0], [53.443874, -1.202466, 1.0], [53.504044, -1.058856, 1.0], [53.57561, -1.083849, 2.0], [53.503783, -1.106808, 1.0], [53.524637, -1.106822, 1.0], [53.495391, -1.177381, 1.0], [53.477935, -1.076612, 1.0], [53.528238, -1.13194, 2.0], [53.52163, -1.137957, 1.0], [53.504674, -1.155188, 1.0], [53.528599, -1.144604, 1.0], [53.546906, -1.165818, 1.0], [53.568882, -1.185167, 1.0], [53.618695, -0.976483, 2.0], [53.510042, -1.151613, 1.0], [53.505194, -1.16528, 1.0], [53.535422, -1.026022, 1.0], [53.528765, -1.117899, 1.0], [53.53189, -1.152384, 1.0], [53.57555, -1.214489, 1.0], [53.493175, -1.279772, 1.0], [53.576935, -1.013136, 2.0], [53.617635, -0.957762, 1.0], [53.569501, -1.183645, 1.0], [53.540766, -1.149037, 2.0], [53.522717, -1.126773, 1.0], [53.531508, -1.112109, 1.0], [53.534539, -1.096655, 1.0], [53.477986, -1.071638, 2.0], [53.630264, -1.157521, 1.0], [53.533635, -1.10799, 1.0], [53.492433, -1.276017, 1.0], [53.587596, -1.242516, 3.0], [53.518989, -1.10875, 1.0], [53.608425, -0.953001, 1.0], [53.52102, -0.980498, 1.0], [53.498953, -1.284046, 1.0], [53.517066, -1.116181, 1.0], [53.516848, -1.123123, 1.0], [53.584067, -1.184271, 1.0], [53.488973, -1.159419, 2.0], [53.485625, -1.15617, 1.0], [53.578536, -0.989536, 1.0], [53.517411, -1.138797, 1.0], [53.538055, -1.11001, 1.0], [53.615934, -1.152213, 1.0], [53.54971, -1.264323, 1.0], [53.508434, -1.153002, 1.0], [53.560193, -1.216585, 1.0], [53.601016, -0.990511, 2.0], [53.541242, -1.1528, 1.0], [53.461074, -1.207114, 1.0], [53.507774, -1.148643, 1.0], [53.500473, -1.158588, 1.0], [53.480814, -1.229199, 1.0], [53.451587, -1.063781, 1.0], [53.618155, -1.214152, 1.0], [53.524057, -1.137908, 1.0], [53.433692, -1.109934, 1.0], [53.634747, -0.982598, 1.0], [53.540597, -1.15055, 1.0], [53.554397, -1.060758, 1.0], [53.511965, -1.236928, 1.0], [53.509692, -1.127946, 1.0], [53.527321, -1.141915, 1.0], [53.502054, -1.092069, 1.0], [53.477795, -1.070136, 1.0], [53.622472, -1.111712, 1.0], [53.51249, -1.141913, 2.0], [53.508942, -1.075938, 1.0], [53.515352, -1.045183, 1.0], [53.51608, -1.116503, 1.0], [53.540228, -1.112228, 1.0], [53.519986, -1.122003, 1.0], [53.540348, -1.104228, 1.0], [53.497762, -1.182461, 1.0], [53.511206, -1.125954, 1.0], [53.535493, -1.057254, 1.0], [53.504855, -1.155335, 2.0], [53.540047, -1.112081, 1.0], [53.527721, -1.134967, 1.0], [53.518354, -1.144962, 1.0], [53.48602, -1.187359, 2.0], [53.528829, -1.126647, 1.0], [53.527167, -1.133017, 1.0], [53.620739, -0.952999, 2.0], [53.6079, -1.17308, 2.0], [53.567881, -1.157402, 1.0], [53.590182, -0.963877, 1.0], [53.533502, -1.10226, 1.0], [53.524764, -1.136234, 1.0], [53.493, -1.295753, 1.0], [53.527385, -1.125923, 1.0], [53.540071, -1.022897, 1.0], [53.476276, -1.195229, 1.0], [53.480132, -1.058632, 1.0], [53.577822, -1.000881, 1.0], [53.473969, -1.160469, 2.0], [53.527962, -1.143561, 1.0], [53.605618, -1.221488, 2.0], [53.513474, -1.092579, 1.0], [53.529918, -1.115913, 1.0], [53.52883, -1.126798, 1.0], [53.519515, -1.119147, 1.0], [53.488428, -1.158525, 1.0], [53.527519, -1.131954, 1.0], [53.485222, -1.188881, 2.0], [53.507595, -1.148797, 1.0], [53.489191, -1.114801, 1.0], [53.507704, -1.033141, 1.0], [53.493806, -1.156459, 1.0], [53.516583, -1.111666, 1.0], [53.44979, -1.110953, 1.0], [53.498459, -1.116116, 1.0], [53.516937, -1.098839, 1.0], [53.498909, -1.116257, 1.0], [53.536372, -1.077755, 1.0], [53.477309, -1.243276, 1.0], [53.536755, -1.104454, 1.0], [53.628276, -0.951451, 1.0], [53.520887, -1.134654, 1.0], [53.512643, -1.216558, 1.0], [53.48893, -1.116012, 1.0], [53.560053, -1.037232, 1.0], [53.493341, -1.277509, 1.0], [53.444053, -1.202312, 1.0], [53.481705, -1.18729, 2.0], [53.470623, -1.061102, 1.0], [53.525052, -1.114205, 1.0], [53.472077, -1.254668, 1.0], [53.562835, -1.194795, 1.0], [53.577122, -1.154953, 1.0], [53.530132, -1.145328, 1.0], [53.548667, -1.160501, 1.0], [53.494982, -1.157491, 1.0], [53.521243, -1.134194, 1.0], [53.590477, -1.21527, 1.0], [53.519121, -1.114479, 1.0], [53.553539, -1.065909, 1.0], [53.534541, -1.145843, 1.0], [53.512792, -1.074044, 2.0], [53.549696, -1.166216, 1.0], [53.577263, -1.272001, 2.0], [53.494455, -1.268596, 1.0], [53.503918, -1.162742, 1.0], [53.461594, -1.151977, 1.0], [53.523272, -1.192981, 1.0], [53.47663, -1.249616, 1.0], [53.518915, -1.110864, 1.0], [53.606687, -0.959845, 1.0], [53.504855, -1.155335, 1.0], [53.523471, -1.131584, 1.0], [53.539601, -1.053842, 1.0], [53.54079, -1.191441, 1.0], [53.525657, -1.123092, 1.0], [53.528088, -1.136016, 1.0], [53.527505, -1.129993, 1.0], [53.576312, -1.081568, 1.0], [53.515642, -1.130387, 1.0], [53.540051, -1.112533, 1.0], [53.581058, -1.177985, 1.0], [53.507774, -1.148643, 1.0], [53.557081, -1.181318, 1.0], [53.533951, -1.177087, 1.0], [53.53526, -1.085173, 1.0], [53.522541, -1.102944, 1.0], [53.539393, -1.061694, 1.0], [53.517491, -1.100788, 1.0], [53.592013, -0.988762, 1.0], [53.50014, -1.076883, 1.0], [53.499847, -1.159053, 1.0], [53.515367, -1.129639, 1.0], [53.557536, -1.182215, 1.0], [53.488662, -1.233428, 2.0], [53.511847, -1.232406, 2.0], [53.430791, -1.156052, 2.0], [53.481922, -1.2337, 2.0], [53.492948, -1.286861, 1.0], [53.514429, -1.124229, 1.0], [53.585016, -1.191654, 1.0], [53.516726, -1.04847, 1.0], [53.543343, -1.096015, 1.0], [53.525597, -1.102879, 1.0], [53.521214, -1.130122, 1.0], [53.611011, -0.960948, 1.0], [53.535183, -1.160465, 2.0], [53.50103, -1.285519, 1.0], [53.489232, -1.145246, 1.0], [53.574365, -1.006702, 1.0], [53.516941, -1.099443, 2.0], [53.542861, -1.056939, 1.0], [53.564626, -0.981564, 1.0], [53.527692, -1.106607, 1.0], [53.515462, -1.249684, 1.0], [53.586324, -1.185738, 1.0], [53.565401, -1.202145, 1.0], [53.495271, -1.299786, 1.0], [53.492519, -1.275412, 1.0], [53.514621, -1.101603, 1.0], [53.552621, -1.147592, 2.0], [53.521359, -1.137812, 1.0], [53.509153, -1.056933, 1.0], [53.522669, -1.132506, 1.0], [53.481468, -1.057095, 2.0], [53.56753, -1.197877, 1.0], [53.508909, -1.060256, 1.0], [53.505666, -1.106165, 2.0], [53.538551, -1.166435, 1.0], [53.496462, -1.150678, 2.0], [53.477224, -1.189184, 1.0], [53.532722, -1.118269, 1.0], [53.464294, -1.152375, 1.0], [53.546038, -1.049473, 2.0], [53.494335, -1.167754, 1.0], [53.548047, -1.088066, 1.0], [53.540399, -1.111017, 1.0], [53.592918, -0.978919, 1.0], [53.532264, -1.154337, 1.0], [53.457798, -1.174644, 2.0], [53.562139, -1.028428, 2.0], [53.486176, -0.984348, 1.0], [53.534642, -1.086544, 1.0], [53.508029, -1.074148, 1.0], [53.529713, -1.100379, 1.0], [53.643407, -1.051974, 1.0], [53.544091, -1.161647, 1.0], [53.430842, -1.113455, 1.0], [53.545411, -1.170526, 1.0], [53.522198, -1.129499, 1.0], [53.500158, -1.152112, 1.0], [53.513663, -1.194219, 1.0], [53.525378, -1.134261, 1.0], [53.615935, -1.152364, 1.0], [53.51023, -1.127784, 1.0], [53.499007, -1.142034, 1.0], [53.526544, -1.133784, 1.0], [53.528883, -1.134038, 1.0], [53.587439, -0.918018, 1.0], [53.570309, -0.994565, 1.0], [53.565883, -1.081341, 2.0], [53.433499, -1.09609, 1.0], [53.492584, -1.148796, 1.0], [53.590208, -0.987898, 1.0], [53.567789, -1.157102, 1.0], [53.536188, -1.162709, 1.0], [53.519725, -1.135583, 1.0], [53.498586, -1.158626, 1.0], [53.529617, -1.148657, 1.0], [53.513923, -1.247902, 2.0], [53.507068, -1.150466, 1.0], [53.547216, -1.061974, 3.0], [53.478185, -1.03984, 1.0], [53.579928, -1.005514, 1.0], [53.525443, -1.106352, 1.0], [53.577712, -1.175029, 1.0], [53.549355, -1.265084, 1.0], [53.583627, -1.017965, 1.0], [53.431418, -1.082587, 1.0], [53.58391, -1.01962, 1.0], [53.530042, -1.14533, 1.0], [53.508211, -1.074446, 1.0], [53.526711, -1.132122, 1.0], [53.492572, -1.254761, 1.0], [53.480902, -1.149332, 1.0], [53.527945, -1.046258, 1.0], [53.548671, -1.087449, 1.0], [53.523818, -1.129767, 1.0], [53.531789, -1.125832, 1.0], [53.493673, -1.272981, 1.0], [53.478843, -1.150578, 1.0], [53.58404, -1.154513, 1.0], [53.619337, -0.977979, 1.0], [53.527869, -1.143111, 1.0], [53.50707, -1.150768, 1.0], [53.497421, -1.283319, 1.0], [53.545387, -1.081181, 1.0], [53.580225, -1.019705, 1.0], [53.582092, -1.184611, 1.0], [53.569928, -0.981436, 1.0], [53.521901, -1.138103, 1.0], [53.51381, -1.089556, 1.0], [53.591027, -0.989087, 1.0], [53.496282, -0.98893, 1.0], [53.523839, -1.108196, 1.0], [53.452415, -1.113307, 2.0], [53.507986, -1.034643, 1.0], [53.481238, -1.225274, 1.0], [53.523531, -0.979834, 1.0], [53.589458, -1.027499, 1.0], [53.519816, -1.135732, 1.0], [53.491425, -1.162988, 1.0], [53.490424, -1.161199, 1.0], [53.507691, -1.042641, 1.0], [53.58851, -1.189926, 1.0], [53.521551, -1.127099, 1.0], [53.558304, -1.216318, 2.0], [53.50858, -1.075644, 1.0], [53.508754, -1.147417, 1.0], [53.547066, -1.077372, 1.0], [53.537044, -1.119235, 1.0], [53.432667, -1.081356, 1.0], [53.523636, -1.129469, 1.0], [53.533762, -1.100896, 1.0], [53.495754, -1.001003, 1.0], [53.523263, -0.979992, 1.0], [53.565438, -0.981997, 1.0], [53.542226, -1.275167, 1.0], [53.523024, -1.131895, 1.0], [53.533447, -1.156426, 1.0], [53.515075, -1.138995, 1.0], [53.599568, -1.010795, 1.0], [53.53272, -1.117967, 1.0], [53.537754, -1.118014, 1.0], [53.586051, -0.985278, 1.0], [53.573508, -1.067735, 1.0], [53.518177, -1.145267, 1.0], [53.552099, -1.125112, 1.0], [53.523203, -1.131741, 1.0], [53.631537, -1.185624, 1.0], [53.478779, -1.081114, 1.0], [53.497665, -1.070756, 1.0], [53.516545, -1.106539, 1.0], [53.599468, -1.009589, 1.0], [53.597942, -1.065686, 1.0], [53.498048, -1.158787, 1.0], [53.47475, -1.195559, 1.0], [53.540721, -1.025447, 1.0], [53.587562, -1.026485, 1.0], [53.494161, -1.294377, 1.0], [53.610643, -1.153981, 1.0], [53.499836, -1.144731, 1.0], [53.586397, -1.196462, 1.0], [53.446918, -1.200602, 1.0], [53.519906, -1.13573, 1.0], [53.599894, -1.028619, 1.0], [53.506966, -1.14881, 1.0], [53.488249, -1.121151, 1.0], [53.524814, -1.130803, 1.0], [53.536841, -1.166167, 1.0], [53.508362, -1.142901, 1.0], [53.515909, -1.129929, 1.0], [53.491697, -1.163284, 1.0], [53.488972, -1.159268, 1.0], [53.525378, -1.134261, 1.0], [53.588926, -1.158947, 1.0], [53.513915, -1.140074, 1.0], [53.573079, -0.992687, 1.0], [53.596493, -1.161366, 1.0], [53.565032, -1.019453, 1.0], [53.539985, -1.023352, 2.0], [53.573281, -0.92291, 1.0], [53.550921, -0.976761, 1.0], [53.473856, -1.07218, 1.0], [53.570694, -0.976434, 1.0], [53.517338, -1.128693, 1.0], [53.649183, -0.957438, 1.0], [53.504758, -1.248517, 1.0], [53.50023, -1.076881, 1.0], [53.529578, -1.094498, 1.0], [53.604551, -1.16967, 1.0], [53.516871, -1.044093, 1.0], [53.5779, -1.216409, 1.0], [53.513424, -1.226044, 1.0], [53.581463, -1.225255, 1.0], [53.527163, -1.120195, 1.0], [53.542511, -1.262939, 3.0], [53.526457, -1.109801, 1.0], [53.606098, -0.964545, 1.0], [53.536139, -1.025703, 1.0], [53.501268, -1.25099, 1.0], [53.501564, -1.160376, 1.0], [53.535272, -1.160313, 1.0], [53.42976, -1.020913, 1.0], [53.548751, -1.146915, 1.0], [53.514533, -1.138554, 1.0], [53.522572, -1.131452, 1.0], [53.513367, -1.245348, 1.0], [53.563468, -1.195387, 1.0], [53.537428, -1.063246, 1.0], [53.577122, -1.154953, 1.0], [53.488856, -1.249853, 1.0], [53.478735, -1.148019, 1.0], [53.480629, -1.148885, 1.0], [53.540032, -1.062887, 1.0], [53.589755, -1.21483, 1.0], [53.545937, -1.082528, 1.0], [53.545936, -1.082377, 1.0], [53.465319, -1.183386, 1.0], [53.526417, -1.116439, 1.0], [53.533649, -1.097881, 1.0], [53.508394, -1.063283, 1.0], [53.515022, -1.095261, 1.0], [53.472492, -1.142268, 1.0], [53.5076, -1.149551, 1.0], [53.571316, -1.199466, 1.0], [53.589076, -0.98158, 1.0], [53.589772, -1.245498, 1.0], [53.532722, -1.118269, 1.0], [53.570873, -1.200381, 2.0], [53.500484, -1.173061, 1.0], [53.44145, -1.113536, 1.0], [53.520564, -1.1781, 1.0], [53.438649, -1.076109, 1.0], [53.523686, -1.271411, 1.0], [53.480902, -1.149332, 1.0], [53.485493, -1.258352, 1.0], [53.480278, -1.150097, 1.0], [53.48775, -1.090566, 1.0], [53.472077, -1.254668, 1.0], [53.517796, -1.27845, 1.0], [53.517262, -1.118288, 1.0], [53.531339, -1.150735, 1.0], [53.534345, -1.106768, 1.0], [53.55638, -1.061469, 1.0], [53.566156, -1.15502, 1.0], [53.511152, -1.143448, 2.0], [53.521211, -1.129821, 1.0], [53.496909, -1.303075, 1.0], [53.526316, -1.127152, 1.0], [53.573096, -1.144915, 1.0], [53.513019, -1.091835, 1.0], [53.520104, -1.176601, 1.0], [53.607063, -0.951523, 1.0], [53.581394, -1.019678, 1.0], [53.521868, -1.133578, 1.0], [53.547572, -1.14558, 1.0], [53.480643, -1.189722, 1.0], [53.510354, -1.07259, 1.0], [53.534345, -1.106768, 2.0], [53.513384, -1.092581, 1.0], [53.547747, -1.144822, 1.0], [53.502869, -1.081045, 1.0], [53.513095, -1.101937, 1.0], [53.560315, -1.03632, 1.0], [53.560583, -1.235148, 1.0], [53.598398, -1.021551, 2.0], [53.481289, -1.247274, 1.0], [53.575961, -1.156033, 1.0], [53.523265, -1.127968, 1.0], [53.562566, -1.1948, 1.0], [53.497453, -1.27367, 1.0], [53.515279, -1.129791, 1.0], [53.521826, -1.127847, 1.0], [53.547571, -1.145429, 1.0], [53.487836, -1.176774, 1.0], [53.467191, -1.142676, 1.0], [53.438074, -1.106832, 1.0], [53.520755, -1.128925, 1.0], [53.510948, -1.10334, 1.0], [53.439153, -1.004589, 1.0], [53.51651, -1.11393, 1.0], [53.530978, -1.113327, 1.0], [53.43279, -1.109501, 1.0], [53.568775, -0.901884, 1.0], [53.555477, -1.084133, 1.0], [53.53121, -1.145155, 1.0], [53.514444, -1.190133, 1.0], [53.519734, -1.136789, 1.0], [53.493412, -1.274342, 1.0], [53.522451, -1.102946, 2.0], [53.547068, -1.077673, 1.0], [53.6021, -1.219437, 1.0], [53.479207, -1.2449, 1.0], [53.480705, -1.226188, 1.0], [53.529897, -1.188933, 2.0], [53.473344, -1.075807, 1.0], [53.540943, -1.228107, 1.0], [53.610375, -1.154138, 1.0], [53.511868, -1.082359, 1.0], [53.508137, -1.064948, 1.0], [53.576905, -1.175347, 1.0], [53.521647, -0.980181, 1.0], [53.528766, -1.11805, 1.0], [53.522998, -1.128276, 1.0], [53.530857, -1.121325, 1.0], [53.48902, -1.116011, 1.0], [53.52374, -1.131428, 2.0], [53.514444, -1.138706, 1.0], [53.507658, -1.096171, 1.0], [53.543551, -1.087861, 1.0], [53.577196, -1.001198, 1.0], [53.481061, -1.225578, 1.0], [53.479351, -1.146198, 1.0], [53.518635, -1.109512, 1.0], [53.524764, -1.136234, 1.0], [53.538973, -1.100635, 1.0], [53.536448, -1.099481, 1.0], [53.517128, -1.100344, 1.0], [53.541588, -1.216778, 1.0], [53.587686, -1.161691, 3.0], [53.559737, -1.188513, 1.0], [53.517873, -1.103797, 1.0], [53.57534, -1.015892, 2.0], [53.479911, -1.21475, 1.0], [53.580967, -1.177835, 2.0], [53.535426, -1.026474, 2.0], [53.52252, -1.162073, 1.0], [53.49161, -1.244679, 1.0], [53.516757, -1.098843, 1.0], [53.474932, -1.144177, 1.0], [53.5754, -1.001392, 1.0], [53.472526, -1.07462, 1.0], [53.61659, -1.14328, 2.0], [53.637578, -1.100354, 1.0], [53.459282, -1.059244, 1.0], [53.495835, -0.989243, 1.0], [53.508598, -1.10158, 1.0], [53.522444, -1.138695, 1.0], [53.476006, -1.236368, 1.0], [53.481671, -1.236568, 1.0], [53.563474, -1.072032, 2.0], [53.506447, -1.151685, 1.0], [53.477895, -1.071489, 1.0], [53.53144, -1.056287, 1.0], [53.500943, -1.174409, 1.0], [53.527345, -1.096356, 1.0], [53.532903, -1.155683, 1.0], [53.534327, -1.116425, 1.0], [53.542445, -1.061174, 1.0], [53.543124, -1.102811, 1.0], [53.540323, -1.042961, 1.0], [53.52883, -1.126798, 1.0], [53.452477, -1.062557, 1.0], [53.470255, -1.16928, 1.0], [53.480156, -1.084851, 1.0], [53.542256, -1.169229, 1.0], [53.477634, -1.223833, 1.0], [53.541553, -1.028295, 1.0], [53.533502, -1.10226, 2.0], [53.464858, -1.130823, 3.0], [53.492143, -1.150011, 1.0], [53.534417, -1.116423, 1.0], [53.437042, -1.077499, 1.0], [53.526363, -1.133637, 1.0], [53.515642, -1.130387, 1.0], [53.503921, -1.113288, 1.0], [53.499189, -1.180775, 1.0], [53.499798, -1.152119, 1.0], [53.551672, -1.140668, 1.0], [53.507055, -1.148657, 1.0], [53.450665, -1.183064, 1.0], [53.573516, -0.980595, 1.0], [53.579887, -0.968811, 1.0], [53.532137, -1.100025, 1.0], [53.502657, -1.162314, 1.0], [53.497762, -1.182461, 1.0], [53.46954, -1.169746, 1.0], [53.552092, -0.977034, 1.0], [53.484539, -1.194319, 2.0], [53.493415, -1.274945, 1.0], [53.52809, -1.136317, 1.0], [53.501566, -1.160527, 1.0], [53.544522, -1.085576, 1.0], [53.495651, -1.150393, 1.0], [53.540915, -1.060906, 1.0], [53.506979, -1.150619, 1.0], [53.58741, -1.213665, 1.0], [53.540696, -1.190839, 1.0], [53.604914, -1.170116, 1.0], [53.432479, -1.103939, 1.0], [53.568866, -0.902032, 1.0], [53.477202, -1.19928, 2.0], [53.500944, -1.17456, 1.0], [53.587502, -1.213965, 1.0], [53.59949, -1.023188, 1.0], [53.547293, -1.048992, 1.0], [53.528655, -1.152448, 1.0], [53.444053, -1.202312, 1.0], [53.502657, -1.162314, 1.0], [53.574374, -0.914576, 1.0], [53.573281, -0.92291, 1.0], [53.499, -1.116406, 1.0], [53.547286, -1.071028, 1.0], [53.529532, -1.124521, 1.0], [53.493002, -1.280981, 1.0], [53.542995, -1.08576, 1.0], [53.52476, -1.135782, 1.0], [53.511768, -1.234217, 1.0], [53.513882, -1.087141, 2.0], [53.476947, -1.242981, 1.0], [53.508208, -1.298517, 1.0], [53.591712, -1.028354, 1.0], [53.554701, -1.149361, 1.0], [53.516789, -1.127347, 1.0], [53.541704, -1.207118, 1.0], [53.438648, -1.075958, 1.0], [53.583093, -0.986256, 1.0], [53.594075, -0.988108, 1.0], [53.575875, -1.083239, 1.0], [53.510596, -1.128681, 1.0], [53.508118, -1.298518, 1.0], [53.535183, -1.160465, 1.0], [53.487802, -1.184913, 1.0], [53.490505, -1.254798, 2.0], [53.623014, -1.174902, 2.0], [53.53894, -1.170652, 1.0], [53.488197, -1.114219, 1.0], [53.533153, -1.103625, 1.0], [53.514293, -1.093919, 1.0], [53.532628, -1.105597, 1.0], [53.521175, -1.137212, 1.0], [53.493268, -1.182397, 1.0], [53.478932, -1.150426, 1.0], [53.512578, -1.14176, 1.0], [53.496285, -1.273841, 1.0], [53.466195, -1.180055, 1.0], [53.553794, -1.148323, 1.0], [53.513084, -1.175229, 1.0], [53.529918, -1.115913, 2.0], [53.407309, -1.1159, 1.0], [53.457799, -1.174795, 1.0], [53.519641, -1.136339, 1.0], [53.525871, -1.115545, 1.0], [53.442953, -1.199171, 1.0], [53.501564, -1.160376, 1.0], [53.646479, -0.956597, 1.0], [53.47691, -1.083565, 1.0], [53.541279, -1.027698, 2.0], [53.592326, -1.026527, 1.0], [53.523204, -1.131892, 1.0], [53.480951, -1.182181, 1.0], [53.523594, -1.11152, 1.0], [53.515426, -1.101134, 2.0], [53.501334, -1.165959, 1.0], [53.489486, -1.168452, 2.0], [53.582899, -1.016925, 1.0], [53.514443, -1.138556, 1.0], [53.517902, -1.132151, 1.0], [53.539556, -1.279589, 1.0], [53.539009, -1.014018, 1.0], [53.471414, -1.036226, 1.0], [53.554401, -1.061211, 1.0], [53.525606, -1.128524, 1.0], [53.514384, -1.094068, 1.0], [53.477969, -1.080981, 1.0], [53.616314, -1.142379, 1.0], [53.569109, -1.012412, 1.0], [53.532721, -1.155384, 2.0], [53.502031, -1.175745, 1.0], [53.532356, -1.154637, 1.0], [53.498416, -1.086569, 1.0], [53.65836, -0.989898, 1.0], [53.594879, -1.042182, 1.0], [53.541662, -1.214362, 1.0], [53.538444, -1.176999, 2.0], [53.619471, -1.13143, 1.0], [53.540676, -1.149039, 2.0], [53.540179, -1.167912, 1.0], [53.532722, -1.118269, 2.0], [53.541106, -1.225539, 1.0], [53.481846, -1.235811, 1.0], [53.480446, -1.148436, 1.0], [53.494465, -1.135343, 1.0], [53.492852, -1.285958, 2.0], [53.496457, -1.30263, 1.0], [53.527112, -1.125476, 1.0], [53.536194, -1.078061, 1.0], [53.612506, -1.163165, 1.0], [53.514534, -1.190131, 1.0], [53.607009, -1.075763, 1.0], [53.522579, -1.132508, 1.0], [53.467531, -1.034054, 3.0], [53.618611, -0.956377, 1.0], [53.540196, -1.237779, 1.0], [53.592706, -1.029086, 1.0], [53.517992, -1.132149, 1.0], [53.452574, -1.18619, 1.0], [53.508638, -1.1438, 2.0], [53.524018, -1.132629, 1.0], [53.524679, -1.124621, 1.0], [53.486265, -0.984346, 1.0], [53.563546, -1.293072, 2.0], [53.48902, -1.116011, 1.0], [53.491042, -0.954538, 1.0], [53.51949, -1.115678, 1.0], [53.548094, -1.143155, 1.0], [53.486444, -1.252307, 1.0], [53.531663, -1.108786, 1.0], [53.564371, -1.195974, 1.0], [53.575751, -1.067232, 1.0], [53.632135, -0.981904, 1.0], [53.562982, -0.999872, 1.0], [53.600169, -0.996576, 2.0], [53.615773, -0.96068, 1.0], [53.584247, -0.953297, 1.0], [53.513129, -1.181863, 1.0], [53.533502, -1.10226, 1.0], [53.500276, -1.168995, 2.0], [53.492654, -1.253403, 1.0], [53.495832, -1.303394, 1.0], [53.52683, -1.271056, 1.0], [53.53121, -1.145155, 1.0], [53.544603, -1.038639, 3.0], [53.547243, -1.077066, 1.0], [53.519326, -1.168019, 1.0], [53.536324, -1.060102, 1.0], [53.528766, -1.11805, 1.0], [53.513292, -1.092281, 1.0], [53.560446, -1.227752, 1.0], [53.430884, -1.026457, 1.0], [53.485445, -1.156173, 1.0], [53.591264, -0.985305, 1.0], [53.523939, -1.15933, 1.0], [53.520798, -1.134807, 1.0], [53.478157, -1.082032, 1.0], [53.500228, -1.175026, 1.0], [53.632196, -0.947422, 1.0], [53.528356, -1.087433, 1.0], [53.555799, -1.079144, 1.0], [53.515227, -1.135071, 1.0], [53.500113, -1.17141, 1.0], [53.507344, -1.151365, 1.0], [53.512684, -1.195746, 1.0], [53.610348, -0.988475, 1.0], [53.572393, -1.007352, 1.0], [53.564679, -1.020216, 1.0], [53.518621, -1.107702, 1.0], [53.525941, -1.137417, 1.0], [53.512825, -1.101943, 1.0], [53.519733, -1.136638, 1.0], [53.519981, -1.121399, 1.0], [53.618082, -0.978312, 1.0], [53.508087, -1.035997, 1.0], [53.531958, -1.242755, 2.0], [53.5213, -1.129668, 1.0], [53.513095, -1.101937, 1.0], [53.547961, -1.088672, 1.0], [53.610748, -0.961711, 1.0], [53.495201, -1.01006, 1.0], [53.521827, -1.127998, 1.0], [53.570884, -1.009653, 1.0], [53.51311, -1.091984, 1.0], [53.507684, -1.148645, 1.0], [53.555252, -1.216978, 1.0], [53.522807, -1.126771, 1.0], [53.536824, -1.163753, 1.0], [53.536559, -1.114417, 2.0], [53.539711, -1.20474, 1.0], [53.515819, -1.129931, 1.0], [53.529709, -1.124065, 1.0], [53.480972, -1.225731, 1.0], [53.54914, -1.138606, 1.0], [53.493347, -1.293486, 1.0], [53.427179, -1.080722, 3.0], [53.615923, -1.150701, 1.0], [53.535248, -1.083513, 1.0], [53.490864, -1.25464, 1.0], [53.599345, -1.197123, 1.0], [53.512928, -1.091686, 1.0], [53.492957, -1.258824, 1.0], [53.536634, -1.112454, 1.0], [53.537526, -1.0643, 1.0], [53.614707, -0.962218, 1.0], [53.493176, -1.279923, 1.0], [53.523293, -1.131739, 1.0], [53.513206, -1.046589, 1.0], [53.527504, -1.142364, 1.0], [53.521827, -1.127998, 1.0], [53.509642, -1.145891, 1.0], [53.562204, -1.181219, 1.0], [53.527231, -1.141917, 1.0], [53.600927, -0.990513, 1.0], [53.623235, -1.081759, 2.0], [53.508821, -1.060409, 1.0], [53.569894, -1.065398, 1.0], [53.475839, -1.061439, 1.0], [53.512928, -1.091686, 1.0], [53.50296, -1.081194, 2.0], [53.534452, -1.09711, 1.0], [53.531992, -1.193117, 1.0], [53.509246, -1.153439, 1.0], [53.515367, -1.129639, 1.0], [53.520904, -1.137067, 1.0], [53.563822, -1.014347, 1.0], [53.517131, -1.100796, 1.0], [53.516149, -1.125852, 1.0], [53.49621, -1.115861, 1.0], [53.509552, -1.145893, 1.0], [53.499798, -1.152119, 1.0], [53.452574, -1.18619, 1.0], [53.524727, -1.10682, 1.0], [53.584457, -1.020514, 1.0], [53.517904, -1.132302, 1.0], [53.48902, -1.116011, 1.0], [53.52053, -1.134963, 1.0], [53.535098, -1.123501, 1.0], [53.43297, -1.109498, 1.0], [53.537622, -1.065053, 2.0], [53.620842, -0.975221, 1.0], [53.519905, -1.135579, 1.0], [53.47211, -1.164573, 3.0], [53.527203, -1.125625, 1.0], [53.590626, -0.932592, 3.0], [53.524143, -1.125084, 1.0], [53.614324, -0.969937, 1.0], [53.48702, -1.22969, 1.0], [53.603605, -1.189032, 1.0], [53.574011, -0.985869, 1.0], [53.523265, -1.127968, 1.0], [53.527608, -1.119582, 1.0], [53.500543, -1.168537, 1.0], [53.518247, -1.10575, 1.0], [53.591616, -0.98439, 1.0], [53.591672, -1.247429, 1.0], [53.47953, -1.146044, 1.0], [53.551313, -1.140675, 1.0], [53.541823, -1.211492, 1.0], [53.552092, -0.977034, 1.0], [53.620507, -1.125663, 1.0], [53.537858, -1.107751, 1.0], [53.517173, -1.048159, 1.0], [53.586874, -0.915162, 1.0], [53.579179, -0.970037, 1.0], [53.488876, -1.267486, 1.0], [53.49948, -1.25253, 1.0], [53.487211, -1.190652, 2.0], [53.547227, -1.173207, 1.0], [53.530644, -1.046499, 1.0], [53.636912, -0.983453, 2.0], [53.538551, -1.166435, 1.0], [53.499247, -1.273187, 1.0], [53.489895, -1.054196, 1.0], [53.485201, -1.134627, 1.0], [53.592708, -1.029237, 2.0], [53.522223, -1.132968, 1.0], [53.493781, -1.11561, 2.0], [53.488514, -1.252722, 3.0], [53.501416, -1.079117, 2.0], [53.521918, -1.128147, 2.0], [53.550375, -1.13526, 2.0], [53.507774, -1.148643, 1.0], [53.458071, -1.201598, 1.0], [53.528858, -1.118349, 1.0], [53.476129, -1.241489, 1.0], [53.427789, -1.021711, 1.0], [53.522579, -1.132508, 1.0], [53.538069, -1.03094, 1.0], [53.546398, -1.049465, 1.0], [53.530857, -1.121325, 1.0], [53.519109, -1.137405, 1.0], [53.552126, -1.069261, 1.0], [53.513469, -1.140536, 1.0], [53.609208, -0.95011, 1.0], [53.493251, -1.179985, 1.0], [53.499888, -1.152117, 1.0], [53.479527, -1.184168, 1.0], [53.505759, -1.106616, 1.0], [53.526994, -1.133926, 1.0], [53.499797, -1.151968, 1.0], [53.520635, -1.137072, 1.0], [53.514632, -1.139758, 1.0], [53.576679, -1.208427, 1.0], [53.63615, -1.101745, 2.0], [53.50195, -1.274196, 1.0], [53.501946, -1.150719, 1.0], [53.490907, -1.153201, 1.0], [53.490603, -1.200384, 2.0], [53.540598, -1.150701, 1.0], [53.520327, -1.1318, 1.0], [53.625383, -0.980706, 1.0], [53.554453, -1.139856, 1.0], [53.495431, -1.157332, 1.0], [53.526405, -1.12715, 1.0], [53.480348, -1.226495, 1.0], [53.519139, -1.046606, 1.0], [53.493331, -1.275851, 1.0], [53.492647, -1.281741, 1.0], [53.591651, -1.244105, 1.0], [53.625203, -0.98071, 2.0], [53.54818, -1.142549, 1.0], [53.529818, -1.102488, 1.0], [53.527639, -1.099517, 1.0], [53.584552, -1.021116, 1.0], [53.510531, -1.144516, 1.0], [53.490604, -1.200535, 1.0], [53.526246, -1.105581, 1.0], [53.58857, -1.212284, 1.0], [53.502657, -1.162314, 1.0], [53.542835, -1.053619, 1.0], [53.599647, -0.96697, 3.0], [53.451587, -1.063781, 1.0], [53.611156, -0.967293, 1.0], [53.536556, -1.163909, 1.0], [53.577297, -1.206754, 1.0], [53.534642, -1.086544, 1.0], [53.515888, -1.139431, 1.0], [53.533174, -1.155979, 1.0], [53.522999, -1.128426, 1.0], [53.428129, -1.123445, 1.0], [53.528829, -1.126647, 1.0], [53.508051, -1.065402, 1.0], [53.517875, -1.104098, 1.0], [53.571145, -1.200829, 1.0], [53.441046, -1.005147, 1.0], [53.486689, -1.206637, 3.0], [53.537529, -1.064753, 1.0], [53.42528, -1.056232, 1.0], [53.498409, -1.017674, 1.0], [53.494525, -1.182222, 1.0], [53.524764, -1.136234, 1.0], [53.531748, -1.10803, 1.0], [53.502953, -1.276441, 1.0], [53.515893, -1.127818, 1.0], [53.477407, -1.07813, 1.0], [53.517131, -1.100796, 1.0], [53.565527, -0.981844, 2.0], [53.526783, -1.105268, 2.0], [53.480443, -1.147984, 1.0], [53.553166, -1.008406, 1.0], [53.481254, -1.227684, 1.0], [53.506752, -1.11926, 1.0], [53.521087, -1.137516, 1.0], [53.526806, -1.132723, 1.0], [53.632357, -1.030293, 1.0], [53.52953, -1.124219, 2.0], [53.428315, -1.124194, 1.0], [53.486793, -1.156146, 1.0], [53.45517, -1.211441, 1.0], [53.538313, -1.050099, 1.0], [53.578107, -1.154329, 1.0], [53.505894, -1.162552, 1.0], [53.5122, -1.231495, 1.0], [53.496294, -1.305648, 1.0], [53.47584, -1.06159, 1.0], [53.50257, -1.162768, 1.0], [53.512746, -1.091388, 1.0], [53.519765, -1.262278, 2.0], [53.516919, -1.252675, 1.0], [53.483265, -1.219058, 1.0], [53.584552, -1.021116, 1.0], [53.524091, -1.130214, 2.0], [53.573281, -0.92291, 1.0], [53.535092, -1.086685, 1.0], [53.564398, -1.018864, 2.0], [53.473552, -1.079419, 1.0], [53.562548, -1.06858, 1.0], [53.513516, -1.226495, 1.0], [53.504076, -1.074385, 1.0], [53.517875, -1.104098, 1.0], [53.512012, -1.189425, 1.0], [53.505471, -1.153514, 1.0], [53.494982, -1.157491, 1.0], [53.555257, -1.055758, 1.0], [53.490666, -1.1832, 1.0], [53.476596, -1.077846, 1.0], [53.568822, -1.113441, 2.0], [53.56464, -1.195818, 1.0], [53.49416, -1.294227, 1.0], [53.541367, -1.049879, 1.0], [53.593898, -0.977838, 1.0], [53.574156, -1.142326, 1.0], [53.537311, -1.169024, 2.0], [53.542599, -1.206497, 1.0], [53.548138, -1.18798, 1.0], [53.539735, -1.279435, 1.0], [53.631422, -0.951373, 2.0], [53.517965, -1.104096, 1.0], [53.431578, -1.103656, 1.0], [53.608675, -1.15523, 1.0], [53.512591, -1.156086, 1.0], [53.532369, -1.156448, 1.0], [53.612969, -1.152423, 1.0], [53.493419, -1.275548, 1.0], [53.531944, -1.086451, 1.0], [53.540433, -1.103471, 1.0], [53.459844, -1.006515, 1.0], [53.537627, -1.065807, 1.0], [53.549975, -1.167569, 1.0], [53.534821, -1.08654, 1.0], [53.52968, -1.144884, 1.0], [53.55013, -1.177075, 1.0], [53.436319, -1.112589, 1.0], [53.616645, -1.066482, 1.0], [53.526625, -1.132576, 1.0], [53.605006, -1.15757, 1.0], [53.514533, -1.18998, 1.0], [53.58651, -1.21353, 1.0], [53.475133, -1.240301, 1.0], [53.585016, -1.191654, 1.0], [53.560106, -1.216889, 1.0], [53.564437, -1.1161, 1.0], [53.48902, -1.116011, 1.0], [53.4976, -1.283165, 1.0], [53.480414, -1.156574, 1.0], [53.525536, -1.131241, 1.0], [53.435812, -1.013549, 1.0], [53.568427, -1.061655, 1.0], [53.590902, -1.028221, 1.0], [53.455081, -1.211593, 1.0], [53.603673, -0.964756, 2.0], [53.551408, -1.092673, 1.0], [53.588734, -1.026911, 1.0], [53.521736, -1.127849, 1.0], [53.519912, -1.136635, 2.0], [53.586212, -1.19571, 2.0], [53.624827, -1.15143, 2.0], [53.524456, -1.130961, 1.0], [53.498054, -1.018135, 1.0], [53.509013, -1.197927, 2.0], [53.56522, -1.188559, 1.0], [53.497144, -1.158051, 2.0], [53.490463, -1.166775, 1.0], [53.577978, -0.998008, 1.0], [53.525113, -1.13487, 1.0], [53.536007, -1.162562, 1.0], [53.514437, -1.101155, 1.0], [53.628816, -0.951438, 1.0], [53.522757, -1.132202, 1.0], [53.547961, -1.088672, 1.0], [53.560403, -1.070137, 1.0], [53.589485, -1.214835, 1.0], [53.496695, -1.18414, 1.0], [53.536107, -1.078364, 1.0], [53.576408, -1.208281, 2.0], [53.592168, -0.985887, 1.0], [53.473162, -1.07551, 1.0], [53.570344, -1.020538, 1.0], [53.516323, -1.100813, 1.0], [53.539187, -1.180456, 2.0], [53.463685, -1.058996, 1.0], [53.517815, -1.132454, 1.0], [53.523024, -1.131895, 1.0], [53.496062, -1.157621, 1.0], [53.483616, -1.217695, 1.0], [53.478672, -1.190663, 1.0], [53.613771, -0.968288, 2.0], [53.570709, -1.066135, 1.0], [53.577265, -0.988056, 1.0], [53.432487, -1.093101, 1.0], [53.472332, -1.084417, 1.0], [53.500774, -1.054556, 1.0], [53.491791, -1.151073, 1.0], [53.499495, -1.284339, 1.0], [53.50074, -1.238637, 1.0], [53.525606, -1.128524, 1.0], [53.523659, -1.1082, 1.0], [53.519168, -1.108747, 1.0], [53.522542, -1.12738, 1.0], [53.475318, -1.075313, 1.0], [53.518898, -1.108602, 1.0], [53.582644, -1.186413, 1.0], [53.543213, -1.102658, 1.0], [53.58187, -1.011964, 1.0], [53.491886, -1.24573, 2.0], [53.51415, -1.075221, 1.0], [53.524637, -1.131108, 1.0], [53.478107, -1.148182, 1.0], [53.447691, -1.118826, 1.0], [53.497817, -1.304718, 1.0], [53.571039, -1.185125, 1.0], [53.541984, -1.106608, 2.0], [53.482619, -1.189533, 2.0], [53.527291, -1.113102, 1.0], [53.536715, -1.041383, 1.0], [53.439064, -1.004591, 1.0], [53.508736, -1.061014, 1.0], [53.610018, -0.960519, 1.0], [53.488025, -1.232234, 2.0], [53.542707, -1.095123, 1.0], [53.436143, -1.021068, 1.0], [53.61515, -1.181555, 2.0], [53.521154, -1.134347, 1.0], [53.536283, -1.077908, 1.0], [53.51251, -1.311867, 1.0], [53.49237, -1.295613, 1.0], [53.542075, -1.208771, 1.0], [53.537077, -1.200716, 1.0], [53.50014, -1.076883, 1.0], [53.525389, -1.123399, 1.0], [53.450026, -1.025868, 1.0], [53.46664, -1.179444, 3.0], [53.508118, -1.298518, 1.0], [53.515796, -1.126765, 1.0], [53.513356, -1.188796, 1.0], [53.529385, -1.046527, 1.0], [53.588751, -1.159706, 1.0], [53.586121, -1.195561, 1.0], [53.542797, -1.095121, 1.0], [53.523698, -1.138066, 2.0], [53.531437, -1.151789, 1.0], [53.492858, -1.162206, 1.0], [53.476088, -1.155003, 1.0], [53.50048, -1.28387, 1.0], [53.536188, -1.162709, 1.0], [53.480348, -1.226495, 1.0], [53.584492, -1.154806, 1.0], [53.543037, -1.16529, 2.0], [53.479839, -1.151613, 1.0], [53.512837, -1.091537, 1.0], [53.475571, -1.061596, 1.0], [53.47959, -1.081398, 1.0], [53.490038, -1.183363, 1.0], [53.507465, -1.294458, 1.0], [53.618011, -1.153532, 1.0], [53.497556, -1.27593, 1.0], [53.519618, -1.133172, 1.0], [53.527541, -1.134971, 1.0], [53.48531, -1.188578, 1.0], [53.537788, -1.147437, 1.0], [53.583286, -1.188364, 1.0], [53.525923, -1.122634, 2.0], [53.519971, -1.107825, 1.0], [53.451587, -1.063781, 1.0], [53.529115, -1.092697, 1.0], [53.574855, -1.0008, 1.0], [53.592413, -0.941461, 1.0], [53.614709, -0.962369, 1.0], [53.508603, -1.067049, 1.0], [53.5116, -1.143137, 2.0], [53.504357, -1.187309, 1.0], [53.531707, -1.151935, 1.0], [53.454641, -1.212957, 1.0], [53.45633, -1.210064, 1.0], [53.538878, -1.228598, 1.0], [53.532628, -1.105597, 1.0], [53.480446, -1.148436, 1.0], [53.533084, -1.155981, 1.0], [53.480538, -1.148736, 1.0], [53.504957, -1.131963, 1.0], [53.544098, -1.100828, 1.0], [53.500322, -1.077181, 1.0], [53.530644, -1.116804, 1.0], [53.472492, -1.142268, 1.0], [53.624058, -0.952161, 1.0], [53.562005, -1.056664, 1.0], [53.534435, -1.106766, 1.0], [53.520217, -1.166945, 1.0], [53.563087, -1.153119, 1.0], [53.531339, -1.150735, 1.0], [53.50063, -1.293968, 1.0], [53.53339, -1.123536, 2.0], [53.516501, -1.100658, 1.0], [53.503193, -1.161852, 1.0], [53.584556, -1.190001, 1.0], [53.540231, -1.020479, 1.0], [53.528211, -1.034635, 1.0], [53.587401, -0.985548, 2.0], [53.610378, -1.154591, 1.0], [53.536745, -1.165263, 2.0], [53.524673, -1.136085, 1.0], [53.564725, -1.195061, 1.0], [53.514625, -1.102206, 1.0], [53.527933, -1.127118, 1.0], [53.60537, -0.953228, 2.0], [53.610948, -0.953694, 1.0], [53.483265, -1.219058, 2.0], [53.525697, -1.128673, 2.0], [53.498682, -1.017969, 2.0], [53.553686, -1.145759, 1.0], [53.464028, -1.14033, 2.0], [53.539776, -1.148906, 1.0], [53.478018, -1.148334, 1.0], [53.495593, -1.278375, 1.0], [53.562007, -1.056815, 1.0], [53.563559, -1.182249, 1.0], [53.534363, -1.097262, 1.0], [53.499934, -1.171414, 2.0], [53.596389, -0.974907, 1.0], [53.517198, -1.254178, 1.0], [53.533124, -1.123994, 1.0], [53.540692, -1.190235, 1.0], [53.587598, -1.161844, 1.0], [53.449349, -1.228564, 1.0], [53.512667, -1.141608, 1.0], [53.526241, -1.129265, 1.0], [53.566858, -1.127525, 1.0], [53.480816, -1.149936, 1.0], [53.460753, -1.134974, 2.0], [53.521276, -1.12635, 1.0], [53.521175, -1.137212, 1.0], [53.542079, -1.169685, 1.0], [53.478932, -1.150426, 1.0], [53.494889, -1.266026, 1.0], [53.535764, -1.057398, 1.0], [53.534452, -1.09711, 1.0], [53.502438, -1.060399, 1.0], [53.508363, -1.143052, 1.0], [53.546848, -1.049606, 1.0], [53.628546, -0.951445, 1.0], [53.577712, -1.175029, 2.0], [53.502568, -1.162467, 2.0], [53.5758, -0.923148, 1.0], [53.510029, -1.088732, 1.0], [53.505652, -1.153661, 1.0], [53.479441, -1.146196, 1.0], [53.479441, -1.146196, 1.0], [53.527281, -1.123964, 1.0], [53.531658, -1.120252, 1.0], [53.517886, -1.047388, 1.0], [53.616013, -1.150699, 2.0], [53.493265, -1.156169, 1.0], [53.474144, -1.159712, 1.0], [53.579269, -0.970034, 1.0], [53.528207, -1.127716, 1.0], [53.540329, -1.101663, 1.0], [53.537136, -1.119535, 1.0], [53.500334, -1.177285, 1.0], [53.492996, -1.295, 1.0], [53.503917, -1.162591, 1.0], [53.590479, -0.988043, 1.0], [53.566292, -0.987261, 1.0], [53.541984, -1.106608, 2.0], [53.528829, -1.126647, 1.0], [53.525568, -1.123245, 1.0], [53.530059, -1.12285, 2.0], [53.505782, -1.074197, 2.0], [53.536825, -1.163903, 1.0], [53.492623, -1.24858, 1.0], [53.585125, -1.155397, 1.0], [53.474499, -1.159102, 1.0], [53.43279, -1.109501, 1.0], [53.456496, -1.208103, 1.0], [53.536417, -1.060402, 1.0], [53.501233, -1.078819, 1.0], [53.492909, -1.060309, 2.0], [53.532627, -1.105447, 1.0], [53.619102, -1.155324, 1.0], [53.517873, -1.103797, 1.0], [53.535328, -1.082304, 2.0], [53.525568, -1.123245, 1.0], [53.529461, -1.127087, 1.0], [53.505439, -1.053397, 2.0], [53.493143, -1.259876, 1.0], [53.565414, -1.114569, 1.0], [53.567711, -1.268088, 2.0], [53.462055, -1.192486, 1.0], [53.545729, -1.090682, 1.0], [53.532627, -1.105447, 1.0], [53.478762, -1.245661, 2.0], [53.592297, -0.979841, 1.0], [53.468403, -1.174288, 1.0], [53.612053, -1.16272, 1.0], [53.570873, -1.200381, 1.0], [53.536188, -1.162709, 1.0], [53.521176, -1.137363, 1.0], [53.505544, -1.114008, 1.0], [53.519733, -1.136638, 1.0], [53.506523, -1.137208, 1.0], [53.506065, -1.111434, 1.0], [53.559441, -1.07363, 1.0], [53.501032, -1.019573, 1.0], [53.536511, -1.170398, 2.0], [53.606001, -1.171304, 1.0], [53.536825, -1.163903, 1.0], [53.582966, -1.180969, 2.0], [53.509691, -1.127795, 1.0], [53.499019, -1.118968, 1.0], [53.546932, -1.048849, 1.0], [53.471527, -1.197428, 1.0], [53.562455, -1.068129, 1.0], [53.540676, -1.149039, 1.0], [53.510322, -1.128083, 2.0], [53.562374, -1.069338, 1.0], [53.499508, -1.088204, 1.0], [53.569922, -1.166422, 1.0], [53.598518, -1.036358, 1.0], [53.543343, -1.096015, 1.0], [53.50257, -1.162768, 1.0], [53.527997, -1.087441, 2.0], [53.528914, -1.138413, 1.0], [53.533564, -1.269733, 2.0], [53.538549, -1.166133, 1.0], [53.508908, -1.060106, 1.0], [53.539282, -1.181208, 1.0], [53.481542, -1.230542, 1.0], [53.576904, -1.215219, 1.0], [53.516533, -1.129313, 1.0], [53.603806, -0.96974, 1.0], [53.427493, -1.018557, 1.0], [53.477795, -1.070136, 1.0], [53.548735, -1.144802, 1.0], [53.497762, -1.182461, 1.0], [53.49318, -1.280677, 1.0], [53.532766, -1.053391, 1.0], [53.601136, -1.015594, 1.0], [53.601334, -1.159457, 1.0], [53.528302, -1.15336, 2.0], [53.478378, -1.064246, 1.0], [53.617649, -1.153237, 1.0], [53.50287, -1.081196, 1.0], [53.479441, -1.146196, 1.0], [53.549105, -1.085478, 2.0], [53.5695, -1.183494, 1.0], [53.572899, -1.181012, 1.0], [53.431417, -1.082437, 1.0], [53.574275, -1.006704, 1.0], [53.521993, -1.138402, 1.0], [53.44145, -1.113536, 1.0], [53.569806, -1.137431, 1.0], [53.576955, -1.015552, 1.0], [53.614709, -0.962369, 1.0], [53.506778, -1.110665, 1.0], [53.576725, -1.17535, 2.0], [53.562005, -1.056664, 1.0], [53.469464, -1.073783, 1.0], [53.594882, -1.042484, 1.0], [53.630072, -0.951255, 1.0], [53.495074, -1.2817, 1.0], [53.520181, -1.042058, 1.0], [53.496294, -1.305648, 1.0], [53.499291, -1.222985, 1.0], [53.516756, -1.098692, 1.0], [53.497455, -1.151261, 2.0], [53.524092, -1.130365, 1.0], [53.488082, -1.052277, 1.0], [53.534191, -1.26942, 1.0], [53.527231, -1.141917, 1.0], [53.551618, -1.084971, 1.0], [53.490413, -1.14688, 1.0], [53.53201, -1.107119, 1.0], [53.591388, -0.98923, 1.0], [53.616341, -0.974423, 2.0], [53.573804, -0.911268, 3.0], [53.618192, -1.219896, 1.0], [53.508601, -1.176975, 1.0], [53.534642, -1.086544, 1.0], [53.539003, -1.179856, 2.0], [53.511535, -1.074223, 1.0], [53.533998, -1.145401, 1.0], [53.484594, -1.189044, 1.0], [53.514534, -1.138705, 1.0], [53.47891, -1.040577, 1.0], [53.513426, -1.226496, 1.0], [53.526184, -1.109354, 1.0], [53.540696, -1.190839, 1.0], [53.537408, -1.170079, 1.0], [53.519815, -1.135581, 1.0], [53.513024, -1.141148, 1.0], [53.505997, -1.177327, 1.0], [53.495457, -1.300838, 1.0], [53.507863, -1.14849, 1.0], [53.510628, -1.073187, 1.0], [53.591666, -0.969129, 1.0], [53.545663, -1.08193, 1.0], [53.521214, -1.130122, 1.0], [53.53148, -1.120407, 1.0], [53.482639, -1.140858, 1.0], [53.519077, -1.108598, 1.0], [53.528566, -1.152601, 1.0], [53.519971, -1.107825, 1.0], [53.544415, -1.169489, 2.0], [53.521828, -1.128149, 2.0], [53.556727, -1.048479, 1.0], [53.517214, -1.099889, 1.0], [53.425378, -1.057284, 1.0], [53.626667, -1.072309, 2.0], [53.482353, -1.151111, 1.0], [53.592721, -1.161743, 1.0], [53.517814, -1.132303, 1.0], [53.520217, -1.166945, 1.0], [53.575275, -1.00804, 2.0], [53.494713, -1.266632, 2.0], [53.604675, -0.955965, 1.0], [53.599473, -1.010193, 2.0], [53.606305, -0.967714, 1.0], [53.576965, -1.01676, 1.0], [53.517992, -1.132149, 1.0], [53.572007, -0.993468, 1.0], [53.536797, -1.147155, 1.0], [53.591776, -0.961118, 1.0], [53.468933, -1.173072, 1.0], [53.537424, -1.062794, 1.0], [53.548681, -1.162462, 1.0], [53.518635, -1.109512, 1.0], [53.505667, -1.155772, 1.0], [53.48128, -1.231753, 1.0], [53.532537, -1.167609, 1.0], [53.541155, -1.166082, 2.0], [53.526895, -1.132721, 1.0], [53.498999, -1.116255, 1.0], [53.539162, -1.089917, 1.0], [53.468098, -1.060103, 1.0], [53.541242, -1.1528, 1.0], [53.481561, -0.980842, 3.0], [53.5076, -1.042492, 1.0], [53.614068, -0.961025, 1.0], [53.537765, -1.095379, 1.0], [53.51311, -1.091984, 1.0], [53.474706, -1.189081, 1.0], [53.547123, -1.050203, 1.0], [53.523944, -1.110306, 1.0], [53.594349, -0.988706, 1.0], [53.498172, -1.273658, 1.0], [53.562395, -1.026761, 1.0], [53.530014, -1.092678, 1.0], [53.533462, -1.238956, 1.0], [53.534171, -1.196244, 1.0], [53.435246, -1.021239, 1.0], [53.476459, -1.083424, 1.0], [53.512475, -1.091243, 1.0], [53.529204, -1.092544, 1.0], [53.543304, -1.102807, 1.0], [53.566115, -1.201376, 3.0], [53.478112, -1.148935, 1.0], [53.480528, -1.240657, 3.0], [53.478016, -1.148033, 1.0], [53.488287, -1.114217, 1.0], [53.526191, -1.110259, 2.0], [53.501268, -1.280238, 1.0], [53.532011, -1.11934, 1.0], [53.519973, -1.132561, 1.0], [53.544468, -1.151378, 1.0], [53.515281, -1.130093, 1.0], [53.523818, -1.129767, 1.0], [53.470772, -1.219287, 1.0], [53.496569, -1.306548, 1.0], [53.506585, -1.085036, 1.0], [53.498678, -1.298222, 1.0], [53.486221, -1.190369, 2.0], [53.493269, -1.182547, 1.0], [53.535183, -1.160465, 1.0], [53.47811, -1.148634, 1.0], [53.632544, -0.966771, 1.0], [53.431145, -1.082142, 1.0], [53.542151, -1.206807, 1.0], [53.535256, -1.084569, 1.0], [53.587595, -1.242365, 1.0], [53.531748, -1.10803, 1.0], [53.5192, -1.137554, 1.0], [53.467962, -1.175652, 1.0], [53.492952, -1.287614, 1.0], [53.632905, -1.20193, 1.0], [53.525077, -1.129892, 1.0], [53.52714, -1.104959, 1.0], [53.527254, -1.120344, 1.0], [53.541683, -1.203949, 1.0], [53.506525, -1.188776, 2.0], [53.610375, -1.154138, 1.0], [53.541202, -1.172872, 1.0], [53.529763, -1.182448, 2.0], [53.580335, -1.177394, 1.0], [53.618352, -1.163654, 1.0], [53.432488, -1.093251, 1.0], [53.505863, -1.108423, 1.0], [53.530358, -1.126767, 2.0], [53.54009, -1.168064, 3.0], [53.526427, -1.105728, 1.0], [53.57338, -1.007178, 2.0], [53.5466, -0.975959, 1.0], [53.477227, -1.077983, 1.0], [53.514602, -1.12332, 1.0], [53.479494, -1.080646, 1.0], [53.50597, -1.135259, 2.0], [53.493094, -1.296355, 1.0], [53.579267, -0.969883, 1.0], [53.480537, -1.148585, 1.0], [53.545622, -1.149393, 1.0], [53.548667, -1.160501, 1.0], [53.616368, -1.065581, 1.0], [53.527418, -1.118078, 1.0], [53.481996, -1.231288, 1.0], [53.519497, -1.192902, 1.0], [53.587445, -1.178767, 1.0], [53.50939, -1.14846, 1.0], [53.564459, -1.19567, 2.0], [53.610199, -0.960666, 1.0], [53.502746, -1.162162, 1.0], [53.509285, -1.146351, 1.0], [53.516275, -1.118611, 1.0], [53.442361, -1.022882, 1.0], [53.585572, -0.981815, 1.0], [53.573055, -1.190674, 1.0], [53.523483, -1.133244, 1.0], [53.574298, -1.020296, 1.0], [53.538341, -1.228909, 1.0], [53.612611, -1.152582, 1.0], [53.534344, -1.106617, 1.0], [53.517382, -1.110292, 1.0], [53.628228, -1.149244, 1.0], [53.564832, -1.328986, 1.0], [53.566646, -1.200007, 1.0], [53.509462, -1.145895, 1.0], [53.510975, -1.143753, 1.0], [53.577963, -0.996196, 1.0], [53.505696, -1.134662, 1.0], [53.495835, -0.989243, 1.0], [53.550449, -1.073223, 2.0], [53.452418, -1.113759, 2.0], [53.485269, -1.251272, 1.0], [53.606668, -1.163885, 1.0], [53.512044, -1.142374, 1.0], [53.51021, -1.088879, 1.0], [53.497942, -1.182457, 1.0], [53.499938, -1.159202, 1.0], [53.56473, -1.195816, 1.0], [53.488249, -1.184603, 1.0], [53.504847, -1.248364, 1.0], [53.483092, -1.219965, 1.0], [53.435812, -1.013549, 1.0], [53.544261, -1.147609, 1.0], [53.527447, -1.134369, 1.0], [53.500495, -1.174569, 1.0], [53.514797, -1.101147, 2.0], [53.591893, -1.028501, 1.0], [53.555477, -1.060885, 1.0], [53.512928, -1.091686, 1.0], [53.576188, -1.175663, 1.0], [53.578745, -1.070791, 2.0], [53.534642, -1.086544, 1.0], [53.535397, -1.115347, 1.0], [53.514804, -1.138699, 1.0], [53.537654, -1.116658, 1.0], [53.496561, -1.260269, 1.0], [53.547126, -1.050656, 1.0], [53.56473, -1.195816, 1.0], [53.507557, -1.294909, 1.0], [53.440998, -1.113244, 1.0], [53.59633, -0.989112, 1.0], [53.518991, -1.109052, 1.0], [53.56473, -1.195816, 1.0], [53.522013, -1.104464, 3.0], [53.567079, -1.184296, 1.0], [53.528087, -1.087439, 1.0], [53.522847, -1.132201, 1.0], [53.483501, -1.241659, 1.0], [53.510211, -1.08903, 2.0], [53.601015, -0.99036, 1.0], [53.480526, -1.226341, 1.0], [53.511421, -1.143292, 1.0], [53.522772, -1.109878, 1.0], [53.518899, -1.108752, 1.0], [53.563292, -1.004696, 1.0], [53.536511, -1.061003, 1.0], [53.522758, -1.132353, 2.0], [53.50643, -1.136758, 1.0], [53.587999, -0.92027, 2.0], [53.442074, -1.215598, 3.0], [53.493916, -1.062547, 1.0], [53.474118, -1.14344, 1.0], [53.536895, -1.200417, 2.0], [53.474524, -1.077288, 1.0], [53.474469, -1.221028, 1.0], [53.623224, -0.980456, 2.0], [53.493214, -1.148934, 2.0], [53.50107, -1.179834, 1.0], [53.531254, -1.15134, 1.0], [53.632562, -1.17774, 1.0], [53.538255, -1.175645, 2.0], [53.493605, -1.166111, 1.0], [53.545502, -1.096271, 1.0], [53.577471, -1.068705, 1.0], [53.537687, -1.171431, 1.0], [53.594528, -1.043248, 1.0], [53.602211, -0.982926, 1.0], [53.534824, -1.086842, 1.0], [53.483281, -1.181082, 1.0], [53.492394, -1.255066, 1.0], [53.610561, -0.960959, 1.0], [53.619473, -1.071863, 2.0], [53.576493, -1.207524, 1.0], [53.578022, -0.992569, 1.0], [53.612382, -0.963636, 1.0], [53.52356, -1.131432, 1.0], [53.527112, -1.125476, 1.0], [53.513565, -1.092728, 1.0], [53.490864, -1.240472, 1.0], [53.542211, -1.054237, 1.0], [53.549318, -1.1383, 1.0], [53.517127, -1.100193, 1.0], [53.533892, -1.048085, 1.0], [53.503865, -1.082079, 2.0], [53.517131, -1.100796, 1.0], [53.466651, -1.142536, 1.0], [53.529238, -1.145949, 1.0], [53.494982, -1.157491, 2.0], [53.430566, -1.020594, 1.0], [53.599651, -1.031949, 1.0], [53.602988, -1.190858, 1.0], [53.502569, -1.162618, 1.0], [53.518354, -1.144962, 1.0], [53.484141, -1.215425, 1.0], [53.479589, -1.081247, 1.0], [53.499535, -1.115792, 2.0], [53.540778, -1.066341, 1.0], [53.610375, -1.154138, 1.0], [53.59642, -1.216822, 1.0], [53.523383, -1.131737, 1.0], [53.514619, -1.189375, 1.0], [53.542652, -1.08788, 1.0], [53.514533, -1.138554, 1.0], [53.480258, -1.226497, 1.0], [53.541105, -1.225388, 1.0], [53.519887, -1.120798, 1.0], [53.551247, -1.071696, 2.0], [53.542386, -1.271996, 1.0], [53.53738, -1.11606, 1.0], [53.599582, -1.03452, 1.0], [53.531854, -1.086453, 1.0], [53.532107, -1.144986, 1.0], [53.475435, -1.067174, 1.0], [53.431373, -1.020274, 1.0], [53.454889, -1.060696, 1.0], [53.496462, -1.150678, 1.0], [53.525833, -1.110417, 1.0], [53.529642, -1.127234, 1.0], [53.541496, -1.202896, 1.0], [53.504502, -1.156247, 1.0], [53.589187, -1.170575, 1.0], [53.610017, -1.154447, 1.0], [53.480905, -1.149784, 1.0], [53.451738, -1.222648, 1.0], [53.615601, -0.982605, 1.0], [53.466019, -1.180661, 1.0], [53.460292, -1.19764, 1.0], [53.50969, -1.127644, 1.0], [53.535172, -1.198036, 1.0], [53.479441, -1.146196, 1.0], [53.582048, -0.948517, 1.0], [53.592191, -0.988606, 2.0], [53.470984, -1.072846, 1.0], [53.439547, -1.111468, 1.0], [53.505352, -1.112354, 1.0], [53.519905, -1.135579, 1.0], [53.499405, -1.28434, 1.0], [53.517127, -1.100193, 1.0], [53.533267, -1.15643, 1.0], [53.491783, -1.25794, 1.0], [53.490864, -1.240472, 2.0], [53.50287, -1.081196, 1.0], [53.479115, -1.138367, 1.0], [53.507861, -1.148339, 1.0], [53.555553, -1.142853, 1.0], [53.517411, -1.138797, 2.0], [53.494536, -1.297084, 1.0], [53.501588, -1.151028, 1.0], [53.494279, -1.159766, 1.0], [53.542135, -1.275018, 1.0], [53.576662, -1.080352, 2.0], [53.518994, -1.109504, 2.0], [53.537491, -1.118924, 1.0], [53.546756, -1.049306, 1.0], [53.550696, -1.142499, 1.0], [53.497256, -1.227997, 1.0], [53.502962, -1.277948, 1.0], [53.531432, -1.151186, 1.0], [53.436669, -1.099334, 1.0], [53.516317, -1.124341, 1.0], [53.443265, -1.23289, 1.0], [53.507713, -1.306064, 2.0], [53.646839, -0.988056, 2.0], [53.495835, -0.989243, 1.0], [53.480445, -1.148286, 1.0], [53.591176, -0.985458, 1.0], [53.53166, -1.108334, 1.0], [53.519362, -1.135138, 1.0], [53.5748, -1.144427, 1.0], [53.550362, -1.073526, 1.0], [53.531241, -1.175178, 1.0], [53.47763, -1.0837, 1.0], [53.616749, -0.959296, 2.0], [53.511776, -1.235424, 1.0], [53.518635, -1.109512, 1.0], [53.5151, -1.129946, 1.0], [53.478332, -1.193533, 1.0], [53.508912, -1.157064, 1.0], [53.536372, -1.077755, 1.0], [53.497705, -1.256179, 3.0], [53.544389, -1.165716, 1.0], [53.529704, -1.148354, 1.0], [53.529281, -1.139461, 1.0], [53.618191, -1.219745, 1.0], [53.509551, -1.145742, 1.0], [53.540428, -1.231889, 1.0], [53.612475, -0.953657, 1.0], [53.523466, -1.106394, 1.0], [53.496526, -1.051636, 1.0], [53.50014, -1.076883, 1.0], [53.599536, -0.944003, 1.0], [53.531596, -1.111805, 1.0], [53.501545, -1.266665, 1.0], [53.483181, -1.219964, 1.0], [53.52476, -1.135782, 1.0], [53.527909, -1.087745, 1.0], [53.49398, -1.29423, 1.0], [53.429941, -1.02106, 1.0], [53.511502, -1.081613, 1.0], [53.493263, -1.27947, 1.0], [53.499905, -1.141865, 1.0], [53.51844, -1.169846, 1.0], [53.507449, -1.068883, 1.0], [53.515111, -1.095108, 1.0], [53.492698, -1.260487, 1.0], [53.530008, -1.115912, 1.0], [53.538165, -0.977672, 1.0], [53.540493, -1.187372, 1.0], [53.584725, -1.020357, 1.0], [53.506381, -1.11776, 1.0], [53.521388, -1.129365, 1.0], [53.474021, -1.08197, 1.0], [53.526904, -1.133928, 1.0], [53.505577, -1.155773, 1.0], [53.492558, -1.281893, 1.0], [53.528457, -1.137366, 1.0], [53.584644, -1.021416, 1.0], [53.501033, -1.087869, 1.0], [53.547477, -1.049592, 1.0], [53.576956, -1.071888, 1.0], [53.536839, -1.056922, 1.0], [53.609207, -0.960237, 1.0], [53.606948, -0.99037, 1.0], [53.58875, -1.159555, 1.0], [53.559737, -1.188513, 1.0], [53.624575, -0.980877, 2.0], [53.517127, -1.100193, 1.0], [53.536322, -1.0598, 1.0], [53.584178, -1.019463, 1.0], [53.487775, -1.155223, 1.0], [53.527169, -1.133319, 1.0], [53.514839, -1.094812, 1.0], [53.516404, -1.11167, 2.0], [53.52208, -1.138099, 2.0], [53.485671, -1.188872, 1.0], [53.485016, -1.211792, 1.0], [53.529704, -1.087404, 1.0], [53.499799, -1.15227, 1.0], [53.527874, -1.131344, 1.0], [53.480446, -1.148436, 1.0], [53.485199, -1.134326, 1.0], [53.51021, -1.088879, 1.0], [53.50894, -1.087398, 2.0], [53.58368, -1.154369, 1.0], [53.609719, -0.98849, 2.0], [53.513927, -1.129367, 1.0], [53.535181, -1.086532, 1.0], [53.534186, -1.121709, 1.0], [53.52009, -1.136329, 1.0], [53.431927, -1.022068, 2.0], [53.585307, -1.155696, 1.0], [53.510227, -1.127331, 1.0], [53.58641, -0.98527, 1.0], [53.6076, -1.222056, 1.0], [53.554481, -1.060002, 1.0], [53.605542, -0.952317, 1.0], [53.500319, -1.175175, 1.0], [53.567712, -1.198175, 1.0], [53.479461, -1.242484, 1.0], [53.529092, -1.125737, 1.0], [53.53623, -1.059501, 2.0], [53.527111, -1.043108, 1.0], [53.614556, -1.227521, 1.0], [53.485729, -1.133109, 2.0], [53.471035, -1.139736, 1.0], [53.545908, -1.090527, 2.0], [53.489457, -1.24532, 2.0], [53.532937, -1.098802, 1.0], [53.534862, -1.09182, 2.0], [53.437565, -1.110907, 2.0], [53.523818, -1.129767, 2.0], [53.475587, -1.075156, 1.0], [53.526039, -1.090048, 1.0], [53.465669, -1.182023, 1.0], [53.495822, -1.286511, 1.0], [53.507839, -1.296864, 1.0], [53.430991, -1.109238, 1.0], [53.513112, -1.140995, 1.0], [53.513062, -1.074039, 2.0], [53.512578, -1.14176, 1.0], [53.533248, -1.092458, 1.0], [53.505729, -1.114608, 1.0], [53.592009, -1.215846, 2.0], [53.554565, -1.059245, 2.0], [53.527421, -1.11853, 1.0], [53.481669, -1.143439, 2.0], [53.481715, -1.229484, 1.0], [53.48902, -1.116011, 1.0], [53.546388, -1.014903, 1.0], [53.52763, -1.160011, 1.0], [53.547782, -1.088676, 1.0], [53.509944, -1.150409, 1.0], [53.519299, -1.126391, 2.0], [53.434496, -1.097273, 1.0], [53.51722, -1.100643, 1.0], [53.477634, -1.223833, 1.0], [53.541662, -1.214362, 1.0], [53.569804, -1.0654, 2.0], [53.515124, -1.133263, 1.0], [53.512928, -1.091686, 1.0], [53.467502, -1.200517, 1.0], [53.539282, -1.181208, 1.0], [53.546836, -1.048097, 1.0], [53.512041, -1.142073, 1.0], [53.526626, -1.132727, 1.0], [53.531686, -1.111803, 1.0], [53.611834, -0.962591, 1.0], [53.602633, -0.979743, 1.0], [53.496294, -1.305648, 1.0], [53.500228, -1.175026, 1.0], [53.515282, -1.130244, 1.0], [53.521641, -1.127097, 1.0], [53.494982, -1.157491, 1.0], [53.560577, -1.035408, 1.0], [53.533818, -1.145405, 1.0], [53.574747, -0.916076, 1.0], [53.477926, -1.148035, 1.0], [53.475651, -1.156819, 1.0], [53.5911, -0.987122, 1.0], [53.556717, -1.180721, 1.0], [53.523816, -1.10518, 1.0], [53.52821, -1.192133, 1.0], [53.539777, -1.149057, 1.0], [53.593937, -1.208406, 1.0], [53.538628, -1.177599, 1.0], [53.524907, -1.131253, 2.0], [53.534821, -1.051837, 1.0], [53.575514, -1.156344, 2.0], [53.432521, -1.017839, 2.0], [53.504584, -1.15519, 1.0], [53.426757, -1.049728, 1.0], [53.503947, -1.024331, 1.0], [53.489779, -1.14629, 2.0], [53.505148, -1.158647, 1.0], [53.53203, -1.172296, 1.0], [53.546964, -1.174118, 1.0], [53.525479, -1.123398, 1.0], [53.466023, -0.992964, 1.0], [53.541774, -1.204098, 2.0], [53.512295, -1.091247, 1.0], [53.514545, -1.140212, 2.0], [53.478016, -1.148033, 1.0], [53.498063, -1.064114, 1.0], [53.54845, -1.142544, 1.0], [53.497317, -1.183072, 1.0], [53.522577, -1.132206, 1.0], [53.629523, -0.981362, 1.0], [53.499929, -1.170811, 1.0], [53.521832, -1.128601, 1.0], [53.487152, -1.026073, 1.0], [53.480222, -1.05863, 1.0], [53.510758, -1.126265, 1.0], [53.48232, -1.185169, 1.0], [53.518713, -1.108002, 1.0], [53.512205, -1.091249, 1.0], [53.517991, -1.131998, 1.0], [53.583221, -1.012385, 1.0], [53.577296, -1.206603, 1.0], [53.493626, -0.972563, 1.0], [53.507055, -1.148657, 1.0], [53.535673, -1.05725, 1.0], [53.509249, -1.057685, 1.0], [53.51931, -1.115682, 1.0], [53.532916, -1.14497, 2.0], [53.481818, -1.231442, 1.0], [53.430514, -1.036249, 1.0], [53.563181, -1.023874, 1.0], [53.485548, -1.132962, 2.0], [53.507683, -1.148494, 1.0], [53.494152, -1.167306, 3.0], [53.592132, -0.940259, 1.0], [53.513425, -1.226346, 1.0], [53.562292, -1.194201, 1.0], [53.61792, -1.153382, 1.0], [53.497706, -1.25648, 1.0], [53.488286, -1.114067, 1.0], [53.485493, -1.258352, 1.0], [53.562566, -1.0257, 1.0], [53.507057, -1.148959, 1.0], [53.517471, -1.147091, 1.0], [53.507545, -1.046866, 1.0], [53.537424, -1.062794, 2.0], [53.48217, -1.150662, 1.0], [53.502751, -1.162916, 1.0], [53.521392, -1.129968, 1.0], [53.514829, -1.129801, 1.0], [53.613775, -1.151954, 1.0], [53.556208, -1.051057, 1.0], [53.50822, -1.064041, 1.0], [53.518822, -1.110564, 1.0], [53.515367, -1.129639, 1.0], [53.520002, -1.136633, 1.0], [53.516405, -1.124037, 1.0], [53.521302, -1.12997, 1.0], [53.507684, -1.148645, 1.0], [53.467624, -1.218893, 1.0], [53.579179, -0.970037, 1.0], [53.483304, -1.23895, 1.0], [53.510353, -1.072439, 1.0], [53.615918, -1.149945, 1.0], [53.487715, -1.085895, 1.0], [53.479383, -1.244294, 1.0], [53.517859, -1.138637, 1.0], [53.480447, -1.148587, 1.0], [53.570171, -0.978259, 2.0], [53.488451, -1.256944, 1.0], [53.571501, -0.914951, 3.0], [53.535185, -1.087136, 1.0], [53.607092, -0.965125, 1.0], [53.523411, -1.099155, 1.0], [53.533724, -1.107838, 1.0], [53.502936, -1.163666, 1.0], [53.505358, -1.113107, 1.0], [53.537835, -1.069424, 1.0], [53.581286, -1.211815, 1.0], [53.497695, -1.172663, 1.0], [53.515112, -1.182579, 1.0], [53.528693, -1.132685, 1.0], [53.432143, -1.095065, 1.0], [53.544708, -1.147298, 1.0], [53.486076, -1.131294, 1.0], [53.56437, -1.195823, 1.0], [53.474162, -1.076844, 1.0], [53.536751, -1.104002, 1.0], [53.480442, -1.147834, 2.0], [53.519171, -1.109048, 1.0], [53.617369, -0.958222, 1.0], [53.535273, -1.086832, 1.0], [53.474617, -1.077588, 1.0], [53.483092, -1.219965, 1.0], [53.49978, -1.149557, 1.0], [53.498459, -1.116116, 1.0], [53.529081, -1.27162, 1.0], [53.496462, -1.150678, 1.0], [53.631561, -1.16309, 1.0], [53.521243, -1.134194, 2.0], [53.498909, -1.116257, 1.0], [53.539643, -1.036639, 2.0], [53.585107, -1.17851, 1.0], [53.550546, -1.085748, 1.0], [53.562169, -1.066021, 1.0], [53.548762, -1.087598, 1.0], [53.541813, -1.170143, 2.0], [53.522464, -1.129041, 1.0], [53.5124, -1.141915, 2.0], [53.482444, -1.15126, 1.0], [53.499798, -1.152119, 1.0], [53.507889, -1.03374, 1.0], [53.472077, -1.254668, 2.0], [53.561671, -1.25083, 1.0], [53.520089, -1.136179, 1.0], [53.519973, -1.132561, 1.0], [53.585385, -1.193007, 1.0], [53.537761, -1.071387, 1.0], [53.503563, -1.113446, 2.0], [53.508994, -1.059651, 1.0], [53.565634, -0.994525, 1.0], [53.474766, -1.158796, 1.0], [53.514543, -1.152579, 1.0], [53.511388, -1.090211, 1.0], [53.472491, -1.142117, 1.0], [53.50023, -1.076881, 1.0], [53.511041, -1.10379, 1.0], [53.467621, -1.034052, 1.0], [53.573048, -1.21665, 1.0], [53.521122, -1.129823, 1.0], [53.52429, -1.038797, 1.0], [53.525642, -1.13335, 2.0], [53.516063, -1.177132, 1.0], [53.578886, -1.215937, 1.0], [53.449411, -1.120447, 1.0], [53.596403, -1.161368, 1.0], [53.526617, -1.13152, 1.0], [53.513469, -1.140536, 1.0], [53.507595, -1.148797, 1.0], [53.476649, -1.061572, 1.0], [53.533994, -1.23789, 1.0], [53.503013, -1.161855, 1.0], [53.567111, -1.188976, 1.0], [53.524346, -1.045886, 1.0], [53.570403, -1.170943, 3.0], [53.524457, -1.131112, 1.0], [53.535835, -1.113678, 2.0], [53.492157, -1.022491, 2.0], [53.535623, -1.121528, 1.0], [53.525608, -1.128675, 1.0], [53.522223, -1.132968, 2.0], [53.477269, -1.071805, 1.0], [53.54725, -1.077971, 1.0], [53.532811, -1.118116, 1.0], [53.488557, -1.203588, 1.0], [53.479022, -1.150424, 1.0], [53.429472, -1.074953, 3.0], [53.588403, -1.214251, 1.0], [53.562053, -1.028883, 1.0], [53.570111, -1.167777, 1.0], [53.51909, -1.134841, 2.0], [53.43153, -1.109227, 1.0], [53.496285, -1.273841, 1.0], [53.518995, -1.109655, 1.0], [53.515624, -1.127824, 1.0], [53.547691, -1.088527, 1.0], [53.539167, -1.055814, 1.0], [53.588144, -1.243865, 1.0], [53.523751, -1.132936, 1.0], [53.564263, -1.32371, 1.0], [53.532722, -1.118269, 1.0], [53.562265, -1.066774, 2.0], [53.484619, -1.153778, 3.0], [53.525318, -1.101679, 1.0], [53.500977, -1.166267, 1.0], [53.615844, -1.152214, 1.0], [53.53472, -1.145839, 1.0], [53.540568, -1.097583, 1.0], [53.543476, -1.101747, 2.0], [53.54239, -1.272599, 1.0], [53.50858, -1.075644, 1.0], [53.556522, -1.140116, 1.0], [53.501756, -1.286713, 1.0], [53.632927, -0.969484, 1.0], [53.594199, -1.02467, 1.0], [53.543303, -1.102656, 1.0], [53.515372, -1.130242, 2.0], [53.515642, -1.130387, 1.0], [53.60446, -1.16952, 1.0], [53.453868, -1.115385, 2.0], [53.491892, -1.115499, 1.0], [53.512749, -1.09184, 1.0], [53.573851, -1.215729, 1.0], [53.509336, -1.057382, 1.0], [53.545754, -1.082079, 1.0], [53.500948, -1.175163, 1.0], [53.528829, -1.126647, 1.0], [53.618257, -0.956991, 3.0], [53.567291, -1.189123, 1.0], [53.430307, -1.078397, 1.0], [53.476168, -1.080568, 2.0], [53.557402, -1.150062, 1.0], [53.562096, -1.056813, 1.0], [53.533627, -1.195651, 1.0], [53.576301, -0.980377, 1.0], [53.437116, -1.110916, 2.0], [53.523203, -1.131741, 1.0], [53.512928, -1.091686, 1.0], [53.522451, -1.102946, 1.0], [53.512928, -1.091686, 1.0], [53.512205, -1.091249, 1.0], [53.607101, -1.076063, 1.0], [53.584178, -1.019463, 1.0], [53.553539, -1.065909, 1.0], [53.529621, -1.124368, 1.0], [53.523883, -1.126447, 1.0], [53.535585, -1.057553, 1.0], [53.505528, -1.087924, 1.0], [53.537906, -1.102167, 1.0], [53.528159, -1.096942, 1.0], [53.531861, -1.111196, 2.0], [53.596566, -1.253839, 1.0], [53.527431, -1.119888, 1.0], [53.500401, -1.173967, 1.0], [53.518969, -1.142989, 1.0], [53.490292, -1.155173, 1.0], [53.492584, -1.148796, 1.0], [53.490007, -1.023445, 1.0], [53.507774, -1.148643, 1.0], [53.568884, -1.185469, 1.0], [53.565517, -1.219658, 1.0], [53.513424, -1.226044, 1.0], [53.501245, -1.166111, 2.0], [53.517221, -1.100794, 1.0], [53.524197, -1.038498, 1.0], [53.48893, -1.116012, 1.0], [53.491149, -1.162089, 1.0], [53.578326, -1.074728, 1.0], [53.628948, -0.966708, 1.0], [53.588723, -1.181613, 1.0], [53.581058, -1.177985, 1.0], [53.51944, -1.133477, 1.0], [53.580208, -1.006716, 1.0], [53.573464, -1.017294, 1.0], [53.55784, -1.075778, 1.0], [53.479351, -1.146198, 1.0], [53.514441, -1.101607, 1.0], [53.493262, -1.279319, 1.0], [53.48047, -1.033459, 1.0], [53.482801, -1.23067, 1.0], [53.488157, -1.15838, 1.0], [53.52874, -1.1268, 1.0], [53.4936, -1.152695, 1.0], [53.447674, -1.219711, 1.0], [53.493538, -0.972867, 1.0], [53.630735, -1.173541, 1.0], [53.541276, -1.049731, 1.0], [53.511139, -1.129122, 1.0], [53.49914, -1.17369, 1.0], [53.531411, -1.111054, 1.0], [53.529265, -1.14972, 1.0], [53.539276, -1.167326, 1.0], [53.566199, -0.997531, 1.0], [53.528329, -1.132089, 1.0], [53.524727, -1.10682, 1.0], [53.578796, -1.215939, 1.0], [53.532365, -1.106508, 1.0], [53.594964, -1.030394, 2.0], [53.547566, -1.049439, 2.0], [53.537425, -1.062945, 1.0], [53.498948, -1.073894, 1.0], [53.513557, -1.140383, 2.0], [53.540988, -1.221316, 1.0], [53.512995, -1.188501, 2.0], [53.431283, -1.020276, 2.0], [53.507685, -1.148795, 1.0], [53.522658, -1.222406, 1.0], [53.57022, -0.994718, 1.0], [53.4305, -1.165841, 1.0], [53.582181, -1.184458, 2.0], [53.529621, -1.124368, 1.0], [53.536324, -1.060102, 1.0], [53.499839, -1.170662, 1.0], [53.542697, -1.058904, 1.0], [53.565401, -1.202145, 1.0], [53.557352, -1.181463, 1.0], [53.51264, -1.229979, 1.0], [53.543374, -1.053607, 1.0], [53.550398, -1.176768, 1.0], [53.572987, -1.180708, 1.0], [53.533568, -1.12323, 1.0], [53.520441, -1.135116, 1.0], [53.465493, -1.131563, 2.0], [53.517556, -1.171975, 1.0], [53.610922, -0.961102, 1.0], [53.61786, -1.144917, 1.0], [53.596765, -1.161663, 1.0], [53.577302, -0.93036, 2.0], [53.540917, -1.049739, 1.0], [53.530679, -1.12148, 2.0], [53.621546, -0.983974, 1.0], [53.527429, -1.119586, 2.0], [53.543278, -1.087414, 1.0], [53.582246, -1.01407, 2.0], [53.538936, -1.281109, 1.0], [53.538938, -1.28141, 2.0], [53.451204, -1.223411, 1.0], [53.557263, -1.181616, 1.0], [53.547782, -1.088676, 1.0], [53.498209, -1.182, 1.0], [53.471714, -1.212039, 2.0], [53.540858, -1.228864, 3.0], [53.530768, -1.121478, 1.0], [53.513184, -1.032715, 1.0], [53.450069, -1.065019, 2.0], [53.529586, -1.144283, 1.0], [53.553923, -1.128697, 1.0], [53.554336, -1.148614, 1.0], [53.5748, -1.144427, 1.0], [53.561684, -1.072977, 1.0], [53.527688, -1.142963, 1.0], [53.495165, -1.281849, 1.0], [53.517679, -1.10184, 1.0], [53.446953, -1.068852, 1.0], [53.529918, -1.115913, 1.0], [53.565347, -0.981848, 1.0], [53.524761, -1.135933, 1.0], [53.493, -1.295602, 1.0], [53.428541, -1.094238, 1.0], [53.483668, -1.028715, 1.0], [53.529476, -1.116828, 1.0], [53.491322, -1.25614, 1.0], [53.485666, -1.188119, 1.0], [53.529884, -1.123457, 1.0], [53.508222, -1.064343, 2.0], [53.58675, -0.982996, 1.0], [53.472285, -1.163817, 1.0], [53.472996, -1.162748, 1.0], [53.518545, -1.109514, 1.0], [53.480537, -1.148585, 1.0], [53.576873, -1.170665, 1.0], [53.502273, -1.14619, 1.0], [53.514624, -1.102056, 1.0], [53.545067, -1.14714, 1.0], [53.509551, -1.145742, 1.0], [53.612842, -0.964834, 1.0], [53.561295, -1.193012, 1.0], [53.572987, -1.180708, 1.0], [53.566799, -1.131754, 2.0], [53.550736, -1.148083, 1.0], [53.510227, -1.127331, 1.0], [53.479441, -1.146196, 1.0], [53.561102, -1.152102, 1.0], [53.526814, -1.13393, 1.0], [53.505357, -1.150048, 1.0], [53.532903, -1.155683, 2.0], [53.561587, -1.060599, 1.0], [53.539368, -1.069994, 1.0], [53.562484, -1.026608, 1.0], [53.57657, -1.205559, 1.0], [53.585294, -1.192857, 1.0], [53.527431, -1.119888, 1.0], [53.534642, -1.086544, 1.0], [53.544708, -1.147298, 1.0], [53.544261, -1.147609, 1.0], [53.529414, -1.145493, 1.0], [53.487609, -1.157185, 1.0], [53.600885, -1.159617, 2.0], [53.591835, -1.03243, 1.0], [53.539651, -1.182559, 1.0], [53.41036, -1.115235, 1.0], [53.508219, -1.063891, 1.0], [53.596403, -1.161368, 1.0], [53.504764, -1.155186, 1.0], [53.503192, -1.161701, 1.0], [53.582824, -0.986413, 1.0], [53.537816, -1.102168, 1.0], [53.563018, -1.195244, 2.0], [53.492724, -1.294552, 1.0], [53.551971, -1.144737, 1.0], [53.514784, -1.135985, 1.0], [53.497092, -1.078005, 1.0], [53.586305, -1.196162, 1.0], [53.476954, -1.189189, 1.0], [53.51582, -1.130082, 1.0], [53.577079, -1.019627, 2.0], [53.563749, -1.072781, 1.0], [53.476811, -1.249914, 1.0], [53.486715, -1.252453, 1.0], [53.478017, -1.148184, 1.0], [53.586392, -0.983155, 1.0], [53.544798, -1.098248, 1.0], [53.535183, -1.160465, 1.0], [53.528207, -1.127716, 1.0], [53.5393, -1.049926, 1.0], [53.512844, -1.141152, 1.0], [53.508119, -1.074146, 1.0], [53.548671, -1.087449, 1.0], [53.586817, -1.057018, 1.0], [53.618735, -1.06946, 1.0], [53.511863, -1.129861, 1.0], [53.47663, -1.249616, 1.0], [53.526325, -1.116139, 1.0], [53.580272, -1.014418, 1.0], [53.479441, -1.146196, 1.0], [53.520996, -1.137367, 2.0], [53.477786, -1.247637, 2.0], [53.586222, -1.238461, 2.0], [53.562138, -1.028277, 2.0], [53.533857, -1.113719, 1.0], [53.573226, -1.216344, 1.0], [53.508241, -1.176831, 1.0], [53.529386, -1.11683, 3.0], [53.545203, -1.080581, 1.0], [53.486929, -1.257874, 1.0], [53.539162, -1.089917, 1.0], [53.522534, -1.138693, 1.0], [53.537006, -1.164051, 1.0], [53.573281, -0.92291, 1.0], [53.500504, -1.175925, 1.0], [53.430812, -1.109392, 1.0], [53.522668, -1.132355, 1.0], [53.523608, -1.138068, 1.0], [53.593249, -1.029527, 1.0], [53.486394, -1.230153, 1.0], [53.565041, -1.188713, 1.0], [53.562007, -1.056815, 1.0], [53.569502, -1.183796, 1.0], [53.534148, -1.11658, 2.0], [53.526448, -1.133032, 1.0], [53.483265, -1.219058, 1.0], [53.505408, -1.157285, 1.0], [53.53166, -1.108334, 1.0], [53.494525, -1.182222, 1.0], [53.490012, -1.024048, 1.0], [53.530059, -1.12285, 1.0], [53.543301, -1.102354, 1.0], [53.506946, -1.08533, 1.0], [53.537504, -1.050117, 1.0], [53.50702, -1.071607, 2.0], [53.505656, -1.104808, 1.0], [53.503961, -1.025989, 1.0], [53.527446, -1.134219, 1.0], [53.517129, -1.100494, 1.0], [53.528203, -1.127113, 1.0], [53.523877, -1.137912, 1.0], [53.502484, -1.150558, 1.0], [53.547474, -1.049139, 1.0], [53.488705, -1.109988, 1.0], [53.527395, -1.12728, 1.0], [53.523024, -1.131895, 1.0], [53.480595, -1.18264, 1.0], [53.510495, -1.102897, 1.0], [53.483726, -1.18047, 1.0], [53.492568, -1.254158, 3.0], [53.523089, -1.128425, 1.0], [53.521916, -1.127845, 1.0], [53.510353, -1.072439, 1.0], [53.489733, -1.115242, 1.0], [53.480445, -1.148286, 1.0], [53.481387, -1.058152, 1.0], [53.494693, -1.263316, 2.0], [53.534453, -1.09726, 1.0], [53.458745, -1.059557, 1.0], [53.593754, -1.025285, 2.0], [53.483067, -1.230063, 1.0], [53.480819, -1.229953, 1.0], [53.489895, -1.054196, 1.0], [53.490061, -1.019073, 1.0], [53.48044, -1.24096, 1.0], [53.500231, -1.077032, 1.0], [53.501922, -1.122527, 1.0], [53.538655, -1.155568, 1.0], [53.465306, -1.143015, 1.0], [53.480446, -1.148436, 1.0], [53.54624, -0.975968, 2.0], [53.518054, -1.103944, 1.0], [53.514018, -1.248805, 1.0], [53.500862, -1.175617, 1.0], [53.519891, -1.121401, 1.0], [53.470343, -1.168977, 1.0], [53.517219, -1.100492, 1.0], [53.527022, -1.125478, 1.0], [53.516327, -1.176222, 1.0], [53.497454, -1.273821, 1.0], [53.491798, -1.02265, 1.0], [53.478242, -1.193534, 1.0], [53.51384, -1.093476, 1.0], [53.492724, -1.294552, 1.0], [53.476093, -1.235915, 1.0], [53.52763, -1.160011, 1.0], [53.45844, -1.202946, 1.0], [53.50421, -1.057043, 2.0], [53.501889, -1.070664, 1.0], [53.643407, -1.051974, 1.0], [53.577157, -0.975372, 1.0], [53.481506, -1.224967, 1.0], [53.507951, -1.148338, 1.0], [53.507085, -1.191932, 1.0], [53.550045, -1.011498, 1.0], [53.480537, -1.148585, 1.0], [53.469903, -1.060968, 1.0], [53.539281, -1.181058, 1.0], [53.500944, -1.17456, 1.0], [53.54444, -1.147454, 1.0], [53.565624, -1.071079, 2.0], [53.535219, -1.115501, 1.0], [53.479356, -1.198787, 1.0], [53.535986, -1.14687, 1.0], [53.531339, -1.163408, 1.0], [53.554706, -1.077356, 1.0], [53.609814, -0.957652, 1.0], [53.449709, -1.201303, 1.0], [53.568794, -1.18532, 1.0], [53.519294, -1.138156, 1.0], [53.586446, -1.177276, 1.0], [53.528605, -1.09648, 2.0], [53.535057, -1.105848, 1.0], [53.51493, -1.094961, 1.0], [53.479441, -1.146196, 1.0], [53.513158, -1.110381, 1.0], [53.54879, -1.13982, 2.0], [53.50864, -1.144102, 1.0], [53.501862, -1.16429, 1.0], [53.483841, -1.252804, 1.0], [53.507685, -1.148795, 1.0], [53.523293, -1.131739, 1.0], [53.500522, -1.165523, 1.0], [53.609051, -0.962962, 1.0], [53.545908, -1.090527, 1.0], [53.594423, -1.030105, 1.0], [53.540942, -1.099537, 1.0], [53.44254, -1.022878, 2.0], [53.478016, -1.148033, 1.0], [53.524852, -1.136082, 2.0], [53.495926, -0.989391, 1.0], [53.610948, -0.953694, 1.0], [53.475571, -1.238485, 2.0], [53.577733, -1.000883, 1.0], [53.502112, -1.161571, 2.0], [53.498476, -1.181693, 1.0], [53.502873, -1.154772, 1.0], [53.48902, -1.116011, 1.0], [53.465935, -1.143003, 1.0], [53.54884, -1.146913, 1.0], [53.530411, -1.146529, 1.0], [53.481671, -1.236568, 1.0], [53.61834, -1.136744, 1.0], [53.505561, -1.153512, 1.0], [53.587439, -1.056098, 1.0], [53.601955, -0.984595, 1.0], [53.639635, -0.965539, 1.0], [53.499399, -1.159213, 1.0], [53.520575, -1.128778, 1.0], [53.584089, -1.019465, 1.0], [53.604174, -1.220456, 1.0], [53.498366, -1.290991, 1.0], [53.588926, -1.158947, 1.0], [53.53688, -1.050734, 1.0], [53.513733, -1.139776, 1.0], [53.52189, -1.136594, 1.0], [53.495458, -1.300988, 1.0], [53.58079, -1.275565, 1.0], [53.614559, -1.135914, 1.0], [53.478016, -1.148033, 1.0], [53.605632, -1.095592, 1.0], [53.617916, -1.068117, 1.0], [53.516726, -1.04847, 1.0], [53.524873, -1.102291, 1.0], [53.480537, -1.148585, 1.0], [53.470162, -1.16883, 1.0], [53.572931, -0.904192, 1.0], [53.541456, -1.049727, 1.0], [53.434397, -1.016441, 1.0], [53.521186, -1.126352, 1.0], [53.507085, -1.191932, 1.0], [53.512205, -1.091249, 3.0], [53.494363, -1.298142, 1.0], [53.585311, -1.236514, 1.0], [53.499142, -1.173992, 1.0], [53.537283, -1.102934, 1.0], [53.607178, -0.96467, 1.0], [53.643953, -0.955601, 1.0], [53.61593, -1.151608, 1.0], [53.501213, -1.01972, 1.0], [53.508393, -1.074744, 1.0], [53.600657, -1.218708, 1.0], [53.468492, -1.174286, 2.0], [53.512928, -1.091686, 1.0], [53.567834, -1.203005, 1.0], [53.568342, -1.198314, 1.0], [53.474616, -1.077437, 1.0], [53.519725, -1.135583, 1.0], [53.479423, -1.236457, 1.0], [53.499925, -1.144729, 1.0], [53.523681, -1.099149, 1.0], [53.538313, -1.050099, 2.0], [53.489624, -1.054051, 1.0], [53.516386, -1.097343, 1.0], [53.515156, -1.101139, 1.0], [53.592688, -0.962607, 1.0], [53.541935, -1.257064, 1.0], [53.534791, -1.094387, 1.0], [53.500276, -1.168995, 1.0], [53.533382, -1.098189, 1.0], [53.532046, -1.099877, 1.0], [53.483441, -1.218452, 1.0], [53.442625, -1.114415, 1.0], [53.535249, -1.083664, 1.0], [53.49375, -1.06436, 1.0], [53.449049, -1.005562, 1.0], [53.514811, -1.139755, 1.0], [53.524725, -1.130955, 1.0], [53.546842, -1.169441, 1.0], [53.573102, -0.923066, 1.0], [53.538626, -1.177298, 1.0], [53.566024, -1.214665, 1.0], [53.572322, -1.188725, 1.0], [53.621456, -0.952679, 2.0], [53.481582, -1.23672, 1.0], [53.518618, -1.169692, 1.0], [53.532722, -1.118269, 1.0], [53.498711, -1.30395, 1.0], [53.479443, -1.239621, 1.0], [53.494631, -1.267839, 1.0], [53.520173, -1.135423, 1.0], [53.513822, -1.139624, 1.0], [53.501238, -1.067813, 1.0], [53.508546, -1.1435, 1.0], [53.533919, -1.109946, 2.0], [53.618191, -1.219745, 1.0], [53.480538, -1.148736, 1.0], [53.539443, -1.023062, 1.0], [53.579369, -1.00311, 1.0], [53.522631, -1.127227, 1.0], [53.57654, -1.201029, 1.0], [53.496372, -1.15068, 1.0], [53.59212, -0.980147, 1.0], [53.526986, -1.13287, 1.0], [53.522758, -1.132353, 1.0], [53.48549, -1.229416, 1.0], [53.536046, -1.059052, 1.0], [53.541047, -1.054867, 1.0], [53.586314, -1.238762, 1.0], [53.510173, -1.144825, 1.0], [53.493336, -1.276604, 1.0], [53.480447, -1.148587, 1.0], [53.552182, -1.214771, 1.0], [53.494063, -1.180422, 1.0], [53.531828, -1.143634, 2.0], [53.536208, -1.19183, 2.0], [53.517213, -1.099738, 1.0], [53.481515, -1.226323, 1.0], [53.529461, -1.102798, 1.0], [53.593079, -1.161585, 1.0], [53.596211, -1.029006, 2.0], [53.632225, -0.981902, 1.0], [53.541366, -1.049729, 1.0], [53.514511, -1.110956, 1.0], [53.522443, -1.138544, 1.0], [53.489854, -1.237174, 2.0], [53.517304, -1.148904, 1.0], [53.518217, -1.138328, 3.0], [53.478106, -1.148031, 1.0], [53.4976, -1.283165, 2.0], [53.539188, -1.180607, 1.0], [53.577168, -0.987153, 1.0], [53.498949, -1.074045, 1.0], [53.535823, -1.161962, 1.0], [53.432055, -1.095368, 1.0], [53.520087, -1.135877, 1.0], [53.477689, -1.068028, 1.0], [53.477266, -1.236496, 1.0], [53.518808, -1.108603, 1.0], [53.550637, -1.074275, 1.0], [53.492945, -1.286409, 1.0], [53.474523, -1.243325, 1.0], [53.532107, -1.144986, 1.0], [53.431773, -1.081978, 1.0], [53.533174, -1.155979, 1.0], [53.539187, -1.180456, 1.0], [53.588927, -1.159098, 1.0], [53.568972, -1.185165, 1.0], [53.587319, -1.213515, 1.0], [53.522534, -1.138693, 1.0], [53.522187, -1.103706, 1.0], [53.508578, -1.087104, 1.0], [53.47895, -1.191864, 1.0], [53.478575, -1.230445, 1.0], [53.466221, -1.132753, 1.0], [53.438088, -1.197456, 1.0], [53.532107, -1.144986, 1.0], [53.515894, -1.178643, 1.0], [53.516139, -1.124495, 1.0], [53.535252, -1.084116, 1.0], [53.637731, -0.953334, 1.0], [53.506502, -1.109766, 2.0], [53.613048, -1.163608, 1.0], [53.589196, -1.159093, 1.0], [53.551273, -1.14777, 1.0], [53.535248, -1.083513, 1.0], [53.577122, -1.154953, 1.0], [53.560225, -1.036322, 1.0], [53.534345, -1.106768, 1.0], [53.579796, -0.968662, 1.0], [53.540749, -1.09773, 2.0], [53.508336, -1.190701, 2.0], [53.542386, -1.271996, 2.0], [53.47653, -1.153939, 1.0], [53.454114, -1.187968, 1.0], [53.474871, -1.241511, 1.0], [53.612973, -0.959237, 1.0], [53.497051, -1.18353, 1.0], [53.519513, -1.118845, 1.0], [53.481083, -1.149479, 1.0], [53.545231, -1.170529, 1.0], [53.553539, -1.065909, 1.0], [53.574044, -1.06727, 1.0], [53.516408, -1.112273, 1.0], [53.531789, -1.125832, 2.0], [53.487901, -1.269764, 2.0], [53.613048, -1.163608, 1.0], [53.48563, -1.20952, 2.0], [53.513129, -1.181863, 1.0], [53.538826, -1.046768, 1.0], [53.489282, -0.990303, 1.0], [53.562395, -1.026761, 1.0], [53.567455, -1.200143, 1.0], [53.495747, -1.000098, 1.0], [53.521828, -1.128149, 1.0], [53.463902, -1.186576, 2.0], [53.477407, -1.07813, 1.0], [53.61799, -0.9573, 1.0], [53.548671, -1.087449, 1.0], [53.479738, -1.243685, 1.0], [53.529096, -1.138711, 1.0], [53.536915, -1.163902, 1.0], [53.599988, -1.01819, 1.0], [53.526437, -1.131524, 1.0], [53.501566, -1.160527, 1.0], [53.541396, -1.149176, 1.0], [53.518989, -1.10875, 1.0], [53.490692, -1.200232, 1.0], [53.595143, -1.041421, 1.0], [53.534949, -1.091516, 2.0], [53.540786, -1.190837, 1.0], [53.533095, -1.144816, 1.0], [53.471605, -1.071777, 1.0], [53.597142, -1.217262, 1.0], [53.49078, -1.200079, 1.0], [53.562831, -1.117794, 2.0], [53.507129, -1.085628, 2.0], [53.525397, -1.136825, 1.0], [53.522083, -1.138401, 1.0], [53.544354, -1.14806, 1.0], [53.524852, -1.136082, 1.0], [53.567, -1.159986, 1.0], [53.6159, -1.186076, 1.0], [53.506585, -1.085036, 1.0], [53.428541, -1.094238, 1.0], [53.612478, -1.225896, 2.0], [53.445433, -1.234658, 1.0], [53.491358, -1.068784, 1.0], [53.521443, -1.136905, 1.0], [53.481727, -1.190455, 1.0], [53.519816, -1.135732, 1.0], [53.505914, -1.1526, 1.0], [53.496846, -1.307749, 1.0], [53.554125, -1.144241, 1.0], [53.55358, -1.082815, 1.0], [53.611747, -0.962895, 1.0], [53.51375, -1.129672, 1.0], [53.537907, -1.102317, 1.0], [53.502752, -1.150402, 2.0], [53.515636, -1.129482, 1.0], [53.476841, -1.199136, 1.0], [53.619853, -0.954381, 1.0], [53.47947, -1.150264, 1.0], [53.429312, -1.021074, 3.0], [53.517401, -1.10079, 1.0], [53.478096, -1.039992, 1.0], [53.477781, -1.068328, 1.0], [53.532628, -1.105597, 2.0], [53.519704, -1.120349, 1.0], [53.525252, -1.092931, 1.0], [53.500683, -1.175771, 1.0], [53.491058, -1.16194, 2.0], [53.528821, -1.137962, 1.0], [53.500401, -1.173967, 1.0], [53.611447, -0.959426, 1.0], [53.512506, -1.095314, 1.0], [53.582345, -1.015125, 2.0], [53.598041, -1.021862, 1.0], [53.504846, -1.248213, 1.0], [53.569916, -1.218822, 1.0], [53.485547, -1.224291, 1.0], [53.588764, -1.214546, 1.0], [53.589482, -0.98716, 1.0], [53.555683, -1.05288, 1.0], [53.494542, -1.268142, 1.0], [53.61148, -0.963204, 1.0], [53.590814, -0.933493, 2.0], [53.599988, -1.01819, 1.0], [53.488626, -1.052867, 1.0], [53.519588, -1.248254, 1.0], [53.460381, -1.006201, 1.0], [53.512926, -1.091535, 1.0], [53.512056, -1.31112, 1.0], [53.539189, -1.180757, 1.0], [53.570005, -1.218669, 1.0], [53.52121, -1.12967, 1.0], [53.526613, -1.279658, 3.0], [53.518627, -1.108456, 1.0], [53.57696, -1.016156, 1.0], [53.431621, -1.109375, 1.0], [53.574275, -1.006704, 1.0], [53.479022, -1.150424, 1.0], [53.530044, -1.145481, 1.0], [53.479838, -1.151462, 1.0], [53.612931, -0.96468, 1.0], [53.599468, -1.009589, 1.0], [53.610805, -0.95793, 1.0], [53.50822, -1.064041, 1.0], [53.534685, -1.116267, 1.0], [53.494102, -1.160071, 2.0], [53.591286, -0.93605, 1.0], [53.570794, -1.009655, 1.0], [53.473993, -1.055303, 1.0], [53.524234, -1.137603, 1.0], [53.477444, -1.208617, 1.0], [53.521523, -1.135546, 1.0], [53.515637, -1.129633, 2.0], [53.535932, -1.078972, 1.0], [53.471716, -1.21234, 1.0], [53.493628, -0.972865, 1.0], [53.540019, -1.04991, 1.0], [53.601656, -1.167006, 1.0], [53.511064, -1.1436, 1.0], [53.539421, -1.149517, 2.0], [53.53945, -1.057467, 1.0], [53.584735, -1.021565, 1.0], [53.529365, -1.189999, 1.0], [53.520088, -1.136028, 1.0], [53.545605, -1.146978, 1.0], [53.53765, -1.092062, 1.0], [53.512928, -1.091686, 1.0], [53.509677, -1.176501, 1.0], [53.609684, -0.953121, 1.0], [53.628228, -1.149244, 1.0], [53.539162, -1.089917, 1.0], [53.483516, -1.189215, 2.0], [53.492421, -1.164023, 1.0], [53.613252, -0.95001, 1.0], [53.5374, -1.169022, 1.0], [53.480615, -1.226189, 1.0], [53.498142, -1.283608, 1.0], [53.586222, -1.238461, 1.0], [53.563588, -1.0752, 1.0], [53.479351, -1.146198, 1.0], [53.540768, -1.228865, 1.0], [53.547745, -1.049284, 1.0], [53.567713, -1.198326, 1.0], [53.566521, -1.208314, 2.0], [53.53454, -1.050485, 2.0], [53.478411, -1.080067, 1.0], [53.520327, -1.107365, 1.0], [53.537062, -1.0625, 1.0], [53.539241, -1.100328, 1.0], [53.485417, -1.231979, 1.0], [53.428544, -1.071211, 3.0], [53.512222, -1.14222, 1.0], [53.542941, -1.09044, 3.0], [53.580334, -1.177243, 1.0], [53.546848, -1.049606, 2.0], [53.48967, -1.236424, 1.0], [53.579814, -1.262894, 2.0], [53.592222, -0.981655, 1.0], [53.622474, -1.112015, 1.0], [53.547242, -1.076915, 1.0], [53.567834, -1.203005, 1.0], [53.545089, -1.150309, 1.0], [53.488946, -1.249851, 1.0], [53.565119, -1.019149, 1.0], [53.618191, -1.219745, 1.0], [53.504418, -1.157153, 1.0], [53.527688, -1.142963, 2.0], [53.505528, -1.087924, 1.0], [53.576288, -1.010886, 1.0], [53.614709, -0.962369, 1.0], [53.533262, -1.194753, 1.0], [53.500858, -1.175165, 1.0], [53.547865, -1.087768, 1.0], [53.479722, -1.213246, 2.0], [53.507614, -1.151511, 1.0], [53.592048, -0.982264, 2.0], [53.629342, -0.981216, 1.0], [53.565149, -1.218305, 1.0], [53.586213, -1.195861, 1.0], [53.58246, -1.185812, 2.0], [53.527446, -1.134219, 2.0], [53.515113, -1.095409, 1.0], [53.579249, -1.066249, 1.0], [53.513882, -1.087141, 1.0], [53.586034, -0.983315, 1.0], [53.480446, -1.148436, 1.0], [53.547066, -1.077372, 1.0], [53.511054, -1.154911, 1.0], [53.502657, -1.162314, 1.0], [53.575762, -1.166005, 1.0], [53.630252, -0.951251, 1.0], [53.506493, -1.084737, 1.0], [53.508525, -1.153151, 1.0], [53.59963, -1.007469, 2.0], [53.551672, -1.140668, 1.0], [53.616553, -1.066333, 1.0], [53.609811, -1.176368, 1.0], [53.591441, -1.028209, 1.0], [53.512318, -1.181577, 1.0], [53.479441, -1.146196, 1.0], [53.493225, -1.288213, 1.0], [53.59215, -0.973196, 1.0], [53.523154, -1.162664, 1.0], [53.445716, -1.106972, 1.0], [53.540515, -1.151759, 1.0], [53.592186, -0.988002, 1.0], [53.540333, -1.15146, 1.0], [53.473941, -1.037525, 1.0], [53.529074, -1.087267, 1.0], [53.482792, -1.188475, 1.0], [53.485454, -1.22384, 1.0], [53.519741, -1.137845, 1.0], [53.591176, -0.985458, 1.0], [53.489986, -1.054344, 1.0], [53.574848, -0.917282, 1.0], [53.490292, -1.155173, 1.0], [53.570524, -1.020534, 2.0], [53.538313, -1.050099, 1.0], [53.513566, -1.092879, 1.0], [53.573795, -0.992217, 1.0], [53.527126, -0.979748, 2.0], [53.539442, -1.022911, 1.0], [53.6114, -0.953986, 1.0], [53.611012, -0.9611, 2.0], [53.574275, -1.006704, 1.0], [53.478016, -1.148033, 1.0], [53.58033, -0.968045, 1.0], [53.577355, -0.988054, 1.0], [53.532722, -1.118269, 1.0], [53.527588, -1.193201, 1.0], [53.488287, -1.114217, 1.0], [53.532993, -1.168656, 1.0], [53.500762, -1.174262, 1.0], [53.565572, -0.997848, 1.0], [53.574762, -1.203932, 1.0], [53.588764, -1.214546, 2.0], [53.47428, -1.069007, 1.0], [53.507775, -1.148794, 1.0], [53.510087, -1.145279, 1.0], [53.521541, -1.13811, 1.0], [53.475861, -1.241795, 1.0], [53.529918, -1.115913, 2.0], [53.432476, -1.103487, 1.0], [53.536261, -1.199675, 1.0], [53.547604, -1.077209, 1.0], [53.546878, -1.174723, 1.0], [53.515281, -1.130093, 1.0], [53.587412, -1.213967, 1.0], [53.579887, -0.968811, 2.0], [53.597411, -1.217257, 1.0], [53.516494, -1.111668, 1.0], [53.478066, -1.081883, 1.0], [53.474325, -1.159859, 1.0], [53.535006, -1.087139, 1.0], [53.507762, -1.086217, 1.0], [53.618448, -0.979059, 2.0], [53.508309, -1.148029, 1.0], [53.631411, -1.180333, 2.0], [53.554045, -1.145601, 1.0], [53.630752, -0.946702, 1.0], [53.515282, -1.130244, 1.0], [53.499987, -1.179101, 1.0], [53.526367, -1.18538, 1.0], [53.585647, -1.165659, 1.0], [53.53357, -1.123532, 1.0], [53.610472, -0.960962, 1.0], [53.474303, -1.037818, 1.0], [53.51918, -1.13484, 1.0], [53.557486, -1.076541, 1.0], [53.578794, -1.215637, 1.0], [53.548352, -1.141489, 1.0], [53.491887, -1.24588, 1.0], [53.545664, -1.082081, 1.0], [53.546976, -1.077374, 1.0], [53.568705, -1.185472, 1.0], [53.501333, -1.165808, 2.0], [53.613678, -0.967988, 1.0], [53.587597, -1.242667, 2.0], [53.489001, -1.202826, 1.0], [53.545937, -1.082528, 1.0], [53.488307, -1.11693, 1.0], [53.515457, -1.129637, 1.0], [53.56863, -1.148931, 2.0], [53.610748, -0.961711, 1.0], [53.546944, -1.084921, 1.0], [53.432189, -1.101235, 3.0], [53.501428, -1.069166, 1.0], [53.409913, -1.115545, 1.0], [53.461594, -1.151977, 1.0], [53.526635, -1.133933, 1.0], [53.43288, -1.109499, 1.0], [53.53148, -1.120407, 2.0], [53.430124, -1.021507, 1.0], [53.580546, -1.015016, 1.0], [53.515554, -1.13054, 1.0], [53.586682, -1.254315, 1.0], [53.480441, -1.241111, 1.0], [53.525625, -1.131088, 1.0], [53.515367, -1.129639, 1.0], [53.471432, -1.210236, 2.0], [53.527418, -1.130448, 2.0], [53.448855, -1.025594, 1.0], [53.514444, -1.138706, 1.0], [53.48872, -1.076378, 1.0], [53.542856, -1.033699, 1.0], [53.572276, -1.18193, 2.0], [53.515715, -1.127973, 1.0], [53.534642, -1.086544, 1.0], [53.478005, -1.039844, 1.0], [53.601529, -0.987325, 1.0], [53.563181, -1.023874, 2.0], [53.591865, -0.960965, 1.0], [53.493537, -1.182391, 1.0], [53.562554, -1.069334, 1.0], [53.517991, -1.131998, 1.0], [53.534345, -1.106768, 1.0], [53.480446, -1.148436, 1.0], [53.494977, -1.265723, 1.0], [53.493265, -1.156169, 2.0], [53.502027, -1.28701, 1.0], [53.445341, -1.117068, 1.0], [53.523698, -1.125697, 2.0], [53.612506, -1.163165, 1.0], [53.48902, -1.116011, 1.0], [53.541991, -1.169989, 1.0], [53.616867, -1.196186, 1.0], [53.601424, -1.159455, 1.0], [53.618695, -0.976483, 1.0], [53.5175, -1.138644, 2.0], [53.475389, -1.061298, 1.0], [53.529238, -1.145949, 1.0], [53.571039, -1.185125, 1.0], [53.557442, -1.181613, 1.0], [53.554517, -1.148761, 1.0], [53.444053, -1.202312, 1.0], [53.530007, -1.115761, 1.0], [53.524759, -1.135631, 1.0], [53.493394, -1.161743, 1.0], [53.497616, -1.256331, 1.0], [53.546848, -1.049606, 1.0], [53.47298, -1.075213, 1.0], [53.473466, -1.079873, 1.0], [53.554787, -1.148907, 1.0], [53.599396, -1.033769, 1.0], [53.432386, -1.091598, 2.0], [53.540289, -1.049904, 1.0], [53.564348, -1.153547, 2.0], [53.575851, -1.166003, 1.0], [53.608962, -0.963115, 1.0], [53.60718, -0.964972, 1.0], [53.509503, -1.090553, 1.0], [53.527687, -1.142813, 2.0], [53.491623, -1.246789, 1.0], [53.545937, -1.082528, 1.0], [53.592219, -1.248628, 1.0], [53.599874, -1.01517, 1.0], [53.536607, -1.061756, 1.0], [53.51614, -1.149531, 1.0], [53.548437, -1.140733, 1.0], [53.495924, -1.303845, 2.0], [53.591849, -0.969577, 1.0], [53.546842, -1.169441, 1.0], [53.500142, -1.054118, 1.0], [53.536186, -1.112614, 1.0], [53.517036, -1.100044, 1.0], [53.540997, -1.222674, 1.0], [53.502658, -1.162465, 1.0], [53.476834, -1.146098, 1.0], [53.518122, -1.175885, 1.0], [53.527554, -1.124411, 1.0], [53.515705, -1.1144, 1.0], [53.478543, -1.18494, 1.0], [53.515113, -1.095409, 2.0], [53.51141, -1.081313, 1.0], [53.523882, -1.126297, 1.0], [53.525535, -1.13109, 1.0], [53.53617, -1.199526, 1.0], [53.507205, -1.144583, 1.0], [53.509075, -1.117403, 1.0], [53.506913, -1.057888, 1.0], [53.543302, -1.102505, 1.0], [53.471497, -1.069369, 1.0], [53.526887, -1.131515, 1.0], [53.547775, -1.08777, 1.0], [53.556293, -1.050451, 1.0], [53.469145, -1.204252, 1.0], [53.523972, -1.126295, 2.0], [53.53398, -1.047782, 1.0], [53.50076, -1.17396, 1.0], [53.454396, -1.126067, 1.0], [53.529788, -1.147447, 1.0], [53.611757, -0.964104, 1.0], [53.478016, -1.148033, 1.0], [53.477834, -1.147735, 1.0], [53.514087, -1.139015, 1.0], [53.499911, -1.14277, 1.0], [53.501315, -1.273152, 1.0], [53.481905, -1.19015, 1.0], [53.529654, -1.141264, 1.0], [53.532102, -1.119489, 1.0], [53.488246, -1.158228, 1.0], [53.589125, -1.21469, 1.0], [53.573238, -1.067741, 1.0], [53.500577, -1.284924, 1.0], [53.433017, -1.103777, 1.0], [53.518399, -1.138626, 2.0], [53.618191, -1.219745, 1.0], [53.577733, -1.000883, 1.0], [53.537729, -1.102472, 1.0], [53.618353, -1.163805, 1.0], [53.491721, -1.057772, 1.0], [53.508118, -1.298518, 1.0], [53.542219, -1.259322, 1.0], [53.625225, -0.95198, 1.0], [53.461505, -1.151979, 1.0], [53.566231, -1.218889, 1.0], [53.44145, -1.113536, 1.0], [53.515191, -1.130095, 1.0], [53.514549, -1.179122, 1.0], [53.53627, -1.161651, 1.0], [53.479531, -1.146195, 1.0], [53.540379, -1.049902, 1.0], [53.542768, -1.034002, 1.0], [53.567365, -1.199994, 1.0], [53.522346, -1.162831, 1.0], [53.587086, -1.178774, 1.0], [53.507324, -1.148652, 1.0], [53.525626, -1.131239, 1.0], [53.525774, -1.102574, 1.0], [53.493821, -1.297699, 2.0], [53.518544, -1.109363, 1.0], [53.531975, -0.979179, 2.0], [53.513653, -0.980976, 2.0], [53.548761, -1.087447, 1.0], [53.503116, -1.113757, 1.0], [53.480444, -1.148135, 1.0], [53.488609, -1.158673, 1.0], [53.43713, -1.020744, 1.0], [53.518635, -1.109512, 1.0], [53.523561, -1.131583, 1.0], [53.492572, -1.254761, 1.0], [53.510211, -1.08903, 1.0], [53.480536, -1.148435, 1.0], [53.492995, -1.294849, 1.0], [53.502745, -1.162011, 1.0], [53.504942, -1.154881, 2.0], [53.491852, -1.284015, 1.0], [53.493603, -1.291221, 1.0], [53.547066, -1.077372, 1.0], [53.474522, -1.243175, 1.0], [53.520458, -1.137529, 1.0], [53.52, -1.136331, 1.0], [53.479369, -1.148609, 3.0], [53.477872, -1.153008, 1.0], [53.522758, -1.132353, 1.0], [53.526985, -1.132719, 1.0], [53.522579, -1.132508, 1.0], [53.501023, -1.063295, 1.0], [53.451587, -1.063781, 2.0], [53.522935, -1.132048, 1.0], [53.543229, -1.154119, 2.0], [53.513825, -1.140076, 1.0], [53.632135, -0.981904, 1.0], [53.50703, -1.120461, 1.0], [53.566068, -1.155173, 1.0], [53.480798, -1.226638, 1.0], [53.454734, -1.213407, 1.0], [53.539957, -0.977025, 1.0], [53.495002, -1.269793, 1.0], [53.569101, -1.20434, 1.0], [53.523455, -1.129322, 1.0], [53.535259, -1.085022, 1.0], [53.519642, -1.136489, 1.0], [53.479454, -1.148004, 1.0], [53.525641, -1.184338, 2.0], [53.508601, -1.176975, 2.0], [53.532993, -1.155832, 1.0], [53.444053, -1.202312, 1.0], [53.530438, -1.043335, 1.0], [53.479097, -1.148313, 2.0], [53.491447, -1.057176, 2.0], [53.528637, -1.137362, 1.0], [53.510446, -1.072889, 1.0], [53.509698, -1.116485, 1.0], [53.613771, -0.968288, 1.0], [53.507555, -1.309987, 1.0], [53.511112, -1.125504, 2.0], [53.500508, -1.176528, 1.0], [53.527171, -1.13347, 1.0], [53.521303, -1.13012, 1.0], [53.599477, -1.010646, 1.0], [53.541187, -1.096212, 1.0], [53.490971, -1.162243, 1.0], [53.492995, -1.294849, 1.0], [53.519002, -1.134994, 1.0], [53.474616, -1.077437, 1.0], [53.528766, -1.11805, 1.0], [53.57881, -1.000707, 1.0], [53.577821, -1.00073, 1.0], [53.502447, -1.073064, 1.0], [53.529719, -1.189238, 1.0], [53.588927, -1.159098, 1.0], [53.541122, -1.064372, 2.0], [53.492502, -1.287471, 1.0], [53.516496, -1.124186, 2.0], [53.483576, -1.239397, 2.0], [53.548166, -1.165944, 1.0], [53.563671, -1.268912, 1.0], [53.520531, -1.135114, 2.0], [53.464294, -1.152375, 1.0], [53.537594, -1.050115, 1.0], [53.500506, -1.176227, 1.0], [53.555912, -1.18134, 1.0], [53.54159, -1.203498, 1.0], [53.626392, -0.9518, 1.0], [53.521228, -1.107648, 1.0], [53.505733, -1.115211, 1.0], [53.534365, -1.097413, 1.0], [53.512045, -1.142525, 1.0], [53.562856, -1.184528, 1.0], [53.540047, -0.977023, 1.0], [53.495427, -1.169693, 1.0], [53.562005, -1.056664, 1.0], [53.504405, -1.155344, 1.0], [53.55429, -1.081743, 1.0], [53.579799, -0.968964, 2.0], [53.572083, -1.092835, 1.0], [53.543213, -1.102658, 1.0], [53.55567, -1.146625, 1.0], [53.537614, -1.05268, 1.0], [53.526279, -1.122174, 1.0], [53.531789, -1.125832, 1.0], [53.569828, -1.16582, 1.0], [53.508896, -1.142136, 1.0], [53.519013, -1.112068, 1.0], [53.492911, -1.295755, 1.0], [53.51763, -1.131704, 1.0], [53.539241, -1.100328, 1.0], [53.526536, -1.132729, 1.0], [53.527503, -1.142213, 1.0], [53.50098, -1.16672, 1.0], [53.425282, -1.056533, 2.0], [53.519971, -1.107825, 2.0], [53.612935, -0.965134, 1.0], [53.536825, -1.163903, 2.0], [53.515553, -1.130389, 1.0], [53.498683, -1.2839, 1.0], [53.49451, -1.262867, 1.0], [53.531438, -1.15194, 1.0], [53.559738, -1.188664, 1.0], [53.567365, -1.199994, 1.0], [53.515199, -1.182125, 1.0], [53.53353, -1.047792, 3.0], [53.541105, -1.225388, 1.0], [53.551687, -1.070479, 1.0], [53.61631, -1.141925, 1.0], [53.460813, -1.155909, 1.0], [53.528656, -1.127556, 1.0], [53.584922, -1.022467, 1.0], [53.540858, -1.228864, 1.0], [53.497819, -1.079044, 1.0], [53.493791, -1.292575, 1.0], [53.529616, -1.148506, 1.0], [53.59048, -0.988194, 1.0], [53.570657, -1.194948, 1.0], [53.497104, -1.165288, 1.0], [53.535897, -1.198927, 1.0], [53.431418, -1.082587, 1.0], [53.471313, -1.166246, 1.0], [53.469825, -1.198364, 2.0], [53.479555, -1.088632, 1.0], [53.491173, -1.165405, 2.0], [53.507685, -1.148795, 1.0], [53.622583, -1.177631, 1.0], [53.54766, -1.145277, 1.0], [53.496752, -1.306997, 1.0], [53.545328, -1.097029, 1.0], [53.585856, -1.237411, 1.0], [53.591443, -0.985149, 1.0], [53.514825, -1.116982, 1.0], [53.452525, -1.219321, 1.0], [53.533134, -1.054439, 1.0], [53.525318, -1.101679, 2.0], [53.541105, -1.225388, 1.0], [53.516539, -1.047569, 1.0], [53.526886, -1.131364, 1.0], [53.525887, -1.093671, 1.0], [53.519795, -1.120498, 1.0], [53.533802, -1.048087, 1.0], [53.537613, -1.111075, 1.0], [53.500473, -1.158588, 1.0], [53.574275, -1.006704, 1.0], [53.481175, -1.188657, 1.0], [53.465667, -1.181722, 1.0], [53.592307, -0.981049, 1.0], [53.562962, -1.008177, 1.0], [53.464943, -1.058968, 1.0], [53.507069, -1.150617, 1.0], [53.581154, -1.178889, 2.0], [53.510662, -1.032018, 1.0], [53.483268, -1.21951, 1.0], [53.4699, -1.072116, 1.0], [53.470809, -1.073452, 1.0], [53.477784, -1.06878, 1.0], [53.631005, -1.160682, 1.0], [53.515283, -1.130395, 1.0], [53.503686, -1.249591, 1.0], [53.517561, -1.147089, 1.0], [53.573608, -0.90946, 1.0], [53.522295, -1.130553, 2.0], [53.527112, -1.125476, 1.0], [53.55199, -1.147454, 1.0], [53.47811, -1.148634, 1.0], [53.457122, -1.130077, 2.0], [53.591835, -1.03243, 1.0], [53.506289, -1.117461, 1.0], [53.576409, -1.16856, 1.0], [53.480296, -1.056669, 2.0], [53.526069, -1.105887, 1.0], [53.493627, -0.972714, 2.0], [53.498499, -1.017672, 1.0], [53.532813, -1.155684, 1.0], [53.539239, -1.100177, 1.0], [53.546499, -1.146357, 1.0], [53.523395, -1.133396, 1.0], [53.540568, -1.097583, 1.0], [53.535273, -1.086832, 1.0], [53.522577, -1.132206, 1.0], [53.50347, -1.150237, 1.0], [53.542176, -1.06118, 1.0], [53.541188, -1.096363, 1.0], [53.567349, -1.197729, 2.0], [53.570435, -1.202201, 1.0], [53.547654, -1.169878, 1.0], [53.508908, -1.060106, 1.0], [53.571312, -1.007075, 1.0], [53.542439, -1.265958, 2.0], [53.57657, -1.205559, 1.0], [53.438649, -1.076109, 2.0], [53.554314, -1.061666, 1.0], [53.572138, -1.201414, 3.0], [53.535585, -1.057553, 1.0], [53.515461, -1.249534, 1.0], [53.586639, -1.057173, 2.0], [53.48761, -1.157336, 1.0], [53.561584, -1.11933, 1.0], [53.536967, -1.050431, 1.0], [53.614576, -1.054888, 1.0], [53.600403, -1.024981, 1.0], [53.516006, -1.250429, 3.0], [53.477069, -1.153929, 1.0], [53.48782, -1.124024, 1.0], [53.57881, -1.000707, 1.0], [53.499405, -1.28434, 1.0], [53.468983, -1.069726, 1.0], [53.476633, -1.194921, 1.0], [53.56421, -1.31435, 1.0], [53.554336, -1.148614, 1.0], [53.47713, -1.24343, 1.0], [53.621008, -0.952841, 1.0], [53.487719, -1.172857, 1.0], [53.491527, -1.164644, 1.0], [53.562446, -1.000187, 1.0], [53.518537, -1.108458, 2.0], [53.512926, -1.091535, 1.0], [53.43087, -1.117218, 1.0], [53.479978, -1.253174, 1.0], [53.5212, -1.178993, 1.0], [53.518186, -1.146624, 1.0], [53.443827, -1.07148, 1.0], [53.50248, -1.16277, 1.0], [53.592708, -1.029237, 1.0], [53.528603, -1.096329, 1.0], [53.521642, -1.127248, 1.0], [53.492871, -1.021872, 1.0], [53.586122, -1.195712, 1.0], [53.494536, -1.297084, 1.0], [53.546833, -1.01444, 1.0], [53.508118, -1.298518, 1.0], [53.518749, -1.042844, 1.0], [53.51061, -1.309636, 1.0], [53.536799, -1.160132, 1.0], [53.526158, -1.105885, 1.0], [53.478819, -1.086387, 2.0], [53.457042, -1.208997, 1.0], [53.474705, -1.077435, 1.0], [53.544912, -1.150614, 1.0], [53.567881, -1.157402, 1.0], [53.51671, -1.248003, 1.0], [53.518628, -1.108607, 1.0], [53.487719, -1.172857, 2.0], [53.506701, -1.031355, 1.0], [53.507762, -1.086217, 1.0], [53.504502, -1.156247, 1.0], [53.544798, -1.147296, 1.0], [53.582652, -1.019649, 1.0], [53.515111, -1.182429, 1.0], [53.539784, -1.020791, 1.0], [53.52956, -1.140663, 1.0], [53.547657, -1.170331, 1.0], [53.518807, -1.108453, 1.0], [53.455257, -1.210988, 1.0], [53.607512, -1.22236, 1.0], [53.585514, -0.985593, 1.0], [53.567711, -1.198024, 1.0], [53.532933, -1.08643, 1.0], [53.567025, -1.20302, 1.0], [53.52181, -1.137954, 1.0], [53.516593, -1.100958, 2.0], [53.58621, -1.026063, 1.0], [53.454816, -1.212201, 1.0], [53.50772, -1.30727, 1.0], [53.533389, -1.123385, 1.0], [53.474574, -1.037963, 1.0], [53.497488, -1.279549, 1.0], [53.587772, -1.21396, 2.0], [53.571779, -0.91585, 1.0], [53.540393, -1.09819, 1.0], [53.531684, -1.111501, 2.0], [53.592273, -0.977122, 1.0], [53.499047, -1.284648, 1.0], [53.61801, -1.153381, 1.0], [53.538907, -1.178952, 1.0], [53.494482, -1.272967, 1.0], [53.519906, -1.13573, 1.0], [53.51375, -1.093478, 1.0], [53.519642, -1.136489, 1.0], [53.516592, -1.100807, 1.0], [53.56366, -1.072783, 1.0], [53.572987, -1.180708, 2.0], [53.557348, -1.181011, 1.0], [53.562052, -1.028732, 1.0], [53.548166, -1.165944, 1.0], [53.471149, -1.208283, 1.0], [53.526858, -1.127593, 1.0], [53.523986, -1.103819, 2.0], [53.519703, -1.108132, 1.0], [53.519773, -1.167708, 1.0], [53.527596, -1.142664, 1.0], [53.514632, -1.152426, 1.0], [53.545588, -1.015978, 1.0], [53.499698, -1.27333, 1.0], [53.47063, -1.197746, 1.0], [53.514115, -1.130419, 2.0], [53.502572, -1.287905, 1.0], [53.514918, -1.129648, 2.0], [53.52009, -1.136329, 1.0], [53.486232, -1.192027, 1.0], [53.471705, -1.072981, 1.0], [53.548497, -1.076435, 1.0], [53.629246, -1.153458, 2.0], [53.482781, -1.255837, 1.0], [53.542386, -1.271996, 1.0], [53.527554, -1.124411, 1.0], [53.498411, -1.017825, 1.0], [53.541952, -1.164255, 2.0], [53.595591, -1.030078, 1.0], [53.577565, -1.002398, 2.0], [53.483266, -1.219209, 2.0], [53.546975, -1.077223, 1.0], [53.495923, -0.988939, 1.0], [53.529581, -1.14368, 1.0], [53.583354, -0.964346, 1.0], [53.526247, -1.105732, 1.0], [53.516701, -1.115435, 1.0], [53.609839, -0.960524, 2.0], [53.515155, -1.100989, 1.0], [53.532715, -1.047056, 1.0], [53.57099, -1.218047, 1.0], [53.471403, -1.08052, 1.0], [53.510043, -1.102454, 1.0], [53.5124, -1.141915, 2.0], [53.529678, -1.183204, 1.0], [53.524764, -1.136234, 2.0], [53.55399, -1.258664, 1.0], [53.574274, -1.006553, 2.0], [53.549274, -1.14464, 1.0], [53.519118, -1.126244, 1.0], [53.533817, -1.049898, 1.0], [53.612842, -0.964834, 1.0], [53.504587, -1.155642, 2.0], [53.52252, -1.162073, 1.0], [53.518336, -1.105597, 1.0], [53.576748, -1.205254, 1.0], [53.519663, -1.126987, 1.0], [53.564159, -1.218173, 1.0], [53.534642, -1.086544, 1.0], [53.516757, -1.122974, 1.0], [53.528656, -1.127556, 1.0], [53.54435, -1.147456, 1.0], [53.596583, -1.161364, 1.0], [53.538096, -1.115592, 1.0], [53.51537, -1.249384, 1.0], [53.515115, -1.183032, 1.0], [53.581383, -0.985994, 1.0], [53.474881, -1.076829, 1.0], [53.453689, -1.115389, 1.0], [53.485494, -1.258502, 1.0], [53.47858, -1.245212, 1.0], [53.483502, -1.241809, 1.0], [53.468983, -1.069726, 1.0], [53.527712, -1.12139, 1.0], [53.545754, -1.082079, 1.0], [53.528832, -1.191065, 1.0], [53.537855, -1.095377, 1.0], [53.489508, -1.073647, 1.0], [53.513384, -1.092581, 1.0], [53.499, -1.116406, 1.0], [53.618346, -0.956838, 1.0], [53.547303, -1.084913, 1.0], [53.535823, -1.161962, 1.0], [53.556509, -1.078072, 1.0], [53.628228, -1.149244, 2.0], [53.478016, -1.148033, 1.0], [53.58461, -1.017338, 1.0], [53.55251, -1.084046, 1.0], [53.524, -1.130065, 1.0], [53.572374, -1.157162, 1.0], [53.546409, -1.146358, 1.0], [53.528921, -1.126947, 1.0], [53.549765, -1.137989, 1.0], [53.515642, -1.130387, 1.0], [53.547836, -1.144669, 1.0], [53.441898, -1.202654, 1.0], [53.478095, -1.039842, 1.0], [53.554396, -1.060607, 2.0], [53.564495, -1.019767, 1.0], [53.480357, -1.148589, 1.0], [53.536324, -1.048634, 1.0], [53.508774, -1.150281, 1.0], [53.519317, -1.116587, 1.0], [53.590553, -1.160275, 1.0], [53.511876, -1.310973, 1.0], [53.510125, -1.176342, 1.0], [53.479352, -1.146349, 1.0], [53.536737, -1.164056, 1.0], [53.547656, -1.049437, 1.0], [53.515367, -1.129639, 1.0], [53.606206, -0.95623, 1.0], [53.471588, -1.069518, 1.0], [53.477001, -1.223241, 1.0], [53.494886, -1.265574, 1.0], [53.546499, -1.146357, 2.0], [53.553253, -1.148032, 1.0], [53.493502, -1.274341, 1.0], [53.47856, -1.053091, 1.0], [53.506244, -1.075846, 1.0], [53.474378, -1.220879, 2.0], [53.56246, -1.068733, 1.0], [53.522223, -1.132968, 1.0], [53.448674, -1.025448, 1.0], [53.481116, -1.234167, 1.0], [53.416923, -1.11525, 3.0], [53.536282, -1.077757, 1.0], [53.480822, -1.189568, 1.0], [53.477925, -1.147884, 1.0], [53.591686, -0.96112, 1.0], [53.581148, -1.177983, 1.0], [53.532497, -1.053548, 1.0], [53.510322, -1.128083, 1.0], [53.508067, -1.190857, 1.0], [53.508393, -1.063133, 1.0], [53.494543, -1.268293, 1.0], [53.508979, -1.153745, 1.0], [53.569804, -1.0654, 1.0], [53.512578, -1.14176, 2.0], [53.525397, -1.136825, 1.0], [53.494447, -1.050175, 1.0], [53.572513, -1.217415, 1.0], [53.507055, -1.148657, 1.0], [53.600112, -1.217962, 1.0], [53.487716, -1.086045, 1.0], [53.509462, -1.145895, 1.0], [53.596299, -1.028702, 1.0], [53.524409, -1.136996, 1.0], [53.630162, -0.951253, 1.0], [53.495748, -1.000249, 1.0], [53.489986, -1.054344, 1.0], [53.547131, -1.05126, 1.0], [53.521388, -1.129365, 1.0], [53.536512, -1.061154, 1.0], [53.527171, -1.13347, 1.0], [53.51021, -1.088879, 1.0], [53.478107, -1.148182, 1.0], [53.542024, -1.149012, 1.0], [53.541884, -1.278041, 1.0], [53.534463, -1.086699, 1.0], [53.579518, -1.066092, 1.0], [53.445887, -1.194298, 1.0], [53.480446, -1.148436, 1.0], [53.554399, -1.06106, 1.0], [53.446864, -1.069004, 2.0], [53.476468, -1.145201, 1.0], [53.504766, -1.155488, 1.0], [53.487447, -1.051537, 1.0], [53.543814, -1.14792, 1.0], [53.432284, -1.021758, 1.0], [53.517324, -1.126733, 1.0], [53.490331, -1.255705, 1.0], [53.561879, -1.029641, 1.0], [53.550468, -1.148239, 1.0], [53.600841, -0.990969, 1.0], [53.562653, -1.194496, 1.0], [53.609047, -0.95223, 1.0], [53.518538, -1.108609, 1.0], [53.616008, -1.149944, 2.0], [53.511241, -1.143295, 1.0], [53.51021, -1.088879, 1.0], [53.547474, -1.049139, 1.0], [53.493496, -1.150738, 1.0], [53.464524, -1.18551, 1.0], [53.529884, -1.087401, 2.0], [53.581645, -1.211808, 1.0], [53.500578, -1.173662, 1.0], [53.616242, -1.14495, 1.0], [53.524547, -1.13111, 1.0], [53.54145, -1.169698, 1.0], [53.522573, -1.131603, 1.0], [53.472747, -1.079888, 2.0], [53.524456, -1.130961, 2.0], [53.609054, -0.952986, 1.0], [53.50014, -1.076883, 1.0], [53.57208, -1.179518, 1.0], [53.581148, -1.177983, 1.0], [53.548929, -1.212265, 1.0], [53.531317, -1.110604, 1.0], [53.497017, -1.275939, 1.0], [53.544573, -1.092216, 1.0], [53.514453, -1.139913, 1.0], [53.514533, -1.138554, 1.0], [53.623675, -1.179576, 2.0], [53.479443, -1.146498, 1.0], [53.549956, -1.011651, 1.0], [53.534915, -1.086991, 1.0], [53.502869, -1.081045, 1.0], [53.480446, -1.148436, 1.0], [53.522444, -1.138695, 2.0], [53.517962, -1.103644, 1.0], [53.522757, -1.132202, 1.0], [53.529413, -1.145342, 1.0], [53.628138, -1.149246, 2.0], [53.535339, -1.083662, 1.0], [53.617707, -0.976507, 1.0], [53.503821, -1.161688, 1.0], [53.617459, -1.06722, 1.0], [53.578438, -1.216248, 1.0], [53.529887, -1.099621, 1.0], [53.588223, -1.214254, 1.0], [53.589619, -1.025229, 1.0], [53.479441, -1.146196, 1.0], [53.479201, -1.15027, 2.0], [53.527554, -1.124411, 1.0], [53.478255, -1.222616, 2.0], [53.547331, -1.076762, 1.0], [53.542387, -1.272147, 1.0], [53.547066, -1.077372, 1.0], [53.481238, -1.225274, 1.0], [53.594881, -1.042333, 1.0], [53.581058, -1.177985, 1.0], [53.510579, -1.190206, 1.0], [53.540692, -1.102108, 1.0], [53.536722, -1.100079, 1.0], [53.610105, -0.960215, 2.0], [53.538313, -1.050099, 1.0], [53.500401, -1.173967, 1.0], [53.575462, -1.008942, 1.0], [53.545581, -1.082988, 1.0], [53.49705, -1.183379, 1.0], [53.509551, -1.145742, 1.0], [53.513882, -1.087141, 1.0], [53.549907, -1.17074, 2.0], [53.53371, -1.047788, 1.0], [53.564465, -1.196576, 2.0], [53.500229, -1.175177, 1.0], [53.480553, -1.189723, 3.0], [53.517013, -1.121159, 1.0], [53.581534, -1.014842, 1.0], [53.52172, -1.137955, 1.0], [53.598647, -1.030008, 1.0], [53.50067, -1.173962, 1.0], [53.523789, -1.125846, 1.0], [53.534595, -1.116269, 1.0], [53.577471, -1.068705, 1.0], [53.533923, -1.086559, 1.0], [53.472694, -1.061509, 2.0], [53.536988, -1.076082, 1.0], [53.524989, -1.130196, 1.0], [53.483616, -1.217695, 1.0], [53.588286, -0.922226, 1.0], [53.515113, -1.095409, 1.0], [53.499895, -1.115784, 1.0], [53.523795, -1.1266, 1.0], [53.586948, -1.198264, 1.0], [53.522758, -1.132353, 1.0], [53.542386, -1.271996, 1.0], [53.592052, -0.982717, 1.0], [53.590773, -1.1923, 1.0], [53.553718, -1.189081, 1.0], [53.525568, -1.123245, 1.0], [53.510211, -1.08903, 1.0], [53.517552, -1.133365, 1.0], [53.48015, -1.183251, 1.0], [53.609227, -1.157033, 2.0], [53.515282, -1.130244, 1.0], [53.518713, -1.108002, 1.0], [53.462072, -1.195046, 1.0], [53.520994, -1.137065, 1.0], [53.544799, -1.098399, 1.0], [53.640883, -0.985324, 3.0], [53.47947, -1.150264, 1.0], [53.518545, -1.109514, 1.0], [53.489071, -0.98654, 1.0], [53.593898, -0.977838, 1.0], [53.515366, -1.129488, 1.0], [53.553164, -1.008255, 1.0], [53.498155, -1.052956, 1.0], [53.569828, -0.98023, 1.0], [53.476182, -1.249926, 1.0], [53.545132, -1.209015, 1.0], [53.591861, -0.970937, 1.0], [53.515191, -1.130095, 1.0], [53.509698, -1.141215, 1.0], [53.465935, -1.143003, 1.0], [53.592385, -0.979687, 1.0], [53.631085, -1.18533, 1.0], [53.480446, -1.148436, 1.0], [53.523179, -1.128423, 1.0], [53.538655, -1.155568, 1.0], [53.597713, -1.025798, 1.0], [53.510389, -1.149797, 1.0], [53.516593, -1.100958, 2.0], [53.556068, -1.139522, 1.0], [53.596493, -1.161366, 1.0], [53.610375, -1.154138, 1.0], [53.535835, -1.113678, 1.0], [53.529503, -1.145341, 1.0], [53.611101, -0.960946, 3.0], [53.448595, -1.11941, 2.0], [53.478825, -1.148017, 1.0], [53.494883, -1.264971, 1.0], [53.465946, -1.144509, 1.0], [53.593898, -0.977838, 1.0], [53.510651, -1.148736, 2.0], [53.451498, -1.063783, 1.0], [53.566329, -1.024104, 1.0], [53.552654, -1.06774, 1.0], [53.509261, -1.142883, 1.0], [53.497918, -1.115976, 1.0], [53.503562, -1.150536, 1.0], [53.537627, -1.065807, 1.0], [53.504239, -1.157157, 1.0], [53.504307, -1.15414, 1.0], [53.507451, -1.069185, 1.0], [53.632196, -0.947422, 1.0], [53.5228, -1.101581, 1.0], [53.500401, -1.173967, 1.0], [53.528121, -1.034637, 1.0], [53.494357, -1.050177, 2.0], [53.435905, -1.105221, 1.0], [53.511862, -1.129711, 1.0], [53.50287, -1.081196, 1.0], [53.495194, -1.02016, 1.0], [53.534616, -1.094994, 1.0], [53.498189, -1.116121, 1.0], [53.529412, -1.145192, 1.0], [53.524778, -1.163537, 1.0], [53.552363, -1.009179, 1.0], [53.516973, -1.11573, 1.0], [53.502304, -1.176192, 1.0], [53.557263, -1.181616, 1.0], [53.511722, -1.147659, 1.0], [53.481994, -1.190148, 1.0], [53.526453, -1.133635, 1.0], [53.456231, -1.208711, 1.0], [53.441043, -1.236845, 2.0], [53.540659, -1.097732, 1.0], [53.492584, -1.148796, 1.0], [53.563749, -1.072781, 1.0], [53.577122, -1.154953, 1.0], [53.540167, -1.023649, 1.0], [53.494193, -1.16022, 1.0], [53.523503, -1.270811, 1.0], [53.520621, -1.135112, 1.0], [53.483611, -1.138578, 1.0], [53.488197, -1.114219, 1.0], [53.519199, -1.137403, 1.0], [53.493423, -1.276151, 1.0], [53.500894, -1.167324, 1.0], [53.446446, -1.132855, 1.0], [53.543776, -1.207833, 1.0], [53.512277, -1.175546, 1.0], [53.537408, -1.170079, 1.0], [53.528766, -1.11805, 1.0], [53.515457, -1.129637, 1.0], [53.481254, -1.227684, 2.0], [53.504932, -1.166341, 1.0], [53.544797, -1.098097, 1.0], [53.515731, -1.130235, 1.0], [53.5333, -1.123538, 1.0], [53.633222, -0.951631, 1.0], [53.610563, -0.961111, 1.0], [53.522045, -1.133273, 2.0], [53.554543, -1.139855, 1.0], [53.50698, -1.15077, 1.0], [53.503562, -1.150536, 2.0], [53.529412, -1.145192, 1.0], [53.590452, -1.028232, 2.0], [53.578688, -1.075022, 1.0], [53.532813, -1.155684, 1.0], [53.51608, -1.116503, 1.0], [53.431283, -1.020276, 2.0], [53.498906, -1.115805, 1.0], [53.432385, -1.091447, 1.0], [53.470696, -1.168066, 1.0], [53.586673, -1.197363, 1.0], [53.549779, -1.139951, 1.0], [53.519637, -1.135886, 1.0], [53.542058, -1.206206, 1.0], [53.529621, -1.124368, 1.0], [53.512328, -1.311418, 1.0], [53.55253, -1.147443, 1.0], [53.590425, -1.024908, 1.0], [53.528828, -1.126496, 1.0], [53.5183, -1.17558, 1.0], [53.542144, -1.205751, 1.0], [53.512294, -1.091096, 1.0], [53.563377, -1.195087, 2.0], [53.526325, -1.116139, 1.0], [53.511129, -1.056739, 1.0], [53.525319, -1.101829, 1.0], [53.534196, -1.098926, 2.0], [53.54025, -1.067862, 1.0], [53.510436, -1.048762, 1.0], [53.48893, -1.116012, 1.0], [53.524103, -1.107436, 1.0], [53.528293, -1.127111, 1.0], [53.591443, -0.985149, 1.0], [53.515366, -1.129488, 1.0], [53.577082, -1.02008, 2.0], [53.519732, -1.136488, 1.0], [53.478017, -1.148184, 1.0], [53.527293, -1.113404, 1.0], [53.493088, -1.280226, 1.0], [53.604209, -0.96444, 1.0], [53.581216, -0.966513, 1.0], [53.488107, -1.102164, 1.0], [53.48961, -1.160461, 1.0], [53.575875, -1.083239, 1.0], [53.466993, -1.178382, 1.0], [53.52252, -1.162073, 1.0], [53.519249, -1.16983, 1.0], [53.50014, -1.076883, 1.0], [53.524769, -1.124619, 1.0], [53.479352, -1.146349, 1.0], [53.549037, -1.162003, 1.0], [53.504936, -1.248212, 1.0], [53.511332, -1.310227, 3.0], [53.516885, -1.116034, 1.0], [53.530237, -1.122545, 1.0], [53.490135, -1.017112, 1.0], [53.51854, -1.108911, 1.0], [53.465122, -1.025221, 2.0], [53.48003, -1.192144, 1.0], [53.535986, -1.051358, 2.0], [53.535092, -1.086685, 1.0], [53.587032, -1.197356, 2.0], [53.561966, -1.185904, 3.0], [53.480537, -1.148585, 1.0], [53.535894, -1.121674, 1.0], [53.55726, -1.181163, 1.0], [53.521186, -1.126352, 2.0], [53.493792, -1.292725, 1.0], [53.601108, -0.99066, 1.0], [53.476181, -1.235612, 1.0], [53.497941, -1.182307, 1.0], [53.573191, -0.922912, 1.0], [53.575965, -1.083237, 1.0], [53.506936, -1.11986, 1.0], [53.497584, -1.182615, 1.0], [53.515282, -1.130244, 1.0], [53.525657, -1.123092, 1.0], [53.600938, -0.950013, 1.0], [53.541277, -1.049882, 1.0], [53.552831, -1.067435, 2.0], [53.614707, -0.962218, 1.0], [53.480222, -1.05863, 1.0], [53.603037, -1.158818, 3.0], [53.535057, -1.105848, 1.0], [53.555812, -1.179833, 1.0], [53.555863, -1.052876, 1.0], [53.523636, -1.129469, 2.0], [53.471805, -1.212188, 1.0], [53.522363, -1.103249, 1.0], [53.56537, -0.995135, 2.0], [53.511651, -1.032146, 1.0], [53.609051, -0.962962, 1.0], [53.477358, -1.071803, 2.0], [53.560582, -1.081607, 1.0], [53.614707, -0.962218, 1.0], [53.518531, -1.107704, 1.0], [53.468933, -1.173072, 3.0], [53.499765, -1.284485, 1.0], [53.535068, -1.107357, 2.0], [53.525293, -1.134866, 2.0], [53.514631, -1.152276, 2.0], [53.507599, -1.1494, 1.0], [53.536196, -1.113972, 1.0], [53.611126, -0.963818, 2.0], [53.547123, -1.050203, 1.0], [53.48106, -1.225428, 1.0], [53.572521, -1.091315, 3.0], [53.561692, -1.074034, 1.0], [53.436285, -1.170394, 1.0], [53.517875, -1.104098, 2.0], [53.465495, -1.18278, 1.0], [53.471862, -1.070115, 1.0], [53.563383, -1.071883, 1.0], [53.508355, -1.093291, 2.0], [53.519607, -1.119446, 1.0], [53.5463, -1.094745, 1.0], [53.592652, -0.979379, 2.0], [53.51768, -1.101991, 1.0], [53.544952, -1.208868, 1.0], [53.588223, -1.214254, 1.0], [53.48298, -1.244531, 1.0], [53.542387, -1.272147, 1.0], [53.484594, -1.189044, 2.0], [53.50885, -1.075638, 1.0], [53.484948, -1.228974, 2.0], [53.490002, -1.260685, 1.0], [53.531489, -1.109544, 1.0], [53.50248, -1.16277, 1.0], [53.588044, -1.161382, 1.0], [53.527321, -1.141915, 1.0], [53.524724, -1.130805, 1.0], [53.625384, -0.980857, 1.0], [53.536257, -1.110048, 1.0], [53.547443, -1.0914, 1.0], [53.493485, -1.28655, 1.0], [53.480708, -1.22664, 1.0], [53.527253, -1.120193, 1.0], [53.512928, -1.091686, 1.0], [53.609139, -0.962808, 1.0], [53.564374, -1.072163, 1.0], [53.531036, -1.121171, 1.0], [53.539163, -1.090068, 1.0], [53.522935, -1.132048, 1.0], [53.568708, -1.185925, 1.0], [53.494255, -1.182227, 1.0], [53.577157, -0.975372, 1.0], [53.484572, -1.254751, 1.0], [53.500978, -1.166418, 2.0], [53.494536, -1.297084, 1.0], [53.514354, -1.138708, 1.0], [53.48589, -1.142902, 1.0], [53.538444, -1.176999, 1.0], [53.499711, -1.152422, 1.0], [53.502083, -1.15735, 1.0], [53.515457, -1.129637, 1.0], [53.57686, -1.01495, 1.0], [53.595235, -1.030539, 1.0], [53.521736, -1.127849, 1.0], [53.522443, -1.138544, 1.0], [53.610233, -0.964595, 1.0], [53.509464, -1.146196, 1.0], [53.554145, -1.007326, 1.0], [53.593987, -0.977836, 1.0], [53.4327, -1.109503, 1.0], [53.522999, -1.128426, 1.0], [53.507951, -1.148338, 1.0], [53.507216, -1.097085, 1.0], [53.49364, -1.0618, 1.0], [53.481822, -1.232044, 1.0], [53.572322, -1.020492, 1.0], [53.471772, -1.070117, 1.0], [53.503779, -1.070924, 1.0], [53.59108, -1.050427, 2.0], [53.511153, -1.143599, 1.0], [53.519705, -1.1205, 1.0], [53.490611, -1.053878, 1.0], [53.455171, -1.211592, 1.0], [53.527419, -1.130599, 1.0], [53.536282, -1.077757, 1.0], [53.600923, -0.969054, 2.0], [53.540915, -1.060906, 1.0], [53.529328, -1.145948, 1.0], [53.629124, -1.148924, 2.0], [53.539468, -1.18211, 1.0], [53.541613, -1.206968, 1.0], [53.542476, -1.271994, 1.0], [53.504831, -1.164684, 1.0], [53.504936, -1.248212, 2.0], [53.529621, -1.124368, 1.0], [53.449864, -1.12089, 2.0], [53.524323, -1.112862, 1.0], [53.516593, -1.100958, 1.0], [53.505452, -1.189701, 1.0], [53.529487, -1.094349, 1.0], [53.534197, -1.099076, 1.0], [53.502033, -1.176046, 1.0], [53.581148, -1.177983, 1.0], [53.520167, -1.12215, 1.0], [53.596683, -1.031715, 1.0], [53.547827, -1.168969, 1.0], [53.488662, -1.233428, 2.0], [53.489895, -1.054196, 1.0], [53.608874, -0.95299, 1.0], [53.610376, -1.154289, 1.0], [53.547242, -1.076915, 1.0], [53.489309, -1.168908, 3.0], [53.538783, -1.148323, 1.0], [53.554396, -1.060607, 1.0], [53.578572, -1.015364, 1.0], [53.5084, -1.075648, 2.0], [53.4749, -1.056337, 1.0], [53.523542, -1.104582, 1.0], [53.430546, -1.122041, 1.0], [53.468232, -1.175647, 3.0], [53.57881, -1.000707, 1.0], [53.541102, -1.096817, 1.0], [53.515281, -1.130093, 1.0], [53.521735, -1.127698, 1.0], [53.542247, -1.207711, 1.0], [53.566052, -1.192016, 1.0], [53.514534, -1.138705, 1.0], [53.571058, -1.201132, 1.0], [53.516143, -1.100817, 2.0], [53.529412, -1.145192, 1.0], [53.514542, -1.13976, 1.0], [53.504506, -1.15685, 1.0], [53.478182, -1.039538, 1.0], [53.53402, -1.099382, 1.0], [53.612752, -0.964836, 1.0], [53.611715, -1.153053, 1.0], [53.474435, -1.07729, 1.0], [53.541713, -1.09439, 1.0], [53.570874, -1.200532, 1.0], [53.525023, -1.134871, 1.0], [53.477463, -1.146085, 1.0], [53.519079, -1.108749, 1.0], [53.547634, -1.154182, 1.0], [53.431417, -1.082437, 1.0], [53.488451, -1.256944, 1.0], [53.530761, -1.145315, 1.0], [53.497491, -1.182165, 1.0], [53.591964, -0.972445, 1.0], [53.505149, -1.158797, 1.0], [53.528676, -1.118051, 1.0], [53.505542, -1.113707, 1.0], [53.494591, -1.115744, 1.0], [53.510122, -1.089182, 1.0], [53.591442, -0.984998, 1.0], [53.601033, -1.024966, 1.0], [53.542984, -1.049692, 1.0], [53.496568, -1.068368, 1.0], [53.548047, -1.088066, 1.0], [53.545108, -1.165702, 1.0], [53.500231, -1.077032, 1.0], [53.429938, -1.020759, 1.0], [53.562103, -1.192846, 1.0], [53.519082, -1.109201, 1.0], [53.532912, -1.095483, 1.0], [53.616478, -1.140259, 1.0], [53.528361, -1.187755, 1.0], [53.52962, -1.124217, 1.0], [53.481664, -1.181263, 1.0], [53.476006, -1.156059, 1.0], [53.432609, -1.109355, 1.0], [53.623495, -1.179428, 1.0], [53.536101, -1.11322, 1.0], [53.488085, -1.09915, 1.0], [53.536287, -1.114121, 1.0], [53.622168, -1.095087, 2.0], [53.527431, -1.132258, 1.0], [53.524456, -1.130961, 1.0], [53.633807, -0.95691, 1.0], [53.594791, -1.042335, 2.0], [53.474612, -1.243173, 1.0], [53.620916, -0.952692, 1.0], [53.567851, -1.219162, 2.0], [53.541496, -1.202896, 1.0], [53.499805, -1.115786, 1.0], [53.646839, -0.988056, 2.0], [53.586116, -1.025612, 1.0], [53.533293, -1.086573, 1.0], [53.537717, -1.089043, 2.0], [53.496846, -1.307749, 1.0], [53.493175, -1.15617, 1.0], [53.498058, -0.965371, 1.0], [53.542242, -1.09302, 1.0], [53.57971, -0.969117, 2.0], [53.507793, -1.190259, 1.0], [53.541811, -1.169842, 2.0], [53.478108, -1.148333, 1.0], [53.492514, -1.022182, 1.0], [53.614764, -1.151934, 1.0], [53.431194, -1.020429, 2.0], [53.547958, -1.088219, 1.0], [53.592511, -0.962913, 2.0], [53.477802, -1.071039, 1.0], [53.502693, -1.154625, 2.0], [53.593177, -1.215824, 1.0], [53.514533, -1.138554, 1.0], [53.561363, -1.032522, 1.0], [53.485615, -1.154813, 1.0], [53.540496, -1.149043, 1.0], [53.51249, -1.141913, 1.0], [53.515642, -1.130387, 1.0], [53.524547, -1.13111, 2.0], [53.543545, -1.087107, 1.0], [53.591952, -0.960661, 1.0], [53.577122, -1.154953, 1.0], [53.505358, -1.113107, 1.0], [53.52347, -1.131434, 1.0], [53.431145, -1.082142, 1.0], [53.453365, -1.027448, 1.0], [53.533489, -1.042663, 1.0], [53.52, -1.136331, 1.0], [53.532678, -1.124456, 1.0], [53.428681, -1.043063, 1.0], [53.508756, -1.075188, 1.0], [53.578108, -1.069748, 1.0], [53.540544, -1.168659, 1.0], [53.529461, -1.127087, 1.0], [53.571263, -1.178326, 2.0], [53.484952, -1.188886, 1.0], [53.604641, -1.169668, 1.0], [53.496338, -1.282583, 2.0], [53.511152, -1.143448, 1.0], [53.528515, -1.096482, 1.0], [53.521689, -1.133733, 1.0], [53.519701, -1.119897, 1.0], [53.452462, -1.027017, 2.0], [53.532536, -1.154634, 1.0], [53.517869, -1.103194, 1.0], [53.505382, -1.153666, 1.0], [53.601955, -0.984595, 1.0], [53.538923, -1.155412, 1.0], [53.615324, -1.058499, 2.0], [53.507069, -1.150617, 1.0], [53.494982, -1.157491, 1.0], [53.477069, -1.153929, 1.0], [53.519996, -1.135728, 1.0], [53.527075, -1.132718, 1.0], [53.482692, -1.255989, 1.0], [53.507558, -1.310439, 2.0], [53.430492, -1.078995, 1.0], [53.50823, -1.302286, 1.0], [53.549207, -1.086985, 1.0], [53.50823, -1.302286, 1.0], [53.652601, -0.989128, 2.0], [53.507215, -1.12106, 1.0], [53.562409, -1.198276, 1.0], [53.496243, -1.157768, 1.0], [53.546947, -1.146046, 1.0], [53.474118, -1.14344, 1.0], [53.627541, -0.980805, 1.0], [53.50885, -1.075638, 1.0], [53.61943, -0.978279, 1.0], [53.507022, -1.071758, 1.0], [53.495365, -1.300387, 1.0], [53.505448, -1.113106, 1.0], [53.576583, -1.207522, 1.0], [53.488762, -1.117674, 3.0], [53.529221, -1.118794, 1.0], [53.481099, -1.044596, 1.0], [53.480568, -1.191833, 1.0], [53.469049, -1.066711, 1.0], [53.60272, -0.979438, 1.0], [53.521892, -1.136896, 1.0], [53.521422, -1.13404, 1.0], [53.498318, -1.158933, 1.0], [53.586121, -1.195561, 2.0], [53.408659, -1.116173, 2.0], [53.515553, -1.130389, 1.0], [53.448465, -1.230839, 1.0], [53.555237, -1.076288, 1.0], [53.517222, -1.137443, 1.0], [53.568649, -0.979051, 1.0], [53.531431, -1.151035, 1.0], [53.502661, -1.175884, 1.0], [53.52198, -1.136593, 1.0], [53.567881, -1.157402, 1.0], [53.522999, -1.128426, 1.0], [53.506938, -1.120161, 1.0], [53.547688, -1.088225, 2.0], [53.509154, -1.057084, 1.0], [53.618536, -0.978906, 1.0], [53.492946, -1.286559, 2.0], [53.478628, -1.061679, 1.0], [53.540403, -1.187374, 1.0], [53.479506, -1.235401, 1.0], [53.541872, -1.09167, 1.0], [53.512818, -1.215951, 1.0], [53.569919, -1.165969, 1.0], [53.572987, -1.180708, 1.0], [53.522312, -1.132815, 1.0], [53.506889, -1.150621, 1.0], [53.517221, -1.100794, 1.0], [53.507937, -1.073849, 2.0], [53.480618, -1.147378, 1.0], [53.428771, -1.043061, 1.0], [53.521868, -1.133578, 1.0], [53.425377, -1.057133, 1.0], [53.534451, -1.096959, 1.0], [53.522847, -1.132201, 1.0], [53.508691, -1.176973, 1.0], [53.512385, -1.056409, 1.0], [53.507621, -1.067975, 1.0], [53.551443, -1.268369, 1.0], [53.507556, -1.294607, 3.0], [53.463505, -1.059, 1.0], [53.509144, -1.12675, 2.0], [53.562367, -1.152982, 2.0], [53.592103, -0.98876, 1.0], [53.551762, -1.140666, 1.0], [53.578514, -1.075781, 1.0], [53.631941, -0.949092, 1.0], [53.524637, -1.131108, 1.0], [53.506979, -1.150619, 2.0], [53.606122, -0.956988, 2.0], [53.536396, -1.104613, 1.0], [53.497866, -1.158489, 1.0], [53.57223, -1.020343, 1.0], [53.525696, -1.128522, 2.0], [53.53642, -1.060854, 1.0], [53.509198, -1.146654, 1.0], [53.507651, -1.31089, 1.0], [53.524927, -1.15916, 1.0], [53.487878, -1.251528, 1.0], [53.425378, -1.057284, 1.0], [53.499222, -1.074491, 1.0], [53.607241, -1.222214, 2.0]],\n",
       "                {\n",
       "  &quot;minOpacity&quot;: 0.5,\n",
       "  &quot;maxZoom&quot;: 1,\n",
       "  &quot;radius&quot;: 10,\n",
       "  &quot;blur&quot;: 15,\n",
       "}\n",
       "            );\n",
       "        \n",
       "    \n",
       "            heat_map_7c40e45e640c190aac85b6054f2c8014.addTo(map_8e27c5815ecf7a18a484b9030b1c7dca);\n",
       "        \n",
       "&lt;/script&gt;\n",
       "&lt;/html&gt;\" style=\"position:absolute;width:100%;height:100%;left:0;top:0;border:none !important;\" allowfullscreen webkitallowfullscreen mozallowfullscreen></iframe></div></div>"
      ],
      "text/plain": [
       "<folium.folium.Map at 0x2499d8eefd0>"
      ]
     },
     "execution_count": 52,
     "metadata": {},
     "output_type": "execute_result"
    }
   ],
   "source": [
    "severity_weights = {'Slight': 1, 'Serious': 2, 'Fatal': 3}\n",
    "Doncaster_data['Weight'] = Doncaster_data['Accident_Severity'].map(severity_weights)\n",
    "\n",
    "\n",
    "map_center = [Doncaster_data['Latitude'].mean(), Doncaster_data['Longitude'].mean()]\n",
    "m = folium.Map(location=map_center, zoom_start=12)\n",
    "\n",
    "\n",
    "heat_data = Doncaster_data[['Latitude', 'Longitude', 'Weight']].values.tolist()\n",
    "\n",
    "\n",
    "HeatMap(heat_data, radius=10, blur=15, max_zoom=1).add_to(m)\n",
    "\n",
    "\n",
    "m"
   ]
  },
  {
   "cell_type": "code",
   "execution_count": 53,
   "id": "a1fd23f9",
   "metadata": {},
   "outputs": [
    {
     "data": {
      "text/html": [
       "<div style=\"width:100%;\"><div style=\"position:relative;width:100%;height:0;padding-bottom:60%;\"><span style=\"color:#565656\">Make this Notebook Trusted to load map: File -> Trust Notebook</span><iframe srcdoc=\"&lt;!DOCTYPE html&gt;\n",
       "&lt;html&gt;\n",
       "&lt;head&gt;\n",
       "    \n",
       "    &lt;meta http-equiv=&quot;content-type&quot; content=&quot;text/html; charset=UTF-8&quot; /&gt;\n",
       "    &lt;script src=&quot;https://cdn.jsdelivr.net/npm/leaflet@1.9.3/dist/leaflet.js&quot;&gt;&lt;/script&gt;\n",
       "    &lt;script src=&quot;https://code.jquery.com/jquery-3.7.1.min.js&quot;&gt;&lt;/script&gt;\n",
       "    &lt;script src=&quot;https://cdn.jsdelivr.net/npm/bootstrap@5.2.2/dist/js/bootstrap.bundle.min.js&quot;&gt;&lt;/script&gt;\n",
       "    &lt;script src=&quot;https://cdnjs.cloudflare.com/ajax/libs/Leaflet.awesome-markers/2.0.2/leaflet.awesome-markers.js&quot;&gt;&lt;/script&gt;\n",
       "    &lt;link rel=&quot;stylesheet&quot; href=&quot;https://cdn.jsdelivr.net/npm/leaflet@1.9.3/dist/leaflet.css&quot;/&gt;\n",
       "    &lt;link rel=&quot;stylesheet&quot; href=&quot;https://cdn.jsdelivr.net/npm/bootstrap@5.2.2/dist/css/bootstrap.min.css&quot;/&gt;\n",
       "    &lt;link rel=&quot;stylesheet&quot; href=&quot;https://netdna.bootstrapcdn.com/bootstrap/3.0.0/css/bootstrap-glyphicons.css&quot;/&gt;\n",
       "    &lt;link rel=&quot;stylesheet&quot; href=&quot;https://cdn.jsdelivr.net/npm/@fortawesome/fontawesome-free@6.2.0/css/all.min.css&quot;/&gt;\n",
       "    &lt;link rel=&quot;stylesheet&quot; href=&quot;https://cdnjs.cloudflare.com/ajax/libs/Leaflet.awesome-markers/2.0.2/leaflet.awesome-markers.css&quot;/&gt;\n",
       "    &lt;link rel=&quot;stylesheet&quot; href=&quot;https://cdn.jsdelivr.net/gh/python-visualization/folium/folium/templates/leaflet.awesome.rotate.min.css&quot;/&gt;\n",
       "    \n",
       "            &lt;meta name=&quot;viewport&quot; content=&quot;width=device-width,\n",
       "                initial-scale=1.0, maximum-scale=1.0, user-scalable=no&quot; /&gt;\n",
       "            &lt;style&gt;\n",
       "                #map_ced17cb3e87818b9f2047c6d0db3f5d8 {\n",
       "                    position: relative;\n",
       "                    width: 100.0%;\n",
       "                    height: 100.0%;\n",
       "                    left: 0.0%;\n",
       "                    top: 0.0%;\n",
       "                }\n",
       "                .leaflet-container { font-size: 1rem; }\n",
       "            &lt;/style&gt;\n",
       "\n",
       "            &lt;style&gt;html, body {\n",
       "                width: 100%;\n",
       "                height: 100%;\n",
       "                margin: 0;\n",
       "                padding: 0;\n",
       "            }\n",
       "            &lt;/style&gt;\n",
       "\n",
       "            &lt;style&gt;#map {\n",
       "                position:absolute;\n",
       "                top:0;\n",
       "                bottom:0;\n",
       "                right:0;\n",
       "                left:0;\n",
       "                }\n",
       "            &lt;/style&gt;\n",
       "\n",
       "            &lt;script&gt;\n",
       "                L_NO_TOUCH = false;\n",
       "                L_DISABLE_3D = false;\n",
       "            &lt;/script&gt;\n",
       "\n",
       "        \n",
       "    &lt;script src=&quot;https://cdn.jsdelivr.net/gh/python-visualization/folium@main/folium/templates/leaflet_heat.min.js&quot;&gt;&lt;/script&gt;\n",
       "&lt;/head&gt;\n",
       "&lt;body&gt;\n",
       "    \n",
       "    \n",
       "            &lt;div class=&quot;folium-map&quot; id=&quot;map_ced17cb3e87818b9f2047c6d0db3f5d8&quot; &gt;&lt;/div&gt;\n",
       "        \n",
       "&lt;/body&gt;\n",
       "&lt;script&gt;\n",
       "    \n",
       "    \n",
       "            var map_ced17cb3e87818b9f2047c6d0db3f5d8 = L.map(\n",
       "                &quot;map_ced17cb3e87818b9f2047c6d0db3f5d8&quot;,\n",
       "                {\n",
       "                    center: [53.96301714971007, -1.0792809926199263],\n",
       "                    crs: L.CRS.EPSG3857,\n",
       "                    ...{\n",
       "  &quot;zoom&quot;: 12,\n",
       "  &quot;zoomControl&quot;: true,\n",
       "  &quot;preferCanvas&quot;: false,\n",
       "}\n",
       "\n",
       "                }\n",
       "            );\n",
       "\n",
       "            \n",
       "\n",
       "        \n",
       "    \n",
       "            var tile_layer_92137f736b1aa07b44c1f2959f044cdc = L.tileLayer(\n",
       "                &quot;https://tile.openstreetmap.org/{z}/{x}/{y}.png&quot;,\n",
       "                {\n",
       "  &quot;minZoom&quot;: 0,\n",
       "  &quot;maxZoom&quot;: 19,\n",
       "  &quot;maxNativeZoom&quot;: 19,\n",
       "  &quot;noWrap&quot;: false,\n",
       "  &quot;attribution&quot;: &quot;\\u0026copy; \\u003ca href=\\&quot;https://www.openstreetmap.org/copyright\\&quot;\\u003eOpenStreetMap\\u003c/a\\u003e contributors&quot;,\n",
       "  &quot;subdomains&quot;: &quot;abc&quot;,\n",
       "  &quot;detectRetina&quot;: false,\n",
       "  &quot;tms&quot;: false,\n",
       "  &quot;opacity&quot;: 1,\n",
       "}\n",
       "\n",
       "            );\n",
       "        \n",
       "    \n",
       "            tile_layer_92137f736b1aa07b44c1f2959f044cdc.addTo(map_ced17cb3e87818b9f2047c6d0db3f5d8);\n",
       "        \n",
       "    \n",
       "            var heat_map_914ae3e343b432abd083127f961d0d1e = L.heatLayer(\n",
       "                [[53.95933, -1.083839, 1.0], [54.004668, -1.009148, 1.0], [53.951395, -1.012544, 1.0], [53.972364, -1.09575, 1.0], [54.01287, -0.990335, 1.0], [53.955145, -1.12523, 1.0], [53.883271, -1.04686, 1.0], [54.037356, -1.038758, 2.0], [53.957687, -1.092257, 1.0], [53.903914, -1.089314, 1.0], [53.923963, -1.066492, 1.0], [53.982051, -1.142051, 1.0], [53.962795, -1.078428, 1.0], [53.95619, -1.120636, 1.0], [53.920646, -1.152599, 1.0], [53.950616, -1.072601, 1.0], [53.965277, -1.073952, 1.0], [53.957517, -1.081745, 1.0], [53.953924, -1.093863, 1.0], [53.957184, -1.085257, 1.0], [53.956658, -1.135562, 1.0], [53.958432, -1.037831, 1.0], [53.895824, -0.988136, 1.0], [54.022392, -1.044598, 2.0], [53.947129, -1.135454, 2.0], [53.913565, -1.093671, 1.0], [53.95675, -1.075513, 1.0], [53.989719, -1.027653, 1.0], [53.95384, -1.048147, 1.0], [53.957281, -1.08617, 1.0], [53.927684, -1.082857, 1.0], [53.954543, -1.104517, 1.0], [53.990053, -1.105433, 1.0], [53.958225, -1.080357, 1.0], [53.940198, -1.133922, 1.0], [53.989512, -1.013321, 1.0], [53.952236, -1.084604, 1.0], [53.990519, -1.107711, 1.0], [53.950802, -1.085245, 1.0], [53.981387, -1.202299, 1.0], [53.955424, -1.126596, 1.0], [53.964046, -1.113307, 1.0], [53.960339, -1.051657, 1.0], [53.991897, -1.008231, 1.0], [53.939195, -1.107435, 2.0], [53.933029, -1.112289, 1.0], [53.992309, -1.106605, 1.0], [54.03534, -1.045217, 1.0], [53.987942, -1.030287, 1.0], [53.965363, -1.109163, 2.0], [53.97913, -1.135859, 1.0], [53.958369, -1.087365, 1.0], [53.974413, -1.155015, 1.0], [53.962848, -1.085438, 1.0], [53.985476, -1.047883, 1.0], [53.955474, -1.171704, 1.0], [54.002713, -1.01194, 1.0], [53.92469, -1.115055, 1.0], [54.005906, -1.074271, 1.0], [53.992609, -1.063431, 1.0], [53.954015, -1.058963, 1.0], [54.01287, -0.990335, 1.0], [53.996051, -1.090202, 1.0], [53.96518, -1.07304, 2.0], [54.019615, -1.04573, 1.0], [53.978755, -1.08509, 1.0], [53.945288, -1.092983, 1.0], [53.950899, -1.098043, 1.0], [53.95831, -1.091481, 1.0], [53.971369, -1.095009, 1.0], [53.949957, -1.128691, 1.0], [53.926136, -0.959077, 1.0], [53.976123, -1.093686, 1.0], [53.917265, -1.083846, 1.0], [53.923957, -1.06573, 1.0], [53.990345, -1.108477, 1.0], [53.961367, -1.079831, 1.0], [53.987134, -1.12395, 1.0], [53.95738, -1.087387, 1.0], [53.954196, -1.059111, 1.0], [53.953741, -1.047082, 1.0], [53.967801, -1.063378, 1.0], [53.882369, -1.046424, 3.0], [53.911699, -1.050019, 1.0], [53.959337, -1.005498, 1.0], [53.989886, -1.026124, 1.0], [53.998474, -1.054757, 1.0], [53.961597, -1.135002, 2.0], [53.98196, -1.1419, 1.0], [53.955332, -0.978162, 2.0], [53.969688, -0.985738, 2.0], [53.955092, -1.070368, 2.0], [53.926186, -0.954507, 1.0], [53.950095, -1.098669, 2.0], [53.989719, -1.027653, 1.0], [53.971552, -1.09531, 1.0], [53.926962, -1.106326, 1.0], [53.957501, -1.068029, 1.0], [53.998833, -1.043307, 1.0], [53.956671, -1.009219, 1.0], [53.952379, -1.011912, 1.0], [53.953926, -1.059117, 2.0], [53.958225, -1.080357, 1.0], [53.980865, -1.067355, 2.0], [53.962938, -1.085436, 1.0], [53.993293, -1.05884, 1.0], [53.928573, -1.069892, 1.0], [53.924169, -1.117502, 1.0], [53.951252, -1.085235, 1.0], [53.987041, -1.123647, 1.0], [53.971486, -1.051861, 1.0], [53.975272, -1.076323, 1.0], [53.955182, -1.070366, 1.0], [53.964551, -1.050037, 1.0], [53.964665, -1.149267, 1.0], [53.983404, -1.117928, 1.0], [53.954191, -1.02467, 1.0], [53.956173, -1.047636, 1.0], [53.985117, -1.014492, 1.0], [53.957519, -1.082049, 1.0], [53.965701, -1.059157, 1.0], [53.935265, -1.11087, 1.0], [53.991368, -1.100981, 1.0], [53.977525, -1.137569, 2.0], [53.933672, -1.126441, 1.0], [53.921069, -1.099447, 1.0], [53.97928, -1.107189, 1.0], [53.985695, -1.099579, 1.0], [53.973867, -1.092515, 1.0], [53.896848, -1.047464, 1.0], [53.940107, -1.133771, 1.0], [53.905604, -1.110892, 2.0], [53.95213, -1.05931, 1.0], [53.954517, -1.065657, 1.0], [53.957428, -1.081899, 1.0], [53.95428, -1.093398, 1.0], [53.964201, -1.134643, 2.0], [54.01287, -0.990335, 2.0], [53.976871, -1.017279, 2.0], [54.011849, -1.052622, 1.0], [53.958849, -1.079582, 1.0], [54.026771, -1.041444, 1.0], [54.018741, -1.03766, 1.0], [53.957443, -1.08388, 2.0], [54.018778, -1.088485, 1.0], [53.972086, -1.14378, 1.0], [53.95828, -1.087519, 1.0], [53.988208, -1.029824, 1.0], [53.956656, -1.135257, 1.0], [53.956665, -0.997637, 1.0], [53.917366, -1.14627, 2.0], [53.949853, -1.126712, 1.0], [53.958952, -1.081408, 1.0], [53.950232, -1.013181, 2.0], [53.933569, -1.11243, 1.0], [53.999649, -1.044203, 2.0], [53.984733, -1.04485, 1.0], [53.943517, -1.133091, 2.0], [53.974177, -1.085952, 1.0], [53.950982, -1.121355, 2.0], [53.978664, -1.084939, 1.0], [53.948222, -1.124918, 2.0], [53.956422, -1.0679, 1.0], [53.995879, -1.091274, 1.0], [53.937548, -1.068169, 1.0], [53.954022, -1.094927, 1.0], [53.973362, -1.061881, 1.0], [53.964827, -1.073962, 1.0], [53.957735, -1.135387, 1.0], [53.966243, -1.059449, 2.0], [53.962787, -1.054345, 1.0], [53.953479, -1.094482, 1.0], [53.949293, -1.099601, 1.0], [53.95631, -1.149742, 1.0], [53.944202, -1.140847, 2.0], [53.986501, -1.123505, 1.0], [53.940196, -1.133769, 1.0], [53.953732, -1.045863, 1.0], [53.949113, -1.099605, 1.0], [53.99473, -1.058807, 1.0], [53.980611, -1.104873, 1.0], [53.985468, -1.046816, 1.0], [53.973289, -1.148634, 2.0], [53.965876, -1.070128, 1.0], [53.975098, -1.162929, 1.0], [53.960934, -1.117945, 1.0], [53.952976, -1.075597, 2.0], [53.953809, -1.055615, 2.0], [53.967573, -1.104085, 1.0], [53.953837, -1.082435, 1.0], [53.895608, -0.983881, 1.0], [53.953993, -1.103157, 2.0], [54.005094, -1.073832, 1.0], [53.954014, -1.093861, 1.0], [53.958914, -1.088115, 1.0], [53.962225, -1.074477, 1.0], [53.97338, -1.148785, 1.0], [53.958273, -1.135223, 1.0], [53.954187, -1.081208, 2.0], [53.979039, -1.135708, 2.0], [53.965635, -1.073792, 1.0], [53.955746, -1.050542, 1.0], [53.956005, -1.026761, 2.0], [53.971271, -1.082052, 1.0], [53.977137, -1.109064, 1.0], [53.91689, -1.105627, 2.0], [53.954106, -1.059113, 1.0], [54.051639, -1.037817, 2.0], [53.987006, -1.09467, 1.0], [53.982492, -1.206242, 2.0], [53.955482, -1.122175, 1.0], [53.917275, -1.14612, 1.0], [53.943706, -1.074126, 1.0], [53.96861, -1.086684, 1.0], [53.954275, -1.080902, 1.0], [53.952593, -1.072557, 1.0], [53.969332, -1.099017, 1.0], [53.955762, -1.018995, 1.0], [53.966585, -1.092216, 1.0], [53.998652, -1.043158, 1.0], [53.988064, -1.091902, 1.0], [53.989507, -1.023692, 1.0], [53.984642, -1.044699, 3.0], [53.9574, -1.089977, 1.0], [53.943886, -1.074122, 1.0], [53.973706, -1.083066, 1.0], [53.940526, -1.129649, 1.0], [53.976459, -1.090477, 1.0], [53.958053, -1.05811, 1.0], [53.955092, -1.070368, 1.0], [53.965674, -1.090712, 1.0], [53.953657, -1.059123, 1.0], [53.968894, -1.100551, 1.0], [53.98045, -1.04876, 2.0], [53.928832, -1.116033, 2.0], [54.018812, -1.046511, 1.0], [53.992309, -1.106605, 1.0], [53.908073, -0.959526, 1.0], [54.002625, -1.012095, 1.0], [53.955523, -1.09139, 1.0], [53.998631, -1.018292, 1.0], [54.001655, -1.070857, 1.0], [53.954516, -1.088973, 1.0], [54.033881, -1.065405, 1.0], [53.957692, -1.081131, 1.0], [53.955523, -1.09139, 1.0], [53.914058, -1.052706, 2.0], [53.96219, -1.10542, 1.0], [53.968031, -1.081514, 1.0], [53.973962, -1.142064, 2.0], [53.957517, -1.081745, 1.0], [53.952346, -1.07561, 1.0], [53.957507, -1.092261, 1.0], [53.987304, -1.122726, 1.0], [53.957597, -1.092259, 1.0], [53.952035, -1.070131, 1.0], [53.955613, -1.091388, 1.0], [53.975649, -1.177708, 2.0], [53.973852, -1.151977, 1.0], [53.920825, -1.152443, 1.0], [53.971271, -1.082052, 1.0], [53.94537, -1.091915, 1.0], [53.951693, -1.108083, 1.0], [53.933394, -1.137718, 2.0], [53.955617, -1.116076, 1.0], [53.968824, -1.091253, 1.0], [53.983227, -1.118237, 2.0], [53.960744, -1.057439, 1.0], [54.002004, -1.069476, 1.0], [53.948559, -1.074018, 1.0], [53.96704, -1.092968, 1.0], [53.951967, -1.096648, 1.0], [53.922365, -1.080689, 2.0], [53.953823, -1.046014, 1.0], [53.974784, -1.156684, 1.0], [53.995349, -1.057421, 1.0], [53.947292, -1.133013, 2.0], [53.955333, -1.114101, 3.0], [53.933926, -1.112117, 1.0], [53.920667, -1.142853, 1.0], [53.954106, -1.059113, 1.0], [53.953679, -1.097221, 1.0], [53.940281, -1.120666, 1.0], [54.019444, -1.06985, 1.0], [53.948376, -1.085298, 2.0], [53.922462, -1.11769, 2.0], [53.965797, -1.08324, 2.0], [53.961624, -1.066565, 1.0], [53.941758, -0.988549, 2.0], [53.965363, -1.109163, 2.0], [53.959373, -1.089477, 1.0], [53.988116, -1.029521, 2.0], [53.938758, -1.133799, 2.0], [53.958279, -1.087367, 1.0], [53.950168, -0.942326, 1.0], [53.96063, -1.113227, 1.0], [54.004865, -1.055985, 1.0], [53.973392, -1.101064, 1.0], [53.956069, -1.092292, 1.0], [53.952973, -1.075292, 1.0], [53.961033, -1.04844, 1.0], [53.984826, -1.022887, 1.0], [53.941406, -1.044316, 1.0], [53.996552, -1.039088, 1.0], [54.018131, -1.098115, 1.0], [53.960431, -1.08671, 1.0], [53.958315, -1.080356, 1.0], [53.950634, -1.122886, 1.0], [53.953993, -1.103157, 1.0], [53.999374, -1.043599, 1.0], [53.96375, -1.085876, 1.0], [53.949649, -1.099136, 1.0], [54.018995, -1.093365, 2.0], [53.986476, -1.095901, 1.0], [53.969074, -0.987582, 1.0], [53.964946, -1.089508, 2.0], [53.956354, -1.047785, 1.0], [54.019037, -0.975532, 1.0], [53.953693, -1.075428, 3.0], [53.985825, -1.046502, 1.0], [53.946783, -1.124796, 1.0], [53.958459, -1.030057, 1.0], [53.949957, -1.128691, 1.0], [53.925852, -1.066754, 1.0], [53.942663, -1.114522, 1.0], [53.944123, -0.991843, 1.0], [53.959876, -1.096477, 1.0], [53.951869, -0.951731, 1.0], [53.958315, -1.080356, 1.0], [53.957324, -1.001279, 1.0], [53.961515, -1.075712, 1.0], [53.96063, -1.113227, 1.0], [53.998175, -1.01754, 2.0], [54.017025, -1.047926, 2.0], [53.995417, -1.020961, 1.0], [53.957294, -1.087846, 1.0], [53.988207, -1.029671, 1.0], [53.942679, -1.104619, 2.0], [53.954381, -1.071298, 1.0], [53.964471, -1.134638, 1.0], [53.973993, -1.073607, 1.0], [53.959094, -1.112192, 1.0], [53.890181, -1.045485, 1.0], [53.896521, -0.985532, 1.0], [53.921243, -1.098682, 2.0], [53.96704, -1.092968, 1.0], [53.968894, -1.100551, 2.0], [53.965454, -1.109313, 1.0], [53.978512, -1.188935, 2.0], [53.955766, -1.12415, 1.0], [53.924027, -1.147657, 1.0], [53.934832, -1.12535, 1.0], [53.911111, -1.04379, 1.0], [53.959939, -1.081082, 1.0], [53.961787, -1.076011, 1.0], [53.964763, -1.089055, 2.0], [53.964953, -1.066948, 1.0], [53.954799, -1.022065, 1.0], [53.955852, -1.123539, 1.0], [53.905077, -1.088527, 1.0], [53.976369, -1.090479, 1.0], [53.987274, -1.059281, 1.0], [53.966586, -1.092369, 2.0], [53.96739, -1.068265, 1.0], [53.947454, -1.047683, 1.0], [53.97774, -1.070017, 1.0], [53.991805, -1.099294, 2.0], [53.922242, -1.064855, 1.0], [53.942589, -1.104621, 1.0], [53.966333, -1.08277, 1.0], [53.951316, -1.130186, 1.0], [53.954367, -1.093091, 1.0], [53.989315, -1.067471, 1.0], [53.954338, -1.077395, 1.0], [53.9578, -1.048819, 1.0], [53.978142, -1.187418, 2.0], [53.948668, -1.100224, 2.0], [53.933575, -1.113191, 1.0], [53.965765, -1.090862, 1.0], [53.954014, -1.093861, 1.0], [53.952397, -1.003225, 1.0], [53.95523, -1.149612, 2.0], [53.957309, -1.010271, 1.0], [53.96904, -1.095974, 1.0], [53.960294, -1.057297, 1.0], [53.937937, -0.983157, 1.0], [53.952885, -1.075446, 1.0], [53.963918, -1.084348, 1.0], [53.964186, -1.084037, 1.0], [53.999267, -1.136357, 1.0], [53.953923, -1.09371, 2.0], [53.944466, -1.103209, 1.0], [53.94849, -1.10038, 1.0], [53.976257, -1.075844, 1.0], [53.954607, -1.089124, 1.0], [53.954918, -1.182383, 1.0], [53.959811, -1.076207, 1.0], [54.005426, -1.093812, 2.0], [53.964863, -1.06695, 1.0], [53.953039, -1.132284, 1.0], [53.955645, -1.072032, 1.0], [53.965674, -1.090712, 1.0], [53.964665, -1.149267, 2.0], [53.955523, -1.09139, 1.0], [53.952502, -1.072407, 1.0], [53.983932, -1.128592, 1.0], [53.976917, -0.969095, 1.0], [53.957694, -1.081436, 1.0], [53.955422, -1.126291, 1.0], [53.927231, -1.094136, 1.0], [53.922021, -1.1311, 1.0], [53.901166, -1.047823, 1.0], [53.958671, -1.07989, 2.0], [53.968221, -1.09462, 1.0], [53.975108, -1.090201, 2.0], [53.956979, -1.013937, 1.0], [53.928922, -1.116031, 1.0], [53.959283, -1.089479, 1.0], [53.976904, -1.138802, 1.0], [53.959695, -1.120562, 1.0], [53.969074, -0.987582, 1.0], [53.978342, -1.05506, 1.0], [53.94892, -1.074162, 1.0], [53.983506, -1.083461, 2.0], [53.960776, -1.073138, 1.0], [53.977035, -1.071862, 1.0], [53.956528, -1.081766, 1.0], [53.975251, -1.097212, 1.0], [53.953424, -1.075434, 1.0], [53.962811, -1.116534, 1.0], [53.989641, -1.086529, 1.0], [53.927031, -1.068098, 1.0], [53.989276, -1.028426, 1.0], [53.996143, -1.090505, 1.0], [53.986478, -1.096054, 1.0], [53.988207, -1.029671, 1.0], [53.972354, -1.14347, 1.0], [53.920597, -1.145595, 1.0], [53.949853, -1.126712, 1.0], [53.960182, -1.054556, 1.0], [53.956355, -1.047937, 1.0], [53.940689, -1.115021, 1.0], [53.919206, -1.152323, 1.0], [53.956355, -1.047937, 1.0], [53.957355, -1.084034, 1.0], [53.976906, -1.138954, 1.0], [53.928832, -1.116033, 1.0], [53.9664, -1.068135, 2.0], [53.953244, -1.075438, 1.0], [54.004593, -1.055686, 1.0], [53.911588, -1.047281, 1.0], [54.004506, -1.055993, 1.0], [53.980752, -1.030302, 1.0], [53.957131, -1.078248, 1.0], [53.925032, -1.112611, 1.0], [53.937588, -1.073347, 1.0], [53.964953, -1.066948, 1.0], [53.979997, -1.048313, 1.0], [53.956988, -1.083128, 1.0], [53.978685, -1.111776, 1.0], [54.027752, -1.040506, 1.0], [53.971862, -1.020293, 1.0], [53.925323, -1.067984, 1.0], [53.933981, -1.144408, 1.0], [53.95849, -1.091478, 1.0], [53.960293, -1.080464, 1.0], [53.89798, -0.96693, 1.0], [53.95204, -1.059312, 1.0], [53.953393, -1.083207, 1.0], [53.933801, -1.144412, 1.0], [53.949594, -1.128241, 1.0], [53.955863, -1.077057, 1.0], [53.985482, -1.048645, 1.0], [53.933671, -1.126288, 1.0], [53.957615, -1.082809, 1.0], [53.995176, -1.093425, 1.0], [53.952485, -1.003071, 2.0], [53.954249, -1.077549, 1.0], [54.001569, -1.071316, 1.0], [54.010393, -1.073409, 1.0], [53.931994, -1.070577, 1.0], [53.971505, -1.020607, 1.0], [53.976548, -1.090475, 1.0], [53.957052, -1.068039, 2.0], [53.964863, -1.06695, 1.0], [53.998175, -1.01754, 1.0], [53.962938, -1.085436, 1.0], [53.947836, -1.133763, 1.0], [53.978194, -1.070616, 1.0], [53.972443, -1.143315, 1.0], [53.953039, -1.083824, 1.0], [53.952591, -1.072405, 1.0], [53.979086, -1.069682, 1.0], [53.92586, -1.067668, 1.0], [53.973609, -1.082153, 1.0], [53.988947, -1.043533, 1.0], [53.950999, -1.087526, 1.0], [53.98601, -1.047108, 1.0], [53.954283, -1.024973, 2.0], [53.951985, -1.135658, 1.0], [53.966243, -1.059449, 1.0], [53.955422, -1.126291, 1.0], [53.95292, -1.001232, 1.0], [53.954716, -1.079825, 1.0], [53.973068, -1.142845, 1.0], [54.010392, -1.073256, 1.0], [54.001733, -1.057734, 1.0], [53.933617, -1.118978, 1.0], [53.989416, -1.023542, 1.0], [53.959659, -1.079716, 1.0], [53.92653, -1.049987, 1.0], [53.994903, -1.057888, 1.0], [53.987623, -1.092979, 1.0], [53.955737, -1.132533, 1.0], [53.959719, -1.08764, 1.0], [54.026073, -1.055505, 1.0], [54.012187, -1.072911, 2.0], [53.953923, -1.09371, 1.0], [53.965292, -1.12395, 1.0], [53.984643, -1.044852, 2.0], [53.991456, -1.100674, 1.0], [53.986835, -1.072254, 1.0], [53.98402, -1.128438, 1.0], [54.018362, -1.092921, 2.0], [53.949679, -0.937767, 2.0], [53.948846, -1.099915, 2.0], [53.989506, -1.02354, 1.0], [53.928157, -1.097772, 1.0], [53.958401, -1.091632, 1.0], [53.974337, -1.060029, 1.0], [53.940176, -1.1065, 1.0], [53.975324, -0.972031, 1.0], [53.927403, -1.08134, 1.0], [53.966488, -1.067828, 1.0], [53.9652, -1.123648, 1.0], [53.955646, -1.132382, 2.0], [53.953012, -0.95917, 2.0], [53.948376, -1.085298, 1.0], [53.909314, -1.032719, 1.0], [53.927663, -1.045544, 3.0], [53.978643, -1.106135, 1.0], [53.967274, -1.064914, 1.0], [53.975919, -1.090488, 1.0], [53.937138, -1.073205, 1.0], [53.995265, -1.09327, 1.0], [53.954716, -1.079825, 1.0], [54.019615, -1.04573, 1.0], [53.966116, -1.043446, 1.0], [53.959684, -1.094957, 1.0], [53.920558, -1.152753, 1.0], [53.891796, -0.97956, 2.0], [53.97748, -1.071242, 1.0], [53.955187, -1.070976, 2.0], [53.913877, -1.052558, 1.0], [53.963795, -1.07993, 1.0], [53.955336, -1.12675, 1.0], [53.920198, -0.937907, 1.0], [53.958133, -1.09179, 1.0], [53.956511, -1.067898, 1.0], [53.986306, -1.121374, 1.0], [53.971508, -1.077778, 1.0], [53.950138, -1.128839, 2.0], [53.993432, -1.042363, 1.0], [53.898884, -1.089727, 1.0], [54.026434, -1.067099, 2.0], [53.959939, -1.081082, 1.0], [53.964184, -1.083885, 1.0], [53.952407, -1.071799, 2.0], [53.989114, -1.041852, 1.0], [53.955984, -1.081169, 1.0], [53.955094, -1.070521, 1.0], [53.957508, -1.092413, 1.0], [53.964167, -1.105378, 1.0], [53.956161, -1.080708, 1.0], [53.950804, -1.085397, 1.0], [54.015327, -1.072078, 1.0], [53.955682, -1.124914, 1.0], [53.987001, -1.105956, 2.0], [53.981458, -1.074204, 1.0], [53.962811, -1.116534, 1.0], [53.957577, -1.010112, 1.0], [53.941353, -1.107542, 2.0], [53.958454, -1.110682, 1.0], [53.987005, -1.094517, 1.0], [53.920662, -1.142092, 1.0], [53.96771, -1.063227, 1.0], [53.960905, -1.113983, 1.0], [53.957184, -1.085257, 1.0], [53.910337, -1.143673, 1.0], [53.961318, -1.085167, 1.0], [53.956489, -1.008919, 2.0], [53.975741, -1.178011, 2.0], [53.916696, -1.056757, 1.0], [53.958953, -1.129723, 1.0], [54.002091, -1.012718, 1.0], [53.959748, -1.079714, 1.0], [53.954279, -1.093245, 1.0], [54.016305, -1.070683, 2.0], [53.917247, -1.105315, 1.0], [53.97591, -1.089269, 1.0], [53.92278, -1.149205, 1.0], [53.96798, -1.063221, 1.0], [53.950252, -0.931505, 2.0], [53.928256, -1.087108, 1.0], [53.951985, -1.135658, 1.0], [53.984145, -1.073076, 1.0], [53.986984, -1.022989, 1.0], [54.016718, -1.077694, 1.0], [53.928482, -1.069741, 1.0], [53.965467, -1.063735, 1.0], [53.914163, -1.176785, 1.0], [53.999398, -1.035361, 1.0], [53.965053, -0.979753, 1.0], [53.956948, -1.010127, 1.0], [53.940178, -1.106653, 1.0], [54.008419, -1.073758, 1.0], [53.955434, -1.091544, 1.0], [53.968131, -1.094622, 1.0], [53.942604, -1.118789, 1.0], [53.926867, -1.105566, 1.0], [53.963141, -0.976904, 1.0], [53.96061, -1.086554, 1.0], [53.960252, -1.086867, 1.0], [53.921389, -1.094263, 1.0], [53.97559, -0.971567, 1.0], [53.962972, -1.078119, 1.0], [53.955094, -1.070521, 1.0], [53.932008, -0.972944, 2.0], [53.965764, -1.09071, 1.0], [53.942208, -1.021141, 1.0], [53.951, -1.075793, 1.0], [53.946042, -1.073922, 1.0], [53.95424, -1.124335, 1.0], [53.977506, -1.086337, 1.0], [53.954546, -1.092935, 1.0], [53.924924, -1.062967, 1.0], [53.905132, -1.144845, 1.0], [53.925377, -0.954527, 1.0], [53.954027, -1.132263, 1.0], [53.981604, -1.046904, 1.0], [53.956189, -1.120484, 1.0], [53.990881, -1.095959, 1.0], [53.92586, -1.067668, 1.0], [53.94377, -1.106271, 1.0], [54.018778, -1.088485, 2.0], [53.953677, -1.096916, 2.0], [53.950893, -1.121509, 2.0], [53.962122, -1.072803, 1.0], [54.018756, -1.006371, 2.0], [53.977202, -1.081922, 1.0], [53.975098, -1.162929, 1.0], [53.966403, -1.091915, 1.0], [53.959986, -1.123452, 2.0], [53.989507, -1.023692, 1.0], [53.906573, -1.096258, 1.0], [53.986814, -1.105045, 1.0], [54.033669, -1.038537, 1.0], [53.955004, -1.070523, 1.0], [53.974177, -1.085952, 1.0], [53.927402, -1.081188, 1.0], [53.923067, -1.126662, 2.0], [53.974018, -1.02009, 3.0], [53.94488, -1.122702, 1.0], [53.95537, -1.106938, 1.0], [53.968222, -1.094772, 1.0], [53.977659, -1.03693, 1.0], [53.952917, -1.011747, 3.0], [53.928738, -1.115426, 1.0], [53.961993, -1.115332, 1.0], [53.970611, -1.07795, 1.0], [53.957427, -1.081747, 1.0], [53.966495, -1.092218, 1.0], [53.951898, -1.075773, 1.0], [53.974704, -0.973114, 1.0], [53.958545, -1.052155, 1.0], [53.940291, -1.074201, 1.0], [54.018422, -0.977227, 1.0], [53.953678, -1.097068, 1.0], [53.953477, -1.059127, 2.0], [53.951618, -1.110065, 1.0], [53.954457, -1.093089, 2.0], [53.966155, -1.082927, 1.0], [53.963388, -1.121704, 1.0], [53.991393, -1.023496, 1.0], [53.892503, -0.978173, 1.0], [53.958671, -1.07989, 1.0], [53.958176, -1.085693, 1.0], [53.958876, -1.071503, 1.0], [54.025968, -1.042226, 1.0], [53.885427, -1.046659, 1.0], [53.933233, -1.140311, 1.0], [53.991124, -1.023655, 2.0], [53.943705, -1.073973, 1.0], [53.954533, -1.06779, 2.0], [53.9881, -1.120879, 1.0], [53.943621, -1.086468, 1.0], [53.947145, -1.125245, 1.0], [53.900986, -1.047827, 1.0], [53.986041, -1.12199, 1.0], [53.957321, -1.011795, 1.0], [53.953918, -1.129523, 1.0], [53.962675, -1.134827, 1.0], [53.951072, -1.085239, 1.0], [53.954716, -1.079825, 1.0], [53.965468, -1.063887, 2.0], [53.957273, -1.085103, 2.0], [54.009179, -1.079082, 1.0], [53.965982, -1.107778, 2.0], [53.933486, -1.113345, 1.0], [54.012958, -0.990027, 1.0], [53.9291, -1.115875, 1.0], [54.018204, -1.095824, 2.0], [53.955573, -1.110134, 1.0], [53.951967, -1.096648, 1.0], [53.962938, -1.085436, 1.0], [53.967939, -1.081211, 1.0], [53.925379, -0.954679, 1.0], [53.964194, -1.12123, 1.0], [53.955737, -1.132533, 1.0], [53.984985, -0.956237, 3.0], [53.967934, -0.990964, 1.0], [53.969765, -1.133461, 1.0], [53.94497, -1.1227, 1.0], [53.987353, -1.069497, 1.0], [53.957577, -1.089669, 1.0], [53.957183, -1.085105, 1.0], [53.924893, -1.059009, 1.0], [53.947749, -1.085616, 1.0], [53.916696, -1.056757, 1.0], [53.933392, -1.0314, 1.0], [53.95214, -1.09573, 1.0], [53.971598, -1.077776, 2.0], [53.969855, -1.133459, 1.0], [53.972983, -1.070885, 1.0], [53.947126, -1.147491, 2.0], [53.963083, -1.116833, 1.0], [53.949006, -1.073703, 2.0], [54.047281, -0.999428, 2.0], [53.914009, -1.141924, 1.0], [53.966575, -1.067521, 1.0], [53.962416, -1.215007, 1.0], [53.998137, -1.057663, 1.0], [53.989191, -1.086386, 1.0], [54.01824, -1.031262, 2.0], [53.958189, -1.087369, 1.0], [53.961512, -1.007733, 1.0], [53.984915, -1.022732, 1.0], [53.969421, -1.098862, 1.0], [53.93173, -0.972037, 1.0], [53.900986, -1.047827, 1.0], [54.037356, -1.038758, 1.0], [53.953718, -1.055464, 1.0], [53.956898, -1.08313, 2.0], [53.953927, -1.082433, 2.0], [53.993835, -1.130826, 1.0], [53.935233, -1.11864, 1.0], [53.963719, -1.058592, 1.0], [54.002625, -1.012095, 1.0], [53.964006, -1.120167, 1.0], [53.965878, -1.070281, 3.0], [53.922038, -1.133536, 1.0], [53.957375, -1.086777, 1.0], [53.971415, -1.020609, 1.0], [53.973962, -1.142064, 1.0], [53.952952, -1.132743, 2.0], [53.970745, -1.144722, 1.0], [53.955978, -1.092142, 1.0], [53.963725, -1.118648, 1.0], [53.978038, -1.097304, 1.0], [53.99049, -1.12815, 1.0], [53.955423, -1.114099, 1.0], [53.97953, -1.069062, 1.0], [53.989598, -1.023843, 1.0], [53.972663, -0.976213, 1.0], [53.9532, -0.960079, 1.0], [54.020151, -1.045412, 1.0], [53.965218, -1.089807, 1.0], [53.956695, -1.153392, 1.0], [53.963304, -1.086343, 1.0], [53.972862, -1.078511, 1.0], [53.953915, -1.057746, 2.0], [53.955514, -1.126594, 1.0], [53.966309, -1.067984, 1.0], [53.95975, -1.091755, 2.0], [53.954156, -1.077094, 1.0], [53.958673, -1.03432, 1.0], [53.96272, -1.116383, 1.0], [53.94789, -1.092317, 1.0], [53.945591, -1.017252, 1.0], [53.954027, -1.132263, 1.0], [53.95868, -1.08111, 1.0], [53.950983, -1.121508, 2.0], [53.928367, -1.113911, 1.0], [53.949003, -1.084979, 1.0], [53.954532, -1.067638, 1.0], [54.007129, -1.142145, 1.0], [53.965468, -1.063887, 1.0], [53.955613, -1.091388, 1.0], [53.989913, -1.086828, 1.0], [53.927562, -1.102353, 1.0], [53.966577, -1.067674, 1.0], [53.969767, -1.133613, 1.0], [53.953658, -1.094326, 2.0], [53.913647, -0.959692, 1.0], [54.01287, -0.990335, 1.0], [53.964863, -1.06695, 1.0], [53.970573, -1.133292, 1.0], [53.953822, -1.045861, 1.0], [53.911701, -1.050171, 1.0], [53.953157, -1.03018, 2.0], [53.9473, -1.085626, 1.0], [53.957517, -1.081745, 1.0], [53.990401, -1.1039, 1.0], [53.885517, -1.093061, 1.0], [53.970462, -1.08207, 2.0], [53.953065, -1.075595, 1.0], [53.962939, -1.085589, 1.0], [53.955978, -1.092142, 1.0], [53.951957, -1.095277, 1.0], [53.965007, -1.073958, 1.0], [53.970725, -0.980834, 2.0], [53.959961, -1.072241, 1.0], [53.920467, -1.152602, 1.0], [53.959246, -1.005348, 1.0], [53.955344, -1.091546, 1.0], [53.966399, -1.067982, 1.0], [53.949542, -1.073234, 1.0], [53.968898, -0.988044, 3.0], [53.939751, -1.074061, 1.0], [53.994297, -1.096037, 2.0], [53.973289, -1.148634, 1.0], [53.955371, -1.10709, 2.0], [53.902971, -1.048847, 1.0], [53.950893, -1.121509, 1.0], [54.018693, -1.089098, 1.0], [53.926174, -1.073448, 1.0], [53.954108, -1.094468, 1.0], [53.960722, -1.11353, 1.0], [53.984364, -1.113943, 2.0], [53.925316, -1.102554, 1.0], [53.984007, -1.114255, 2.0], [53.990298, -1.066686, 2.0], [53.997888, -1.083602, 1.0], [53.956567, -1.135411, 1.0], [53.956489, -1.008919, 1.0], [53.938657, -1.119786, 1.0], [53.96766, -1.103778, 1.0], [53.987942, -1.030287, 1.0], [53.979155, -1.151869, 1.0], [53.966752, -1.044194, 1.0], [54.01666, -0.981391, 1.0], [53.951317, -1.142834, 1.0], [53.966577, -1.067674, 1.0], [53.953691, -1.098744, 3.0], [53.88991, -1.045339, 1.0], [53.951391, -0.948543, 2.0], [53.969361, -1.079045, 1.0], [53.967354, -1.098907, 1.0], [54.005995, -1.074117, 1.0], [53.994394, -1.09695, 1.0], [53.957687, -1.092257, 1.0], [53.975398, -1.057871, 1.0], [53.986925, -1.072252, 1.0], [53.913496, -1.084538, 1.0], [54.017458, -1.080425, 1.0], [53.958723, -1.086748, 1.0], [53.978787, -1.189845, 1.0], [53.947236, -1.125395, 1.0], [53.951966, -1.096496, 1.0], [53.973699, -1.082151, 1.0], [53.990671, -1.023208, 1.0], [53.947211, -1.074048, 1.0], [53.937938, -1.119801, 1.0], [53.989494, -1.067314, 1.0], [53.98904, -1.126503, 2.0], [53.962083, -1.205258, 1.0], [53.961891, -1.203433, 1.0], [53.963379, -1.072623, 1.0], [53.955318, -1.162106, 1.0], [53.95295, -1.132438, 1.0], [53.958758, -1.056265, 1.0], [53.974783, -1.156532, 1.0], [54.003967, -1.139922, 1.0], [53.954192, -1.024822, 3.0], [53.955236, -1.12538, 1.0], [53.962828, -1.071111, 1.0], [53.996825, -1.13412, 1.0], [53.952974, -1.075444, 1.0], [53.95984, -1.091753, 2.0], [53.955963, -1.11424, 1.0], [53.942395, -1.05572, 1.0], [53.927782, -1.083921, 2.0], [54.018953, -1.087871, 2.0], [54.01287, -0.990335, 1.0], [53.951359, -1.136128, 1.0], [53.955596, -1.189532, 1.0], [53.953162, -1.076507, 1.0], [53.956069, -1.092292, 1.0], [53.990418, -1.059057, 2.0], [53.93876, -1.121612, 1.0], [53.971091, -1.082056, 1.0], [53.962428, -1.089258, 2.0], [53.973289, -1.148634, 1.0], [53.959021, -1.078663, 1.0], [53.95268, -1.083984, 1.0], [53.952593, -1.072557, 2.0], [53.959364, -1.088258, 1.0], [54.019703, -1.045575, 1.0], [53.951618, -1.110065, 1.0], [53.960698, -1.0864, 1.0], [53.954799, -1.022065, 1.0], [53.950999, -1.087526, 2.0], [53.928572, -1.069739, 1.0], [54.001044, -1.073159, 2.0], [53.96895, -1.095976, 1.0], [53.957294, -1.087846, 2.0], [53.948738, -1.073862, 1.0], [53.973273, -1.061883, 2.0], [53.970129, -1.097322, 1.0], [53.954629, -1.080284, 1.0], [53.954015, -1.094013, 2.0], [54.002091, -1.012718, 1.0], [53.960295, -1.05745, 1.0], [53.965674, -1.090712, 1.0], [53.927478, -1.103117, 1.0], [53.951983, -1.135506, 1.0], [53.945896, -1.102112, 2.0], [53.967757, -0.991273, 1.0], [53.953819, -1.045557, 1.0], [53.965789, -1.070435, 1.0], [53.964419, -1.056137, 1.0], [53.95695, -1.078099, 1.0], [53.982423, -1.131216, 1.0], [53.986363, -1.069214, 1.0], [53.957184, -1.085257, 1.0], [53.937649, -1.117218, 1.0], [53.990581, -1.02321, 1.0], [53.96794, -1.081363, 1.0], [53.964953, -1.066948, 1.0], [53.93429, -0.977, 2.0], [53.998175, -1.01754, 2.0], [53.987131, -1.123645, 1.0], [54.016086, -1.065651, 1.0], [53.994827, -1.094805, 1.0], [53.980176, -1.048156, 1.0], [53.956398, -1.008769, 1.0], [53.943623, -1.086773, 1.0], [53.928458, -1.114061, 1.0], [53.950893, -1.121509, 1.0], [53.953429, -1.149191, 3.0], [53.98988, -1.025361, 1.0], [53.95213, -1.05931, 1.0], [53.974026, -1.203659, 2.0], [54.012872, -0.990487, 2.0], [53.951967, -1.096648, 1.0], [53.965071, -1.059019, 1.0], [53.952241, -1.097252, 1.0], [53.966418, -1.058836, 1.0], [54.008548, -1.078943, 1.0], [53.966313, -1.091917, 1.0], [53.960424, -1.085796, 1.0], [53.965099, -1.074261, 1.0], [53.913137, -1.084698, 1.0], [53.924585, -1.065564, 1.0], [53.956579, -1.008917, 2.0], [53.964917, -1.07396, 1.0], [53.950897, -1.097738, 2.0], [53.95581, -1.047187, 1.0], [53.95382, -1.045709, 1.0], [53.988608, -1.104549, 1.0], [53.940726, -1.060785, 1.0], [53.980152, -1.068133, 1.0], [53.967748, -1.103472, 2.0], [54.008088, -1.054386, 1.0], [53.923419, -1.101224, 1.0], [54.00468, -1.055379, 1.0], [53.958935, -1.079123, 1.0], [54.013134, -0.989565, 1.0], [53.989512, -1.013321, 1.0], [53.989437, -1.095227, 1.0], [53.967752, -1.0803, 1.0], [53.942143, -1.105087, 1.0], [53.969855, -1.133459, 1.0], [53.990051, -1.02429, 1.0], [53.975448, -1.075862, 1.0], [53.924403, -1.065263, 1.0], [53.966664, -1.127123, 1.0], [53.947715, -1.069466, 2.0], [54.024941, -1.09522, 1.0], [53.917243, -1.057658, 2.0], [54.021621, -1.049347, 1.0], [53.933671, -1.126288, 1.0], [53.956006, -1.072329, 2.0], [53.974687, -1.08213, 1.0], [53.983054, -1.025978, 1.0], [53.967801, -1.063378, 1.0], [53.953792, -1.100266, 1.0], [53.92068, -1.14468, 1.0], [53.96951, -1.098708, 1.0], [53.924861, -1.113833, 1.0], [53.978774, -1.111621, 1.0], [53.919303, -1.140597, 1.0], [53.998921, -1.043152, 1.0], [53.977681, -1.062394, 2.0], [53.917365, -1.146118, 1.0], [53.987658, -1.121956, 1.0], [53.961079, -1.113217, 1.0], [53.959013, -1.077597, 1.0], [53.923959, -1.066035, 2.0], [53.97693, -1.105409, 1.0], [53.984588, -1.083894, 1.0], [53.980449, -1.048608, 2.0], [54.004614, -1.093372, 1.0], [53.953745, -1.094019, 1.0], [53.958335, -1.082946, 1.0], [53.956767, -1.089534, 1.0], [53.956087, -1.01472, 2.0], [53.960121, -1.081383, 1.0], [53.943141, -1.094249, 1.0], [53.960423, -1.085644, 1.0], [53.961032, -1.083039, 1.0], [53.915697, -1.139148, 1.0], [53.989334, -1.013477, 1.0], [53.996227, -1.089741, 1.0], [53.977929, -1.156468, 1.0], [53.961323, -1.07404, 2.0], [53.975328, -1.170243, 2.0], [53.960876, -1.086091, 1.0], [53.959187, -1.088567, 1.0], [53.954083, -1.103155, 1.0], [53.989204, -1.04185, 1.0], [54.005995, -1.074117, 1.0], [53.979309, -1.135703, 1.0], [53.961187, -1.079835, 1.0], [53.960079, -1.075897, 1.0], [53.97911, -1.061294, 1.0], [53.986418, -1.124422, 1.0], [53.981711, -1.132298, 1.0], [53.932533, -1.130577, 1.0], [53.957517, -1.081745, 1.0], [53.977433, -1.053708, 1.0], [53.967198, -1.078331, 1.0], [53.997977, -1.083448, 1.0], [53.959025, -1.079121, 1.0], [53.954647, -0.971625, 2.0], [53.925804, -1.072085, 1.0], [53.941646, -1.086816, 1.0], [54.004592, -1.055533, 1.0], [53.982649, -1.150273, 1.0], [53.951101, -1.031599, 2.0], [53.980777, -1.067509, 2.0], [53.965673, -1.090559, 1.0], [53.958367, -1.087213, 1.0], [53.959558, -1.078347, 1.0], [53.967799, -1.063073, 1.0], [53.975045, -1.058641, 1.0], [53.95579, -1.091079, 1.0], [53.957067, -1.01363, 1.0], [53.99746, -1.040287, 1.0], [53.920364, -1.101442, 1.0], [53.938392, -0.983755, 1.0], [53.951294, -0.947631, 1.0], [53.957324, -1.001279, 1.0], [53.990476, -1.06653, 1.0], [53.973074, -1.071035, 1.0], [53.953766, -1.038852, 1.0], [53.968628, -1.101014, 1.0], [53.975097, -1.162777, 1.0], [53.954538, -1.012165, 1.0], [53.960403, -1.083053, 2.0], [53.928395, -1.070048, 1.0], [53.937382, -1.129867, 1.0], [53.973604, -1.142377, 1.0], [53.955042, -0.986398, 2.0], [53.942325, -1.142257, 2.0], [53.933216, -1.113351, 2.0], [53.952434, -0.954765, 1.0], [53.9577, -1.082198, 1.0], [53.959598, -1.071792, 1.0], [53.949114, -1.099757, 1.0], [53.948984, -1.130844, 1.0], [53.997189, -1.086211, 1.0], [53.96951, -1.098708, 1.0], [53.96704, -1.092968, 1.0], [53.998453, -0.996786, 2.0], [53.974048, -1.057597, 1.0], [53.967799, -1.063073, 1.0], [53.965167, -1.083101, 1.0], [53.998741, -1.043156, 2.0], [53.957302, -1.125185, 1.0], [54.018222, -1.098266, 1.0], [53.960056, -1.084737, 1.0], [53.975453, -1.019752, 1.0], [53.93597, -1.027837, 1.0], [53.965218, -1.089807, 2.0], [53.955549, -1.131317, 2.0], [53.987127, -1.123035, 2.0], [53.955503, -1.162865, 1.0], [54.001655, -1.070857, 1.0], [53.926075, -1.072231, 1.0], [53.956579, -1.008917, 1.0], [53.990879, -1.072164, 1.0], [53.964627, -1.106892, 1.0], [53.965363, -1.109163, 1.0], [53.964663, -1.148962, 1.0], [53.966031, -1.010674, 1.0], [53.986476, -1.095901, 1.0], [53.975462, -1.176644, 1.0], [53.96704, -1.092968, 1.0], [53.906515, -1.088496, 1.0], [53.95543, -1.090934, 1.0], [53.974033, -1.152126, 1.0], [53.955598, -1.125678, 1.0], [53.968916, -1.079665, 1.0], [54.019703, -1.045575, 1.0], [53.938297, -1.119794, 1.0], [53.894077, -0.972961, 1.0], [53.986417, -1.053199, 1.0], [53.908001, -1.025899, 2.0], [53.954633, -1.092628, 1.0], [53.957374, -1.086625, 1.0], [53.954083, -1.103155, 1.0], [53.952073, -1.135504, 1.0], [53.948579, -1.100226, 1.0], [53.921077, -1.100513, 1.0], [53.94706, -1.13835, 1.0], [54.015686, -1.049025, 1.0], [53.945287, -1.092831, 1.0], [53.954449, -1.080136, 1.0], [53.986646, -1.118775, 1.0], [53.929189, -1.115721, 1.0], [53.971777, -1.07762, 1.0], [53.953783, -1.099047, 1.0], [53.953621, -1.138215, 1.0], [53.989985, -1.027189, 1.0], [53.988063, -1.091749, 1.0], [53.974224, -1.153646, 1.0], [53.953957, -1.051649, 1.0], [54.002713, -1.01194, 1.0], [53.952436, -1.075608, 1.0], [53.955704, -1.091538, 1.0], [53.905603, -1.110739, 2.0], [54.018829, -1.037353, 1.0], [53.973274, -1.073623, 1.0], [53.922241, -1.064703, 1.0], [53.983375, -1.021243, 1.0], [53.921931, -1.094556, 1.0], [53.987127, -1.123035, 1.0], [53.975597, -1.095375, 2.0], [53.958222, -1.091788, 1.0], [53.971877, -1.055816, 1.0], [53.957309, -1.010271, 1.0], [53.95662, -1.058752, 1.0], [53.954635, -1.10482, 1.0], [54.010483, -1.073407, 1.0], [53.97178, -1.10186, 1.0], [53.953704, -1.0768, 2.0], [53.954368, -1.093243, 1.0], [53.946581, -1.07391, 1.0], [53.955791, -1.067762, 1.0], [53.960258, -1.052725, 1.0], [53.983936, -1.023975, 1.0], [53.95659, -1.089842, 1.0], [53.956612, -1.092738, 1.0], [53.961054, -1.085935, 1.0], [54.003235, -1.065939, 1.0], [53.906108, -1.11834, 1.0], [53.968718, -1.101012, 1.0], [53.955968, -1.09077, 1.0], [53.966752, -1.044194, 1.0], [53.976457, -1.090324, 1.0], [53.959366, -1.076674, 1.0], [53.984808, -1.065741, 1.0], [53.978233, -1.018924, 1.0], [53.980688, -1.115241, 1.0], [53.979045, -1.136471, 2.0], [53.947802, -1.092624, 1.0], [53.964627, -1.106892, 1.0], [53.949559, -1.099138, 1.0], [53.962758, -1.08544, 1.0], [54.004402, -1.054317, 1.0], [53.934431, -1.144551, 1.0], [53.9651, -1.110083, 1.0], [53.952331, -1.09725, 1.0], [53.926124, -1.067052, 1.0], [53.953889, -1.054394, 2.0], [53.942183, -1.0865, 1.0], [53.950982, -1.121355, 1.0], [53.907207, -1.050273, 1.0], [53.954628, -1.080132, 1.0], [53.954415, -1.064135, 1.0], [53.965077, -1.083103, 1.0], [53.965473, -1.124099, 1.0], [53.981394, -1.101349, 1.0], [53.993667, -1.095898, 1.0], [53.957273, -1.085103, 1.0], [53.944243, -1.121649, 1.0], [53.95738, -1.087387, 1.0], [54.002621, -1.067936, 1.0], [53.951162, -1.121351, 1.0], [53.98556, -1.11773, 1.0], [53.9652, -1.123648, 1.0], [53.996226, -1.089588, 1.0], [53.986775, -1.12411, 1.0], [53.963393, -1.086188, 1.0], [53.960294, -1.057297, 1.0], [53.953883, -1.053632, 1.0], [53.952073, -1.135504, 1.0], [53.95196, -1.060533, 1.0], [54.000378, -1.04556, 1.0], [53.95383, -1.046928, 1.0], [54.011012, -1.095675, 1.0], [53.955406, -1.1618, 2.0], [53.9173, -0.955947, 3.0], [53.957068, -1.081755, 1.0], [53.927499, -1.093978, 1.0], [53.953094, -1.011438, 1.0], [54.018952, -1.087718, 1.0], [53.942052, -1.104937, 1.0], [53.956664, -1.075972, 1.0], [53.951094, -1.088134, 2.0], [53.955183, -1.058936, 1.0], [53.965467, -1.063735, 1.0], [53.97814, -1.187113, 1.0], [53.956656, -1.135257, 1.0], [53.949899, -0.942333, 1.0], [53.957596, -1.092107, 1.0], [53.933657, -1.124461, 1.0], [53.956445, -1.047935, 1.0], [53.973361, -1.061729, 2.0], [53.972983, -1.070885, 1.0], [53.958498, -1.080809, 1.0], [53.995601, -1.090212, 1.0], [53.943297, -1.127458, 1.0], [53.980556, -1.134152, 1.0], [54.012869, -0.990182, 1.0], [53.959985, -1.087177, 1.0], [53.995005, -1.094496, 1.0], [53.964307, -1.08815, 1.0], [53.925981, -1.071777, 1.0], [53.979218, -1.135552, 1.0], [54.012693, -0.990644, 1.0], [53.913651, -1.142083, 1.0], [53.946216, -0.994992, 1.0], [53.951337, -1.07289, 1.0], [53.952564, -1.080482, 1.0], [53.926866, -1.105414, 1.0], [53.970463, -1.070483, 1.0], [53.978636, -1.08128, 1.0], [53.954625, -1.079675, 1.0], [53.9624, -1.0856, 1.0], [53.992485, -1.059011, 2.0], [53.962848, -1.085438, 2.0], [53.952861, -1.084133, 1.0], [53.944061, -1.121348, 1.0], [53.947589, -1.042042, 1.0], [54.037718, -1.039055, 1.0], [53.950199, -1.124876, 1.0], [53.949093, -1.084977, 1.0], [53.955276, -1.070821, 1.0], [53.964566, -1.075035, 1.0], [53.966301, -1.078503, 1.0], [53.968673, -1.095067, 1.0], [54.018042, -1.098117, 1.0], [53.987528, -1.068883, 1.0], [54.01296, -0.990332, 1.0], [53.984672, -1.095025, 1.0], [53.964158, -1.080379, 1.0], [53.997189, -1.086211, 1.0], [53.974175, -1.085648, 1.0], [53.964283, -1.121075, 1.0], [53.96204, -1.085608, 1.0], [53.953804, -1.043576, 1.0], [53.958314, -1.080203, 1.0], [53.996606, -1.05724, 1.0], [53.951555, -0.999283, 1.0], [53.926779, -0.960736, 1.0], [53.958785, -1.071353, 1.0], [53.961408, -1.085165, 1.0], [53.97523, -1.169026, 1.0], [53.958279, -1.087367, 1.0], [53.986766, -1.12289, 1.0], [53.971309, -1.098974, 1.0], [53.957165, -1.048071, 1.0], [53.926266, -1.07375, 1.0], [53.95099, -1.086307, 1.0], [53.953808, -1.055462, 1.0], [53.975176, -1.075563, 2.0], [53.955522, -1.091237, 1.0], [53.930888, -1.114467, 1.0], [53.948143, -1.126443, 1.0], [53.964189, -1.12062, 1.0], [54.017893, -0.978461, 1.0], [53.956161, -1.012737, 1.0], [53.954363, -1.080747, 1.0], [53.953889, -1.101178, 3.0], [53.962916, -1.070804, 1.0], [53.931246, -1.114307, 2.0], [53.919038, -1.154002, 1.0], [53.992507, -1.096991, 1.0], [53.95172, -1.075929, 1.0], [53.974177, -1.085952, 1.0], [53.964274, -1.083883, 1.0], [53.95222, -1.070889, 1.0], [53.953947, -1.039001, 1.0], [53.965718, -1.108546, 1.0], [53.95059, -1.129287, 1.0], [53.925948, -1.067513, 1.0], [53.943515, -1.120446, 1.0], [53.966057, -1.070277, 1.0], [53.97389, -1.083672, 1.0], [54.001043, -1.073006, 1.0], [53.958313, -1.080051, 1.0], [53.917365, -1.146118, 1.0], [53.925129, -1.066161, 1.0], [53.990488, -1.022754, 2.0], [53.989501, -1.02293, 2.0], [53.943051, -1.094251, 1.0], [53.988083, -1.070854, 2.0], [53.955422, -1.126291, 1.0], [53.986833, -1.071949, 1.0], [53.964709, -1.058722, 1.0], [53.957443, -1.08388, 1.0], [53.957791, -1.082348, 1.0], [53.987074, -1.022987, 1.0], [53.955939, -1.123232, 2.0], [53.977173, -1.138644, 1.0], [53.952324, -1.084449, 3.0], [53.96904, -1.095974, 2.0], [53.997277, -1.134568, 1.0], [53.966706, -0.983829, 1.0], [53.940355, -1.106344, 1.0], [53.954684, -1.075711, 1.0], [53.976906, -1.138954, 1.0], [53.951576, -1.104428, 1.0], [53.986835, -1.072254, 1.0], [53.96631, -1.091612, 1.0], [53.967039, -1.092816, 1.0], [53.992655, -1.104767, 2.0], [53.954806, -1.079823, 1.0], [53.961866, -1.134844, 2.0], [53.999312, -1.130101, 1.0], [53.957283, -1.086474, 1.0], [53.957496, -1.011181, 1.0], [53.990413, -1.105425, 1.0], [53.956163, -1.013041, 1.0], [53.975909, -1.089116, 1.0], [53.928572, -1.069739, 2.0], [54.015686, -1.049025, 1.0], [53.954717, -1.079977, 1.0], [53.999817, -1.077305, 1.0], [53.965673, -1.090559, 1.0], [53.961963, -1.123411, 1.0], [53.953792, -1.100266, 1.0], [53.961085, -1.113979, 1.0], [53.962847, -1.085286, 1.0], [53.966494, -1.092066, 1.0], [53.971371, -1.095161, 1.0], [53.987882, -1.0916, 1.0], [53.964709, -1.058722, 1.0], [54.001039, -1.072549, 1.0], [53.97525, -1.097059, 2.0], [53.950891, -1.121205, 2.0], [53.940744, -1.110297, 1.0], [53.963012, -1.131772, 1.0], [53.948739, -1.074014, 1.0], [53.974083, -1.073605, 1.0], [53.956185, -1.120027, 1.0], [53.963122, -1.134513, 1.0], [54.01681, -1.077997, 1.0], [54.051639, -1.037817, 1.0], [53.92239, -1.132463, 1.0], [53.958225, -1.080357, 1.0], [53.954718, -1.08013, 1.0], [53.926362, -1.074509, 1.0], [53.971221, -1.099128, 1.0], [53.954806, -1.079823, 1.0], [53.969651, -1.081783, 1.0], [53.950047, -1.128689, 1.0], [53.955645, -1.072032, 1.0], [53.963393, -1.086188, 1.0], [53.964953, -1.066948, 1.0], [53.953797, -1.042814, 2.0], [53.978014, -1.07062, 1.0], [53.9654, -1.090108, 1.0], [53.978668, -1.050783, 1.0], [53.973073, -1.070883, 1.0], [53.95888, -1.083696, 1.0], [53.956249, -1.092288, 1.0], [54.018131, -1.098115, 1.0], [53.935841, -0.979704, 1.0], [53.952234, -1.084451, 1.0], [53.99283, -1.104153, 1.0], [53.951088, -1.087372, 1.0], [53.950898, -1.09789, 1.0], [53.990171, -1.109244, 1.0], [53.965724, -1.073638, 1.0], [53.952974, -1.075444, 1.0], [53.959187, -1.076831, 1.0], [54.016329, -1.073887, 1.0], [53.960206, -1.080771, 1.0], [53.923703, -1.127563, 1.0], [53.978732, -1.10598, 3.0], [53.963393, -1.086188, 1.0], [53.987314, -1.124098, 1.0], [53.95873, -1.087662, 1.0], [53.957155, -1.013475, 1.0], [53.959365, -1.08841, 2.0], [53.964542, -1.083572, 1.0], [53.962209, -1.08408, 1.0], [53.928061, -1.085133, 1.0], [53.927644, -1.101285, 1.0], [53.957273, -1.085103, 1.0], [53.959706, -1.028656, 1.0], [53.996668, -1.05373, 2.0], [53.953064, -1.075442, 1.0], [53.96704, -1.092968, 1.0], [53.973475, -1.149393, 1.0], [53.950171, -1.084954, 1.0], [53.964827, -1.073962, 1.0], [53.960252, -1.086867, 1.0], [53.936068, -1.110092, 1.0], [53.974267, -1.08595, 1.0], [53.952978, -1.136247, 1.0], [53.965005, -1.073654, 1.0], [53.920364, -1.101442, 1.0], [53.957174, -1.004788, 1.0], [53.957272, -1.084951, 1.0], [53.92842, -1.096852, 1.0], [53.951887, -1.062668, 1.0], [53.955424, -1.126596, 1.0], [53.940693, -1.127818, 2.0], [53.92449, -0.966275, 1.0], [53.971074, -0.979606, 1.0], [53.999088, -1.019197, 1.0], [53.999445, -1.03002, 1.0], [53.999455, -1.03124, 1.0], [53.977182, -0.968631, 1.0], [53.956657, -1.135409, 1.0], [54.037356, -1.038758, 1.0], [53.991955, -1.107375, 1.0], [53.915422, -1.054806, 1.0], [53.957332, -1.081139, 1.0], [53.955441, -1.080571, 1.0], [53.989782, -1.105286, 1.0], [53.9652, -1.148647, 1.0], [53.964952, -1.066795, 1.0], [53.925574, -1.05412, 1.0], [53.955414, -1.11288, 1.0], [54.000044, -1.015207, 2.0], [53.987209, -1.017493, 1.0], [54.053265, -1.038849, 1.0], [54.028251, -1.12965, 1.0], [53.95213, -1.05931, 1.0], [54.01601, -1.067484, 1.0], [53.966575, -1.067521, 1.0], [53.988266, -1.048277, 1.0], [53.960205, -1.080619, 1.0], [53.954907, -1.180707, 1.0], [53.954106, -1.059113, 1.0], [53.920375, -1.1523, 1.0], [53.964863, -1.078535, 1.0], [53.987528, -1.068883, 2.0], [53.960204, -1.057299, 1.0], [53.945142, -1.073789, 1.0], [53.973993, -1.073607, 1.0], [53.986064, -1.042684, 1.0], [53.964953, -1.066948, 1.0], [53.959328, -1.071798, 1.0], [53.954339, -1.077548, 1.0], [53.920438, -1.148492, 1.0], [53.953244, -1.075438, 1.0], [53.948842, -1.052679, 1.0], [53.949881, -0.940352, 1.0], [53.940471, -1.074197, 3.0], [53.969765, -1.133461, 1.0], [54.002842, -1.073271, 1.0], [53.97727, -0.968324, 1.0], [53.957269, -1.084646, 1.0], [53.965008, -1.074111, 1.0], [53.961368, -1.068247, 1.0], [53.995512, -1.090214, 1.0], [53.958605, -1.071357, 1.0], [53.973859, -1.091448, 1.0], [53.964566, -1.052018, 1.0], [53.95876, -1.068153, 1.0], [53.978421, -1.137246, 1.0], [53.967164, -1.134125, 1.0], [53.957138, -1.044719, 1.0], [53.962639, -1.058311, 1.0], [53.989204, -1.04185, 2.0], [53.949782, -0.939288, 2.0], [53.988208, -1.029824, 1.0], [53.954635, -1.092781, 1.0], [53.973195, -1.148026, 1.0], [53.989598, -1.023843, 1.0], [53.946612, -1.101639, 2.0], [53.990943, -1.023506, 1.0], [53.985992, -1.022555, 1.0], [53.953782, -1.075274, 1.0], [53.95514, -1.149614, 1.0], [53.952149, -1.096949, 1.0], [53.960775, -1.084721, 2.0], [53.96272, -1.116383, 1.0], [53.9678, -1.063225, 1.0], [54.02015, -1.04526, 1.0], [53.963089, -1.058453, 1.0], [53.973944, -1.15228, 1.0], [53.935148, -1.071573, 1.0], [53.953691, -1.098744, 1.0], [53.957916, -1.086918, 1.0], [53.977708, -1.138023, 1.0], [53.972752, -0.976058, 1.0], [53.954826, -1.070831, 1.0], [53.967164, -1.134125, 1.0], [54.003336, -1.011163, 2.0], [53.956103, -1.121095, 1.0], [53.98276, -1.068227, 1.0], [53.968132, -1.094774, 1.0], [53.960249, -1.13503, 1.0], [53.93868, -1.063421, 1.0], [53.989072, -1.118571, 1.0], [53.973993, -1.073607, 1.0], [53.960339, -1.051657, 1.0], [53.958923, -1.077599, 1.0], [53.954701, -1.176901, 1.0], [53.943337, -1.133095, 1.0], [53.951771, -1.130939, 2.0], [53.954794, -1.126456, 1.0], [53.968983, -1.100396, 1.0], [53.939751, -1.074061, 1.0], [53.977202, -1.081922, 1.0], [53.967493, -1.081678, 2.0], [53.954392, -1.06124, 1.0], [54.012961, -0.990485, 1.0], [53.959531, -1.199973, 1.0], [53.955527, -1.116078, 1.0], [53.948909, -0.942206, 1.0], [53.968982, -1.100244, 1.0], [53.954418, -1.064592, 2.0], [54.010683, -1.111705, 3.0], [53.989597, -1.02369, 1.0], [53.970961, -1.053702, 1.0], [53.949203, -1.099603, 1.0], [53.974286, -1.019932, 1.0], [53.962991, -1.11653, 1.0], [53.9321, -0.973246, 2.0], [53.907812, -1.024838, 1.0], [53.989719, -1.027653, 2.0], [53.974084, -1.073757, 1.0], [53.998175, -1.01754, 2.0], [53.955277, -1.070974, 1.0], [53.941157, -1.069916, 1.0], [53.962428, -1.125535, 1.0], [53.957588, -1.011484, 1.0], [53.895028, -0.968524, 1.0], [53.938119, -1.144933, 2.0], [53.915422, -1.054806, 2.0], [53.954018, -1.082584, 1.0], [54.033499, -1.097782, 2.0], [53.96347, -1.016222, 2.0], [53.967801, -1.063378, 1.0], [53.980823, -1.133689, 1.0], [53.931884, -1.033872, 1.0], [53.962781, -1.008922, 1.0], [53.951966, -1.08461, 1.0], [53.944879, -1.12255, 1.0], [53.990581, -1.02321, 1.0], [53.948559, -1.074018, 2.0], [53.924144, -1.06664, 1.0], [53.955986, -1.081321, 1.0], [53.958182, -1.110383, 1.0], [53.949505, -1.056931, 1.0], [53.992417, -1.096993, 1.0], [53.972212, -1.08752, 1.0], [53.974106, -1.019936, 2.0], [53.976295, -1.180135, 1.0], [53.945436, -1.088714, 2.0], [53.988237, -1.11508, 1.0], [53.948289, -1.050863, 1.0], [53.956581, -1.150041, 1.0], [53.976348, -1.019273, 1.0], [53.963005, -1.070802, 1.0], [53.965976, -1.083083, 1.0], [53.965765, -1.090862, 1.0], [53.92669, -1.106027, 1.0], [53.965797, -1.08324, 1.0], [53.944061, -1.121348, 1.0], [53.938663, -1.133039, 1.0], [53.89181, -1.093229, 2.0], [53.963394, -1.086341, 1.0], [53.953158, -1.030333, 1.0], [53.960188, -1.055318, 1.0], [53.953477, -1.059127, 1.0], [53.955344, -1.091546, 1.0], [53.95189, -1.063125, 1.0], [53.893788, -1.046925, 2.0], [53.973993, -1.073607, 1.0], [53.951611, -1.109151, 1.0], [53.940726, -1.060785, 1.0], [53.991192, -1.101443, 1.0], [53.945288, -1.092983, 1.0], [53.953696, -1.030168, 1.0], [53.967583, -1.081676, 1.0], [53.955167, -1.091855, 1.0], [54.048931, -1.036352, 1.0], [53.973569, -1.150001, 1.0], [53.943885, -1.073969, 2.0], [54.021235, -1.069047, 2.0], [53.970397, -1.073534, 1.0], [53.953748, -1.082589, 1.0], [53.96695, -1.09297, 1.0], [53.9906, -1.106489, 1.0], [53.88991, -1.045339, 1.0], [54.017275, -0.979697, 1.0], [53.928332, -0.963591, 1.0], [53.962973, -1.078271, 1.0], [53.9971, -1.086366, 1.0], [53.970288, -1.071097, 1.0], [53.951994, -1.088266, 1.0], [54.023655, -1.115703, 1.0], [53.942605, -1.118941, 1.0], [53.957501, -1.045168, 1.0], [53.952074, -1.135656, 2.0], [53.970462, -1.08207, 1.0], [53.965616, -1.131413, 1.0], [54.019212, -1.074739, 1.0], [54.037812, -1.039663, 1.0], [53.987041, -1.123647, 2.0], [54.002624, -1.011943, 1.0], [53.966398, -1.06783, 1.0], [53.994016, -1.130975, 1.0], [53.929636, -1.067888, 1.0], [53.91574, -1.084184, 1.0], [53.95658, -1.009069, 1.0], [53.95381, -1.055767, 1.0], [53.96281, -1.116381, 1.0], [53.940691, -1.067794, 1.0], [53.984583, -1.09518, 1.0], [53.954367, -1.093091, 1.0], [53.938214, -1.108523, 1.0], [53.933971, -1.118209, 1.0], [53.957869, -1.080823, 1.0], [53.935871, -1.144826, 1.0], [53.973965, -1.105473, 1.0], [53.990126, -1.022458, 1.0], [53.960698, -1.0864, 1.0], [53.946576, -1.121143, 1.0], [53.971221, -1.099128, 1.0], [53.953065, -1.075595, 1.0], [53.888618, -0.986332, 1.0], [53.990051, -1.02429, 2.0], [53.955766, -1.12415, 1.0], [54.01472, -0.985864, 1.0], [53.907991, -1.024681, 2.0], [53.990119, -1.066843, 1.0], [53.975665, -1.092476, 1.0], [53.96164, -1.10406, 1.0], [53.95213, -1.05931, 1.0], [53.939751, -1.074061, 1.0], [53.966575, -1.067521, 1.0], [53.956183, -1.119722, 1.0], [53.954746, -0.97269, 1.0], [53.989313, -1.126954, 1.0], [53.953891, -1.101483, 2.0], [53.953725, -1.044949, 1.0], [53.961306, -1.048891, 1.0], [53.96462, -1.058876, 1.0], [53.988208, -1.029824, 2.0], [53.966575, -1.044655, 1.0], [53.961177, -1.114282, 1.0], [53.88991, -1.045339, 1.0], [53.962938, -1.085436, 1.0], [53.95949, -1.081244, 1.0], [53.979048, -1.136928, 2.0], [53.957708, -1.059946, 1.0], [53.952682, -1.072555, 1.0], [53.963853, -1.08755, 1.0], [53.98934, -1.059082, 1.0], [53.972867, -1.07912, 1.0], [53.957185, -1.08541, 1.0], [53.954844, -1.084851, 1.0], [53.975571, -1.06854, 1.0], [53.965764, -1.09071, 1.0], [53.955132, -1.174149, 1.0], [53.965008, -1.074111, 1.0], [53.97013, -1.097475, 1.0], [53.977359, -0.968321, 1.0], [53.996141, -1.0902, 1.0], [53.967621, -1.063229, 1.0], [54.016232, -1.072974, 1.0], [54.014191, -0.987098, 2.0], [53.946484, -1.01647, 1.0], [54.039935, -1.035338, 1.0], [53.967346, -1.062626, 1.0], [54.018133, -1.098268, 1.0], [53.920515, -1.146663, 1.0], [54.054323, -1.058989, 2.0], [53.978643, -1.106135, 1.0], [53.942101, -1.123675, 1.0], [53.954114, -1.071762, 1.0], [53.920999, -0.936973, 1.0], [53.966221, -1.091614, 1.0], [53.990584, -1.023515, 1.0], [53.94582, -1.045587, 2.0], [53.933059, -1.141228, 2.0], [53.960876, -1.086091, 1.0], [53.954276, -1.081054, 1.0], [53.954012, -1.093708, 1.0], [53.933577, -1.113496, 1.0], [54.013656, -1.076846, 1.0], [53.977925, -1.070622, 1.0], [54.00782, -1.054545, 1.0], [53.962022, -1.015037, 1.0], [53.990488, -1.022754, 2.0], [53.954247, -1.077245, 1.0], [53.955169, -1.080272, 1.0], [53.956082, -1.058916, 1.0], [53.957272, -1.084951, 2.0], [53.974802, -1.097221, 1.0], [53.944788, -1.1224, 1.0], [53.975389, -1.14051, 1.0], [53.982239, -1.059089, 2.0], [53.945531, -1.089474, 1.0], [54.00996, -0.996967, 1.0], [53.940064, -1.115643, 1.0], [53.991272, -1.112271, 3.0], [53.996138, -1.089895, 1.0], [53.996236, -1.090961, 1.0], [53.920181, -1.100989, 1.0], [53.957243, -1.013168, 1.0], [53.941071, -1.105872, 1.0], [53.955522, -1.091237, 1.0], [53.954746, -0.97269, 1.0], [53.973902, -1.073456, 1.0], [53.917366, -1.14627, 1.0], [53.982545, -1.099036, 1.0], [53.974503, -1.155013, 1.0], [53.933887, -1.071297, 1.0], [53.957428, -1.081899, 2.0], [54.004406, -1.054775, 3.0], [53.957328, -1.092417, 1.0], [53.964193, -1.121077, 1.0], [53.903944, -1.002552, 1.0], [53.927178, -1.123378, 1.0], [53.953686, -1.028949, 1.0], [53.972099, -1.132955, 1.0], [53.960338, -1.051504, 1.0], [53.973799, -1.083521, 1.0], [53.934641, -1.111493, 1.0], [53.925324, -1.068136, 2.0], [53.92297, -1.101234, 1.0], [53.953007, -0.95856, 1.0], [53.964476, -1.075037, 1.0], [53.956657, -1.135409, 1.0], [53.919118, -1.152477, 1.0], [53.967534, -1.063689, 1.0], [53.964476, -1.075037, 1.0], [53.985344, -1.112854, 1.0], [53.955432, -1.091239, 1.0], [53.965453, -1.109161, 1.0], [53.965764, -1.09071, 1.0], [53.965635, -1.073792, 1.0], [53.957418, -1.092415, 1.0], [53.958311, -1.091634, 1.0], [53.953703, -1.10042, 1.0], [53.95381, -1.055767, 1.0], [53.920558, -1.152753, 1.0], [53.956354, -1.047785, 1.0], [53.971508, -1.077778, 1.0], [53.954469, -1.071144, 1.0], [53.924206, -1.147501, 1.0], [53.961508, -1.122658, 1.0], [53.958881, -1.083848, 1.0], [53.954156, -1.077094, 1.0], [53.953793, -1.053634, 1.0], [53.951156, -1.084475, 1.0], [53.94875, -1.052377, 1.0], [54.02793, -1.040196, 1.0], [53.956399, -1.008921, 1.0], [53.958189, -1.087369, 1.0], [53.949032, -1.053894, 1.0], [53.957353, -1.083882, 2.0], [53.972752, -0.976058, 1.0], [53.94875, -1.052377, 1.0], [54.004799, -1.059038, 1.0], [53.968034, -1.130143, 1.0], [53.961873, -1.123412, 1.0], [53.968824, -1.091253, 1.0], [53.957428, -1.081899, 1.0], [53.973958, -1.057599, 1.0], [53.952145, -1.084453, 1.0], [53.941718, -1.120483, 1.0], [53.952593, -1.072557, 1.0], [53.949653, -0.9975, 2.0], [54.036844, -1.042281, 1.0], [53.960324, -1.084427, 1.0], [53.953627, -1.139129, 1.0], [53.952857, -1.09541, 1.0], [53.944022, -1.140851, 1.0], [53.961727, -1.079823, 1.0], [54.015601, -0.983706, 1.0], [53.966577, -1.067674, 1.0], [53.973535, -1.07255, 2.0], [53.986895, -1.022991, 1.0], [53.966331, -1.059295, 1.0], [53.952509, -1.085055, 1.0], [53.957604, -1.081438, 1.0], [53.989913, -1.086828, 1.0], [53.953503, -1.085795, 1.0], [53.964217, -1.088152, 1.0], [53.956568, -1.135564, 1.0], [53.9321, -0.973246, 1.0], [53.964007, -1.084193, 1.0], [53.978924, -0.972552, 1.0], [53.896162, -0.96454, 1.0], [53.958622, -1.109154, 1.0], [53.962175, -1.115633, 1.0], [53.949427, -1.013658, 1.0], [53.994829, -1.09511, 1.0], [53.973105, -1.148028, 1.0], [53.967049, -1.082297, 1.0], [54.004541, -1.06057, 1.0], [53.973479, -1.076972, 1.0], [53.953687, -1.029101, 1.0], [53.998922, -1.043305, 2.0], [53.938039, -1.121323, 1.0], [53.970552, -1.082068, 2.0], [54.020153, -1.045565, 1.0], [53.92453, -1.117799, 1.0], [53.99304, -1.072574, 1.0], [53.963394, -1.086341, 1.0], [53.953607, -1.136234, 2.0], [53.967316, -1.081987, 1.0], [54.01375, -0.988024, 1.0], [53.960698, -1.0864, 1.0], [53.970129, -1.097322, 1.0], [53.960249, -1.051659, 1.0], [53.95379, -1.099961, 1.0], [53.954617, -1.126765, 1.0], [53.940242, -1.067804, 1.0], [53.92606, -1.118071, 1.0], [53.949593, -1.128089, 1.0], [53.928332, -0.963591, 1.0], [53.978039, -1.097456, 2.0], [53.955042, -0.97573, 1.0], [53.963596, -1.12551, 1.0], [53.970462, -1.08207, 1.0], [53.943976, -1.07412, 1.0], [53.957681, -1.068025, 1.0], [53.957119, -1.076724, 1.0], [53.951737, -1.114025, 1.0], [53.990003, -1.086826, 1.0], [53.88489, -1.046975, 2.0], [53.953791, -1.053329, 1.0], [53.997711, -1.072165, 1.0], [53.953732, -1.045863, 1.0], [53.964193, -1.121077, 1.0], [53.977343, -1.05371, 1.0], [53.960596, -1.072989, 2.0], [53.957044, -1.090442, 1.0], [53.955886, -1.091839, 1.0], [53.945142, -1.073789, 1.0], [53.993176, -1.102315, 1.0], [53.962882, -1.078121, 2.0], [53.920085, -1.149412, 1.0], [53.984643, -1.044852, 1.0], [54.017133, -1.06166, 1.0], [53.958395, -1.078982, 1.0], [53.986234, -1.064184, 1.0], [54.015686, -1.07207, 1.0], [53.961507, -1.135004, 1.0], [53.92399, -1.117658, 2.0], [53.956695, -1.012114, 1.0], [53.927537, -1.111035, 2.0], [53.954398, -1.062002, 1.0], [53.898379, -1.047734, 1.0], [53.967816, -1.124965, 1.0], [53.980276, -1.060963, 1.0], [53.977248, -1.019405, 2.0], [53.964476, -1.075037, 1.0], [53.967041, -1.093121, 1.0], [53.962668, -1.085442, 1.0], [53.969948, -1.097174, 1.0], [53.959755, -1.068893, 1.0], [53.97298, -1.142999, 2.0], [53.94947, -1.099292, 1.0], [53.990887, -1.073079, 1.0], [53.956496, -1.009833, 1.0], [53.960074, -1.087023, 2.0], [53.968221, -1.09462, 1.0], [53.957353, -1.083882, 1.0], [53.892705, -1.046341, 1.0], [53.984221, -1.09473, 2.0], [53.967041, -1.093121, 1.0], [53.963917, -1.084195, 1.0], [53.958769, -1.01298, 1.0]],\n",
       "                {\n",
       "  &quot;minOpacity&quot;: 0.5,\n",
       "  &quot;maxZoom&quot;: 1,\n",
       "  &quot;radius&quot;: 10,\n",
       "  &quot;blur&quot;: 15,\n",
       "}\n",
       "            );\n",
       "        \n",
       "    \n",
       "            heat_map_914ae3e343b432abd083127f961d0d1e.addTo(map_ced17cb3e87818b9f2047c6d0db3f5d8);\n",
       "        \n",
       "&lt;/script&gt;\n",
       "&lt;/html&gt;\" style=\"position:absolute;width:100%;height:100%;left:0;top:0;border:none !important;\" allowfullscreen webkitallowfullscreen mozallowfullscreen></iframe></div></div>"
      ],
      "text/plain": [
       "<folium.folium.Map at 0x2499dcb8190>"
      ]
     },
     "execution_count": 53,
     "metadata": {},
     "output_type": "execute_result"
    }
   ],
   "source": [
    "severity_weights = {'Slight': 1, 'Serious': 2, 'Fatal': 3}\n",
    "York_data['Weight'] = York_data['Accident_Severity'].map(severity_weights)\n",
    "\n",
    "\n",
    "map_center = [York_data['Latitude'].mean(), York_data['Longitude'].mean()]\n",
    "m = folium.Map(location=map_center, zoom_start=12)\n",
    "\n",
    "\n",
    "heat_data = York_data[['Latitude', 'Longitude', 'Weight']].values.tolist()\n",
    "\n",
    "\n",
    "HeatMap(heat_data, radius=10, blur=15, max_zoom=1).add_to(m)\n",
    "\n",
    "\n",
    "m"
   ]
  },
  {
   "cell_type": "code",
   "execution_count": 54,
   "id": "9479efee",
   "metadata": {},
   "outputs": [
    {
     "data": {
      "text/html": [
       "<div style=\"width:100%;\"><div style=\"position:relative;width:100%;height:0;padding-bottom:60%;\"><span style=\"color:#565656\">Make this Notebook Trusted to load map: File -> Trust Notebook</span><iframe srcdoc=\"&lt;!DOCTYPE html&gt;\n",
       "&lt;html&gt;\n",
       "&lt;head&gt;\n",
       "    \n",
       "    &lt;meta http-equiv=&quot;content-type&quot; content=&quot;text/html; charset=UTF-8&quot; /&gt;\n",
       "    &lt;script src=&quot;https://cdn.jsdelivr.net/npm/leaflet@1.9.3/dist/leaflet.js&quot;&gt;&lt;/script&gt;\n",
       "    &lt;script src=&quot;https://code.jquery.com/jquery-3.7.1.min.js&quot;&gt;&lt;/script&gt;\n",
       "    &lt;script src=&quot;https://cdn.jsdelivr.net/npm/bootstrap@5.2.2/dist/js/bootstrap.bundle.min.js&quot;&gt;&lt;/script&gt;\n",
       "    &lt;script src=&quot;https://cdnjs.cloudflare.com/ajax/libs/Leaflet.awesome-markers/2.0.2/leaflet.awesome-markers.js&quot;&gt;&lt;/script&gt;\n",
       "    &lt;link rel=&quot;stylesheet&quot; href=&quot;https://cdn.jsdelivr.net/npm/leaflet@1.9.3/dist/leaflet.css&quot;/&gt;\n",
       "    &lt;link rel=&quot;stylesheet&quot; href=&quot;https://cdn.jsdelivr.net/npm/bootstrap@5.2.2/dist/css/bootstrap.min.css&quot;/&gt;\n",
       "    &lt;link rel=&quot;stylesheet&quot; href=&quot;https://netdna.bootstrapcdn.com/bootstrap/3.0.0/css/bootstrap-glyphicons.css&quot;/&gt;\n",
       "    &lt;link rel=&quot;stylesheet&quot; href=&quot;https://cdn.jsdelivr.net/npm/@fortawesome/fontawesome-free@6.2.0/css/all.min.css&quot;/&gt;\n",
       "    &lt;link rel=&quot;stylesheet&quot; href=&quot;https://cdnjs.cloudflare.com/ajax/libs/Leaflet.awesome-markers/2.0.2/leaflet.awesome-markers.css&quot;/&gt;\n",
       "    &lt;link rel=&quot;stylesheet&quot; href=&quot;https://cdn.jsdelivr.net/gh/python-visualization/folium/folium/templates/leaflet.awesome.rotate.min.css&quot;/&gt;\n",
       "    \n",
       "            &lt;meta name=&quot;viewport&quot; content=&quot;width=device-width,\n",
       "                initial-scale=1.0, maximum-scale=1.0, user-scalable=no&quot; /&gt;\n",
       "            &lt;style&gt;\n",
       "                #map_f010bd175a5fed44f13fa2a6fab28361 {\n",
       "                    position: relative;\n",
       "                    width: 100.0%;\n",
       "                    height: 100.0%;\n",
       "                    left: 0.0%;\n",
       "                    top: 0.0%;\n",
       "                }\n",
       "                .leaflet-container { font-size: 1rem; }\n",
       "            &lt;/style&gt;\n",
       "\n",
       "            &lt;style&gt;html, body {\n",
       "                width: 100%;\n",
       "                height: 100%;\n",
       "                margin: 0;\n",
       "                padding: 0;\n",
       "            }\n",
       "            &lt;/style&gt;\n",
       "\n",
       "            &lt;style&gt;#map {\n",
       "                position:absolute;\n",
       "                top:0;\n",
       "                bottom:0;\n",
       "                right:0;\n",
       "                left:0;\n",
       "                }\n",
       "            &lt;/style&gt;\n",
       "\n",
       "            &lt;script&gt;\n",
       "                L_NO_TOUCH = false;\n",
       "                L_DISABLE_3D = false;\n",
       "            &lt;/script&gt;\n",
       "\n",
       "        \n",
       "    &lt;script src=&quot;https://cdn.jsdelivr.net/gh/python-visualization/folium@main/folium/templates/leaflet_heat.min.js&quot;&gt;&lt;/script&gt;\n",
       "&lt;/head&gt;\n",
       "&lt;body&gt;\n",
       "    \n",
       "    \n",
       "            &lt;div class=&quot;folium-map&quot; id=&quot;map_f010bd175a5fed44f13fa2a6fab28361&quot; &gt;&lt;/div&gt;\n",
       "        \n",
       "&lt;/body&gt;\n",
       "&lt;script&gt;\n",
       "    \n",
       "    \n",
       "            var map_f010bd175a5fed44f13fa2a6fab28361 = L.map(\n",
       "                &quot;map_f010bd175a5fed44f13fa2a6fab28361&quot;,\n",
       "                {\n",
       "                    center: [54.89326190590659, -1.4355675673076926],\n",
       "                    crs: L.CRS.EPSG3857,\n",
       "                    ...{\n",
       "  &quot;zoom&quot;: 12,\n",
       "  &quot;zoomControl&quot;: true,\n",
       "  &quot;preferCanvas&quot;: false,\n",
       "}\n",
       "\n",
       "                }\n",
       "            );\n",
       "\n",
       "            \n",
       "\n",
       "        \n",
       "    \n",
       "            var tile_layer_da07d4dcea0471e5cf987dd754fdb0a7 = L.tileLayer(\n",
       "                &quot;https://tile.openstreetmap.org/{z}/{x}/{y}.png&quot;,\n",
       "                {\n",
       "  &quot;minZoom&quot;: 0,\n",
       "  &quot;maxZoom&quot;: 19,\n",
       "  &quot;maxNativeZoom&quot;: 19,\n",
       "  &quot;noWrap&quot;: false,\n",
       "  &quot;attribution&quot;: &quot;\\u0026copy; \\u003ca href=\\&quot;https://www.openstreetmap.org/copyright\\&quot;\\u003eOpenStreetMap\\u003c/a\\u003e contributors&quot;,\n",
       "  &quot;subdomains&quot;: &quot;abc&quot;,\n",
       "  &quot;detectRetina&quot;: false,\n",
       "  &quot;tms&quot;: false,\n",
       "  &quot;opacity&quot;: 1,\n",
       "}\n",
       "\n",
       "            );\n",
       "        \n",
       "    \n",
       "            tile_layer_da07d4dcea0471e5cf987dd754fdb0a7.addTo(map_f010bd175a5fed44f13fa2a6fab28361);\n",
       "        \n",
       "    \n",
       "            var heat_map_474ee241b9b64e142086824013e24e2d = L.heatLayer(\n",
       "                [[54.934169, -1.393005, 1.0], [54.91598, -1.503884, 1.0], [54.919638, -1.398684, 1.0], [54.881534, -1.380547, 1.0], [54.907395, -1.394344, 1.0], [54.881184, -1.478282, 2.0], [54.910284, -1.396952, 2.0], [54.929057, -1.377321, 1.0], [54.917231, -1.524774, 1.0], [54.896883, -1.493048, 2.0], [54.865188, -1.438135, 1.0], [54.911315, -1.405672, 1.0], [54.893403, -1.43743, 1.0], [54.919415, -1.42677, 1.0], [54.908597, -1.383096, 1.0], [54.89595, -1.406054, 1.0], [54.842441, -1.497001, 1.0], [54.902411, -1.422801, 1.0], [54.821353, -1.4624, 1.0], [54.869913, -1.42981, 1.0], [54.899491, -1.377465, 1.0], [54.924097, -1.410008, 1.0], [54.903168, -1.41203, 1.0], [54.820504, -1.453385, 1.0], [54.922952, -1.396294, 1.0], [54.933861, -1.385362, 1.0], [54.868857, -1.495893, 1.0], [54.87035, -1.446633, 1.0], [54.906882, -1.399654, 1.0], [54.86397, -1.446877, 1.0], [54.913036, -1.531999, 1.0], [54.91005, -1.550439, 2.0], [54.926515, -1.389999, 1.0], [54.906697, -1.380629, 1.0], [54.903264, -1.394874, 1.0], [54.926536, -1.431351, 1.0], [54.904161, -1.394548, 1.0], [54.873232, -1.428517, 1.0], [54.885923, -1.539172, 1.0], [54.908033, -1.414454, 1.0], [54.841267, -1.474593, 1.0], [54.887924, -1.418955, 1.0], [54.87804, -1.419253, 1.0], [54.913459, -1.548997, 1.0], [54.905659, -1.507286, 3.0], [54.907006, -1.370798, 1.0], [54.90536, -1.382833, 1.0], [54.90609, -1.481235, 2.0], [54.846357, -1.467051, 1.0], [54.866944, -1.44855, 3.0], [54.89919, -1.389009, 1.0], [54.901689, -1.403474, 1.0], [54.906005, -1.526622, 1.0], [54.915874, -1.382828, 1.0], [54.918939, -1.384653, 1.0], [54.89026, -1.457741, 1.0], [54.864057, -1.446252, 1.0], [54.864243, -1.447496, 1.0], [54.890321, -1.412841, 1.0], [54.896481, -1.386243, 1.0], [54.907086, -1.386394, 2.0], [54.886675, -1.420844, 1.0], [54.909705, -1.530634, 1.0], [54.81121, -1.425658, 2.0], [54.893204, -1.37803, 1.0], [54.864916, -1.437515, 1.0], [54.899274, -1.443898, 2.0], [54.812376, -1.44447, 1.0], [54.891757, -1.51416, 1.0], [54.882245, -1.453796, 1.0], [54.904875, -1.450215, 2.0], [54.82572, -1.454248, 2.0], [54.928202, -1.404018, 1.0], [54.919844, -1.40383, 1.0], [54.901432, -1.406129, 1.0], [54.867046, -1.492644, 1.0], [54.886786, -1.529653, 1.0], [54.878204, -1.541442, 1.0], [54.876516, -1.523383, 1.0], [54.890464, -1.443084, 1.0], [54.909029, -1.541716, 2.0], [54.903261, -1.394406, 1.0], [54.902635, -1.538201, 1.0], [54.844711, -1.502735, 1.0], [54.876955, -1.41771, 1.0], [54.887004, -1.539627, 1.0], [54.888681, -1.531813, 1.0], [54.915436, -1.525263, 1.0], [54.857801, -1.453815, 1.0], [54.870032, -1.363427, 1.0], [54.900432, -1.403805, 1.0], [54.90852, -1.461551, 1.0], [54.908195, -1.429581, 1.0], [54.89738, -1.368921, 1.0], [54.902262, -1.392237, 1.0], [54.922465, -1.425791, 1.0], [54.911559, -1.522033, 2.0], [54.861355, -1.354061, 1.0], [54.916258, -1.387658, 1.0], [54.892765, -1.518981, 1.0], [54.889285, -1.421586, 1.0], [54.866796, -1.497477, 1.0], [54.898015, -1.552444, 1.0], [54.906791, -1.399344, 1.0], [54.889184, -1.365464, 1.0], [54.863834, -1.436751, 1.0], [54.891257, -1.401913, 1.0], [54.910729, -1.414571, 1.0], [54.886868, -1.369397, 1.0], [54.908271, -1.466078, 1.0], [54.896986, -1.541541, 1.0], [54.916594, -1.522597, 1.0], [54.878325, -1.526167, 1.0], [54.892278, -1.390517, 1.0], [54.876484, -1.515279, 1.0], [54.821105, -1.488239, 1.0], [54.912462, -1.383348, 2.0], [54.902479, -1.457109, 1.0], [54.918579, -1.384503, 1.0], [54.911272, -1.454027, 1.0], [54.876716, -1.505925, 1.0], [54.886807, -1.392626, 1.0], [54.806838, -1.43241, 2.0], [54.928016, -1.440537, 1.0], [54.899671, -1.452157, 1.0], [54.927949, -1.389197, 1.0], [54.921201, -1.405682, 1.0], [54.857586, -1.426713, 1.0], [54.906305, -1.558591, 1.0], [54.90126, -1.389601, 1.0], [54.898661, -1.510179, 1.0], [54.902427, -1.530874, 2.0], [54.82437, -1.4538, 1.0], [54.907127, -1.514755, 1.0], [54.915785, -1.382986, 1.0], [54.850475, -1.463571, 1.0], [54.881091, -1.381801, 1.0], [54.872213, -1.44131, 1.0], [54.920606, -1.537684, 1.0], [54.906035, -1.558438, 3.0], [54.811204, -1.443708, 1.0], [54.841271, -1.475371, 2.0], [54.88865, -1.401796, 1.0], [54.92723, -1.389208, 1.0], [54.848946, -1.483993, 1.0], [54.877976, -1.424709, 1.0], [54.920473, -1.422543, 1.0], [54.902693, -1.388644, 1.0], [54.935574, -1.368948, 2.0], [54.868139, -1.362211, 1.0], [54.880094, -1.380102, 1.0], [54.870689, -1.442266, 1.0], [54.891831, -1.510262, 1.0], [54.888381, -1.401956, 1.0], [54.893224, -1.437433, 1.0], [54.861909, -1.391754, 1.0], [54.907393, -1.393876, 1.0], [54.905311, -1.488263, 1.0], [54.899826, -1.446541, 2.0], [54.910934, -1.383216, 1.0], [54.911364, -1.454338, 1.0], [54.891907, -1.406269, 1.0], [54.895523, -1.410582, 1.0], [54.89026, -1.457741, 1.0], [54.914918, -1.530885, 1.0], [54.88035, -1.5157, 1.0], [54.897989, -1.40041, 1.0], [54.919036, -1.404154, 1.0], [54.895087, -1.451908, 1.0], [54.907153, -1.382026, 2.0], [54.876558, -1.391845, 2.0], [54.914347, -1.382852, 1.0], [54.901434, -1.406441, 1.0], [54.812823, -1.424702, 1.0], [54.902002, -1.537117, 1.0], [54.901132, -1.544768, 1.0], [54.900044, -1.397885, 2.0], [54.9095, -1.459667, 2.0], [54.868916, -1.409412, 2.0], [54.878906, -1.431242, 1.0], [54.887193, -1.416472, 1.0], [54.919837, -1.402582, 2.0], [54.93746, -1.368762, 1.0], [54.881395, -1.406736, 1.0], [54.915154, -1.382527, 1.0], [54.927476, -1.402625, 1.0], [54.904294, -1.385189, 1.0], [54.806325, -1.478313, 2.0], [54.890423, -1.434198, 1.0], [54.901872, -1.386161, 1.0], [54.888344, -1.412713, 1.0], [54.880331, -1.428572, 2.0], [54.88324, -1.475761, 1.0], [54.91815, -1.406663, 1.0], [54.900671, -1.397563, 1.0], [54.902593, -1.386462, 1.0], [54.935352, -1.396109, 1.0], [54.867215, -1.489993, 1.0], [54.865672, -1.445607, 1.0], [54.871141, -1.369175, 2.0], [54.884485, -1.395467, 1.0], [54.913356, -1.545254, 1.0], [54.913356, -1.545254, 1.0], [54.870402, -1.365447, 1.0], [54.880087, -1.45367, 1.0], [54.942209, -1.36619, 1.0], [54.91389, -1.399394, 1.0], [54.855311, -1.480329, 1.0], [54.925093, -1.411554, 1.0], [54.926058, -1.388602, 1.0], [54.843213, -1.427851, 1.0], [54.86016, -1.500831, 1.0], [54.921209, -1.554839, 1.0], [54.818211, -1.483918, 2.0], [54.884629, -1.370835, 1.0], [54.906807, -1.460326, 1.0], [54.874725, -1.402626, 1.0], [54.899864, -1.397887, 1.0], [54.904119, -1.386127, 1.0], [54.900071, -1.441236, 1.0], [54.92003, -1.405231, 1.0], [54.89542, -1.508659, 1.0], [54.893506, -1.402504, 1.0], [54.910574, -1.383221, 1.0], [54.917653, -1.43444, 1.0], [54.925028, -1.519221, 2.0], [54.826199, -1.481326, 2.0], [54.818002, -1.456531, 1.0], [54.870262, -1.447102, 1.0], [54.907943, -1.414456, 2.0], [54.872701, -1.49117, 1.0], [54.899775, -1.398045, 2.0], [54.925481, -1.380965, 1.0], [54.894189, -1.43243, 1.0], [54.913383, -1.443859, 1.0], [54.817347, -1.450782, 2.0], [54.90638, -1.530672, 1.0], [54.887511, -1.531359, 2.0], [54.88591, -1.512672, 1.0], [54.880737, -1.478911, 1.0], [54.922027, -1.409258, 1.0], [54.871614, -1.489158, 1.0], [54.84589, -1.505367, 1.0], [54.884684, -1.381434, 1.0], [54.904031, -1.386596, 1.0], [54.821218, -1.452286, 1.0], [54.937368, -1.368451, 1.0], [54.907423, -1.382022, 1.0], [54.90923, -1.459514, 1.0], [54.911138, -1.406142, 1.0], [54.90284, -1.457416, 1.0], [54.88152, -1.377898, 1.0], [54.926625, -1.431349, 1.0], [54.874859, -1.430676, 1.0], [54.846573, -1.496638, 1.0], [54.910374, -1.396951, 1.0], [54.908736, -1.411169, 1.0], [54.873177, -1.398597, 1.0], [54.899653, -1.428767, 1.0], [54.911636, -1.518756, 2.0], [54.88196, -1.431043, 1.0], [54.877209, -1.361132, 1.0], [54.925698, -1.388451, 2.0], [54.888403, -1.529478, 1.0], [54.898295, -1.407891, 1.0], [54.886731, -1.413672, 1.0], [54.861708, -1.405467, 2.0], [54.899668, -1.413016, 1.0], [54.906208, -1.390618, 1.0], [54.911383, -1.383209, 1.0], [54.916736, -1.375639, 1.0], [54.894407, -1.384872, 1.0], [54.900663, -1.378071, 1.0], [54.918705, -1.489342, 1.0], [54.897432, -1.517522, 1.0], [54.909408, -1.4592, 1.0], [54.912263, -1.379608, 2.0], [54.865258, -1.414763, 1.0], [54.866298, -1.425655, 1.0], [54.833367, -1.476564, 1.0], [54.886989, -1.393091, 2.0], [54.932422, -1.367749, 2.0], [54.889027, -1.463214, 2.0], [54.902155, -1.388808, 1.0], [54.908305, -1.39667, 1.0], [54.877982, -1.4258, 1.0], [54.899803, -1.441707, 1.0], [54.905311, -1.488263, 1.0], [54.879606, -1.408476, 1.0], [54.887924, -1.418955, 1.0], [54.920068, -1.376991, 2.0], [54.905823, -1.503541, 1.0], [54.856856, -1.424231, 2.0], [54.929442, -1.382464, 1.0], [54.84435, -1.421295, 1.0], [54.91565, -1.48938, 1.0], [54.918478, -1.400262, 1.0], [54.912461, -1.383192, 1.0], [54.920418, -1.375114, 1.0], [54.904119, -1.386283, 1.0], [54.856579, -1.422833, 1.0], [54.937135, -1.393116, 1.0], [54.901912, -1.537118, 1.0], [54.878066, -1.424708, 2.0], [54.907357, -1.386702, 1.0], [54.864661, -1.4813, 1.0], [54.904208, -1.38597, 3.0], [54.89026, -1.457586, 1.0], [54.887417, -1.530113, 1.0], [54.875446, -1.367706, 2.0], [54.842039, -1.466018, 1.0], [54.919824, -1.399774, 1.0], [54.885346, -1.387971, 1.0], [54.917898, -1.392002, 1.0], [54.923395, -1.39504, 1.0], [54.841696, -1.469916, 2.0], [54.902404, -1.440424, 2.0], [54.904118, -1.385971, 1.0], [54.910845, -1.383373, 1.0], [54.878549, -1.431715, 1.0], [54.862703, -1.388626, 1.0], [54.903519, -1.391907, 1.0], [54.886229, -1.548678, 1.0], [54.867869, -1.496061, 1.0], [54.893312, -1.43712, 1.0], [54.830228, -1.457457, 1.0], [54.902578, -1.420148, 1.0], [54.808566, -1.436898, 1.0], [54.920473, -1.368248, 1.0], [54.891679, -1.453513, 2.0], [54.905224, -1.373789, 1.0], [54.900368, -1.556784, 1.0], [54.914437, -1.38285, 1.0], [54.908291, -1.412111, 1.0], [54.885882, -1.38734, 1.0], [54.89726, -1.45562, 1.0], [54.881186, -1.47875, 1.0], [54.897418, -1.37625, 1.0], [54.93728, -1.368765, 1.0], [54.919797, -1.412724, 1.0], [54.932968, -1.527397, 2.0], [54.893416, -1.402505, 1.0], [54.897262, -1.455932, 1.0], [54.905803, -1.381579, 1.0], [54.905618, -1.542846, 1.0], [54.901511, -1.403789, 1.0], [54.907633, -1.388101, 1.0], [54.87611, -1.392008, 1.0], [54.9168, -1.37049, 2.0], [54.880202, -1.479853, 1.0], [54.881961, -1.431199, 1.0], [54.856892, -1.471897, 2.0], [54.928905, -1.522607, 2.0], [54.89324, -1.403131, 1.0], [54.913357, -1.545722, 1.0], [54.867692, -1.397899, 1.0], [54.90154, -1.373847, 1.0], [54.901109, -1.538687, 1.0], [54.901744, -1.540239, 1.0], [54.884884, -1.422117, 1.0], [54.843487, -1.468335, 1.0], [54.896288, -1.401683, 1.0], [54.887833, -1.418645, 1.0], [54.922465, -1.425791, 1.0], [54.907738, -1.447524, 1.0], [54.855562, -1.416772, 2.0], [54.861123, -1.396284, 1.0], [54.923539, -1.444031, 1.0], [54.888326, -1.532909, 1.0], [54.914526, -1.382693, 1.0], [54.893218, -1.436186, 2.0], [54.910194, -1.396953, 1.0], [54.881961, -1.431199, 1.0], [54.899491, -1.413487, 1.0], [54.912376, -1.420631, 1.0], [54.876454, -1.371274, 1.0], [54.879162, -1.533638, 1.0], [54.931623, -1.387113, 1.0], [54.90556, -1.404977, 1.0], [54.889733, -1.460399, 1.0], [54.91318, -1.383181, 1.0], [54.920364, -1.544863, 1.0], [54.900825, -1.392415, 1.0], [54.889381, -1.461963, 1.0], [54.89892, -1.371236, 1.0], [54.883763, -1.432109, 1.0], [54.822561, -1.451178, 1.0], [54.852381, -1.488622, 1.0], [54.918129, -1.524607, 1.0], [54.815275, -1.449565, 1.0], [54.80593, -1.4304, 1.0], [54.929101, -1.386059, 1.0], [54.88141, -1.533768, 1.0], [54.881537, -1.381171, 1.0], [54.890506, -1.452437, 1.0], [54.814936, -1.434631, 1.0], [54.815884, -1.485971, 1.0], [54.87145, -1.359665, 1.0], [54.899275, -1.444054, 1.0], [54.905488, -1.390473, 1.0], [54.898207, -1.408204, 1.0], [54.913355, -1.545098, 1.0], [54.80966, -1.440306, 1.0], [54.839535, -1.46901, 1.0], [54.888961, -1.392126, 1.0], [54.871166, -1.489475, 1.0], [54.897383, -1.405097, 1.0], [54.898687, -1.41459, 1.0], [54.894804, -1.429459, 1.0], [54.88181, -1.381946, 1.0], [54.881447, -1.381172, 1.0], [54.904228, -1.390024, 1.0], [54.905502, -1.375501, 1.0], [54.904226, -1.389557, 1.0], [54.816279, -1.453131, 1.0], [54.922297, -1.428134, 1.0], [54.910214, -1.383071, 1.0], [54.830924, -1.472703, 1.0], [54.890528, -1.43747, 2.0], [54.923494, -1.434358, 1.0], [54.936842, -1.370957, 1.0], [54.919319, -1.425524, 1.0], [54.866091, -1.365826, 2.0], [54.906782, -1.415876, 2.0], [54.926232, -1.463499, 3.0], [54.90587, -1.515238, 1.0], [54.908588, -1.38138, 1.0], [54.919734, -1.399775, 1.0], [54.886779, -1.369399, 1.0], [54.917168, -1.446147, 1.0], [54.915797, -1.385325, 2.0], [54.887422, -1.531516, 1.0], [54.904454, -1.381443, 1.0], [54.902128, -1.40144, 2.0], [54.89026, -1.457586, 1.0], [54.89954, -1.386977, 1.0], [54.922773, -1.396609, 1.0], [54.89868, -1.37701, 1.0], [54.911612, -1.512829, 1.0], [54.891455, -1.443694, 1.0], [54.889026, -1.463059, 1.0], [54.859511, -1.434631, 2.0], [54.897774, -1.513152, 1.0], [54.878729, -1.37685, 1.0], [54.919652, -1.401336, 1.0], [54.845074, -1.503664, 1.0], [54.900903, -1.408164, 1.0], [54.916882, -1.504809, 2.0], [54.877347, -1.424718, 1.0], [54.905055, -1.450213, 1.0], [54.899308, -1.394621, 2.0], [54.859601, -1.434785, 1.0], [54.816036, -1.459047, 1.0], [54.904041, -1.388468, 1.0], [54.932755, -1.380073, 1.0], [54.837446, -1.463899, 1.0], [54.869646, -1.358291, 1.0], [54.919789, -1.392909, 1.0], [54.919926, -1.402424, 1.0], [54.922719, -1.461518, 1.0], [54.91687, -1.439911, 1.0], [54.897916, -1.503794, 1.0], [54.905985, -1.437567, 2.0], [54.91886, -1.369209, 2.0], [54.847645, -1.473887, 1.0], [54.82572, -1.454093, 1.0], [54.85957, -1.409393, 1.0], [54.925729, -1.451491, 1.0], [54.913355, -1.545098, 1.0], [54.925994, -1.43089, 1.0], [54.884617, -1.422744, 1.0], [54.903649, -1.499357, 2.0], [54.904723, -1.381283, 1.0], [54.814311, -1.45518, 2.0], [54.902414, -1.386621, 1.0], [54.860415, -1.398475, 2.0], [54.91983, -1.401178, 1.0], [54.896216, -1.369719, 1.0], [54.935229, -1.371763, 1.0], [54.881434, -1.378523, 1.0], [54.870332, -1.462684, 1.0], [54.902002, -1.537117, 1.0], [54.880999, -1.381491, 1.0], [54.898401, -1.512677, 2.0], [54.888548, -1.381531, 1.0], [54.902626, -1.411414, 1.0], [54.901922, -1.539769, 1.0], [54.904666, -1.528977, 1.0], [54.864333, -1.447495, 1.0], [54.906613, -1.381878, 1.0], [54.885782, -1.367856, 1.0], [54.90852, -1.461551, 1.0], [54.905352, -1.381274, 1.0], [54.879902, -1.452425, 3.0], [54.857173, -1.45398, 1.0], [54.891907, -1.406269, 2.0], [54.923934, -1.413443, 1.0], [54.926229, -1.404828, 1.0], [54.907133, -1.414156, 1.0], [54.905654, -1.405755, 2.0], [54.914107, -1.444941, 1.0], [54.919664, -1.403832, 2.0], [54.905869, -1.514926, 1.0], [54.891371, -1.464898, 1.0], [54.931812, -1.388983, 1.0], [54.86598, -1.43454, 1.0], [54.896979, -1.378283, 1.0], [54.904858, -1.390171, 1.0], [54.901427, -1.386948, 2.0], [54.92194, -1.409884, 1.0], [54.930852, -1.376981, 1.0], [54.89389, -1.389401, 1.0], [54.868956, -1.498229, 1.0], [54.888403, -1.529478, 1.0], [54.86429, -1.382681, 1.0], [54.85722, -1.425316, 1.0], [54.903129, -1.385986, 1.0], [54.885436, -1.38797, 2.0], [54.914527, -1.382849, 1.0], [54.901215, -1.435918, 1.0], [54.887713, -1.514209, 1.0], [54.902591, -1.526818, 1.0], [54.814511, -1.459535, 1.0], [54.871476, -1.457214, 1.0], [54.863248, -1.487082, 1.0], [54.883613, -1.38301, 1.0], [54.891882, -1.365733, 1.0], [54.886233, -1.441583, 1.0], [54.905379, -1.386576, 1.0], [54.909944, -1.383075, 1.0], [54.907513, -1.38202, 1.0], [54.892776, -1.400332, 1.0], [54.905742, -1.405442, 2.0], [54.820678, -1.452137, 1.0], [54.926109, -1.456011, 2.0], [54.871227, -1.441947, 1.0], [54.901833, -1.539926, 1.0], [54.906274, -1.403874, 1.0], [54.902865, -1.386926, 1.0], [54.905141, -1.512595, 1.0], [54.919227, -1.406335, 1.0], [54.85547, -1.435466, 1.0], [54.855836, -1.477051, 1.0], [54.92714, -1.38921, 1.0], [54.889911, -1.459929, 1.0], [54.889911, -1.459929, 1.0], [54.89636, -1.416495, 1.0], [54.844982, -1.503198, 1.0], [54.863621, -1.410736, 2.0], [54.865249, -1.431902, 1.0], [54.885064, -1.422114, 1.0], [54.905112, -1.528036, 1.0], [54.902708, -1.489076, 1.0], [54.915525, -1.525106, 1.0], [54.857621, -1.453662, 2.0], [54.878267, -1.392131, 1.0], [54.882291, -1.424959, 1.0], [54.879796, -1.429515, 1.0], [54.894396, -1.438352, 1.0], [54.926326, -1.370653, 1.0], [54.889823, -1.460398, 1.0], [54.871765, -1.368387, 1.0], [54.92461, -1.462429, 1.0], [54.881236, -1.429962, 1.0], [54.861784, -1.36714, 1.0], [54.816806, -1.450478, 1.0], [54.923013, -1.447003, 1.0], [54.889168, -1.415975, 1.0], [54.881992, -1.382255, 1.0], [54.883066, -1.381459, 1.0], [54.89904, -1.451698, 1.0], [54.920347, -1.396645, 1.0], [54.902613, -1.446971, 1.0], [54.877481, -1.36144, 1.0], [54.908466, -1.392924, 1.0], [54.867015, -1.444498, 1.0], [54.900338, -1.440608, 1.0], [54.887748, -1.419581, 2.0], [54.928178, -1.436633, 1.0], [54.904743, -1.385182, 1.0], [54.928539, -1.417902, 2.0], [54.89169, -1.380859, 1.0], [54.905502, -1.375345, 1.0], [54.855325, -1.442945, 1.0], [54.87589, -1.401985, 1.0], [54.925734, -1.472712, 1.0], [54.854379, -1.413674, 1.0], [54.838436, -1.464197, 1.0], [54.926109, -1.456011, 1.0], [54.887302, -1.420367, 1.0], [54.908156, -1.502577, 2.0], [54.90359, -1.388163, 1.0], [54.917216, -1.436942, 1.0], [54.917065, -1.405275, 1.0], [54.904208, -1.38597, 1.0], [54.888105, -1.419109, 1.0], [54.906132, -1.513207, 1.0], [54.911314, -1.405516, 1.0], [54.892687, -1.400333, 1.0], [54.919926, -1.402424, 1.0], [54.928798, -1.454414, 1.0], [54.867209, -1.488746, 1.0], [54.939966, -1.36685, 1.0], [54.904696, -1.513692, 1.0], [54.901289, -1.538841, 1.0], [54.868769, -1.496517, 1.0], [54.904048, -1.531791, 1.0], [54.904971, -1.377069, 1.0], [54.821465, -1.488235, 1.0], [54.874919, -1.369896, 1.0], [54.875009, -1.369894, 1.0], [54.929703, -1.380744, 2.0], [54.893045, -1.437591, 2.0], [54.905927, -1.529586, 1.0], [54.885965, -1.368476, 1.0], [54.889107, -1.4219, 1.0], [54.912627, -1.416728, 1.0], [54.901511, -1.368389, 1.0], [54.899717, -1.442488, 1.0], [54.911365, -1.45465, 1.0], [54.906339, -1.543462, 2.0], [54.860283, -1.50893, 2.0], [54.912641, -1.38319, 1.0], [54.906434, -1.381881, 1.0], [54.882057, -1.395191, 1.0], [54.909142, -1.459827, 1.0], [54.882023, -1.425275, 1.0], [54.867423, -1.362845, 2.0], [54.850403, -1.391148, 2.0], [54.928679, -1.447862, 2.0], [54.923299, -1.470872, 1.0], [54.843481, -1.466934, 1.0], [54.916406, -1.498419, 2.0], [54.906807, -1.460171, 1.0], [54.923054, -1.417201, 1.0], [54.900948, -1.456194, 1.0], [54.928697, -1.413374, 1.0], [54.906897, -1.460325, 2.0], [54.871524, -1.489003, 1.0], [54.877661, -1.361593, 1.0], [54.928081, -1.454892, 1.0], [54.903889, -1.376305, 1.0], [54.842508, -1.491706, 1.0], [54.880698, -1.39303, 2.0], [54.919453, -1.415849, 1.0], [54.898647, -1.370617, 1.0], [54.859049, -1.451617, 1.0], [54.890411, -1.412839, 1.0], [54.91177, -1.507368, 1.0], [54.919913, -1.399772, 1.0], [54.90954, -1.428939, 1.0], [54.906118, -1.390464, 1.0], [54.906039, -1.490438, 1.0], [54.913355, -1.545098, 1.0], [54.893944, -1.457536, 1.0], [54.880736, -1.478599, 1.0], [54.897225, -1.447824, 2.0], [54.904962, -1.375197, 1.0], [54.868137, -1.49559, 1.0], [54.864153, -1.447497, 1.0], [54.91801, -1.433811, 2.0], [54.804386, -1.427, 1.0], [54.834394, -1.464562, 1.0], [54.89369, -1.403437, 1.0], [54.902269, -1.536646, 1.0], [54.918077, -1.428974, 1.0], [54.81651, -1.444569, 1.0], [54.914835, -1.37286, 2.0], [54.863922, -1.436439, 1.0], [54.901951, -1.401911, 2.0], [54.802949, -1.487535, 1.0], [54.931118, -1.376196, 1.0], [54.927641, -1.456927, 1.0], [54.905524, -1.379711, 1.0], [54.857353, -1.454133, 1.0], [54.884233, -1.52033, 1.0], [54.888919, -1.401792, 1.0], [54.919059, -1.408834, 1.0], [54.872286, -1.400169, 1.0], [54.824948, -1.48321, 1.0], [54.882699, -1.454881, 1.0], [54.923541, -1.406428, 2.0], [54.887753, -1.402121, 1.0], [54.844385, -1.468167, 1.0], [54.895175, -1.451439, 1.0], [54.87616, -1.402137, 1.0], [54.868237, -1.363767, 1.0], [54.905568, -1.406536, 1.0], [54.868806, -1.443071, 1.0], [54.923496, -1.454486, 1.0], [54.889571, -1.370758, 3.0], [54.918011, -1.433967, 1.0], [54.894716, -1.429772, 1.0], [54.905489, -1.509784, 1.0], [54.865435, -1.414293, 1.0], [54.86985, -1.362963, 1.0], [54.924847, -1.519067, 1.0], [54.89324, -1.403287, 1.0], [54.858782, -1.452088, 1.0], [54.930656, -1.373707, 2.0], [54.899786, -1.382295, 2.0], [54.907218, -1.39497, 1.0], [54.91303, -1.530595, 1.0], [54.918151, -1.406975, 1.0], [54.907952, -1.542196, 1.0], [54.836023, -1.467188, 1.0], [54.897367, -1.439558, 1.0], [54.904447, -1.38004, 1.0], [54.925175, -1.448066, 1.0], [54.915068, -1.383309, 2.0], [54.888279, -1.417859, 1.0], [54.90834, -1.461398, 1.0], [54.906448, -1.40278, 2.0], [54.886326, -1.386398, 1.0], [54.89963, -1.443113, 2.0], [54.899506, -1.455278, 1.0], [54.863931, -1.500005, 1.0], [54.913454, -1.547593, 1.0], [54.890096, -1.385405, 1.0], [54.905484, -1.407785, 1.0], [54.913546, -1.548216, 1.0], [54.904912, -1.45848, 1.0], [54.924347, -1.387848, 1.0], [54.843632, -1.502592, 1.0], [54.893239, -1.402976, 1.0], [54.914407, -1.377079, 1.0], [54.893502, -1.401568, 1.0], [54.90544, -1.380804, 1.0], [54.88655, -1.413519, 1.0], [54.899363, -1.387603, 1.0], [54.900591, -1.381658, 1.0], [54.91283, -1.525294, 1.0], [54.889199, -1.550047, 1.0], [54.920441, -1.379638, 1.0], [54.916438, -1.387656, 1.0], [54.923819, -1.42702, 1.0], [54.894884, -1.372702, 2.0], [54.923538, -1.443875, 1.0], [54.90852, -1.461551, 1.0], [54.918681, -1.369368, 1.0], [54.900766, -1.455729, 1.0], [54.89084, -1.532412, 1.0], [54.92304, -1.395981, 1.0], [54.884876, -1.366467, 1.0], [54.918912, -1.397135, 2.0], [54.891098, -1.424834, 1.0], [54.9053, -1.530061, 1.0], [54.899118, -1.37482, 1.0], [54.942837, -1.365868, 1.0], [54.921366, -1.525037, 2.0], [54.875198, -1.486619, 1.0], [54.927728, -1.381086, 1.0], [54.92455, -1.410782, 1.0], [54.912867, -1.534808, 1.0], [54.903048, -1.528684, 1.0], [54.861157, -1.367618, 1.0], [54.917921, -1.433968, 1.0], [54.921804, -1.400524, 1.0], [54.848148, -1.465626, 1.0], [54.929158, -1.454409, 2.0], [54.918603, -1.37171, 1.0], [54.860335, -1.47824, 1.0], [54.865672, -1.445607, 1.0], [54.851532, -1.401255, 2.0], [54.895773, -1.425391, 1.0], [54.928747, -1.387157, 1.0], [54.915436, -1.525263, 1.0], [54.921878, -1.541258, 2.0], [54.922377, -1.426104, 1.0], [54.89868, -1.37701, 1.0], [54.906931, -1.391387, 1.0], [54.917066, -1.405587, 1.0], [54.863508, -1.443923, 1.0], [54.9162, -1.376271, 1.0], [54.91813, -1.460175, 1.0], [54.906176, -1.459711, 1.0], [54.900248, -1.384939, 1.0], [54.870719, -1.489948, 1.0], [54.881712, -1.455362, 2.0], [54.928747, -1.387157, 1.0], [54.886898, -1.392936, 1.0], [54.916317, -1.544129, 1.0], [54.902495, -1.421553, 1.0], [54.905765, -1.489505, 1.0], [54.886779, -1.369555, 1.0], [54.900447, -1.444817, 1.0], [54.90932, -1.459513, 1.0], [54.918845, -1.459385, 1.0], [54.905149, -1.376598, 2.0], [54.906275, -1.482481, 1.0], [54.872797, -1.394551, 1.0], [54.915695, -1.382831, 1.0], [54.897067, -1.377814, 2.0], [54.899276, -1.44421, 1.0], [54.898847, -1.534658, 1.0], [54.868319, -1.362363, 1.0], [54.896391, -1.386245, 1.0], [54.875707, -1.401365, 1.0], [54.918579, -1.460169, 3.0], [54.907178, -1.38686, 1.0], [54.897803, -1.381233, 1.0], [54.9081, -1.428491, 1.0], [54.905484, -1.407785, 2.0], [54.893091, -1.428236, 1.0], [54.877571, -1.361594, 2.0], [54.92827, -1.4371, 1.0], [54.868736, -1.427957, 1.0], [54.891647, -1.408144, 1.0], [54.918585, -1.385751, 1.0], [54.911098, -1.455122, 1.0], [54.902471, -1.39816, 1.0], [54.841188, -1.456531, 2.0], [54.92304, -1.395981, 1.0], [54.904119, -1.386127, 2.0], [54.872286, -1.400169, 1.0], [54.888291, -1.401957, 1.0], [54.90354, -1.41452, 2.0], [54.868701, -1.480313, 1.0], [54.886549, -1.413207, 1.0], [54.873411, -1.428514, 1.0], [54.876319, -1.518865, 1.0], [54.841075, -1.492814, 1.0], [54.815365, -1.449719, 1.0], [54.885395, -1.379865, 1.0], [54.90521, -1.530218, 1.0], [54.847933, -1.382464, 1.0], [54.893465, -1.376467, 1.0], [54.926326, -1.370653, 1.0], [54.920646, -1.40257, 1.0], [54.870482, -1.41718, 1.0], [54.910194, -1.396953, 1.0], [54.904364, -1.381445, 2.0], [54.915249, -1.383462, 1.0], [54.914107, -1.444941, 1.0], [54.842764, -1.46741, 1.0], [54.888015, -1.41911, 1.0], [54.855138, -1.44139, 2.0], [54.864153, -1.447497, 1.0], [54.876093, -1.485673, 1.0], [54.896296, -1.441132, 1.0], [54.810571, -1.442783, 1.0], [54.894166, -1.373025, 1.0], [54.933717, -1.374751, 1.0], [54.862889, -1.487243, 1.0], [54.893998, -1.375211, 2.0], [54.903157, -1.489071, 1.0], [54.903872, -1.532729, 1.0], [54.838875, -1.461856, 2.0], [54.877388, -1.433445, 1.0], [54.912537, -1.416729, 1.0], [54.888673, -1.42518, 1.0], [54.901922, -1.539769, 1.0], [54.918151, -1.406975, 1.0], [54.898383, -1.407422, 1.0], [54.903587, -1.387539, 1.0], [54.913293, -1.443861, 1.0], [54.885983, -1.389677, 1.0], [54.901922, -1.539925, 1.0], [54.877571, -1.361438, 2.0], [54.902873, -1.388641, 1.0], [54.917511, -1.386547, 1.0], [54.847405, -1.480898, 1.0], [54.907071, -1.420083, 1.0], [54.843621, -1.499945, 1.0], [54.869288, -1.470489, 2.0], [54.834392, -1.464251, 1.0], [54.888103, -1.418641, 2.0], [54.917508, -1.5502, 1.0], [54.877571, -1.361438, 1.0], [54.92233, -1.397708, 1.0], [54.895257, -1.535947, 2.0], [54.85238, -1.488466, 1.0], [54.903979, -1.41233, 1.0], [54.898033, -1.409298, 1.0], [54.891316, -1.452738, 1.0], [54.906715, -1.402152, 1.0], [54.902314, -1.548498, 1.0], [54.903802, -1.412956, 1.0], [54.917776, -1.403704, 1.0], [54.904856, -1.389859, 1.0], [54.881697, -1.395041, 1.0], [54.912622, -1.518121, 1.0], [54.90099, -1.407695, 1.0], [54.908379, -1.430515, 2.0], [54.900094, -1.37231, 1.0], [54.885526, -1.529356, 1.0], [54.907485, -1.431619, 2.0], [54.929703, -1.380744, 2.0], [54.90843, -1.461553, 1.0], [54.882666, -1.55729, 1.0], [54.937363, -1.402946, 1.0], [54.919663, -1.403676, 1.0], [54.884976, -1.422583, 1.0], [54.908968, -1.422084, 1.0], [54.881027, -1.423575, 1.0], [54.870578, -1.499144, 1.0], [54.907381, -1.428501, 1.0], [54.928714, -1.380603, 1.0], [54.907974, -1.384353, 1.0], [54.906802, -1.401683, 1.0], [54.895681, -1.370507, 1.0], [54.878368, -1.359244, 1.0], [54.867046, -1.492644, 1.0], [54.807841, -1.435508, 2.0], [54.915141, -1.380031, 1.0], [54.888564, -1.402577, 1.0], [54.88874, -1.401951, 1.0], [54.889284, -1.42143, 1.0], [54.881027, -1.423575, 1.0], [54.904591, -1.427761, 1.0], [54.913543, -1.54728, 1.0], [54.911583, -1.551826, 1.0], [54.888402, -1.529322, 1.0], [54.839898, -1.469628, 2.0], [54.914616, -1.382847, 1.0], [54.929361, -1.384182, 1.0], [54.914992, -1.441965, 1.0], [54.900068, -1.384785, 1.0], [54.919007, -1.542694, 1.0], [54.905436, -1.380181, 1.0], [54.888313, -1.529479, 1.0], [54.815945, -1.458737, 1.0], [54.865523, -1.413824, 1.0], [54.916496, -1.498418, 1.0], [54.889911, -1.459929, 1.0], [54.856671, -1.423299, 1.0], [54.919406, -1.406177, 1.0], [54.898007, -1.386064, 1.0], [54.901922, -1.539769, 1.0], [54.888723, -1.416917, 1.0], [54.922177, -1.421738, 2.0], [54.828244, -1.455927, 1.0], [54.831273, -1.44997, 2.0], [54.90069, -1.401306, 1.0], [54.90262, -1.489545, 1.0], [54.908396, -1.540787, 1.0], [54.871046, -1.368242, 1.0], [54.908935, -1.540781, 1.0], [54.901289, -1.538685, 1.0], [54.918242, -1.40713, 1.0], [54.868409, -1.362362, 1.0], [54.920389, -1.40507, 1.0], [54.874058, -1.493179, 2.0], [54.867207, -1.488279, 1.0], [54.868524, -1.480939, 1.0], [54.926281, -1.434475, 2.0], [54.850853, -1.488641, 1.0], [54.870723, -1.430111, 1.0], [54.888313, -1.529479, 1.0], [54.934071, -1.37381, 1.0], [54.892085, -1.405955, 2.0], [54.892687, -1.400333, 1.0], [54.890993, -1.502944, 1.0], [54.855836, -1.477051, 1.0], [54.874678, -1.430367, 1.0], [54.860154, -1.47793, 1.0], [54.896865, -1.533434, 1.0], [54.894952, -1.44193, 1.0], [54.856256, -1.411622, 1.0], [54.881893, -1.542647, 1.0], [54.876499, -1.496733, 1.0], [54.890265, -1.458833, 1.0], [54.906013, -1.405594, 1.0], [54.903186, -1.518233, 2.0], [54.803291, -1.423593, 1.0], [54.893503, -1.40188, 2.0], [54.926308, -1.367064, 1.0], [54.86553, -1.415382, 1.0], [54.901954, -1.402691, 1.0], [54.868857, -1.362043, 1.0], [54.913827, -1.442761, 1.0], [54.899109, -1.408814, 1.0], [54.921814, -1.402396, 2.0], [54.908504, -1.382473, 1.0], [54.905389, -1.529904, 2.0], [54.92103, -1.554841, 2.0], [54.929788, -1.379806, 1.0], [54.882545, -1.548875, 1.0], [54.880227, -1.406909, 1.0], [54.863346, -1.44782, 1.0], [54.902012, -1.539768, 1.0], [54.91815, -1.406663, 1.0], [54.905611, -1.49559, 1.0], [54.929276, -1.367486, 1.0], [54.920668, -1.425661, 1.0], [54.914437, -1.38285, 1.0], [54.90108, -1.407538, 1.0], [54.905829, -1.483266, 1.0], [54.90803, -1.413831, 1.0], [54.830741, -1.471927, 1.0], [54.912168, -1.414706, 1.0], [54.911522, -1.512674, 1.0], [54.940236, -1.366845, 1.0], [54.926961, -1.389368, 1.0], [54.921644, -1.386484, 2.0], [54.88794, -1.385594, 2.0], [54.917712, -1.488262, 1.0], [54.92213, -1.412065, 1.0], [54.857083, -1.453981, 1.0], [54.881394, -1.40658, 1.0], [54.88013, -1.424055, 1.0], [54.812366, -1.462364, 1.0], [54.899453, -1.528726, 1.0], [54.925815, -1.412012, 1.0], [54.873411, -1.428359, 1.0], [54.923164, -1.525172, 1.0], [54.890779, -1.453213, 1.0], [54.912994, -1.521236, 1.0], [54.883573, -1.37506, 1.0], [54.91556, -1.374097, 1.0], [54.90046, -1.409574, 1.0], [54.82014, -1.472533, 1.0], [54.869212, -1.396474, 1.0], [54.908485, -1.54063, 1.0], [54.915433, -1.459899, 1.0], [54.902002, -1.537117, 1.0], [54.889115, -1.462901, 1.0], [54.888895, -1.540697, 1.0], [54.877887, -1.42471, 1.0], [54.926109, -1.456011, 1.0], [54.891029, -1.374633, 1.0], [54.889672, -1.372783, 1.0], [54.911464, -1.52063, 1.0], [54.813098, -1.425943, 2.0], [54.823314, -1.458794, 2.0], [54.864153, -1.447497, 1.0], [54.874725, -1.402626, 2.0], [54.937461, -1.368918, 3.0], [54.896481, -1.386243, 1.0], [54.841148, -1.467743, 1.0], [54.870126, -1.498682, 1.0], [54.889622, -1.519642, 1.0], [54.865676, -1.446542, 1.0], [54.89462, -1.373798, 1.0], [54.889801, -1.519484, 1.0], [54.878272, -1.411457, 1.0], [54.900663, -1.378071, 1.0], [54.90898, -1.55279, 3.0], [54.91523, -1.379718, 1.0], [54.904613, -1.413412, 2.0], [54.886116, -1.363018, 1.0], [54.822187, -1.447915, 1.0], [54.899969, -1.500339, 1.0], [54.90453, -1.378635, 1.0], [54.81167, -1.467508, 2.0], [54.893582, -1.521154, 1.0], [54.913584, -1.534332, 1.0], [54.905178, -1.382368, 1.0], [54.882024, -1.425431, 2.0], [54.927499, -1.445381, 1.0], [54.885436, -1.38797, 1.0], [54.849861, -1.487875, 1.0], [54.901862, -1.402224, 1.0], [54.923305, -1.395041, 1.0], [54.849756, -1.387576, 1.0], [54.913477, -1.444638, 1.0], [54.906096, -1.404345, 1.0], [54.908651, -1.376232, 1.0], [54.895246, -1.427893, 1.0], [54.879706, -1.511811, 1.0], [54.884402, -1.415265, 2.0], [54.913477, -1.444638, 1.0], [54.904011, -1.457869, 1.0], [54.919222, -1.423965, 1.0], [54.866269, -1.365512, 1.0], [54.919751, -1.385265, 1.0], [54.9038, -1.412488, 1.0], [54.825977, -1.451287, 1.0], [54.871438, -1.410466, 1.0], [54.916289, -1.536797, 1.0], [54.87562, -1.401989, 1.0], [54.934312, -1.368343, 2.0], [54.926599, -1.388906, 1.0], [54.901921, -1.395985, 1.0], [54.912626, -1.416572, 1.0], [54.899429, -1.522488, 1.0], [54.88294, -1.374291, 2.0], [54.913039, -1.532779, 1.0], [54.910964, -1.508157, 1.0], [54.844982, -1.503043, 1.0], [54.902613, -1.446971, 1.0], [54.911277, -1.454963, 1.0], [54.889974, -1.540841, 1.0], [54.869721, -1.466743, 1.0], [54.813742, -1.489577, 1.0], [54.929057, -1.377321, 1.0], [54.890779, -1.453213, 1.0], [54.923123, -1.471654, 2.0], [54.908499, -1.381537, 1.0], [54.882967, -1.37959, 1.0], [54.871252, -1.373381, 1.0], [54.910282, -1.39664, 1.0], [54.904407, -1.389866, 1.0], [54.895682, -1.370663, 1.0], [54.868641, -1.372331, 2.0], [54.901512, -1.404101, 1.0], [54.841506, -1.467427, 1.0], [54.90816, -1.4614, 1.0], [54.903615, -1.393309, 2.0], [54.902038, -1.401442, 1.0], [54.863058, -1.443773, 1.0], [54.90171, -1.371973, 1.0], [54.924374, -1.393152, 1.0], [54.902091, -1.53696, 1.0], [54.904493, -1.389085, 1.0], [54.910034, -1.383074, 1.0], [54.906976, -1.382496, 1.0], [54.924759, -1.51938, 1.0], [54.863917, -1.435192, 1.0], [54.888016, -1.419266, 1.0], [54.900717, -1.530114, 1.0], [54.893237, -1.402664, 1.0], [54.890507, -1.452593, 1.0], [54.890057, -1.395539, 1.0], [54.893045, -1.400172, 1.0], [54.911072, -1.51268, 1.0], [54.897508, -1.394024, 1.0], [54.915984, -1.386727, 1.0], [54.925251, -1.425751, 1.0], [54.893355, -1.390189, 1.0], [54.839987, -1.469471, 1.0], [54.902518, -1.531185, 1.0], [54.877635, -1.510745, 1.0], [54.894342, -1.508828, 1.0], [54.890834, -1.465529, 1.0], [54.934407, -1.386758, 1.0], [54.877481, -1.36144, 1.0], [54.839898, -1.469628, 1.0], [54.917652, -1.517436, 1.0], [54.911653, -1.383205, 2.0], [54.89678, -1.448766, 1.0], [54.918705, -1.391678, 2.0], [54.906357, -1.460021, 1.0], [54.8941, -1.432587, 1.0], [54.869556, -1.358293, 1.0], [54.912351, -1.415328, 1.0], [54.904732, -1.400934, 1.0], [54.904405, -1.389554, 1.0], [54.928202, -1.404018, 1.0], [54.894021, -1.362269, 1.0], [54.894123, -1.457378, 1.0], [54.880243, -1.428885, 2.0], [54.873177, -1.398597, 1.0], [54.876321, -1.497202, 1.0], [54.887927, -1.419423, 1.0], [54.898643, -1.528267, 1.0], [54.902717, -1.375544, 1.0], [54.834442, -1.475771, 1.0], [54.930039, -1.450652, 1.0], [54.898741, -1.507839, 1.0], [54.88471, -1.386578, 1.0], [54.881005, -1.47844, 1.0], [54.886972, -1.407901, 1.0], [54.806384, -1.431483, 1.0], [54.865614, -1.414134, 1.0], [54.888679, -1.372019, 1.0], [54.864957, -1.446551, 1.0], [54.901633, -1.429362, 1.0], [54.918615, -1.489187, 1.0], [54.922463, -1.425323, 1.0], [54.874974, -1.41696, 1.0], [54.83903, -1.498133, 1.0], [54.867377, -1.425795, 1.0], [54.868094, -1.425317, 1.0], [54.844509, -1.497442, 1.0], [54.843126, -1.468028, 1.0], [54.928714, -1.380603, 1.0], [54.868645, -1.427803, 1.0], [54.897096, -1.366119, 1.0], [54.905641, -1.421663, 1.0], [54.893134, -1.43759, 1.0], [54.890321, -1.412841, 1.0], [54.909286, -1.395095, 1.0], [54.908936, -1.379191, 1.0], [54.914198, -1.445096, 1.0], [54.907217, -1.514754, 1.0], [54.912823, -1.523578, 2.0], [54.886465, -1.516562, 1.0], [54.847482, -1.382159, 1.0], [54.892033, -1.37758, 1.0], [54.897453, -1.419598, 1.0], [54.913566, -1.444481, 1.0], [54.918822, -1.379195, 1.0], [54.898334, -1.496149, 1.0], [54.927784, -1.429304, 2.0], [54.918077, -1.511347, 2.0], [54.888669, -1.463531, 1.0], [54.855835, -1.47674, 1.0], [54.906863, -1.41416, 1.0], [54.8691, -1.410188, 1.0], [54.898306, -1.448277, 1.0], [54.901872, -1.404095, 1.0], [54.929965, -1.379179, 1.0], [54.868007, -1.425942, 1.0], [54.901289, -1.395371, 1.0], [54.866172, -1.498731, 1.0], [54.926813, -1.452725, 1.0], [54.870213, -1.398953, 1.0], [54.873346, -1.396413, 1.0], [54.913009, -1.525135, 1.0], [54.922265, -1.460432, 1.0], [54.915797, -1.385325, 1.0], [54.924932, -1.415301, 1.0], [54.897198, -1.526569, 1.0], [54.910784, -1.530621, 1.0], [54.906118, -1.390464, 1.0], [54.904208, -1.38597, 2.0], [54.925771, -1.460853, 1.0], [54.932794, -1.370084, 1.0], [54.890257, -1.437318, 1.0], [54.808111, -1.43566, 1.0], [54.904586, -1.389707, 1.0], [54.916888, -1.405902, 1.0], [54.8906, -1.540054, 2.0], [54.904131, -1.388622, 1.0], [54.913802, -1.521226, 1.0], [54.811023, -1.443399, 1.0], [54.911304, -1.385394, 1.0], [54.906063, -1.415887, 1.0], [54.925389, -1.519684, 1.0], [54.923266, -1.443255, 2.0], [54.90261, -1.389893, 1.0], [54.903186, -1.518233, 1.0], [54.886583, -1.439552, 1.0], [54.895328, -1.508348, 1.0], [54.916626, -1.389213, 1.0], [54.902818, -1.395504, 1.0], [54.864057, -1.446096, 1.0], [54.914884, -1.382375, 1.0], [54.906627, -1.402621, 1.0], [54.889403, -1.372944, 1.0], [54.825889, -1.451756, 1.0], [54.859979, -1.500521, 2.0], [54.901833, -1.539926, 1.0], [54.918775, -1.552682, 1.0], [54.930562, -1.390562, 1.0], [54.927036, -1.423073, 2.0], [54.842985, -1.49824, 1.0], [54.895245, -1.427737, 1.0], [54.896314, -1.388897, 1.0], [54.878685, -1.526474, 1.0], [54.898737, -1.506747, 1.0], [54.875424, -1.417109, 1.0], [54.876649, -1.392, 1.0], [54.877066, -1.403682, 1.0], [54.877571, -1.361594, 1.0], [54.86507, -1.43206, 1.0], [54.889375, -1.421741, 1.0], [54.903891, -1.412799, 1.0], [54.890001, -1.459928, 1.0], [54.895438, -1.536257, 1.0], [54.918103, -1.434434, 1.0], [54.915489, -1.377686, 1.0], [54.911358, -1.396156, 1.0], [54.923394, -1.394884, 1.0], [54.87743, -1.404456, 1.0], [54.879414, -1.424533, 1.0], [54.866657, -1.485637, 1.0], [54.901646, -1.394742, 1.0], [54.814225, -1.455959, 1.0], [54.865454, -1.437196, 1.0], [54.906755, -1.558586, 2.0], [54.925734, -1.472868, 2.0], [54.876468, -1.391846, 1.0], [54.899978, -1.384787, 1.0], [54.908935, -1.378879, 1.0], [54.921795, -1.476352, 1.0], [54.916889, -1.406058, 2.0], [54.846899, -1.488536, 1.0], [54.922951, -1.396138, 1.0], [54.89224, -1.400963, 1.0], [54.902224, -1.440426, 1.0], [54.905743, -1.405598, 1.0], [54.923501, -1.380371, 1.0], [54.806487, -1.434282, 2.0], [54.907149, -1.399026, 1.0], [54.912531, -1.517966, 1.0], [54.904462, -1.45833, 1.0], [54.904692, -1.449594, 2.0], [54.916258, -1.387502, 1.0], [54.884335, -1.439115, 1.0], [54.86678, -1.432503, 1.0], [54.882669, -1.374139, 2.0], [54.904229, -1.39018, 1.0], [54.907017, -1.390606, 1.0], [54.893308, -1.436184, 1.0], [54.893147, -1.402665, 1.0], [54.902501, -1.4228, 1.0], [54.854728, -1.491085, 1.0], [54.903498, -1.387852, 2.0], [54.803474, -1.424212, 1.0], [54.905131, -1.5101, 1.0], [54.897362, -1.546058, 1.0], [54.885365, -1.534034, 1.0], [54.909851, -1.545294, 1.0], [54.924977, -1.387994, 1.0], [54.901199, -1.538686, 1.0], [54.926416, -1.370652, 1.0], [54.915405, -1.378935, 1.0], [54.907739, -1.557483, 1.0], [54.916317, -1.49842, 1.0], [54.843103, -1.462734, 1.0], [54.881274, -1.478437, 1.0], [54.926547, -1.433691, 1.0], [54.906473, -1.426642, 2.0], [54.907025, -1.558739, 1.0], [54.904487, -1.405928, 1.0], [54.926721, -1.472387, 1.0], [54.915524, -1.384706, 1.0], [54.905306, -1.4081, 2.0], [54.836954, -1.474649, 2.0], [54.865676, -1.446542, 1.0], [54.903573, -1.440564, 1.0], [54.905483, -1.407629, 1.0], [54.908808, -1.530956, 1.0], [54.856823, -1.476571, 1.0], [54.901334, -1.404415, 1.0], [54.902444, -1.392703, 1.0], [54.915797, -1.385325, 1.0], [54.895699, -1.534071, 1.0], [54.918615, -1.489187, 1.0], [54.924565, -1.452287, 2.0], [54.922298, -1.428446, 1.0], [54.910192, -1.396641, 1.0], [54.922032, -1.410351, 1.0], [54.917959, -1.404326, 1.0], [54.907301, -1.393565, 1.0], [54.92354, -1.444187, 1.0], [54.842643, -1.480959, 1.0], [54.864153, -1.447497, 1.0], [54.893504, -1.402036, 1.0], [54.904048, -1.389871, 1.0], [54.91177, -1.507368, 1.0], [54.904207, -1.385814, 2.0], [54.863859, -1.404344, 2.0], [54.917868, -1.404171, 1.0], [54.904031, -1.386596, 1.0], [54.904207, -1.385814, 1.0], [54.874304, -1.408554, 1.0], [54.90932, -1.459513, 1.0], [54.881978, -1.518175, 1.0], [54.896481, -1.386243, 1.0], [54.904289, -1.384253, 1.0], [54.911637, -1.519068, 1.0], [54.923862, -1.380678, 1.0], [54.872618, -1.451433, 1.0], [54.925834, -1.379711, 1.0], [54.857566, -1.441668, 1.0], [54.882334, -1.453795, 1.0], [54.833848, -1.463168, 1.0], [54.907597, -1.543448, 1.0], [54.895096, -1.51755, 1.0], [54.917778, -1.404172, 1.0], [54.858896, -1.478102, 1.0], [54.904136, -1.389558, 1.0], [54.889718, -1.456969, 1.0], [54.906073, -1.38173, 1.0], [54.89714, -1.429426, 1.0], [54.889718, -1.457125, 1.0], [54.897802, -1.380922, 1.0], [54.896896, -1.541542, 1.0], [54.886596, -1.368934, 1.0], [54.870677, -1.366378, 1.0], [54.872828, -1.400628, 1.0], [54.812813, -1.441974, 1.0], [54.903847, -1.385819, 1.0], [54.881388, -1.424037, 2.0], [54.893465, -1.376467, 2.0], [54.911004, -1.454187, 1.0], [54.919046, -1.552991, 1.0], [54.904198, -1.547697, 1.0], [54.887329, -1.425979, 1.0], [54.888325, -1.532597, 1.0], [54.890587, -1.412057, 1.0], [54.907358, -1.387014, 1.0], [54.891826, -1.42685, 1.0], [54.906362, -1.403561, 1.0], [54.913025, -1.529191, 1.0], [54.841697, -1.470071, 1.0], [54.918149, -1.406507, 1.0], [54.90588, -1.517577, 1.0], [54.907762, -1.414302, 1.0], [54.900338, -1.40287, 1.0], [54.915178, -1.551942, 1.0], [54.929056, -1.413213, 1.0], [54.807755, -1.436443, 1.0], [54.922777, -1.415645, 1.0], [54.914126, -1.374899, 1.0], [54.9222, -1.407852, 2.0], [54.874808, -1.500806, 1.0], [54.890178, -1.459457, 1.0], [54.922501, -1.4144, 1.0], [54.91523, -1.379718, 1.0], [54.900338, -1.40287, 1.0], [54.825215, -1.482584, 1.0], [54.867225, -1.492485, 1.0], [54.808658, -1.437208, 2.0], [54.937817, -1.368288, 1.0], [54.894895, -1.429613, 1.0], [54.87118, -1.376811, 1.0], [54.906176, -1.459867, 1.0], [54.906086, -1.459868, 1.0], [54.906086, -1.459712, 1.0], [54.906086, -1.459712, 1.0], [54.901928, -1.434816, 1.0], [54.890322, -1.412996, 1.0], [54.864053, -1.445317, 1.0], [54.877481, -1.361595, 1.0], [54.897401, -1.556505, 1.0], [54.893506, -1.402504, 1.0], [54.896224, -1.388898, 1.0], [54.902002, -1.537117, 1.0], [54.915909, -1.508565, 1.0], [54.902672, -1.384434, 1.0], [54.903055, -1.389106, 1.0], [54.90099, -1.407539, 1.0], [54.889678, -1.391647, 1.0], [54.845589, -1.476561, 2.0], [54.912639, -1.522332, 1.0], [54.903088, -1.452579, 2.0], [54.869308, -1.362348, 1.0], [54.892193, -1.37368, 1.0], [54.901798, -1.426085, 1.0], [54.92901, -1.385748, 1.0], [54.863967, -1.446098, 1.0], [54.885341, -1.551649, 2.0], [54.892335, -1.439628, 1.0], [54.87556, -1.408068, 1.0], [54.91932, -1.425836, 1.0], [54.893403, -1.437274, 1.0], [54.865708, -1.414912, 1.0], [54.917455, -1.430543, 1.0], [54.913476, -1.444482, 1.0], [54.895003, -1.37847, 1.0], [54.903414, -1.407036, 1.0], [54.866583, -1.448399, 1.0], [54.866383, -1.484706, 1.0], [54.926571, -1.438996, 1.0], [54.875062, -1.435504, 1.0], [54.90477, -1.427602, 1.0], [54.918129, -1.524451, 2.0], [54.907348, -1.460631, 1.0], [54.821285, -1.488237, 1.0], [54.904207, -1.385814, 2.0], [54.871624, -1.375869, 1.0], [54.876675, -1.434546, 1.0], [54.888192, -1.418484, 1.0], [54.895434, -1.429762, 1.0], [54.904011, -1.458025, 2.0], [54.850298, -1.506404, 1.0], [54.884929, -1.394525, 1.0], [54.909202, -1.414593, 1.0], [54.900573, -1.378072, 1.0], [54.904447, -1.38004, 1.0], [54.811023, -1.443399, 1.0], [54.92593, -1.380958, 1.0], [54.913561, -1.443545, 1.0], [54.908022, -1.376086, 1.0], [54.867315, -1.49264, 1.0], [54.93146, -1.390549, 1.0], [54.90081, -1.530893, 1.0], [54.906086, -1.459712, 1.0], [54.857306, -1.463792, 1.0], [54.903452, -1.414989, 1.0], [54.900428, -1.402869, 1.0], [54.904227, -1.389868, 1.0], [54.871764, -1.368075, 1.0], [54.892239, -1.458027, 1.0], [54.914691, -1.454917, 1.0], [54.899964, -1.364671, 1.0], [54.916348, -1.387657, 1.0], [54.90645, -1.481543, 1.0], [54.902786, -1.389266, 2.0], [54.911289, -1.52188, 1.0], [54.921879, -1.397403, 3.0], [54.881186, -1.47875, 1.0], [54.838652, -1.472603, 1.0], [54.895086, -1.432106, 1.0], [54.901056, -1.440443, 1.0], [54.905351, -1.380962, 1.0], [54.864236, -1.445938, 1.0], [54.899983, -1.441705, 2.0], [54.869261, -1.424989, 1.0], [54.881005, -1.47844, 1.0], [54.855836, -1.476896, 1.0], [54.918149, -1.406507, 1.0], [54.850623, -1.476807, 2.0], [54.886463, -1.539322, 1.0], [54.918669, -1.524757, 1.0], [54.920598, -1.512721, 1.0], [54.905263, -1.381431, 1.0], [54.926717, -1.561956, 1.0], [54.888736, -1.458541, 1.0], [54.90429, -1.384565, 1.0], [54.928198, -1.367659, 1.0], [54.865676, -1.446542, 1.0], [54.892777, -1.400488, 1.0], [54.919982, -1.377617, 1.0], [54.906114, -1.38984, 1.0], [54.927238, -1.390769, 1.0], [54.905592, -1.375499, 1.0], [54.860383, -1.41016, 1.0], [54.87463, -1.501275, 1.0], [54.91302, -1.527943, 1.0], [54.876271, -1.425045, 2.0], [54.918151, -1.406819, 1.0], [54.888648, -1.458854, 2.0], [54.895916, -1.456418, 1.0], [54.917948, -1.384045, 1.0], [54.901199, -1.538686, 1.0], [54.895189, -1.415888, 1.0], [54.876379, -1.391848, 1.0], [54.920562, -1.368247, 1.0], [54.915053, -1.380345, 1.0], [54.898015, -1.552288, 1.0], [54.906009, -1.386722, 1.0], [54.863942, -1.421481, 1.0], [54.871084, -1.430573, 1.0], [54.925683, -1.461166, 1.0], [54.80784, -1.435352, 1.0], [54.904672, -1.53038, 1.0], [54.915518, -1.383458, 1.0], [54.911432, -1.411285, 1.0], [54.905886, -1.519137, 1.0], [54.924283, -1.392998, 1.0], [54.91815, -1.406663, 1.0], [54.901831, -1.395831, 1.0], [54.876774, -1.498132, 2.0], [54.855139, -1.441546, 1.0], [54.922066, -1.436406, 1.0], [54.893334, -1.422619, 2.0], [54.885694, -1.368169, 2.0], [54.871025, -1.418108, 1.0], [54.904229, -1.39018, 3.0], [54.857531, -1.453819, 1.0], [54.928178, -1.436633, 1.0], [54.915504, -1.38065, 1.0], [54.894895, -1.429613, 1.0], [54.838083, -1.465759, 1.0], [54.901423, -1.404258, 1.0], [54.875209, -1.391554, 2.0], [54.81481, -1.487229, 1.0], [54.918668, -1.384346, 1.0], [54.926109, -1.455855, 2.0], [54.897327, -1.375939, 1.0], [54.913449, -1.383021, 1.0], [54.917708, -1.372348, 1.0], [54.901922, -1.539769, 1.0], [54.8762, -1.392006, 1.0], [54.91506, -1.544455, 2.0], [54.913279, -1.525288, 1.0], [54.901184, -1.534787, 1.0], [54.914032, -1.558038, 2.0], [54.907507, -1.380929, 1.0], [54.876199, -1.39185, 2.0], [54.812823, -1.424702, 1.0], [54.925917, -1.453205, 1.0], [54.873679, -1.428043, 1.0], [54.851432, -1.476797, 1.0], [54.908022, -1.376086, 1.0], [54.905394, -1.407786, 1.0], [54.916709, -1.370335, 1.0], [54.91144, -1.514703, 1.0], [54.901821, -1.39396, 1.0], [54.911272, -1.453871, 1.0], [54.929586, -1.449722, 1.0], [54.875108, -1.426308, 2.0], [54.902298, -1.399411, 1.0], [54.906207, -1.408554, 1.0], [54.919233, -1.426305, 2.0], [54.890305, -1.373553, 1.0], [54.905959, -1.514925, 1.0], [54.89035, -1.45774, 1.0], [54.884489, -1.473719, 1.0], [54.89035, -1.45774, 1.0], [54.908111, -1.376084, 1.0], [54.841782, -1.489846, 1.0], [54.925338, -1.388301, 3.0], [54.892653, -1.513526, 1.0], [54.919974, -1.51382, 1.0], [54.908607, -1.46077, 1.0], [54.91598, -1.385947, 1.0], [54.865533, -1.416005, 1.0], [54.867149, -1.495914, 1.0], [54.815345, -1.445363, 1.0], [54.908686, -1.382938, 1.0], [54.904697, -1.514004, 1.0], [54.875018, -1.42631, 1.0], [54.920629, -1.456397, 1.0], [54.905916, -1.422751, 1.0], [54.85238, -1.488466, 1.0], [54.88193, -1.424653, 1.0], [54.876951, -1.435945, 1.0], [54.928362, -1.437567, 2.0], [54.887422, -1.531516, 1.0], [54.905569, -1.406692, 1.0], [54.91815, -1.406663, 2.0], [54.923771, -1.380523, 2.0], [54.899954, -1.397886, 1.0], [54.881027, -1.423575, 1.0], [54.923395, -1.451991, 1.0], [54.861017, -1.430092, 1.0], [54.892088, -1.388337, 1.0], [54.905966, -1.51664, 1.0], [54.934766, -1.369116, 2.0], [54.896834, -1.384991, 2.0], [54.861902, -1.427275, 1.0], [54.983386, -1.443361, 2.0], [54.900778, -1.500329, 1.0], [54.831672, -1.458838, 1.0], [54.914968, -1.381282, 2.0], [54.916253, -1.442572, 2.0], [54.911114, -1.383369, 1.0], [54.898159, -1.455608, 1.0], [54.898346, -1.382005, 1.0], [54.918241, -1.406818, 1.0], [54.904968, -1.514313, 1.0], [54.885963, -1.368164, 1.0], [54.912013, -1.383355, 2.0], [54.888466, -1.458389, 2.0], [54.877135, -1.364095, 1.0], [54.866091, -1.365826, 1.0], [54.905097, -1.420735, 2.0], [54.888201, -1.401959, 1.0], [54.907043, -1.414157, 1.0], [54.877611, -1.404765, 1.0], [54.889892, -1.519639, 1.0], [54.883883, -1.365547, 1.0], [54.877693, -1.525551, 2.0], [54.896225, -1.389054, 1.0], [54.906067, -1.380483, 1.0], [54.8951, -1.416045, 1.0], [54.868585, -1.495429, 2.0], [54.879517, -1.408634, 1.0], [54.895265, -1.537974, 1.0], [54.91732, -1.524617, 1.0], [54.90182, -1.430919, 1.0], [54.922111, -1.408009, 1.0], [54.887422, -1.531516, 1.0], [54.905326, -1.376127, 1.0], [54.913454, -1.547437, 1.0], [54.899443, -1.441556, 1.0], [54.906882, -1.399654, 1.0], [54.896448, -1.397627, 1.0], [54.871135, -1.368085, 1.0], [54.902474, -1.398784, 1.0], [54.904621, -1.378945, 1.0], [54.93746, -1.368762, 1.0], [54.919406, -1.406177, 1.0], [54.924977, -1.387994, 1.0], [54.940684, -1.366526, 1.0], [54.900158, -1.384784, 1.0], [54.835027, -1.465644, 1.0], [54.900782, -1.439511, 2.0], [54.891581, -1.515098, 1.0], [54.936593, -1.392656, 1.0], [54.912995, -1.544946, 1.0], [54.861785, -1.440675, 1.0], [54.871725, -1.377893, 1.0], [54.875619, -1.401833, 1.0], [54.877494, -1.498279, 2.0], [54.843319, -1.470985, 1.0], [54.895358, -1.515676, 1.0], [54.913719, -1.522943, 1.0], [54.91318, -1.383181, 1.0], [54.897387, -1.370169, 1.0], [54.914706, -1.382846, 1.0], [54.892799, -1.369305, 2.0], [54.902863, -1.386614, 1.0], [54.889094, -1.365309, 1.0], [54.877495, -1.418014, 1.0], [54.917066, -1.405587, 1.0], [54.892777, -1.400488, 1.0], [54.890089, -1.459615, 1.0], [54.889113, -1.442479, 1.0], [54.9116, -1.487872, 1.0], [54.893856, -1.400472, 1.0], [54.900573, -1.378072, 1.0], [54.898653, -1.530918, 1.0], [54.90617, -1.419628, 2.0], [54.865672, -1.445607, 1.0], [54.925773, -1.461165, 2.0], [54.874813, -1.402313, 1.0], [54.877405, -1.41786, 1.0], [54.907975, -1.502423, 1.0], [54.83219, -1.474399, 1.0], [54.888793, -1.47148, 1.0], [54.871934, -1.383656, 3.0], [54.929029, -1.389493, 1.0], [54.913355, -1.545098, 1.0], [54.906602, -1.379695, 1.0], [54.884844, -1.413856, 1.0], [54.852381, -1.488622, 1.0], [54.909591, -1.459821, 1.0], [54.844439, -1.421138, 1.0], [54.811294, -1.443706, 1.0], [54.912035, -1.405817, 1.0], [54.918604, -1.445816, 1.0], [54.86687, -1.432502, 1.0], [54.888325, -1.532597, 1.0], [54.893591, -1.401411, 2.0], [54.913377, -1.504696, 1.0], [54.884844, -1.538873, 1.0], [54.908044, -1.542819, 1.0], [54.907546, -1.388571, 1.0], [54.820245, -1.476111, 1.0], [54.820415, -1.453542, 2.0], [54.909422, -1.462319, 1.0], [54.905437, -1.380337, 2.0], [54.915983, -1.386571, 1.0], [54.922952, -1.396294, 1.0], [54.862061, -1.504079, 1.0], [54.889629, -1.457126, 2.0], [54.907269, -1.387171, 1.0], [54.905174, -1.381588, 1.0], [54.901783, -1.368852, 1.0], [54.916327, -1.458951, 1.0], [54.864243, -1.447496, 1.0], [54.924784, -1.422013, 1.0], [54.908521, -1.461707, 1.0], [54.921882, -1.380084, 1.0], [54.874849, -1.391403, 1.0], [54.918865, -1.552837, 1.0], [54.902878, -1.389577, 1.0], [54.843932, -1.467395, 1.0], [54.866711, -1.364259, 1.0], [54.926672, -1.441335, 1.0], [54.914216, -1.374898, 1.0], [54.909146, -1.460919, 2.0], [54.884954, -1.456877, 1.0], [54.901922, -1.539769, 2.0], [54.925086, -1.448223, 1.0], [54.874034, -1.390325, 1.0], [54.9016, -1.403787, 1.0], [54.905145, -1.450367, 1.0], [54.893285, -1.376469, 1.0], [54.925176, -1.448378, 1.0], [54.891825, -1.426695, 1.0], [54.890779, -1.453213, 1.0], [54.925919, -1.396718, 1.0], [54.872052, -1.508008, 1.0], [54.913563, -1.443857, 2.0], [54.874127, -1.390947, 1.0], [54.921198, -1.369485, 1.0], [54.907542, -1.387791, 1.0], [54.887326, -1.406804, 1.0], [54.911672, -1.551825, 1.0], [54.866707, -1.497478, 1.0], [54.867487, -1.357858, 2.0], [54.918269, -1.394336, 1.0], [54.928869, -1.536496, 1.0], [54.901424, -1.404414, 1.0], [54.876977, -1.403839, 1.0], [54.902528, -1.489078, 1.0], [54.900609, -1.385245, 1.0], [54.900463, -1.391797, 1.0], [54.908112, -1.37624, 1.0], [54.910934, -1.383216, 1.0], [54.929099, -1.385591, 1.0], [54.85485, -1.418185, 3.0], [54.927051, -1.389367, 1.0], [54.899425, -1.399921, 1.0], [54.891455, -1.387567, 1.0], [54.893016, -1.537376, 1.0], [54.905635, -1.459406, 2.0], [54.871302, -1.500537, 1.0], [54.884895, -1.52874, 2.0], [54.839991, -1.470405, 1.0], [54.939349, -1.369045, 1.0], [54.924931, -1.415145, 1.0], [54.900604, -1.439825, 1.0], [54.908762, -1.380285, 3.0], [54.908111, -1.375928, 1.0], [54.858779, -1.451465, 1.0], [54.90515, -1.514935, 1.0], [54.911433, -1.512987, 2.0], [54.910124, -1.383072, 1.0], [54.911433, -1.512987, 1.0], [54.820023, -1.466464, 1.0], [54.897899, -1.437991, 1.0], [54.902891, -1.534768, 1.0], [54.874446, -1.40076, 1.0], [54.920984, -1.398196, 1.0], [54.919081, -1.377163, 1.0], [54.852202, -1.48878, 1.0], [54.919836, -1.40227, 1.0], [54.902689, -1.387708, 1.0], [54.929723, -1.480931, 1.0], [54.892077, -1.442126, 2.0], [54.907528, -1.460629, 1.0], [54.888149, -1.533534, 2.0], [54.886552, -1.413831, 1.0], [54.904369, -1.38238, 1.0], [54.912538, -1.519681, 1.0], [54.885337, -1.42289, 1.0], [54.888294, -1.402581, 1.0], [54.881275, -1.478593, 1.0], [54.902002, -1.537117, 1.0], [54.872304, -1.403908, 1.0], [54.893055, -1.402199, 1.0], [54.900752, -1.377913, 1.0], [54.919474, -1.547369, 1.0], [54.908864, -1.382624, 1.0], [54.901733, -1.394273, 1.0], [54.890178, -1.459457, 1.0], [54.886677, -1.421156, 1.0], [54.912818, -1.522174, 1.0], [54.852381, -1.488622, 1.0], [54.843126, -1.468028, 1.0], [54.914013, -1.4061, 1.0], [54.890411, -1.412839, 1.0], [54.888456, -1.381065, 1.0], [54.917153, -1.404962, 1.0], [54.89041, -1.412527, 1.0], [54.805385, -1.429164, 1.0], [54.888402, -1.529322, 1.0], [54.889712, -1.519641, 2.0], [54.86678, -1.432503, 1.0], [54.877321, -1.438278, 1.0], [54.861876, -1.403127, 1.0], [54.89857, -1.556648, 2.0], [54.911288, -1.521568, 1.0], [54.880333, -1.42904, 1.0], [54.869737, -1.358601, 1.0], [54.887834, -1.418801, 1.0], [54.876454, -1.37143, 1.0], [54.911996, -1.38008, 1.0], [54.86288, -1.388156, 1.0], [54.923392, -1.451211, 1.0], [54.918097, -1.378114, 1.0], [54.895401, -1.42259, 1.0], [54.888845, -1.462749, 1.0], [54.912719, -1.380849, 2.0], [54.939519, -1.367325, 2.0], [54.918704, -1.48903, 1.0], [54.872036, -1.368538, 1.0], [54.904633, -1.381285, 1.0], [54.906954, -1.396066, 1.0], [54.880154, -1.429042, 1.0], [54.906927, -1.390608, 1.0], [54.916979, -1.406212, 2.0], [54.877226, -1.364249, 2.0], [54.887174, -1.514059, 2.0], [54.89028, -1.550659, 1.0], [54.902621, -1.489857, 1.0], [54.894232, -1.403896, 1.0], [54.898429, -1.435957, 1.0], [54.92637, -1.397023, 2.0], [54.906222, -1.513206, 1.0], [54.916708, -1.370179, 1.0], [54.915014, -1.372701, 1.0], [54.876477, -1.513409, 1.0], [54.880736, -1.478599, 1.0], [54.912617, -1.37851, 1.0], [54.887331, -1.531361, 1.0], [54.84521, -1.47205, 1.0], [54.86485, -1.483323, 1.0], [54.905959, -1.514925, 1.0], [54.888175, -1.396659, 1.0], [54.90592, -1.404971, 2.0], [54.901987, -1.533374, 1.0], [54.900796, -1.386646, 1.0], [54.846895, -1.466733, 1.0], [54.90068, -1.381501, 1.0], [54.889385, -1.386975, 1.0], [54.87634, -1.402134, 2.0], [54.894124, -1.437888, 1.0], [54.924154, -1.525628, 1.0], [54.911474, -1.383363, 1.0], [54.860679, -1.397381, 1.0], [54.905264, -1.381587, 1.0], [54.904229, -1.39018, 1.0], [54.926109, -1.456011, 1.0], [54.913833, -1.444009, 1.0], [54.906007, -1.404502, 1.0], [54.894408, -1.52551, 1.0], [54.928363, -1.437879, 1.0], [54.873411, -1.428514, 1.0], [54.923536, -1.387392, 1.0], [54.901565, -1.540397, 2.0], [54.867225, -1.492485, 1.0], [54.899458, -1.388537, 1.0], [54.903226, -1.528214, 1.0], [54.906092, -1.503382, 1.0], [54.8848, -1.386577, 1.0], [54.922511, -1.38023, 1.0], [54.887628, -1.413347, 1.0], [54.89798, -1.380607, 2.0], [54.877603, -1.525552, 1.0], [54.889025, -1.462903, 1.0], [54.876747, -1.358646, 2.0], [54.935296, -1.384872, 1.0], [54.90423, -1.390336, 2.0], [54.891873, -1.520707, 1.0], [54.911364, -1.454494, 1.0], [54.821488, -1.452282, 1.0], [54.894004, -1.450987, 1.0], [54.883389, -1.428997, 1.0], [54.91819, -1.433808, 1.0], [54.87566, -1.391859, 1.0], [54.906448, -1.40278, 1.0], [54.91499, -1.526048, 1.0], [54.878132, -1.419564, 1.0], [54.886869, -1.369553, 1.0], [54.895175, -1.537975, 2.0], [54.87163, -1.451447, 1.0], [54.866745, -1.425025, 1.0], [54.806487, -1.434282, 1.0], [54.901422, -1.36839, 1.0], [54.816825, -1.454524, 1.0], [54.897452, -1.419442, 1.0], [54.933542, -1.375847, 1.0], [54.913351, -1.381463, 1.0], [54.914678, -1.377231, 1.0], [54.90843, -1.461553, 1.0], [54.903676, -1.387537, 1.0], [54.904599, -1.410449, 1.0], [54.875148, -1.49597, 2.0], [54.856805, -1.472522, 1.0], [54.891469, -1.408614, 1.0], [54.904229, -1.39018, 1.0], [54.844041, -1.471754, 1.0], [54.898038, -1.429257, 1.0], [54.904047, -1.389715, 1.0], [54.904607, -1.513849, 1.0], [54.906931, -1.391387, 1.0], [54.901833, -1.539926, 1.0], [54.857086, -1.47501, 1.0], [54.9038, -1.412644, 1.0], [54.915876, -1.38314, 1.0], [54.926988, -1.37704, 1.0], [54.918239, -1.406506, 1.0], [54.917153, -1.404962, 1.0], [54.89868, -1.37701, 1.0], [54.889982, -1.436075, 1.0], [54.895264, -1.537818, 1.0], [54.914718, -1.525427, 1.0], [54.906041, -1.513052, 1.0], [54.913733, -1.385825, 1.0], [54.896889, -1.41446, 1.0], [54.919824, -1.399774, 1.0], [54.87527, -1.403865, 1.0], [54.899443, -1.403663, 1.0], [54.885155, -1.422425, 2.0], [54.903604, -1.5332, 1.0], [54.908711, -1.464044, 1.0], [54.915268, -1.551941, 1.0], [54.84226, -1.496847, 2.0], [54.855836, -1.476896, 1.0], [54.898983, -1.401487, 1.0], [54.92621, -1.438533, 1.0], [54.897367, -1.420379, 2.0], [54.87575, -1.392013, 1.0], [54.903877, -1.391745, 1.0], [54.900172, -1.44373, 1.0], [54.861824, -1.449087, 1.0], [54.899791, -1.401319, 1.0], [54.80379, -1.434009, 1.0], [54.914013, -1.4061, 1.0], [54.88908, -1.416288, 1.0], [54.910574, -1.383065, 1.0], [54.911405, -1.40567, 1.0], [54.852471, -1.488621, 1.0], [54.833208, -1.481236, 1.0], [54.912927, -1.442462, 1.0], [54.890549, -1.368716, 1.0], [54.89192, -1.390834, 1.0], [54.90638, -1.530672, 1.0], [54.90621, -1.488408, 1.0], [54.904041, -1.388624, 1.0], [54.871724, -1.377737, 1.0], [54.919317, -1.406334, 1.0], [54.919233, -1.426305, 1.0], [54.896297, -1.441288, 1.0], [54.912626, -1.416572, 1.0], [54.900207, -1.537761, 1.0], [54.869646, -1.358291, 1.0], [54.812733, -1.424703, 2.0], [54.919824, -1.39993, 1.0], [54.907662, -1.393872, 1.0], [54.905676, -1.511653, 1.0], [54.911653, -1.383205, 1.0], [54.901711, -1.426866, 2.0], [54.92485, -1.519691, 1.0], [54.908846, -1.540938, 1.0], [54.881901, -1.382101, 1.0], [54.919317, -1.406334, 1.0], [54.898692, -1.415526, 1.0], [54.918095, -1.516027, 1.0], [54.906434, -1.381881, 2.0], [54.886416, -1.368781, 1.0], [54.933897, -1.392697, 1.0], [54.909064, -1.462636, 1.0], [54.925176, -1.448378, 1.0], [54.89192, -1.390678, 1.0], [54.850691, -1.394726, 1.0], [54.863972, -1.447344, 2.0], [54.904287, -1.383941, 1.0], [54.884604, -1.439112, 1.0], [54.899782, -1.381671, 1.0], [54.85771, -1.453661, 2.0], [54.922216, -1.430163, 1.0], [54.859871, -1.434937, 1.0], [54.877392, -1.361597, 1.0], [54.860123, -1.450512, 1.0], [54.907394, -1.394188, 2.0], [54.925086, -1.448223, 2.0], [54.90398, -1.412642, 1.0], [54.916496, -1.498418, 1.0], [54.869218, -1.434962, 1.0], [54.934853, -1.368647, 1.0], [54.895817, -1.379393, 2.0], [54.85771, -1.453505, 1.0], [54.927127, -1.423384, 1.0], [54.888845, -1.462749, 1.0], [54.911909, -1.455735, 1.0], [54.896536, -1.54139, 1.0], [54.912826, -1.524202, 1.0], [54.870419, -1.462059, 1.0], [54.932547, -1.448745, 1.0], [54.893003, -1.428705, 1.0], [54.902091, -1.53696, 1.0], [54.902565, -1.398939, 1.0], [54.882292, -1.425115, 2.0], [54.865619, -1.415069, 1.0], [54.905795, -1.435386, 1.0], [54.895862, -1.444569, 1.0], [54.901798, -1.426085, 1.0], [54.895301, -1.402009, 1.0], [54.902155, -1.388808, 1.0], [54.89035, -1.457584, 1.0], [54.885606, -1.550243, 1.0], [54.932003, -1.391321, 1.0], [54.842984, -1.498084, 1.0], [54.90138, -1.539151, 1.0], [54.895685, -1.388906, 1.0], [54.91788, -1.406511, 1.0], [54.856947, -1.424541, 1.0], [54.887899, -1.538682, 1.0], [54.808204, -1.436281, 2.0], [54.884049, -1.416673, 1.0], [54.816779, -1.485181, 1.0], [54.862103, -1.431634, 1.0], [54.907177, -1.386705, 1.0], [54.917708, -1.372348, 1.0], [54.888194, -1.418951, 1.0], [54.878908, -1.376691, 1.0], [54.878247, -1.370467, 1.0], [54.886552, -1.413831, 1.0], [54.877391, -1.361441, 1.0], [54.870092, -1.429808, 1.0], [54.890412, -1.412995, 2.0], [54.888742, -1.402263, 1.0], [54.914603, -1.542432, 1.0], [54.836059, -1.475439, 1.0], [54.899462, -1.389317, 1.0], [54.901833, -1.539926, 1.0], [54.85771, -1.453661, 1.0], [54.841645, -1.500125, 1.0], [54.877135, -1.417864, 1.0], [54.902695, -1.388956, 1.0], [54.918793, -1.409618, 1.0], [54.869725, -1.467678, 1.0], [54.896039, -1.506312, 1.0], [54.904952, -1.409197, 2.0], [54.930571, -1.3748, 1.0], [54.915338, -1.38346, 1.0], [54.873336, -1.492409, 1.0], [54.922726, -1.387092, 1.0], [54.876649, -1.392, 1.0], [54.902002, -1.537117, 1.0], [54.871837, -1.382255, 2.0], [54.818536, -1.455435, 1.0], [54.867957, -1.495593, 1.0], [54.92485, -1.519691, 1.0], [54.820518, -1.477041, 2.0], [54.843216, -1.468027, 1.0], [54.90193, -1.435128, 2.0], [54.914108, -1.445097, 1.0], [54.885155, -1.422425, 1.0], [54.878813, -1.513381, 1.0], [54.891762, -1.377272, 1.0], [54.907889, -1.38529, 1.0], [54.888502, -1.531971, 1.0], [54.908503, -1.382317, 1.0], [54.908022, -1.376086, 1.0], [54.90638, -1.530672, 1.0], [54.895682, -1.370663, 1.0], [54.923014, -1.532975, 1.0], [54.927408, -1.388894, 1.0], [54.885065, -1.422426, 1.0], [54.871811, -1.377268, 1.0], [54.901865, -1.440431, 1.0], [54.86678, -1.432503, 1.0], [54.841433, -1.471321, 1.0], [54.924993, -1.4476, 1.0], [54.880292, -1.479852, 1.0], [54.892776, -1.400332, 1.0], [54.8941, -1.432587, 3.0], [54.881027, -1.423575, 1.0], [54.902299, -1.399567, 1.0], [54.88823, -1.407726, 1.0], [54.886868, -1.369397, 1.0], [54.893055, -1.402199, 1.0], [54.894301, -1.457064, 1.0], [54.900641, -1.409728, 1.0], [54.907733, -1.531748, 1.0], [54.859872, -1.496472, 1.0], [54.898942, -1.491151, 2.0], [54.893748, -1.434307, 2.0], [54.883006, -1.42417, 1.0], [54.907308, -1.413217, 1.0], [54.903861, -1.38847, 2.0], [54.894805, -1.429615, 1.0], [54.925084, -1.447755, 1.0], [54.889822, -1.460086, 1.0], [54.889012, -1.402259, 1.0], [54.912926, -1.527008, 2.0], [54.917779, -1.404328, 1.0], [54.850893, -1.47696, 1.0], [54.885784, -1.368167, 1.0], [54.903495, -1.405319, 1.0], [54.919317, -1.406334, 2.0], [54.908936, -1.540937, 1.0], [54.908597, -1.383096, 1.0], [54.886811, -1.393405, 1.0], [54.864056, -1.445941, 1.0], [54.894896, -1.429925, 1.0], [54.904993, -1.381435, 1.0], [54.881007, -1.478908, 1.0], [54.937996, -1.368129, 1.0], [54.890321, -1.412841, 1.0], [54.889188, -1.459003, 1.0], [54.807476, -1.434424, 2.0], [54.916602, -1.524781, 1.0], [54.893311, -1.436964, 1.0], [54.902963, -1.38864, 1.0], [54.884618, -1.4229, 1.0], [54.880892, -1.516317, 1.0], [54.870334, -1.505536, 1.0], [54.902017, -1.434503, 1.0], [54.864063, -1.447499, 1.0], [54.851432, -1.476797, 2.0], [54.919632, -1.379494, 1.0], [54.934589, -1.387224, 1.0], [54.865184, -1.4372, 1.0], [54.926109, -1.456011, 1.0], [54.905534, -1.49871, 1.0], [54.911613, -1.512985, 1.0], [54.848838, -1.479634, 1.0], [54.911463, -1.520474, 1.0], [54.917439, -1.446456, 1.0], [54.906014, -1.484511, 1.0], [54.908701, -1.461705, 1.0], [54.887421, -1.53136, 1.0], [54.922298, -1.42829, 1.0], [54.89448, -1.399527, 1.0], [54.884703, -1.367717, 1.0], [54.878581, -1.522891, 1.0], [54.903652, -1.458029, 1.0], [54.878816, -1.431243, 1.0], [54.885065, -1.422426, 1.0], [54.851809, -1.402809, 1.0], [54.832905, -1.473456, 1.0], [54.908471, -1.376079, 1.0], [54.885691, -1.367545, 1.0], [54.855224, -1.480954, 1.0], [54.9016, -1.403787, 1.0], [54.896378, -1.401682, 1.0], [54.917159, -1.40621, 1.0], [54.906927, -1.390608, 1.0], [54.911463, -1.520474, 1.0], [54.843666, -1.468333, 1.0], [54.881537, -1.381171, 1.0], [54.905874, -1.516174, 1.0], [54.878816, -1.431243, 1.0], [54.901744, -1.540239, 1.0], [54.908123, -1.414453, 1.0], [54.928646, -1.384817, 1.0], [54.903244, -1.427936, 1.0], [54.901832, -1.53977, 1.0], [54.905201, -1.527879, 1.0], [54.911583, -1.551826, 2.0], [54.81499, -1.487072, 1.0], [54.906376, -1.388276, 1.0], [54.904227, -1.389868, 1.0], [54.90359, -1.406253, 1.0], [54.890374, -1.443085, 2.0], [54.88852, -1.411931, 1.0], [54.908378, -1.375456, 1.0], [54.910196, -1.397421, 1.0], [54.918941, -1.384965, 1.0], [54.908426, -1.548741, 1.0], [54.928082, -1.455048, 1.0], [54.843571, -1.467088, 1.0], [54.908792, -1.462016, 1.0], [54.857621, -1.453662, 1.0], [54.902134, -1.5485, 1.0], [54.894895, -1.429613, 1.0], [54.900711, -1.405672, 1.0], [54.922809, -1.526424, 1.0], [54.905823, -1.503541, 1.0], [54.906669, -1.559834, 1.0], [54.842775, -1.469902, 1.0], [54.904118, -1.385971, 1.0], [54.869646, -1.358447, 1.0], [54.886194, -1.377982, 1.0], [54.878909, -1.376847, 1.0], [54.886507, -1.368935, 1.0], [54.907138, -1.474203, 1.0], [54.809453, -1.434396, 1.0], [54.918423, -1.371556, 2.0], [54.884886, -1.422584, 3.0], [54.926192, -1.434788, 1.0], [54.876675, -1.434546, 1.0], [54.913077, -1.416877, 1.0], [54.917653, -1.434284, 1.0], [54.853334, -1.459639, 1.0], [54.901578, -1.456498, 1.0], [54.866133, -1.448093, 1.0], [54.874057, -1.45157, 1.0], [54.915283, -1.446641, 1.0], [54.892239, -1.458183, 1.0], [54.928576, -1.465029, 1.0], [54.902001, -1.536961, 1.0], [54.880937, -1.423576, 1.0], [54.891291, -1.390844, 1.0], [54.866742, -1.484545, 1.0], [54.906356, -1.459865, 1.0], [54.89985, -1.395081, 1.0], [54.886596, -1.550856, 1.0], [54.904293, -1.385033, 1.0], [54.903078, -1.411875, 2.0], [54.913282, -1.441365, 1.0], [54.917834, -1.434749, 1.0], [54.914525, -1.382537, 1.0], [54.917842, -1.543488, 1.0], [54.911743, -1.383359, 1.0], [54.888015, -1.41911, 1.0], [54.886883, -1.426765, 1.0], [54.890069, -1.43545, 1.0], [54.906073, -1.38173, 1.0], [54.893273, -1.533943, 1.0], [54.926327, -1.370809, 1.0], [54.868676, -1.495739, 1.0], [54.868945, -1.36173, 1.0], [54.916849, -1.380161, 1.0], [54.908096, -1.467328, 1.0], [54.887111, -1.544303, 1.0], [54.88471, -1.386734, 1.0], [54.913058, -1.53777, 1.0], [54.90398, -1.412642, 1.0], [54.886054, -1.368319, 1.0], [54.906319, -1.413232, 1.0], [54.883728, -1.424627, 1.0], [54.915143, -1.380343, 1.0], [54.911142, -1.407078, 1.0], [54.903315, -1.387231, 1.0], [54.853536, -1.485648, 1.0], [54.90843, -1.461553, 1.0], [54.919174, -1.413981, 1.0], [54.903263, -1.394718, 1.0], [54.864848, -1.483011, 2.0], [54.880486, -1.423271, 1.0], [54.915673, -1.378619, 1.0], [54.802417, -1.489098, 1.0], [54.924499, -1.382384, 1.0], [54.921171, -1.399598, 1.0], [54.905243, -1.395312, 1.0], [54.903278, -1.435109, 2.0], [54.861265, -1.353906, 1.0], [54.902011, -1.539612, 1.0], [54.875858, -1.51591, 2.0], [54.839137, -1.46014, 2.0], [54.809933, -1.440924, 1.0], [54.915496, -1.37909, 1.0], [54.902363, -1.394419, 2.0], [54.903958, -1.389873, 1.0], [54.901776, -1.402849, 1.0], [54.89795, -1.535136, 1.0], [54.905617, -1.380334, 2.0], [54.908975, -1.462793, 1.0], [54.924797, -1.387997, 1.0], [54.897417, -1.376094, 1.0], [54.865676, -1.446542, 1.0], [54.895189, -1.415888, 1.0], [54.872916, -1.400315, 1.0], [54.898982, -1.401331, 1.0], [54.903758, -1.385977, 1.0], [54.903979, -1.450851, 1.0], [54.926102, -1.43479, 1.0], [54.887085, -1.376565, 1.0], [54.922061, -1.380081, 1.0], [54.908485, -1.54063, 1.0], [54.867866, -1.495438, 1.0], [54.894013, -1.433212, 1.0], [54.896154, -1.411041, 1.0], [54.899954, -1.398042, 1.0], [54.912911, -1.522953, 1.0], [54.909119, -1.541871, 1.0], [54.890678, -1.412212, 1.0], [54.871136, -1.441792, 1.0], [54.873857, -1.427729, 1.0], [54.917868, -1.404171, 1.0], [54.911227, -1.405985, 1.0], [54.890097, -1.385561, 1.0], [54.932724, -1.391622, 1.0], [54.876468, -1.391846, 1.0], [54.925947, -1.366914, 1.0], [54.914346, -1.382696, 1.0], [54.913296, -1.444485, 1.0], [54.890779, -1.453213, 1.0], [54.861863, -1.400479, 1.0], [54.871438, -1.410466, 1.0], [54.905391, -1.507758, 1.0], [54.892911, -1.428238, 1.0], [54.898787, -1.455288, 1.0], [54.867957, -1.495593, 1.0], [54.906691, -1.397318, 1.0], [54.918399, -1.384506, 1.0], [54.905591, -1.490755, 1.0], [54.884084, -1.528126, 1.0], [54.916406, -1.498419, 1.0], [54.929614, -1.380901, 1.0], [54.868319, -1.362363, 2.0], [54.844702, -1.419732, 2.0], [54.904032, -1.386752, 1.0], [54.87271, -1.451744, 1.0], [54.903758, -1.385977, 1.0], [54.919153, -1.42849, 1.0], [54.897899, -1.437991, 2.0], [54.902102, -1.539767, 1.0], [54.913069, -1.54089, 1.0], [54.89554, -1.539374, 1.0], [54.912416, -1.511572, 1.0], [54.929057, -1.377321, 1.0], [54.925773, -1.461165, 1.0], [54.881095, -1.478595, 2.0], [54.877791, -1.404918, 1.0], [54.878516, -1.424702, 1.0], [54.906931, -1.391387, 1.0], [54.8694, -1.435427, 1.0], [54.906433, -1.381725, 1.0], [54.905742, -1.405442, 1.0], [54.904369, -1.38238, 1.0], [54.889374, -1.421429, 1.0], [54.889332, -1.431563, 2.0], [54.923629, -1.444186, 2.0], [54.817437, -1.450781, 1.0], [54.886486, -1.457792, 1.0], [54.869826, -1.430591, 1.0], [54.907679, -1.415707, 2.0], [54.898553, -1.44344, 2.0], [54.864243, -1.447496, 1.0], [54.881359, -1.381485, 1.0], [54.919829, -1.400866, 2.0], [54.902693, -1.388644, 1.0], [54.881447, -1.381172, 1.0], [54.925266, -1.448377, 1.0], [54.909021, -1.378254, 1.0], [54.92602, -1.456168, 3.0], [54.919754, -1.403831, 1.0], [54.859704, -1.47778, 1.0], [54.883845, -1.430393, 1.0], [54.893237, -1.402508, 1.0], [54.905354, -1.381585, 2.0], [54.889135, -1.427824, 2.0], [54.904208, -1.38597, 1.0], [54.873087, -1.436155, 1.0], [54.850374, -1.481639, 2.0], [54.914616, -1.382847, 1.0], [54.929527, -1.381527, 1.0], [54.895439, -1.536413, 1.0], [54.870337, -1.424506, 1.0], [54.901134, -1.4997, 1.0], [54.921619, -1.456696, 2.0], [54.893057, -1.40251, 1.0], [54.87483, -1.370053, 1.0], [54.820539, -1.461166, 1.0], [54.896629, -1.38016, 1.0], [54.8938, -1.389402, 1.0], [54.91177, -1.507368, 2.0], [54.922643, -1.406597, 1.0], [54.876559, -1.489719, 2.0], [54.863973, -1.4475, 1.0], [54.902843, -1.419052, 1.0], [54.884976, -1.422583, 1.0], [54.845132, -1.474698, 1.0], [54.922803, -1.440453, 1.0], [54.892006, -1.390053, 1.0], [54.844401, -1.471905, 1.0], [54.908189, -1.428334, 1.0], [54.931275, -1.371824, 2.0], [54.904495, -1.389397, 1.0], [54.927051, -1.389367, 1.0], [54.915053, -1.380345, 1.0], [54.877792, -1.405074, 2.0], [54.811746, -1.444323, 1.0], [54.92063, -1.399294, 1.0], [54.8705, -1.460032, 1.0], [54.888919, -1.420344, 1.0], [54.929495, -1.449567, 1.0], [54.881269, -1.544057, 1.0], [54.903744, -1.43869, 1.0], [54.872665, -1.386138, 1.0], [54.901922, -1.539769, 1.0], [54.898534, -1.50098, 1.0], [54.902683, -1.386617, 1.0], [54.885875, -1.368478, 1.0], [54.897803, -1.381233, 1.0], [54.848117, -1.38324, 2.0], [54.866959, -1.432345, 1.0], [54.922867, -1.415799, 3.0], [54.905098, -1.420891, 2.0], [54.881091, -1.544527, 1.0], [54.89, -1.459772, 1.0], [54.839651, -1.454527, 2.0], [54.913683, -1.375998, 1.0], [54.900753, -1.378069, 1.0], [54.927765, -1.464571, 1.0], [54.921657, -1.445149, 1.0], [54.877315, -1.417861, 2.0], [54.925125, -1.4373, 1.0], [54.898146, -1.395886, 1.0], [54.907334, -1.382179, 1.0], [54.906128, -1.490437, 1.0], [54.904285, -1.383473, 1.0], [54.922958, -1.415954, 2.0], [54.915642, -1.531968, 1.0], [54.806383, -1.431328, 1.0], [54.878132, -1.419564, 1.0], [54.861174, -1.353752, 1.0], [54.808929, -1.437671, 1.0], [54.919732, -1.399463, 1.0], [54.902957, -1.387392, 1.0], [54.8723, -1.384897, 1.0], [54.926827, -1.455845, 1.0], [54.930583, -1.376985, 1.0], [54.819788, -1.474405, 2.0], [54.924718, -1.446356, 1.0], [54.904229, -1.39018, 1.0], [54.835839, -1.487119, 1.0], [54.889643, -1.384632, 2.0], [54.913835, -1.444321, 1.0], [54.843664, -1.467866, 1.0], [54.916799, -1.406059, 1.0], [54.925593, -1.461167, 1.0], [54.914948, -1.377382, 1.0], [54.884876, -1.366467, 1.0], [54.89059, -1.451033, 1.0], [54.903471, -1.45772, 1.0], [54.897852, -1.532954, 1.0], [54.86678, -1.432503, 1.0], [54.85238, -1.488466, 1.0], [54.866854, -1.448551, 1.0], [54.916166, -1.387192, 1.0], [54.890779, -1.453213, 1.0], [54.845386, -1.471113, 1.0], [54.846862, -1.479971, 1.0], [54.915154, -1.382527, 2.0], [54.893227, -1.458013, 1.0], [54.838646, -1.45096, 1.0], [54.906634, -1.368465, 1.0], [54.890056, -1.452288, 1.0], [54.854839, -1.416004, 1.0], [54.868936, -1.493399, 1.0], [54.887567, -1.458401, 1.0], [54.919547, -1.398374, 1.0], [54.880575, -1.423114, 1.0], [54.898179, -1.402435, 1.0], [54.873319, -1.510174, 1.0], [54.919824, -1.399774, 1.0], [54.904293, -1.385033, 1.0], [54.889808, -1.456968, 1.0], [54.876941, -1.396515, 2.0], [54.914553, -1.406248, 2.0], [54.889624, -1.39882, 1.0], [54.897417, -1.411958, 1.0], [54.899368, -1.388539, 1.0], [54.936292, -1.36878, 1.0], [54.904292, -1.384877, 2.0], [54.852381, -1.488622, 2.0], [54.890837, -1.372142, 2.0], [54.902151, -1.506549, 2.0], [54.90941, -1.459668, 1.0], [54.882202, -1.425117, 1.0], [54.923739, -1.5584, 1.0], [54.901719, -1.510765, 1.0], [54.902804, -1.535392, 1.0], [54.889398, -1.531337, 1.0], [54.890096, -1.385405, 1.0], [54.871136, -1.441792, 1.0], [54.932875, -1.368366, 2.0], [54.906269, -1.481233, 1.0], [54.911474, -1.383364, 1.0], [54.88184, -1.424498, 1.0], [54.905195, -1.503705, 1.0], [54.918103, -1.434434, 1.0], [54.905201, -1.527879, 1.0], [54.899818, -1.388688, 1.0], [54.880245, -1.55872, 1.0], [54.880647, -1.478912, 1.0], [54.928533, -1.45551, 1.0], [54.923912, -1.427643, 1.0], [54.863315, -1.403262, 1.0], [54.895732, -1.398261, 1.0], [54.913535, -1.545096, 1.0], [54.880647, -1.478912, 1.0], [54.897713, -1.381235, 1.0], [54.92751, -1.447722, 2.0], [54.863972, -1.447344, 1.0], [54.919406, -1.406177, 1.0], [54.893403, -1.521156, 1.0], [54.908287, -1.375302, 1.0], [54.911384, -1.383365, 1.0], [54.908683, -1.38247, 1.0], [54.891559, -1.408613, 1.0], [54.901047, -1.400833, 1.0], [54.877999, -1.392447, 1.0], [54.904119, -1.386283, 1.0], [54.85247, -1.488465, 1.0], [54.848237, -1.465469, 2.0], [54.870872, -1.505217, 1.0], [54.9024, -1.38397, 2.0], [54.872212, -1.441154, 1.0], [54.904674, -1.530848, 2.0], [54.920891, -1.379631, 1.0], [54.925734, -1.472868, 1.0], [54.887421, -1.53136, 1.0], [54.865583, -1.445764, 1.0], [54.926542, -1.472546, 1.0], [54.848036, -1.481357, 2.0], [54.893461, -1.51336, 1.0], [54.899031, -1.375289, 1.0], [54.910285, -1.41567, 1.0], [54.865762, -1.445606, 1.0], [54.861332, -1.439902, 2.0], [54.895225, -1.423528, 2.0], [54.90255, -1.53945, 2.0], [54.904587, -1.389863, 1.0], [54.861336, -1.502686, 1.0], [54.911433, -1.512987, 1.0], [54.894893, -1.429302, 1.0], [54.896305, -1.423824, 1.0], [54.907448, -1.423665, 2.0], [54.886622, -1.409777, 2.0], [54.85494, -1.418339, 1.0], [54.917921, -1.433968, 1.0], [54.863883, -1.447345, 1.0], [54.823651, -1.453809, 3.0], [54.90055, -1.409417, 1.0], [54.903049, -1.387859, 1.0], [54.925891, -1.390945, 1.0], [54.870435, -1.465643, 1.0], [54.906903, -1.422581, 1.0], [54.932501, -1.383042, 1.0], [54.885876, -1.550552, 1.0], [54.923049, -1.4353, 1.0], [54.930228, -1.377927, 1.0], [54.922028, -1.40957, 1.0], [54.897803, -1.381233, 1.0], [54.900814, -1.408321, 2.0], [54.852381, -1.488622, 1.0], [54.80919, -1.435645, 1.0], [54.901426, -1.386792, 1.0], [54.915797, -1.385325, 1.0], [54.903337, -1.533827, 1.0], [54.926448, -1.376893, 1.0], [54.813139, -1.454262, 1.0], [54.861265, -1.353906, 1.0], [54.905274, -1.40155, 1.0], [54.913651, -1.443544, 2.0], [54.914588, -1.538377, 1.0], [54.90819, -1.428646, 1.0], [54.903676, -1.387537, 2.0], [54.898681, -1.377166, 1.0], [54.884975, -1.422271, 1.0], [54.882464, -1.527521, 1.0], [54.902817, -1.395348, 1.0], [54.893218, -1.436186, 1.0], [54.91788, -1.406511, 1.0], [54.911563, -1.383206, 1.0], [54.89868, -1.37701, 1.0], [54.92259, -1.395832, 1.0], [54.912821, -1.383187, 1.0], [54.894902, -1.513966, 1.0], [54.902213, -1.400348, 1.0], [54.915424, -1.382523, 1.0], [54.883159, -1.437573, 1.0], [54.886147, -1.3864, 1.0], [54.915847, -1.377525, 1.0], [54.90266, -1.457263, 1.0], [54.868676, -1.495739, 1.0], [54.904553, -1.458641, 1.0], [54.902213, -1.400504, 1.0], [54.89502, -1.457054, 1.0], [54.886426, -1.529657, 1.0], [54.918675, -1.38575, 1.0], [54.924667, -1.416397, 1.0], [54.918148, -1.406351, 1.0], [54.913023, -1.528723, 1.0], [54.903499, -1.388008, 1.0], [54.899461, -1.389161, 1.0], [54.894808, -1.449728, 2.0], [54.880421, -1.428571, 1.0], [54.867956, -1.495437, 1.0], [54.919234, -1.426617, 1.0], [54.873478, -1.369295, 1.0], [54.905743, -1.405598, 1.0], [54.895879, -1.533913, 1.0], [54.904402, -1.38893, 1.0], [54.867957, -1.495748, 1.0], [54.887923, -1.418644, 1.0], [54.830138, -1.457302, 1.0], [54.837343, -1.502981, 1.0], [54.920029, -1.405075, 1.0], [54.916621, -1.370648, 1.0], [54.926326, -1.370653, 1.0], [54.906888, -1.400746, 1.0], [54.92304, -1.395981, 1.0], [54.844833, -1.46785, 1.0], [54.840348, -1.469778, 1.0], [54.895553, -1.398419, 1.0], [54.842493, -1.467258, 1.0], [54.919078, -1.376539, 1.0], [54.829957, -1.457149, 1.0], [54.877044, -1.417709, 1.0], [54.8822, -1.424649, 1.0], [54.913566, -1.444481, 1.0], [54.919078, -1.376539, 1.0], [54.882672, -1.374763, 2.0], [54.917742, -1.517435, 1.0], [54.873053, -1.428831, 1.0], [54.89268, -1.39893, 2.0], [54.870808, -1.489791, 1.0], [54.843319, -1.47114, 1.0], [54.845025, -1.470806, 2.0], [54.894895, -1.429613, 1.0], [54.841517, -1.49094, 2.0], [54.910828, -1.518922, 1.0], [54.908095, -1.467016, 3.0], [54.918342, -1.409156, 2.0], [54.924719, -1.446668, 1.0], [54.894937, -1.438656, 1.0], [54.817618, -1.451089, 1.0], [54.807609, -1.443602, 1.0], [54.84017, -1.470247, 1.0], [54.906215, -1.558436, 1.0], [54.881026, -1.423419, 1.0], [54.934257, -1.392692, 2.0], [54.900815, -1.408477, 1.0], [54.906125, -1.558437, 1.0], [54.921184, -1.366833, 1.0], [54.897662, -1.388876, 1.0], [54.911526, -1.412064, 2.0], [54.912166, -1.539652, 1.0], [54.906096, -1.404345, 1.0], [54.906884, -1.38203, 1.0], [54.882406, -1.37539, 1.0], [54.914794, -1.382377, 1.0], [54.906789, -1.399032, 1.0], [54.893502, -1.401568, 1.0], [54.905187, -1.384083, 1.0], [54.922062, -1.475725, 1.0], [54.880575, -1.423114, 1.0], [54.866043, -1.448095, 1.0], [54.909257, -1.530795, 1.0], [54.905964, -1.414017, 1.0], [54.822613, -1.483395, 1.0], [54.85485, -1.41834, 1.0], [54.92101, -1.525821, 1.0], [54.812822, -1.424546, 1.0], [54.822917, -1.450395, 1.0], [54.851882, -1.399381, 1.0], [54.919398, -1.368889, 2.0], [54.909146, -1.503032, 1.0], [54.917063, -1.404963, 1.0], [54.904318, -1.390023, 1.0], [54.898886, -1.400085, 1.0], [54.902459, -1.539139, 1.0], [54.877504, -1.419884, 1.0], [54.864057, -1.446096, 1.0], [54.899325, -1.398051, 2.0], [54.893094, -1.428859, 1.0], [54.928274, -1.457698, 1.0], [54.874661, -1.426782, 1.0], [54.892866, -1.400175, 1.0], [54.897238, -1.376096, 1.0], [54.903892, -1.413111, 1.0], [54.996027, -1.498364, 1.0], [54.888845, -1.462905, 1.0], [54.848473, -1.382612, 1.0], [54.865585, -1.446231, 1.0], [54.859614, -1.477782, 1.0], [54.889284, -1.42143, 2.0], [54.912193, -1.383353, 1.0], [54.864063, -1.447499, 1.0], [54.898158, -1.398225, 2.0], [54.875046, -1.493166, 1.0], [54.907653, -1.511473, 1.0], [54.893147, -1.402665, 1.0], [54.816086, -1.450177, 1.0], [54.926171, -1.469898, 1.0], [54.911454, -1.454493, 1.0], [54.923914, -1.427955, 1.0], [54.841341, -1.491876, 1.0], [54.859141, -1.432455, 1.0], [54.85238, -1.488466, 1.0], [54.866689, -1.432349, 1.0], [54.914616, -1.382691, 1.0], [54.888967, -1.430477, 2.0], [54.87145, -1.376962, 1.0], [54.879073, -1.391495, 1.0], [54.865676, -1.446386, 1.0], [54.904432, -1.413259, 1.0], [54.904406, -1.38971, 2.0], [54.918759, -1.384656, 1.0], [54.903261, -1.394406, 1.0], [54.882023, -1.425275, 1.0], [54.895909, -1.39779, 1.0], [54.839988, -1.469627, 1.0], [54.906888, -1.400746, 1.0], [54.900285, -1.534642, 1.0], [54.900064, -1.36654, 2.0], [54.889808, -1.457124, 1.0], [54.868769, -1.496517, 1.0], [54.808927, -1.437204, 1.0], [54.9222, -1.407852, 2.0], [54.868735, -1.427801, 2.0], [54.903186, -1.518233, 1.0], [54.871114, -1.41795, 1.0], [54.911404, -1.405514, 1.0], [54.896267, -1.397473, 1.0], [54.89035, -1.457584, 1.0], [54.904227, -1.389713, 2.0], [54.883363, -1.527666, 1.0], [54.89071, -1.457891, 1.0], [54.907449, -1.387168, 1.0], [54.894121, -1.399688, 1.0], [54.907449, -1.387168, 1.0], [54.869289, -1.4708, 1.0], [54.908852, -1.380284, 1.0], [54.918263, -1.393088, 1.0], [54.90711, -1.533315, 1.0], [54.888934, -1.462592, 1.0], [54.911363, -1.454182, 1.0], [54.90811, -1.375772, 1.0], [54.86678, -1.432503, 1.0], [54.9081, -1.428491, 1.0], [54.871406, -1.441788, 2.0], [54.907136, -1.473735, 1.0], [54.814222, -1.455337, 1.0], [54.902782, -1.388331, 1.0], [54.925267, -1.448689, 1.0], [54.929099, -1.385591, 1.0], [54.918856, -1.404, 1.0], [54.90069, -1.401462, 1.0], [54.90592, -1.404971, 1.0], [54.86485, -1.483323, 1.0], [54.887439, -1.39324, 1.0], [54.919265, -1.395882, 1.0], [54.919406, -1.406333, 1.0], [54.93728, -1.368765, 1.0], [54.906391, -1.391239, 1.0], [54.90262, -1.489545, 1.0], [54.867957, -1.495748, 1.0], [54.864236, -1.446094, 1.0], [54.895306, -1.4215, 2.0], [54.890177, -1.459302, 1.0], [54.871054, -1.3698, 1.0], [54.911314, -1.405516, 1.0], [54.912819, -1.522642, 1.0], [54.911097, -1.454966, 1.0], [54.899225, -1.41427, 1.0], [54.905479, -1.529903, 2.0], [54.909662, -1.542956, 1.0], [54.914215, -1.490022, 1.0], [54.847462, -1.473266, 1.0], [54.890411, -1.412839, 1.0], [54.897526, -1.54169, 1.0], [54.902232, -1.386312, 1.0], [54.916619, -1.387809, 1.0], [54.902233, -1.386468, 1.0], [54.906434, -1.381881, 1.0], [54.904294, -1.385189, 1.0], [54.875823, -1.425363, 1.0], [54.905241, -1.515245, 1.0], [54.860787, -1.438508, 2.0], [54.904369, -1.38238, 1.0], [54.911996, -1.38008, 1.0], [54.914888, -1.383155, 1.0], [54.878628, -1.410673, 1.0], [54.92464, -1.392524, 1.0], [54.903892, -1.412955, 1.0], [54.928616, -1.415248, 1.0], [54.922025, -1.40879, 1.0], [54.896297, -1.441288, 1.0], [54.902085, -1.410954, 1.0], [54.843932, -1.467395, 1.0], [54.900663, -1.378071, 1.0], [54.88516, -1.369268, 1.0], [54.898492, -1.512832, 1.0], [54.869646, -1.358291, 1.0], [54.880202, -1.547186, 1.0], [54.903742, -1.458028, 1.0], [54.880331, -1.428572, 1.0], [54.843013, -1.462735, 1.0], [54.888669, -1.52854, 1.0], [54.915874, -1.382672, 1.0], [54.886144, -1.368318, 1.0], [54.914884, -1.382375, 1.0], [54.904227, -1.389868, 1.0], [54.924759, -1.51938, 1.0], [54.897803, -1.381233, 1.0], [54.897793, -1.517986, 1.0], [54.863762, -1.402788, 1.0], [54.908138, -1.381231, 2.0], [54.843702, -1.497764, 1.0], [54.917832, -1.434125, 1.0], [54.918151, -1.406819, 1.0], [54.930508, -1.455015, 1.0], [54.883781, -1.455646, 2.0], [54.915153, -1.382371, 1.0], [54.877209, -1.433604, 1.0], [54.901961, -1.386004, 1.0], [54.914127, -1.375055, 2.0], [54.915517, -1.383302, 1.0], [54.90693, -1.391231, 1.0], [54.923025, -1.449655, 1.0], [54.884051, -1.455798, 1.0], [54.914718, -1.525427, 1.0], [54.904295, -1.385501, 1.0], [54.876485, -1.515435, 1.0], [54.89471, -1.373797, 1.0], [54.844922, -1.467849, 1.0], [54.888103, -1.418641, 1.0], [54.909854, -1.38292, 1.0], [54.900842, -1.378068, 1.0], [54.902787, -1.389422, 1.0], [54.907902, -1.387941, 1.0], [54.833259, -1.472206, 1.0], [54.838646, -1.45096, 1.0], [54.867088, -1.440913, 1.0], [54.905622, -1.498241, 1.0], [54.904229, -1.39018, 1.0], [54.869408, -1.364372, 1.0], [54.812824, -1.425013, 1.0], [54.873232, -1.428517, 1.0], [54.908755, -1.396819, 1.0], [54.890261, -1.457897, 1.0], [54.887657, -1.458244, 1.0], [54.881095, -1.478439, 3.0], [54.931912, -1.39101, 1.0], [54.90341, -1.388165, 1.0], [54.875863, -1.517157, 1.0], [54.881484, -1.406578, 1.0], [54.81555, -1.450806, 1.0], [54.900603, -1.439669, 1.0], [54.912626, -1.416572, 1.0], [54.926109, -1.456011, 1.0], [54.856992, -1.453826, 1.0], [54.900573, -1.378072, 1.0], [54.925429, -1.406712, 1.0], [54.90055, -1.409417, 1.0], [54.902091, -1.53696, 1.0], [54.908593, -1.382472, 1.0], [54.914792, -1.382065, 1.0], [54.899614, -1.383857, 1.0], [54.917831, -1.517278, 1.0], [54.834049, -1.488854, 1.0], [54.885782, -1.367856, 1.0], [54.914434, -1.382382, 1.0], [54.887516, -1.556458, 1.0], [54.842602, -1.431753, 1.0], [54.92057, -1.423946, 1.0], [54.913614, -1.542287, 1.0], [54.878391, -1.520088, 1.0], [54.85781, -1.45584, 2.0], [54.906984, -1.420708, 2.0], [54.87152, -1.408906, 1.0], [54.905304, -1.531309, 1.0], [54.923041, -1.396137, 1.0], [54.918102, -1.434278, 1.0], [54.918822, -1.379195, 1.0], [54.895903, -1.517229, 1.0], [54.876453, -1.406808, 1.0], [54.910127, -1.420195, 1.0], [54.905092, -1.458634, 2.0], [54.907597, -1.380927, 1.0], [54.904338, -1.376298, 1.0], [54.925176, -1.448378, 1.0], [54.887117, -1.458095, 1.0], [54.865676, -1.446542, 1.0], [54.913773, -1.376153, 1.0], [54.908974, -1.462637, 1.0], [54.893056, -1.402355, 1.0], [54.894512, -1.552795, 2.0], [54.862809, -1.448295, 1.0], [54.899003, -1.528419, 1.0], [54.904961, -1.375041, 1.0], [54.901109, -1.538687, 1.0], [54.92636, -1.538242, 1.0], [54.901259, -1.38929, 1.0], [54.89868, -1.37701, 1.0], [54.901259, -1.38929, 1.0], [54.8836, -1.455493, 1.0], [54.893151, -1.403289, 1.0], [54.862703, -1.388626, 1.0], [54.919406, -1.406177, 1.0], [54.914614, -1.38238, 1.0], [54.89027, -1.40224, 1.0], [54.864063, -1.447499, 1.0]],\n",
       "                {\n",
       "  &quot;minOpacity&quot;: 0.5,\n",
       "  &quot;maxZoom&quot;: 1,\n",
       "  &quot;radius&quot;: 10,\n",
       "  &quot;blur&quot;: 15,\n",
       "}\n",
       "            );\n",
       "        \n",
       "    \n",
       "            heat_map_474ee241b9b64e142086824013e24e2d.addTo(map_f010bd175a5fed44f13fa2a6fab28361);\n",
       "        \n",
       "&lt;/script&gt;\n",
       "&lt;/html&gt;\" style=\"position:absolute;width:100%;height:100%;left:0;top:0;border:none !important;\" allowfullscreen webkitallowfullscreen mozallowfullscreen></iframe></div></div>"
      ],
      "text/plain": [
       "<folium.folium.Map at 0x2499d90a3f0>"
      ]
     },
     "execution_count": 54,
     "metadata": {},
     "output_type": "execute_result"
    }
   ],
   "source": [
    "severity_weights = {'Slight': 1, 'Serious': 2, 'Fatal': 3}\n",
    "Sunderland_data['Weight'] = Sunderland_data['Accident_Severity'].map(severity_weights)\n",
    "\n",
    "\n",
    "map_center = [Sunderland_data['Latitude'].mean(), Sunderland_data['Longitude'].mean()]\n",
    "m = folium.Map(location=map_center, zoom_start=12)\n",
    "\n",
    "\n",
    "heat_data = Sunderland_data[['Latitude', 'Longitude', 'Weight']].values.tolist()\n",
    "\n",
    "\n",
    "HeatMap(heat_data, radius=10, blur=15, max_zoom=1).add_to(m)\n",
    "\n",
    "\n",
    "m"
   ]
  },
  {
   "cell_type": "code",
   "execution_count": 55,
   "id": "0a7933e3",
   "metadata": {},
   "outputs": [
    {
     "data": {
      "text/html": [
       "<div style=\"width:100%;\"><div style=\"position:relative;width:100%;height:0;padding-bottom:60%;\"><span style=\"color:#565656\">Make this Notebook Trusted to load map: File -> Trust Notebook</span><iframe srcdoc=\"&lt;!DOCTYPE html&gt;\n",
       "&lt;html&gt;\n",
       "&lt;head&gt;\n",
       "    \n",
       "    &lt;meta http-equiv=&quot;content-type&quot; content=&quot;text/html; charset=UTF-8&quot; /&gt;\n",
       "    &lt;script src=&quot;https://cdn.jsdelivr.net/npm/leaflet@1.9.3/dist/leaflet.js&quot;&gt;&lt;/script&gt;\n",
       "    &lt;script src=&quot;https://code.jquery.com/jquery-3.7.1.min.js&quot;&gt;&lt;/script&gt;\n",
       "    &lt;script src=&quot;https://cdn.jsdelivr.net/npm/bootstrap@5.2.2/dist/js/bootstrap.bundle.min.js&quot;&gt;&lt;/script&gt;\n",
       "    &lt;script src=&quot;https://cdnjs.cloudflare.com/ajax/libs/Leaflet.awesome-markers/2.0.2/leaflet.awesome-markers.js&quot;&gt;&lt;/script&gt;\n",
       "    &lt;link rel=&quot;stylesheet&quot; href=&quot;https://cdn.jsdelivr.net/npm/leaflet@1.9.3/dist/leaflet.css&quot;/&gt;\n",
       "    &lt;link rel=&quot;stylesheet&quot; href=&quot;https://cdn.jsdelivr.net/npm/bootstrap@5.2.2/dist/css/bootstrap.min.css&quot;/&gt;\n",
       "    &lt;link rel=&quot;stylesheet&quot; href=&quot;https://netdna.bootstrapcdn.com/bootstrap/3.0.0/css/bootstrap-glyphicons.css&quot;/&gt;\n",
       "    &lt;link rel=&quot;stylesheet&quot; href=&quot;https://cdn.jsdelivr.net/npm/@fortawesome/fontawesome-free@6.2.0/css/all.min.css&quot;/&gt;\n",
       "    &lt;link rel=&quot;stylesheet&quot; href=&quot;https://cdnjs.cloudflare.com/ajax/libs/Leaflet.awesome-markers/2.0.2/leaflet.awesome-markers.css&quot;/&gt;\n",
       "    &lt;link rel=&quot;stylesheet&quot; href=&quot;https://cdn.jsdelivr.net/gh/python-visualization/folium/folium/templates/leaflet.awesome.rotate.min.css&quot;/&gt;\n",
       "    \n",
       "            &lt;meta name=&quot;viewport&quot; content=&quot;width=device-width,\n",
       "                initial-scale=1.0, maximum-scale=1.0, user-scalable=no&quot; /&gt;\n",
       "            &lt;style&gt;\n",
       "                #map_c348b4b098685eca4cb65a4efaded0a9 {\n",
       "                    position: relative;\n",
       "                    width: 100.0%;\n",
       "                    height: 100.0%;\n",
       "                    left: 0.0%;\n",
       "                    top: 0.0%;\n",
       "                }\n",
       "                .leaflet-container { font-size: 1rem; }\n",
       "            &lt;/style&gt;\n",
       "\n",
       "            &lt;style&gt;html, body {\n",
       "                width: 100%;\n",
       "                height: 100%;\n",
       "                margin: 0;\n",
       "                padding: 0;\n",
       "            }\n",
       "            &lt;/style&gt;\n",
       "\n",
       "            &lt;style&gt;#map {\n",
       "                position:absolute;\n",
       "                top:0;\n",
       "                bottom:0;\n",
       "                right:0;\n",
       "                left:0;\n",
       "                }\n",
       "            &lt;/style&gt;\n",
       "\n",
       "            &lt;script&gt;\n",
       "                L_NO_TOUCH = false;\n",
       "                L_DISABLE_3D = false;\n",
       "            &lt;/script&gt;\n",
       "\n",
       "        \n",
       "    &lt;script src=&quot;https://cdn.jsdelivr.net/gh/python-visualization/folium@main/folium/templates/leaflet_heat.min.js&quot;&gt;&lt;/script&gt;\n",
       "&lt;/head&gt;\n",
       "&lt;body&gt;\n",
       "    \n",
       "    \n",
       "            &lt;div class=&quot;folium-map&quot; id=&quot;map_c348b4b098685eca4cb65a4efaded0a9&quot; &gt;&lt;/div&gt;\n",
       "        \n",
       "&lt;/body&gt;\n",
       "&lt;script&gt;\n",
       "    \n",
       "    \n",
       "            var map_c348b4b098685eca4cb65a4efaded0a9 = L.map(\n",
       "                &quot;map_c348b4b098685eca4cb65a4efaded0a9&quot;,\n",
       "                {\n",
       "                    center: [53.15731038137083, -2.315573724077329],\n",
       "                    crs: L.CRS.EPSG3857,\n",
       "                    ...{\n",
       "  &quot;zoom&quot;: 12,\n",
       "  &quot;zoomControl&quot;: true,\n",
       "  &quot;preferCanvas&quot;: false,\n",
       "}\n",
       "\n",
       "                }\n",
       "            );\n",
       "\n",
       "            \n",
       "\n",
       "        \n",
       "    \n",
       "            var tile_layer_3d49399c8903206124d0bfc9b119d380 = L.tileLayer(\n",
       "                &quot;https://tile.openstreetmap.org/{z}/{x}/{y}.png&quot;,\n",
       "                {\n",
       "  &quot;minZoom&quot;: 0,\n",
       "  &quot;maxZoom&quot;: 19,\n",
       "  &quot;maxNativeZoom&quot;: 19,\n",
       "  &quot;noWrap&quot;: false,\n",
       "  &quot;attribution&quot;: &quot;\\u0026copy; \\u003ca href=\\&quot;https://www.openstreetmap.org/copyright\\&quot;\\u003eOpenStreetMap\\u003c/a\\u003e contributors&quot;,\n",
       "  &quot;subdomains&quot;: &quot;abc&quot;,\n",
       "  &quot;detectRetina&quot;: false,\n",
       "  &quot;tms&quot;: false,\n",
       "  &quot;opacity&quot;: 1,\n",
       "}\n",
       "\n",
       "            );\n",
       "        \n",
       "    \n",
       "            tile_layer_3d49399c8903206124d0bfc9b119d380.addTo(map_c348b4b098685eca4cb65a4efaded0a9);\n",
       "        \n",
       "    \n",
       "            var heat_map_76ea678b851f3541c9d1cbf888be0ea0 = L.heatLayer(\n",
       "                [[53.169589, -2.358394, 1.0], [53.227454, -2.394678, 1.0], [53.172534, -2.334931, 1.0], [53.163759, -2.199647, 2.0], [53.148424, -2.34177, 1.0], [53.181602, -2.368969, 1.0], [53.181602, -2.369118, 1.0], [53.214906, -2.322682, 2.0], [53.154522, -2.186146, 1.0], [53.145099, -2.371347, 1.0], [53.164243, -2.230313, 1.0], [53.125249, -2.335758, 1.0], [53.231051, -2.394262, 1.0], [53.171204, -2.359604, 1.0], [53.137011, -2.37053, 1.0], [53.129044, -2.294389, 1.0], [53.192505, -2.440756, 1.0], [53.198825, -2.351303, 1.0], [53.122, -2.270134, 1.0], [53.154776, -2.195867, 2.0], [53.109826, -2.286639, 1.0], [53.154024, -2.332095, 2.0], [53.091385, -2.326386, 2.0], [53.169499, -2.358393, 1.0], [53.125339, -2.33561, 1.0], [53.095558, -2.31238, 1.0], [53.082013, -2.301384, 2.0], [53.178479, -2.44166, 1.0], [53.176114, -2.340345, 1.0], [53.091136, -2.28323, 1.0], [53.142412, -2.337985, 1.0], [53.14172, -2.359358, 1.0], [53.202258, -2.345492, 1.0], [53.160675, -2.158055, 2.0], [53.164106, -2.206829, 1.0], [53.186389, -2.441741, 1.0], [53.169221, -2.296011, 1.0], [53.104831, -2.339931, 1.0], [53.198825, -2.351153, 2.0], [53.162669, -2.206223, 1.0], [53.229375, -2.355597, 1.0], [53.148603, -2.176999, 1.0], [53.113974, -2.349117, 1.0], [53.094069, -2.258759, 1.0], [53.091136, -2.28323, 1.0], [53.150069, -2.391426, 2.0], [53.163921, -2.20952, 1.0], [53.155325, -2.348704, 1.0], [53.167508, -2.214324, 1.0], [53.196804, -2.365806, 1.0], [53.161484, -2.215192, 1.0], [53.147988, -2.367335, 1.0], [53.131423, -2.375414, 1.0], [53.168495, -2.215526, 1.0], [53.147119, -2.205102, 1.0], [53.163091, -2.221482, 1.0], [53.22596, -2.35527, 1.0], [53.127654, -2.373289, 1.0], [53.112749, -2.337304, 1.0], [53.16055, -2.27591, 1.0], [53.20815, -2.387913, 1.0], [53.082283, -2.301236, 1.0], [53.096028, -2.304468, 1.0], [53.168586, -2.215227, 1.0], [53.103369, -2.316171, 2.0], [53.20614, -2.269315, 1.0], [53.154775, -2.196017, 1.0], [53.147739, -2.210488, 1.0], [53.14342, -2.390319, 2.0], [53.185544, -2.343562, 1.0], [53.150427, -2.391878, 1.0], [53.201229, -2.38785, 1.0], [53.200576, -2.445779, 1.0], [53.16624, -2.220002, 1.0], [53.177749, -2.365045, 1.0], [53.187513, -2.376053, 1.0], [53.151022, -2.233681, 2.0], [53.177466, -2.339308, 1.0], [53.145099, -2.371347, 2.0], [53.180258, -2.36761, 1.0], [53.197995, -2.387222, 1.0], [53.153622, -2.347195, 1.0], [53.128506, -2.254632, 2.0], [53.166073, -2.212971, 1.0], [53.187455, -2.445194, 1.0], [53.163837, -2.206528, 1.0], [53.184219, -2.365849, 1.0], [53.11185, -2.337596, 1.0], [53.16949, -2.21209, 1.0], [53.145242, -2.38301, 1.0], [53.163907, -2.217447, 1.0], [53.186931, -2.440849, 1.0], [53.1211, -2.307634, 1.0], [53.199408, -2.366726, 1.0], [53.158912, -2.194989, 1.0], [53.11894, -2.271758, 1.0], [53.19428, -2.337645, 2.0], [53.202127, -2.387858, 1.0], [53.202197, -2.365852, 1.0], [53.211834, -2.388395, 1.0], [53.197187, -2.386616, 1.0], [53.145597, -2.384508, 1.0], [53.094862, -2.265633, 2.0], [53.154146, -2.196014, 2.0], [53.188189, -2.441011, 2.0], [53.156385, -2.201258, 1.0], [53.200788, -2.385152, 2.0], [53.127449, -2.320084, 2.0], [53.11185, -2.337596, 1.0], [53.185186, -2.37289, 1.0], [53.096383, -2.268928, 1.0], [53.159839, -2.309257, 1.0], [53.227454, -2.394678, 1.0], [53.16414, -2.236594, 1.0], [53.157496, -2.401514, 1.0], [53.165579, -2.236153, 1.0], [53.186601, -2.456859, 1.0], [53.227454, -2.394828, 1.0], [53.164141, -2.236295, 1.0], [53.154609, -2.347652, 1.0], [53.095842, -2.306856, 1.0], [53.120983, -2.379357, 1.0], [53.091136, -2.28323, 2.0], [53.09401, -2.284444, 1.0], [53.118983, -2.251886, 1.0], [53.188814, -2.442215, 1.0], [53.176147, -2.20928, 3.0], [53.192213, -2.266534, 1.0], [53.20743, -2.388056, 1.0], [53.098769, -2.286566, 1.0], [53.148453, -2.213332, 1.0], [53.191952, -2.444343, 1.0], [53.090297, -2.295767, 2.0], [53.115235, -2.377663, 1.0], [53.166808, -2.203551, 1.0], [53.151727, -2.349572, 1.0], [53.195317, -2.43375, 1.0], [53.124229, -2.313933, 2.0], [53.142355, -2.357569, 3.0], [53.22826, -2.395734, 1.0], [53.163402, -2.197552, 1.0], [53.180169, -2.36746, 1.0], [53.157493, -2.234464, 1.0], [53.213729, -2.325818, 1.0], [53.167368, -2.240651, 1.0], [53.154078, -2.344956, 2.0], [53.136122, -2.303705, 1.0], [53.098578, -2.291344, 1.0], [53.098784, -2.280443, 1.0], [53.091136, -2.28323, 1.0], [53.180387, -2.200473, 1.0], [53.209946, -2.388528, 2.0], [53.160328, -2.208157, 1.0], [53.118624, -2.251884, 1.0], [53.148694, -2.176103, 1.0], [53.161694, -2.197993, 1.0], [53.134418, -2.33568, 1.0], [53.139419, -2.347081, 2.0], [53.14163, -2.359208, 1.0], [53.115028, -2.251863, 2.0], [53.103654, -2.310347, 1.0], [53.197756, -2.347851, 1.0], [53.173804, -2.361571, 1.0], [53.094552, -2.318794, 1.0], [53.141412, -2.341864, 1.0], [53.128823, -2.37315, 1.0], [53.145072, -2.380018, 1.0], [53.17212, -2.198489, 1.0], [53.230962, -2.394111, 2.0], [53.148265, -2.393055, 1.0], [53.191704, -2.326399, 1.0], [53.200057, -2.388888, 1.0], [53.169681, -2.357796, 1.0], [53.095284, -2.314021, 3.0], [53.272752, -2.338563, 1.0], [53.208148, -2.388512, 1.0], [53.200962, -2.3868, 1.0], [53.145428, -2.351764, 1.0], [53.088944, -2.297401, 1.0], [53.199235, -2.36433, 1.0], [53.096664, -2.301934, 1.0], [53.096752, -2.302532, 2.0], [53.12936, -2.373901, 1.0], [53.174434, -2.212264, 1.0], [53.127577, -2.368954, 3.0], [53.139075, -2.371743, 2.0], [53.13425, -2.297265, 1.0], [53.197757, -2.347701, 1.0], [53.165402, -2.234806, 1.0], [53.198999, -2.35325, 1.0], [53.141378, -2.353525, 2.0], [53.159612, -2.206508, 1.0], [53.096473, -2.268928, 1.0], [53.162211, -2.211157, 1.0], [53.091046, -2.283229, 1.0], [53.199006, -2.407441, 1.0], [53.09883, -2.298215, 2.0], [53.158841, -2.234471, 2.0], [53.095564, -2.31014, 3.0], [53.198069, -2.363571, 1.0], [53.129043, -2.294539, 1.0], [53.109149, -2.33877, 1.0], [53.19585, -2.354272, 1.0], [53.164607, -2.227921, 1.0], [53.10483, -2.34023, 1.0], [53.095559, -2.311932, 1.0], [53.14172, -2.388062, 2.0], [53.170394, -2.209402, 2.0], [53.095375, -2.313723, 1.0], [53.145686, -2.384509, 1.0], [53.130015, -2.335048, 1.0], [53.197756, -2.347851, 1.0], [53.201413, -2.357462, 2.0], [53.145816, -2.341899, 1.0], [53.171769, -2.193701, 2.0], [53.198573, -2.402646, 1.0], [53.198991, -2.355945, 1.0], [53.143738, -2.34562, 1.0], [53.154257, -2.344957, 1.0], [53.201434, -2.379918, 1.0], [53.172534, -2.334931, 1.0], [53.226374, -2.395118, 1.0], [53.155775, -2.189441, 1.0], [53.163836, -2.206678, 2.0], [53.148784, -2.175804, 1.0], [53.144403, -2.363866, 1.0], [53.097137, -2.327027, 1.0], [53.097848, -2.29567, 1.0], [53.150785, -2.39233, 1.0], [53.12879, -2.322784, 1.0], [53.145196, -2.338755, 1.0], [53.172534, -2.334931, 1.0], [53.153022, -2.395341, 1.0], [53.156667, -2.319104, 1.0], [53.172285, -2.207616, 1.0], [53.178555, -2.3661, 1.0], [53.092626, -2.29877, 1.0], [53.201737, -2.369142, 1.0], [53.166164, -2.212373, 2.0], [53.175274, -2.194016, 1.0], [53.171602, -2.185771, 2.0], [53.169883, -2.241562, 2.0], [53.170569, -2.257573, 2.0], [53.16275, -2.210861, 1.0], [53.153137, -2.327901, 1.0], [53.177749, -2.365045, 1.0], [53.185096, -2.37289, 1.0], [53.089035, -2.331296, 1.0], [53.142442, -2.358317, 1.0], [53.21363, -2.389011, 1.0], [53.096482, -2.30253, 1.0], [53.091567, -2.32579, 1.0], [53.149242, -2.368691, 1.0], [53.194522, -2.454248, 1.0], [53.149231, -2.342375, 1.0], [53.167061, -2.213425, 1.0], [53.184777, -2.439929, 2.0], [53.204554, -2.38788, 1.0], [53.104921, -2.340081, 1.0], [53.16453, -2.220891, 1.0], [53.158483, -2.401972, 1.0], [53.161226, -2.20846, 2.0], [53.181461, -2.290109, 1.0], [53.167682, -2.217766, 1.0], [53.152542, -2.315186, 1.0], [53.095749, -2.30805, 2.0], [53.164628, -2.216254, 1.0], [53.193293, -2.446303, 1.0], [53.182784, -2.419258, 1.0], [53.153556, -2.33882, 1.0], [53.108389, -2.286032, 1.0], [53.163922, -2.209371, 2.0], [53.14501, -2.371047, 1.0], [53.202574, -2.294743, 1.0], [53.180975, -2.368215, 1.0], [53.160169, -2.352333, 1.0], [53.183663, -2.371231, 1.0], [53.14322, -2.338291, 1.0], [53.128752, -2.265543, 1.0], [53.173095, -2.146281, 1.0], [53.120893, -2.379357, 1.0], [53.131908, -2.261079, 1.0], [53.166808, -2.203551, 1.0], [53.181065, -2.447073, 1.0], [53.117675, -2.343618, 1.0], [53.17905, -2.432987, 1.0], [53.119382, -2.343931, 1.0], [53.098145, -2.243849, 1.0], [53.171062, -2.236632, 1.0], [53.144764, -2.363271, 1.0], [53.096027, -2.304767, 1.0], [53.099714, -2.304196, 1.0], [53.161201, -2.303733, 1.0], [53.227363, -2.394977, 1.0], [53.171859, -2.193701, 1.0], [53.139669, -2.35381, 1.0], [53.09398, -2.258012, 1.0], [53.153477, -2.163112, 1.0], [53.16017, -2.352034, 1.0], [53.229875, -2.396648, 2.0], [53.178019, -2.365048, 1.0], [53.152815, -2.346441, 1.0], [53.160079, -2.352332, 2.0], [53.13181, -2.335959, 2.0], [53.213541, -2.38856, 1.0], [53.158596, -2.221459, 2.0], [53.156486, -2.319402, 1.0], [53.203206, -2.387868, 1.0], [53.135081, -2.20086, 1.0], [53.161335, -2.197243, 2.0], [53.209138, -2.388221, 1.0], [53.223327, -2.392244, 2.0], [53.133078, -2.332531, 1.0], [53.120036, -2.33527, 1.0], [53.168495, -2.215676, 1.0], [53.14214, -2.368929, 1.0], [53.15801, -2.434271, 1.0], [53.183407, -2.16577, 1.0], [53.097366, -2.271473, 1.0], [53.139659, -2.251558, 1.0], [53.127227, -2.335475, 1.0], [53.091136, -2.28323, 1.0], [53.141779, -2.369524, 1.0], [53.138633, -2.369497, 2.0], [53.119266, -2.285806, 1.0], [53.167592, -2.217616, 2.0], [53.168495, -2.215526, 1.0], [53.171968, -2.181284, 3.0], [53.157887, -2.261087, 2.0], [53.101814, -2.251785, 1.0], [53.163316, -2.195457, 1.0], [53.099583, -2.28448, 1.0], [53.143485, -2.306897, 2.0], [53.162838, -2.211908, 1.0], [53.161694, -2.198142, 2.0], [53.179944, -2.434343, 1.0], [53.211833, -2.388695, 3.0], [53.160548, -2.402889, 1.0], [53.180302, -2.434796, 2.0], [53.091136, -2.28323, 1.0], [53.177839, -2.364897, 1.0], [53.152816, -2.346142, 1.0], [53.166705, -2.211179, 1.0], [53.179452, -2.366706, 1.0], [53.163817, -2.217447, 1.0], [53.30965, -2.410444, 1.0], [53.165579, -2.236303, 2.0], [53.150516, -2.392029, 1.0], [53.16453, -2.220741, 1.0], [53.174703, -2.212714, 1.0], [53.212552, -2.388701, 1.0], [53.167508, -2.214324, 1.0], [53.16383, -2.210118, 1.0], [53.096416, -2.253845, 1.0], [53.173715, -2.361421, 1.0], [53.139063, -2.346031, 2.0], [53.226467, -2.39422, 1.0], [53.13439, -2.374991, 1.0], [53.095936, -2.305214, 1.0], [53.225275, -2.311076, 1.0], [53.091136, -2.28323, 1.0], [53.15755, -2.203208, 1.0], [53.096117, -2.304917, 2.0], [53.127539, -2.320084, 1.0], [53.118046, -2.306716, 2.0], [53.16194, -2.257372, 1.0], [53.201229, -2.38785, 1.0], [53.151022, -2.233681, 1.0], [53.218971, -2.377227, 1.0], [53.105731, -2.339639, 1.0], [53.135249, -2.254223, 1.0], [53.151947, -2.394135, 1.0], [53.154811, -2.398049, 1.0], [53.176237, -2.209281, 1.0], [53.202225, -2.35657, 1.0], [53.168586, -2.215078, 1.0], [53.144558, -2.341889, 1.0], [53.180975, -2.368215, 1.0], [53.09398, -2.258012, 1.0], [53.114872, -2.240507, 1.0], [53.151472, -2.344636, 1.0], [53.140708, -2.336626, 1.0], [53.140187, -2.389543, 1.0], [53.09683, -2.269976, 2.0], [53.143954, -2.215702, 1.0], [53.16423, -2.236595, 1.0], [53.16959, -2.358244, 1.0], [53.164392, -2.245421, 1.0], [53.164888, -2.22179, 2.0], [53.177839, -2.364897, 1.0], [53.161267, -2.235232, 3.0], [53.19204, -2.219086, 1.0], [53.151727, -2.349572, 1.0], [53.196045, -2.431512, 1.0], [53.174901, -2.436836, 1.0], [53.188971, -2.448203, 1.0], [53.096741, -2.269826, 1.0], [53.268065, -2.273153, 1.0], [53.198901, -2.355944, 2.0], [53.199074, -2.387082, 1.0], [53.118148, -2.335554, 1.0], [53.217588, -2.328393, 1.0], [53.128546, -2.345648, 2.0], [53.11104, -2.337889, 2.0], [53.15779, -2.42051, 2.0], [53.154543, -2.397598, 2.0], [53.153912, -2.398041, 1.0], [53.136155, -2.203854, 1.0], [53.208149, -2.388212, 1.0], [53.204644, -2.388031, 2.0], [53.172438, -2.265962, 1.0], [53.164285, -2.206979, 1.0], [53.174344, -2.330606, 1.0], [53.16654, -2.202802, 1.0], [53.167912, -2.238709, 2.0], [53.146863, -2.352972, 1.0], [53.176917, -2.178163, 2.0], [53.138895, -2.371742, 1.0], [53.164009, -2.210717, 1.0], [53.138011, -2.3671, 2.0], [53.200245, -2.386344, 1.0], [53.094622, -2.326261, 1.0], [53.147117, -2.206747, 2.0], [53.242085, -2.310749, 2.0], [53.161992, -2.343523, 1.0], [53.166037, -2.232117, 2.0], [53.132471, -2.356142, 1.0], [53.132799, -2.336116, 1.0], [53.193546, -2.450945, 1.0], [53.160983, -2.24226, 1.0], [53.039481, -2.471111, 2.0], [53.098949, -2.286418, 1.0], [53.095375, -2.313573, 1.0], [53.212552, -2.388701, 1.0], [53.120893, -2.379357, 1.0], [53.109821, -2.288731, 1.0], [53.15474, -2.159678, 1.0], [53.113649, -2.337013, 1.0], [53.151998, -2.349126, 1.0], [53.12954, -2.373903, 1.0], [53.134301, -2.374841, 2.0], [53.174108, -2.192514, 1.0], [53.151727, -2.349572, 1.0], [53.175164, -2.205685, 1.0], [53.154095, -2.397146, 1.0], [53.11179, -2.253039, 1.0], [53.183929, -2.342352, 1.0], [53.167618, -2.202956, 1.0], [53.17994, -2.287256, 2.0], [53.16627, -2.355973, 2.0], [53.237026, -2.320151, 1.0], [53.145397, -2.258619, 2.0], [53.153621, -2.347345, 1.0], [53.188188, -2.44146, 1.0], [53.153556, -2.33882, 1.0], [53.145184, -2.372992, 1.0], [53.168495, -2.215676, 1.0], [53.166343, -2.212823, 1.0], [53.13861, -2.404178, 1.0], [53.141962, -2.396436, 2.0], [53.200487, -2.445778, 1.0], [53.139329, -2.347229, 3.0], [53.144224, -2.363565, 1.0], [53.180789, -2.340232, 1.0], [53.146063, -2.24098, 3.0], [53.133761, -2.375135, 1.0], [53.210127, -2.38823, 1.0], [53.187242, -2.346868, 1.0], [53.168429, -2.202063, 1.0], [53.113739, -2.337013, 3.0], [53.117679, -2.272647, 1.0], [53.162212, -2.210409, 1.0], [53.154168, -2.344956, 1.0], [53.144028, -2.338745, 1.0], [53.13882, -2.336612, 1.0], [53.175339, -2.208828, 2.0], [53.164617, -2.222537, 1.0], [53.125339, -2.33561, 1.0], [53.212107, -2.293012, 2.0], [53.137739, -2.337351, 1.0], [53.229875, -2.396498, 1.0], [53.17293, -2.197895, 1.0], [53.111894, -2.286205, 2.0], [53.164188, -2.211167, 1.0], [53.196239, -2.344246, 2.0], [53.169777, -2.24949, 1.0], [53.120625, -2.378906, 1.0], [53.164109, -2.438072, 1.0], [53.164869, -2.231812, 1.0], [53.201455, -2.373331, 1.0], [53.192942, -2.444203, 2.0], [53.192222, -2.444346, 1.0], [53.225094, -2.311374, 1.0], [53.082283, -2.301236, 1.0], [53.095844, -2.30611, 1.0], [53.096383, -2.268928, 1.0], [53.151825, -2.314433, 1.0], [53.188957, -2.311861, 1.0], [53.167441, -2.249178, 1.0], [53.120801, -2.379804, 1.0], [53.174828, -2.282135, 1.0], [53.116209, -2.286084, 2.0], [53.131085, -2.368386, 2.0], [53.100458, -2.294194, 1.0], [53.227363, -2.394977, 1.0], [53.200605, -2.357156, 2.0], [53.163752, -2.203387, 2.0], [53.097814, -2.308961, 1.0], [53.201229, -2.387701, 1.0], [53.192399, -2.444946, 1.0], [53.195687, -2.431059, 1.0], [53.16275, -2.21101, 1.0], [53.161873, -2.353394, 1.0], [53.124821, -2.254311, 3.0], [53.093074, -2.299669, 1.0], [53.153875, -2.197209, 1.0], [53.095009, -2.316109, 1.0], [53.175239, -2.36278, 1.0], [53.163752, -2.203536, 1.0], [53.203206, -2.388018, 1.0], [53.187688, -2.348069, 2.0], [53.153556, -2.338671, 2.0], [53.153314, -2.328949, 1.0], [53.156849, -2.192138, 1.0], [53.172101, -2.36021, 1.0], [53.097351, -2.314036, 1.0], [53.140996, -2.360996, 1.0], [53.118624, -2.251884, 2.0], [53.201229, -2.387701, 1.0], [53.163662, -2.203386, 1.0], [53.214618, -2.389019, 1.0], [53.172534, -2.334931, 1.0], [53.164547, -2.211468, 1.0], [53.192942, -2.444203, 1.0], [53.137199, -2.304311, 2.0], [53.198901, -2.355944, 1.0], [53.163023, -2.294472, 2.0], [53.193403, -2.440915, 1.0], [53.155325, -2.348704, 2.0], [53.208309, -2.335359, 1.0], [53.145099, -2.371347, 1.0], [53.152098, -2.345688, 1.0], [53.112632, -2.23661, 1.0], [53.154026, -2.331347, 1.0], [53.161325, -2.203674, 1.0], [53.148124, -2.351935, 1.0], [53.143687, -2.362813, 1.0], [53.082012, -2.301533, 1.0], [53.164569, -2.246618, 1.0], [53.146848, -2.386762, 1.0], [53.172238, -2.180986, 1.0], [53.218971, -2.377227, 1.0], [53.099604, -2.311961, 1.0], [53.165983, -2.21297, 1.0], [53.195777, -2.430911, 1.0], [53.15706, -2.225489, 1.0], [53.139718, -2.336918, 1.0], [53.154168, -2.344956, 1.0], [53.144989, -2.377775, 1.0], [53.122643, -2.335439, 1.0], [53.202401, -2.357769, 1.0], [53.209138, -2.388221, 1.0], [53.191704, -2.326399, 1.0], [53.138523, -2.403131, 1.0], [53.360239, -2.035729, 1.0], [53.18154, -2.440345, 1.0], [53.148277, -2.389466, 1.0], [53.147261, -2.37002, 1.0], [53.103122, -2.340515, 1.0]],\n",
       "                {\n",
       "  &quot;minOpacity&quot;: 0.5,\n",
       "  &quot;maxZoom&quot;: 1,\n",
       "  &quot;radius&quot;: 10,\n",
       "  &quot;blur&quot;: 15,\n",
       "}\n",
       "            );\n",
       "        \n",
       "    \n",
       "            heat_map_76ea678b851f3541c9d1cbf888be0ea0.addTo(map_c348b4b098685eca4cb65a4efaded0a9);\n",
       "        \n",
       "&lt;/script&gt;\n",
       "&lt;/html&gt;\" style=\"position:absolute;width:100%;height:100%;left:0;top:0;border:none !important;\" allowfullscreen webkitallowfullscreen mozallowfullscreen></iframe></div></div>"
      ],
      "text/plain": [
       "<folium.folium.Map at 0x2499d90a9e0>"
      ]
     },
     "execution_count": 55,
     "metadata": {},
     "output_type": "execute_result"
    }
   ],
   "source": [
    "severity_weights = {'Slight': 1, 'Serious': 2, 'Fatal': 3}\n",
    "Congleton_data['Weight'] = Congleton_data['Accident_Severity'].map(severity_weights)\n",
    "\n",
    "\n",
    "map_center = [Congleton_data['Latitude'].mean(), Congleton_data['Longitude'].mean()]\n",
    "m = folium.Map(location=map_center, zoom_start=12)\n",
    "\n",
    "\n",
    "heat_data = Congleton_data[['Latitude', 'Longitude', 'Weight']].values.tolist()\n",
    "\n",
    "\n",
    "HeatMap(heat_data, radius=10, blur=15, max_zoom=1).add_to(m)\n",
    "\n",
    "\n",
    "m"
   ]
  },
  {
   "cell_type": "code",
   "execution_count": 56,
   "id": "6ca3f578",
   "metadata": {},
   "outputs": [
    {
     "data": {
      "text/html": [
       "<div style=\"width:100%;\"><div style=\"position:relative;width:100%;height:0;padding-bottom:60%;\"><span style=\"color:#565656\">Make this Notebook Trusted to load map: File -> Trust Notebook</span><iframe srcdoc=\"&lt;!DOCTYPE html&gt;\n",
       "&lt;html&gt;\n",
       "&lt;head&gt;\n",
       "    \n",
       "    &lt;meta http-equiv=&quot;content-type&quot; content=&quot;text/html; charset=UTF-8&quot; /&gt;\n",
       "    &lt;script src=&quot;https://cdn.jsdelivr.net/npm/leaflet@1.9.3/dist/leaflet.js&quot;&gt;&lt;/script&gt;\n",
       "    &lt;script src=&quot;https://code.jquery.com/jquery-3.7.1.min.js&quot;&gt;&lt;/script&gt;\n",
       "    &lt;script src=&quot;https://cdn.jsdelivr.net/npm/bootstrap@5.2.2/dist/js/bootstrap.bundle.min.js&quot;&gt;&lt;/script&gt;\n",
       "    &lt;script src=&quot;https://cdnjs.cloudflare.com/ajax/libs/Leaflet.awesome-markers/2.0.2/leaflet.awesome-markers.js&quot;&gt;&lt;/script&gt;\n",
       "    &lt;link rel=&quot;stylesheet&quot; href=&quot;https://cdn.jsdelivr.net/npm/leaflet@1.9.3/dist/leaflet.css&quot;/&gt;\n",
       "    &lt;link rel=&quot;stylesheet&quot; href=&quot;https://cdn.jsdelivr.net/npm/bootstrap@5.2.2/dist/css/bootstrap.min.css&quot;/&gt;\n",
       "    &lt;link rel=&quot;stylesheet&quot; href=&quot;https://netdna.bootstrapcdn.com/bootstrap/3.0.0/css/bootstrap-glyphicons.css&quot;/&gt;\n",
       "    &lt;link rel=&quot;stylesheet&quot; href=&quot;https://cdn.jsdelivr.net/npm/@fortawesome/fontawesome-free@6.2.0/css/all.min.css&quot;/&gt;\n",
       "    &lt;link rel=&quot;stylesheet&quot; href=&quot;https://cdnjs.cloudflare.com/ajax/libs/Leaflet.awesome-markers/2.0.2/leaflet.awesome-markers.css&quot;/&gt;\n",
       "    &lt;link rel=&quot;stylesheet&quot; href=&quot;https://cdn.jsdelivr.net/gh/python-visualization/folium/folium/templates/leaflet.awesome.rotate.min.css&quot;/&gt;\n",
       "    \n",
       "            &lt;meta name=&quot;viewport&quot; content=&quot;width=device-width,\n",
       "                initial-scale=1.0, maximum-scale=1.0, user-scalable=no&quot; /&gt;\n",
       "            &lt;style&gt;\n",
       "                #map_7af0efd87b9a11067747b663c3be8840 {\n",
       "                    position: relative;\n",
       "                    width: 100.0%;\n",
       "                    height: 100.0%;\n",
       "                    left: 0.0%;\n",
       "                    top: 0.0%;\n",
       "                }\n",
       "                .leaflet-container { font-size: 1rem; }\n",
       "            &lt;/style&gt;\n",
       "\n",
       "            &lt;style&gt;html, body {\n",
       "                width: 100%;\n",
       "                height: 100%;\n",
       "                margin: 0;\n",
       "                padding: 0;\n",
       "            }\n",
       "            &lt;/style&gt;\n",
       "\n",
       "            &lt;style&gt;#map {\n",
       "                position:absolute;\n",
       "                top:0;\n",
       "                bottom:0;\n",
       "                right:0;\n",
       "                left:0;\n",
       "                }\n",
       "            &lt;/style&gt;\n",
       "\n",
       "            &lt;script&gt;\n",
       "                L_NO_TOUCH = false;\n",
       "                L_DISABLE_3D = false;\n",
       "            &lt;/script&gt;\n",
       "\n",
       "        \n",
       "    &lt;script src=&quot;https://cdn.jsdelivr.net/gh/python-visualization/folium@main/folium/templates/leaflet_heat.min.js&quot;&gt;&lt;/script&gt;\n",
       "&lt;/head&gt;\n",
       "&lt;body&gt;\n",
       "    \n",
       "    \n",
       "            &lt;div class=&quot;folium-map&quot; id=&quot;map_7af0efd87b9a11067747b663c3be8840&quot; &gt;&lt;/div&gt;\n",
       "        \n",
       "&lt;/body&gt;\n",
       "&lt;script&gt;\n",
       "    \n",
       "    \n",
       "            var map_7af0efd87b9a11067747b663c3be8840 = L.map(\n",
       "                &quot;map_7af0efd87b9a11067747b663c3be8840&quot;,\n",
       "                {\n",
       "                    center: [54.658546791111114, -1.55706832],\n",
       "                    crs: L.CRS.EPSG3857,\n",
       "                    ...{\n",
       "  &quot;zoom&quot;: 12,\n",
       "  &quot;zoomControl&quot;: true,\n",
       "  &quot;preferCanvas&quot;: false,\n",
       "}\n",
       "\n",
       "                }\n",
       "            );\n",
       "\n",
       "            \n",
       "\n",
       "        \n",
       "    \n",
       "            var tile_layer_add60875971ce18f599994ffedb35f41 = L.tileLayer(\n",
       "                &quot;https://tile.openstreetmap.org/{z}/{x}/{y}.png&quot;,\n",
       "                {\n",
       "  &quot;minZoom&quot;: 0,\n",
       "  &quot;maxZoom&quot;: 19,\n",
       "  &quot;maxNativeZoom&quot;: 19,\n",
       "  &quot;noWrap&quot;: false,\n",
       "  &quot;attribution&quot;: &quot;\\u0026copy; \\u003ca href=\\&quot;https://www.openstreetmap.org/copyright\\&quot;\\u003eOpenStreetMap\\u003c/a\\u003e contributors&quot;,\n",
       "  &quot;subdomains&quot;: &quot;abc&quot;,\n",
       "  &quot;detectRetina&quot;: false,\n",
       "  &quot;tms&quot;: false,\n",
       "  &quot;opacity&quot;: 1,\n",
       "}\n",
       "\n",
       "            );\n",
       "        \n",
       "    \n",
       "            tile_layer_add60875971ce18f599994ffedb35f41.addTo(map_7af0efd87b9a11067747b663c3be8840);\n",
       "        \n",
       "    \n",
       "            var heat_map_247ce8b8038bdae8df488389f01c266c = L.heatLayer(\n",
       "                [[54.656625, -1.504879, 1.0], [54.686351, -1.499708, 1.0], [54.63376, -1.68068, 1.0], [54.697026, -1.434099, 1.0], [54.630775, -1.58528, 1.0], [54.68403, -1.629099, 1.0], [54.633831, -1.641795, 1.0], [54.686988, -1.656839, 1.0], [54.645261, -1.517104, 1.0], [54.657663, -1.396824, 2.0], [54.624616, -1.656125, 1.0], [54.62386, -1.561034, 1.0], [54.679109, -1.555476, 1.0], [54.703234, -1.566385, 1.0], [54.606872, -1.560443, 1.0], [54.706422, -1.553625, 1.0], [54.672152, -1.499883, 2.0], [54.626168, -1.633653, 1.0], [54.637731, -1.41912, 1.0], [54.697926, -1.434242, 1.0], [54.624706, -1.597578, 1.0], [54.672602, -1.500033, 1.0], [54.624969, -1.478158, 1.0], [54.66178, -1.559695, 1.0], [54.644162, -1.640154, 1.0], [54.589447, -1.563107, 1.0], [54.5972, -1.521852, 1.0], [54.688399, -1.434219, 1.0], [54.662615, -1.455507, 1.0], [54.644903, -1.517418, 2.0], [54.62263, -1.568946, 1.0], [54.614253, -1.589319, 1.0], [54.622669, -1.554852, 1.0], [54.642279, -1.560061, 1.0], [54.597071, -1.584385, 1.0], [54.65352, -1.451598, 1.0], [54.650276, -1.46993, 2.0], [54.644251, -1.640153, 1.0], [54.690195, -1.433729, 1.0], [54.629165, -1.644159, 1.0], [54.619476, -1.68265, 1.0], [54.662309, -1.556899, 1.0], [54.582705, -1.562715, 1.0], [54.619916, -1.589727, 2.0], [54.597166, -1.585931, 3.0], [54.613197, -1.56982, 1.0], [54.614139, -1.557113, 1.0], [54.652336, -1.510976, 1.0], [54.683107, -1.436309, 1.0], [54.651501, -1.442481, 1.0], [54.654062, -1.562724, 1.0], [54.648521, -1.459105, 2.0], [54.632035, -1.641965, 1.0], [54.631022, -1.633919, 1.0], [54.696584, -1.542251, 1.0], [54.652294, -1.383419, 1.0], [54.651474, -1.381417, 1.0], [54.633581, -1.565267, 1.0], [54.596588, -1.574639, 1.0], [54.62734, -1.634727, 1.0], [54.633377, -1.63994, 1.0], [54.714071, -1.427653, 1.0], [54.610679, -1.569382, 1.0], [54.619327, -1.575176, 1.0], [54.704265, -1.485366, 1.0], [54.697026, -1.433944, 1.0], [54.638919, -1.423131, 3.0], [54.583058, -1.560854, 1.0], [54.625887, -1.526627, 1.0], [54.631619, -1.623535, 1.0], [54.640767, -1.617562, 1.0], [54.639432, -1.520117, 2.0], [54.650442, -1.466673, 1.0], [54.622502, -1.583661, 1.0], [54.678115, -1.46507, 1.0], [54.648979, -1.502957, 2.0], [54.65017, -1.508677, 1.0], [54.631499, -1.586822, 1.0], [54.61069, -1.572634, 1.0], [54.619733, -1.5888, 1.0], [54.683054, -1.444376, 2.0], [54.682565, -1.496963, 1.0], [54.64164, -1.428361, 3.0], [54.604147, -1.577501, 1.0], [54.63107, -1.566688, 1.0], [54.614049, -1.556959, 2.0], [54.632339, -1.654046, 2.0], [54.61026, -1.578212, 2.0], [54.630134, -1.668781, 1.0], [54.636534, -1.644095, 1.0], [54.702137, -1.431545, 1.0], [54.706774, -1.551448, 1.0], [54.658914, -1.451991, 1.0], [54.62061, -1.638194, 1.0], [54.644902, -1.517263, 1.0], [54.685497, -1.42852, 1.0], [54.634647, -1.643956, 1.0], [54.653121, -1.52755, 1.0], [54.625003, -1.634593, 1.0], [54.607582, -1.583194, 2.0], [54.618777, -1.572084, 1.0], [54.720298, -1.589024, 1.0], [54.674864, -1.441696, 1.0], [54.65017, -1.508677, 1.0], [54.62704, -1.479216, 1.0], [54.636211, -1.656802, 1.0], [54.583782, -1.562394, 1.0], [54.654423, -1.563185, 1.0], [54.603584, -1.57085, 1.0], [54.654687, -1.451273, 1.0], [54.625059, -1.478157, 1.0], [54.61995, -1.573466, 1.0], [54.606919, -1.573447, 2.0], [54.629959, -1.670641, 1.0], [54.679051, -1.473743, 1.0], [54.591739, -1.575927, 1.0], [54.657726, -1.609342, 1.0], [54.620307, -1.572842, 1.0], [54.678024, -1.464916, 1.0], [54.636211, -1.656802, 1.0], [54.650349, -1.4659, 1.0], [54.628061, -1.579887, 1.0], [54.584682, -1.562539, 1.0], [54.65173, -1.539656, 1.0], [54.698517, -1.426165, 1.0], [54.681411, -1.50039, 1.0], [54.614139, -1.557113, 1.0], [54.598317, -1.580812, 1.0], [54.596778, -1.577732, 1.0], [54.66469, -1.499199, 1.0], [54.664511, -1.499202, 2.0], [54.629564, -1.599079, 1.0], [54.633257, -1.630181, 1.0], [54.69014, -1.659294, 1.0], [54.622692, -1.561202, 1.0], [54.641007, -1.427595, 2.0], [54.642905, -1.640785, 2.0], [54.629959, -1.670486, 1.0], [54.629977, -1.472518, 1.0], [54.63271, -1.627397, 1.0], [54.694996, -1.601382, 1.0], [54.691618, -1.560148, 1.0], [54.683159, -1.556982, 1.0], [54.696722, -1.607106, 1.0], [54.686541, -1.548104, 1.0], [54.680432, -1.525062, 1.0], [54.694222, -1.612095, 1.0], [54.710457, -1.527505, 1.0], [54.696719, -1.60602, 1.0], [54.696272, -1.6068, 1.0], [54.701534, -1.520781, 1.0], [54.68437, -1.54425, 1.0], [54.689088, -1.608731, 1.0], [54.6756, -1.530546, 1.0], [54.654423, -1.563185, 1.0], [54.699001, -1.589705, 2.0], [54.698204, -1.593127, 2.0], [54.683319, -1.631587, 1.0], [54.704044, -1.566842, 1.0], [54.651807, -1.536245, 1.0], [54.702431, -1.594016, 2.0], [54.673856, -1.595076, 1.0], [54.700855, -1.666808, 1.0], [54.682275, -1.536828, 1.0], [54.700648, -1.598534, 1.0], [54.687579, -1.561588, 1.0], [54.697255, -1.605239, 1.0], [54.642189, -1.559907, 1.0], [54.698059, -1.603835, 1.0], [54.705579, -1.594915, 1.0], [54.691276, -1.618484, 1.0], [54.654423, -1.563185, 1.0], [54.687138, -1.563919, 1.0], [54.713894, -1.638295, 1.0], [54.685259, -1.619626, 1.0], [54.687206, -1.557714, 1.0], [54.677283, -1.598609, 1.0], [54.699321, -1.604753, 2.0], [54.668286, -1.49931, 2.0], [54.6921, -1.499172, 1.0], [54.686161, -1.593092, 1.0], [54.688705, -1.550096, 1.0], [54.694904, -1.600762, 2.0], [54.689246, -1.550401, 1.0], [54.700866, -1.583324, 1.0], [54.686752, -1.556633, 1.0], [54.69351, -1.614429, 1.0], [54.702376, -1.578188, 2.0], [54.707449, -1.58993, 1.0], [54.706861, -1.550827, 1.0], [54.691528, -1.560149, 2.0], [54.683069, -1.557138, 1.0], [54.700221, -1.578521, 1.0], [54.690152, -1.552407, 1.0], [54.690832, -1.649825, 1.0], [54.702953, -1.516109, 1.0], [54.70117, -1.593252, 1.0], [54.706072, -1.637123, 1.0], [54.688372, -1.557236, 1.0], [54.690272, -1.560628, 1.0], [54.702719, -1.573374, 1.0], [54.699803, -1.587835, 1.0], [54.689359, -1.556915, 1.0], [54.697165, -1.60524, 1.0], [54.681542, -1.533269, 2.0], [54.683069, -1.556983, 2.0], [54.702766, -1.587029, 1.0], [54.694906, -1.601383, 1.0], [54.683187, -1.540386, 1.0], [54.67389, -1.529946, 1.0], [54.691384, -1.545568, 1.0], [54.704858, -1.56823, 1.0], [54.625774, -1.594624, 1.0], [54.675443, -1.642514, 1.0], [54.581364, -1.564586, 1.0], [54.607241, -1.562916, 2.0], [54.614675, -1.532332, 1.0], [54.600141, -1.562837, 1.0], [54.683017, -1.436311, 1.0], [54.627972, -1.667094, 1.0], [54.700276, -1.418071, 1.0], [54.6636, -1.454873, 1.0], [54.606872, -1.560288, 2.0], [54.632799, -1.627242, 1.0], [54.686335, -1.434868, 1.0], [54.630835, -1.405586, 1.0], [54.644162, -1.640154, 1.0], [54.644088, -1.645733, 1.0], [54.700368, -1.418691, 1.0], [54.622869, -1.58598, 1.0], [54.62291, -1.59806, 2.0], [54.652166, -1.513303, 1.0], [54.630679, -1.639499, 1.0], [54.621017, -1.570357, 1.0], [54.613197, -1.56982, 1.0], [54.633164, -1.629097, 1.0], [54.624951, -1.647449, 1.0], [54.620008, -1.590346, 1.0], [54.649893, -1.464511, 2.0], [54.622524, -1.590165, 1.0], [54.625327, -1.595403, 1.0], [54.606961, -1.560287, 1.0], [54.603836, -1.565894, 1.0], [54.583684, -1.560074, 1.0], [54.59459, -1.544324, 1.0], [54.635028, -1.593758, 1.0], [54.618003, -1.637907, 1.0], [54.618694, -1.574253, 1.0], [54.711383, -1.429243, 1.0], [54.644844, -1.573515, 1.0], [54.649806, -1.507441, 1.0], [54.633535, -1.577816, 1.0], [54.612079, -1.584387, 1.0], [54.618508, -1.572397, 2.0], [54.632754, -1.642269, 1.0], [54.622509, -1.560429, 1.0], [54.586932, -1.563443, 1.0], [54.594907, -1.510271, 2.0], [54.71551, -1.427788, 1.0], [54.652246, -1.510822, 1.0], [54.689296, -1.433741, 1.0], [54.618788, -1.575336, 1.0], [54.589357, -1.563108, 2.0], [54.641059, -1.500265, 1.0], [54.624513, -1.593708, 1.0], [54.65011, -1.473032, 1.0], [54.6075, -1.560127, 1.0], [54.621879, -1.673804, 1.0], [54.629096, -1.65113, 1.0], [54.660528, -1.451194, 1.0], [54.598728, -1.521989, 1.0], [54.597074, -1.585158, 1.0], [54.616701, -1.569628, 1.0], [54.634195, -1.643031, 1.0], [54.629853, -1.578319, 1.0], [54.583774, -1.560073, 1.0], [54.627518, -1.578808, 1.0], [54.625003, -1.634593, 1.0], [54.615049, -1.585595, 1.0], [54.589631, -1.564188, 1.0], [54.630949, -1.639496, 2.0], [54.629461, -1.653141, 1.0], [54.636634, -1.415262, 1.0], [54.614905, -1.570112, 1.0], [54.70218, -1.4407, 1.0], [54.628668, -1.525356, 1.0], [54.6636, -1.454718, 1.0], [54.65434, -1.517462, 2.0], [54.674863, -1.441541, 1.0], [54.629354, -1.590252, 1.0], [54.613152, -1.557433, 1.0], [54.634122, -1.681297, 1.0], [54.657476, -1.395276, 1.0], [54.618807, -1.555514, 1.0], [54.652526, -1.513453, 1.0], [54.645738, -1.572266, 1.0], [54.656919, -1.448142, 1.0], [54.617875, -1.571319, 1.0], [54.639406, -1.613547, 1.0], [54.627607, -1.634105, 1.0], [54.616235, -1.564988, 1.0], [54.62386, -1.561034, 1.0], [54.629779, -1.670642, 1.0], [54.63349, -1.647994, 1.0], [54.589631, -1.564343, 1.0], [54.622719, -1.56879, 2.0], [54.629135, -1.578791, 2.0], [54.652426, -1.510975, 1.0], [54.644251, -1.640153, 1.0], [54.620802, -1.560448, 1.0], [54.649982, -1.4642, 2.0], [54.628956, -1.578948, 1.0], [54.684195, -1.500045, 1.0], [54.694194, -1.603407, 2.0], [54.705156, -1.576297, 1.0], [54.701792, -1.591229, 1.0], [54.708424, -1.58573, 1.0], [54.716251, -1.588444, 1.0], [54.702766, -1.587029, 1.0], [54.67866, -1.555635, 1.0], [54.704878, -1.50305, 1.0], [54.677445, -1.593334, 1.0], [54.700621, -1.564706, 1.0], [54.678427, -1.591464, 1.0], [54.664753, -1.561679, 1.0], [54.690505, -1.550697, 1.0], [54.692518, -1.560604, 1.0], [54.695983, -1.601062, 1.0], [54.682618, -1.556523, 1.0], [54.69535, -1.599827, 1.0], [54.705975, -1.530351, 1.0], [54.658902, -1.559261, 1.0], [54.693418, -1.613809, 1.0], [54.687138, -1.563764, 1.0], [54.698417, -1.603366, 1.0], [54.652179, -1.563984, 1.0], [54.668534, -1.539311, 1.0], [54.683311, -1.574353, 1.0], [54.694933, -1.609761, 1.0], [54.716297, -1.602105, 1.0], [54.703144, -1.566386, 1.0], [54.698776, -1.483884, 1.0], [54.667206, -1.499013, 1.0], [54.700738, -1.598533, 2.0], [54.688634, -1.555216, 1.0], [54.689623, -1.555205, 2.0], [54.702766, -1.586874, 1.0], [54.711579, -1.588647, 1.0], [54.700726, -1.594964, 1.0], [54.685344, -1.540516, 2.0], [54.702269, -1.599449, 1.0], [54.669326, -1.584267, 1.0], [54.663494, -1.561537, 2.0], [54.703966, -1.570102, 1.0], [54.650836, -1.565238, 1.0], [54.69014, -1.659294, 1.0], [54.679083, -1.481032, 2.0], [54.698685, -1.602898, 1.0], [54.689589, -1.546208, 1.0], [54.68341, -1.632207, 1.0], [54.680726, -1.635954, 1.0], [54.680913, -1.488763, 1.0], [54.684957, -1.557273, 1.0], [54.701136, -1.610322, 1.0], [54.70825, -1.587439, 2.0], [54.687655, -1.557864, 1.0], [54.655327, -1.590455, 1.0], [54.683139, -1.631744, 1.0], [54.689589, -1.546208, 1.0], [54.667472, -1.543509, 2.0], [54.681362, -1.533116, 1.0], [54.691822, -1.475749, 3.0], [54.687836, -1.558017, 1.0], [54.700211, -1.602262, 1.0], [54.685447, -1.568436, 1.0], [54.684562, -1.547505, 1.0], [54.714904, -1.588613, 1.0], [54.693688, -1.561057, 1.0], [54.701104, -1.600391, 1.0], [54.675061, -1.530552, 1.0], [54.706955, -1.576744, 1.0], [54.703262, -1.574454, 1.0], [54.653371, -1.570481, 1.0], [54.654594, -1.586278, 1.0], [54.695086, -1.601381, 1.0], [54.701941, -1.582072, 1.0], [54.688391, -1.615408, 1.0], [54.690234, -1.55039, 1.0], [54.698722, -1.586915, 1.0], [54.631558, -1.577682, 1.0], [54.611989, -1.584387, 1.0], [54.6344, -1.652014, 1.0], [54.588908, -1.563112, 1.0], [54.623118, -1.554692, 1.0], [54.597048, -1.577884, 1.0], [54.648984, -1.462198, 1.0], [54.663505, -1.453634, 1.0], [54.644162, -1.640154, 1.0], [54.652336, -1.510821, 1.0], [54.663252, -1.499217, 1.0], [54.617339, -1.598425, 1.0], [54.648078, -1.440669, 1.0], [54.632339, -1.654046, 1.0], [54.627846, -1.400828, 2.0], [54.623441, -1.569557, 1.0], [54.630161, -1.617197, 1.0], [54.716663, -1.424667, 1.0], [54.650611, -1.464346, 1.0], [54.629876, -1.612243, 1.0], [54.657587, -1.39946, 1.0], [54.620888, -1.584761, 1.0], [54.624347, -1.571716, 1.0], [54.643057, -1.463206, 1.0], [54.649766, -1.476446, 1.0], [54.624437, -1.57156, 1.0], [54.602565, -1.538198, 1.0], [54.644813, -1.517264, 1.0], [54.69711, -1.432702, 1.0], [54.654517, -1.415005, 1.0], [54.592857, -1.561677, 1.0], [54.630946, -1.638567, 1.0], [54.702929, -1.488176, 1.0], [54.643315, -1.62761, 1.0], [54.704764, -1.567145, 1.0], [54.700415, -1.609553, 1.0], [54.684508, -1.557278, 1.0], [54.68228, -1.493244, 1.0], [54.678886, -1.477002, 1.0], [54.717601, -1.588896, 1.0], [54.703431, -1.571349, 1.0], [54.70188, -1.590607, 1.0], [54.702809, -1.573373, 2.0], [54.688284, -1.557857, 1.0], [54.657032, -1.563932, 1.0], [54.698321, -1.601349, 1.0], [54.654595, -1.586433, 1.0], [54.678141, -1.471118, 1.0], [54.689449, -1.556759, 1.0], [54.653439, -1.56428, 1.0], [54.676971, -1.491759, 2.0], [54.700009, -1.52142, 1.0], [54.701736, -1.574936, 1.0], [54.69535, -1.599827, 1.0], [54.718451, -1.574761, 1.0], [54.68909, -1.556918, 1.0], [54.681091, -1.532809, 1.0], [54.701369, -1.598992, 1.0], [54.702856, -1.586873, 2.0], [54.679054, -1.474363, 1.0], [54.677712, -1.592711, 1.0]],\n",
       "                {\n",
       "  &quot;minOpacity&quot;: 0.5,\n",
       "  &quot;maxZoom&quot;: 1,\n",
       "  &quot;radius&quot;: 10,\n",
       "  &quot;blur&quot;: 15,\n",
       "}\n",
       "            );\n",
       "        \n",
       "    \n",
       "            heat_map_247ce8b8038bdae8df488389f01c266c.addTo(map_7af0efd87b9a11067747b663c3be8840);\n",
       "        \n",
       "&lt;/script&gt;\n",
       "&lt;/html&gt;\" style=\"position:absolute;width:100%;height:100%;left:0;top:0;border:none !important;\" allowfullscreen webkitallowfullscreen mozallowfullscreen></iframe></div></div>"
      ],
      "text/plain": [
       "<folium.folium.Map at 0x2499dd2c290>"
      ]
     },
     "execution_count": 56,
     "metadata": {},
     "output_type": "execute_result"
    }
   ],
   "source": [
    "severity_weights = {'Slight': 1, 'Serious': 2, 'Fatal': 3}\n",
    "Sedgefield_data['Weight'] = Sedgefield_data['Accident_Severity'].map(severity_weights)\n",
    "\n",
    "\n",
    "map_center = [Sedgefield_data['Latitude'].mean(), Sedgefield_data['Longitude'].mean()]\n",
    "m = folium.Map(location=map_center, zoom_start=12)\n",
    "\n",
    "\n",
    "heat_data = Sedgefield_data[['Latitude', 'Longitude', 'Weight']].values.tolist()\n",
    "\n",
    "\n",
    "HeatMap(heat_data, radius=10, blur=15, max_zoom=1).add_to(m)\n",
    "\n",
    "\n",
    "m"
   ]
  },
  {
   "cell_type": "code",
   "execution_count": null,
   "id": "630c5989",
   "metadata": {},
   "outputs": [],
   "source": []
  }
 ],
 "metadata": {
  "kernelspec": {
   "display_name": "Python 3",
   "language": "python",
   "name": "python3"
  },
  "language_info": {
   "codemirror_mode": {
    "name": "ipython",
    "version": 3
   },
   "file_extension": ".py",
   "mimetype": "text/x-python",
   "name": "python",
   "nbconvert_exporter": "python",
   "pygments_lexer": "ipython3",
   "version": "3.13.7"
  }
 },
 "nbformat": 4,
 "nbformat_minor": 5
}
